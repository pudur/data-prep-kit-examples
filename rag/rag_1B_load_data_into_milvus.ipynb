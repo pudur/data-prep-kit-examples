{
 "cells": [
  {
   "cell_type": "markdown",
   "metadata": {},
   "source": [
    "# Load Processed Data into Vector Database\n",
    "\n",
    "This notebook loads output from data prep kit into Milvus\n",
    "\n",
    "**Step-4 in this workflow**\n",
    "\n",
    "![](../media/rag-overview-2.png)\n"
   ]
  },
  {
   "cell_type": "markdown",
   "metadata": {},
   "source": [
    "## Configuration"
   ]
  },
  {
   "cell_type": "code",
   "execution_count": 1,
   "metadata": {},
   "outputs": [],
   "source": [
    "\n",
    "from my_config import MY_CONFIG"
   ]
  },
  {
   "cell_type": "markdown",
   "metadata": {},
   "source": [
    "## Step-: Load Parquet Data\n",
    "\n",
    "Load all  `.parquet` files in the given dir"
   ]
  },
  {
   "cell_type": "code",
   "execution_count": 2,
   "metadata": {},
   "outputs": [
    {
     "name": "stdout",
     "output_type": "stream",
     "text": [
      "Loading data from :  output-fomc/output_final\n",
      "Number of parquet files to read :  2\n",
      "\n",
      "Read file: 'output-fomc/output_final/monetary20240731a1.parquet'.  number of rows = 10\n",
      "Read file: 'output-fomc/output_final/monetary20240918a1.parquet'.  number of rows = 5\n",
      "\n",
      "Total number of rows = 15\n"
     ]
    }
   ],
   "source": [
    "import pandas as pd\n",
    "import glob\n",
    "\n",
    "print ('Loading data from : ', MY_CONFIG.OUTPUT_FOLDER_FINAL)\n",
    "\n",
    "# Get a list of all Parquet files in the directory\n",
    "parquet_files = glob.glob(f'{MY_CONFIG.OUTPUT_FOLDER_FINAL}/*.parquet')\n",
    "print (\"Number of parquet files to read : \", len(parquet_files))\n",
    "print ()\n",
    "\n",
    "# Create an empty list to store the DataFrames\n",
    "dfs = []\n",
    "\n",
    "# Loop through each Parquet file and read it into a DataFrame\n",
    "for file in parquet_files:\n",
    "    df = pd.read_parquet(file)\n",
    "    print (f\"Read file: '{file}'.  number of rows = {df.shape[0]}\")\n",
    "    dfs.append(df)\n",
    "\n",
    "# Concatenate all DataFrames into a single DataFrame\n",
    "data_df = pd.concat(dfs, ignore_index=True)\n",
    "\n",
    "print (f\"\\nTotal number of rows = {data_df.shape[0]}\")"
   ]
  },
  {
   "cell_type": "code",
   "execution_count": 3,
   "metadata": {},
   "outputs": [
    {
     "name": "stdout",
     "output_type": "stream",
     "text": [
      "embedding length:  384\n",
      "<class 'pandas.core.frame.DataFrame'>\n",
      "RangeIndex: 15 entries, 0 to 14\n",
      "Data columns (total 19 columns):\n",
      " #   Column            Non-Null Count  Dtype  \n",
      "---  ------            --------------  -----  \n",
      " 0   filename          15 non-null     object \n",
      " 1   num_pages         15 non-null     int64  \n",
      " 2   num_tables        15 non-null     int64  \n",
      " 3   num_doc_elements  15 non-null     int64  \n",
      " 4   document_id       15 non-null     object \n",
      " 5   ext               15 non-null     object \n",
      " 6   hash              15 non-null     object \n",
      " 7   size              15 non-null     int64  \n",
      " 8   date_acquired     15 non-null     object \n",
      " 9   pdf_convert_time  15 non-null     float64\n",
      " 10  source_filename   15 non-null     object \n",
      " 11  text              15 non-null     object \n",
      " 12  doc_jsonpath      15 non-null     object \n",
      " 13  page_number       15 non-null     int64  \n",
      " 14  bbox              15 non-null     object \n",
      " 15  chunk_id          15 non-null     int64  \n",
      " 16  removed           15 non-null     object \n",
      " 17  chunk_hash        15 non-null     int64  \n",
      " 18  vector            15 non-null     object \n",
      "dtypes: float64(1), int64(7), object(11)\n",
      "memory usage: 2.4+ KB\n",
      "None\n"
     ]
    },
    {
     "data": {
      "text/html": [
       "<div>\n",
       "<style scoped>\n",
       "    .dataframe tbody tr th:only-of-type {\n",
       "        vertical-align: middle;\n",
       "    }\n",
       "\n",
       "    .dataframe tbody tr th {\n",
       "        vertical-align: top;\n",
       "    }\n",
       "\n",
       "    .dataframe thead th {\n",
       "        text-align: right;\n",
       "    }\n",
       "</style>\n",
       "<table border=\"1\" class=\"dataframe\">\n",
       "  <thead>\n",
       "    <tr style=\"text-align: right;\">\n",
       "      <th></th>\n",
       "      <th>filename</th>\n",
       "      <th>num_pages</th>\n",
       "      <th>num_tables</th>\n",
       "      <th>num_doc_elements</th>\n",
       "      <th>document_id</th>\n",
       "      <th>ext</th>\n",
       "      <th>hash</th>\n",
       "      <th>size</th>\n",
       "      <th>date_acquired</th>\n",
       "      <th>pdf_convert_time</th>\n",
       "      <th>source_filename</th>\n",
       "      <th>text</th>\n",
       "      <th>doc_jsonpath</th>\n",
       "      <th>page_number</th>\n",
       "      <th>bbox</th>\n",
       "      <th>chunk_id</th>\n",
       "      <th>removed</th>\n",
       "      <th>chunk_hash</th>\n",
       "      <th>vector</th>\n",
       "    </tr>\n",
       "  </thead>\n",
       "  <tbody>\n",
       "    <tr>\n",
       "      <th>0</th>\n",
       "      <td>monetary20240731a1.pdf</td>\n",
       "      <td>4</td>\n",
       "      <td>0</td>\n",
       "      <td>34</td>\n",
       "      <td>a0e52580-4912-4aac-93d4-4fc015b6aa12</td>\n",
       "      <td>pdf</td>\n",
       "      <td>ae2f7f6b109cf8e6388b507c9f866d7946ca907cab6b5a...</td>\n",
       "      <td>11018</td>\n",
       "      <td>2024-09-18T23:55:42.804866</td>\n",
       "      <td>3.573463</td>\n",
       "      <td>monetary20240731a1.pdf</td>\n",
       "      <td>FEDERAL RESERVE press release\\nRecent indicato...</td>\n",
       "      <td>$.main-text[3]</td>\n",
       "      <td>1</td>\n",
       "      <td>[71.41007233, 534.21520996, 536.76806641, 630....</td>\n",
       "      <td>0</td>\n",
       "      <td>[]</td>\n",
       "      <td>-1</td>\n",
       "      <td>[0.0007660659, -0.13537231, -0.02113923, 0.091...</td>\n",
       "    </tr>\n",
       "    <tr>\n",
       "      <th>1</th>\n",
       "      <td>monetary20240731a1.pdf</td>\n",
       "      <td>4</td>\n",
       "      <td>0</td>\n",
       "      <td>34</td>\n",
       "      <td>a0e52580-4912-4aac-93d4-4fc015b6aa12</td>\n",
       "      <td>pdf</td>\n",
       "      <td>ae2f7f6b109cf8e6388b507c9f866d7946ca907cab6b5a...</td>\n",
       "      <td>11018</td>\n",
       "      <td>2024-09-18T23:55:42.804866</td>\n",
       "      <td>3.573463</td>\n",
       "      <td>monetary20240731a1.pdf</td>\n",
       "      <td>FEDERAL RESERVE press release\\nThe Committee s...</td>\n",
       "      <td>$.main-text[4]</td>\n",
       "      <td>1</td>\n",
       "      <td>[71.60705566, 424.4079895, 538.09204102, 520.4...</td>\n",
       "      <td>1</td>\n",
       "      <td>[]</td>\n",
       "      <td>-1</td>\n",
       "      <td>[0.0034350317, -0.06851143, -0.0934582, 0.0705...</td>\n",
       "    </tr>\n",
       "    <tr>\n",
       "      <th>2</th>\n",
       "      <td>monetary20240731a1.pdf</td>\n",
       "      <td>4</td>\n",
       "      <td>0</td>\n",
       "      <td>34</td>\n",
       "      <td>a0e52580-4912-4aac-93d4-4fc015b6aa12</td>\n",
       "      <td>pdf</td>\n",
       "      <td>ae2f7f6b109cf8e6388b507c9f866d7946ca907cab6b5a...</td>\n",
       "      <td>11018</td>\n",
       "      <td>2024-09-18T23:55:42.804866</td>\n",
       "      <td>3.573463</td>\n",
       "      <td>monetary20240731a1.pdf</td>\n",
       "      <td>FEDERAL RESERVE press release\\nIn support of i...</td>\n",
       "      <td>$.main-text[5]</td>\n",
       "      <td>1</td>\n",
       "      <td>[71.49136353, 203.07522583, 541.1159668, 410.0...</td>\n",
       "      <td>2</td>\n",
       "      <td>[]</td>\n",
       "      <td>-1</td>\n",
       "      <td>[0.06745335, -0.039708097, -0.07977984, 0.0748...</td>\n",
       "    </tr>\n",
       "  </tbody>\n",
       "</table>\n",
       "</div>"
      ],
      "text/plain": [
       "                 filename  num_pages  num_tables  num_doc_elements  \\\n",
       "0  monetary20240731a1.pdf          4           0                34   \n",
       "1  monetary20240731a1.pdf          4           0                34   \n",
       "2  monetary20240731a1.pdf          4           0                34   \n",
       "\n",
       "                            document_id  ext  \\\n",
       "0  a0e52580-4912-4aac-93d4-4fc015b6aa12  pdf   \n",
       "1  a0e52580-4912-4aac-93d4-4fc015b6aa12  pdf   \n",
       "2  a0e52580-4912-4aac-93d4-4fc015b6aa12  pdf   \n",
       "\n",
       "                                                hash   size  \\\n",
       "0  ae2f7f6b109cf8e6388b507c9f866d7946ca907cab6b5a...  11018   \n",
       "1  ae2f7f6b109cf8e6388b507c9f866d7946ca907cab6b5a...  11018   \n",
       "2  ae2f7f6b109cf8e6388b507c9f866d7946ca907cab6b5a...  11018   \n",
       "\n",
       "                date_acquired  pdf_convert_time         source_filename  \\\n",
       "0  2024-09-18T23:55:42.804866          3.573463  monetary20240731a1.pdf   \n",
       "1  2024-09-18T23:55:42.804866          3.573463  monetary20240731a1.pdf   \n",
       "2  2024-09-18T23:55:42.804866          3.573463  monetary20240731a1.pdf   \n",
       "\n",
       "                                                text    doc_jsonpath  \\\n",
       "0  FEDERAL RESERVE press release\\nRecent indicato...  $.main-text[3]   \n",
       "1  FEDERAL RESERVE press release\\nThe Committee s...  $.main-text[4]   \n",
       "2  FEDERAL RESERVE press release\\nIn support of i...  $.main-text[5]   \n",
       "\n",
       "   page_number                                               bbox  chunk_id  \\\n",
       "0            1  [71.41007233, 534.21520996, 536.76806641, 630....         0   \n",
       "1            1  [71.60705566, 424.4079895, 538.09204102, 520.4...         1   \n",
       "2            1  [71.49136353, 203.07522583, 541.1159668, 410.0...         2   \n",
       "\n",
       "  removed  chunk_hash                                             vector  \n",
       "0      []          -1  [0.0007660659, -0.13537231, -0.02113923, 0.091...  \n",
       "1      []          -1  [0.0034350317, -0.06851143, -0.0934582, 0.0705...  \n",
       "2      []          -1  [0.06745335, -0.039708097, -0.07977984, 0.0748...  "
      ]
     },
     "execution_count": 3,
     "metadata": {},
     "output_type": "execute_result"
    }
   ],
   "source": [
    "\n",
    "## Shape the data\n",
    "\n",
    "MY_CONFIG.EMBEDDING_LENGTH =  len(data_df.iloc[0]['embeddings'])\n",
    "print ('embedding length: ', MY_CONFIG.EMBEDDING_LENGTH)\n",
    "\n",
    "# rename 'embeddings' columns as 'vector' to match default schema\n",
    "# if 'vector' not in data_df.columns and 'embeddings' in data_df.columns:\n",
    "#     data_df = data_df.rename( columns= {'embeddings' : 'vector'})\n",
    "# if 'text' not in data_df.columns and 'contents' in data_df.columns:\n",
    "#     data_df = data_df.rename( columns= {'contents' : 'text'})\n",
    "\n",
    "data_df = data_df.rename( columns= {'embeddings' : 'vector', 'contents' : 'text'})\n",
    "\n",
    "print (data_df.info())\n",
    "data_df.head(3)"
   ]
  },
  {
   "cell_type": "markdown",
   "metadata": {},
   "source": [
    "## Connect to Vector Database\n",
    "\n",
    "Milvus can be embedded and easy to use.\n",
    "\n",
    "<span style=\"color:blue;\">Note: If you encounter an error about unable to load database, try this: </span>\n",
    "\n",
    "- <span style=\"color:blue;\">In **vscode** : **restart the kernel** of previous notebook. This will release the db.lock </span>\n",
    "- <span style=\"color:blue;\">In **Jupyter**: Do `File --> Close and Shutdown Notebook` of previous notebook. This will release the db.lock</span>\n",
    "- <span style=\"color:blue;\">Re-run this cell again</span>\n",
    "\n",
    "\n"
   ]
  },
  {
   "cell_type": "code",
   "execution_count": 4,
   "metadata": {},
   "outputs": [
    {
     "name": "stdout",
     "output_type": "stream",
     "text": [
      "✅ Connected to Milvus instance: ./rag_1_dpk.db\n"
     ]
    }
   ],
   "source": [
    "from pymilvus import MilvusClient\n",
    "\n",
    "milvus_client = MilvusClient(MY_CONFIG.DB_URI)\n",
    "\n",
    "print (\"✅ Connected to Milvus instance:\", MY_CONFIG.DB_URI)"
   ]
  },
  {
   "cell_type": "markdown",
   "metadata": {},
   "source": [
    "# Create A Collection\n",
    "\n"
   ]
  },
  {
   "cell_type": "code",
   "execution_count": 5,
   "metadata": {},
   "outputs": [
    {
     "name": "stdout",
     "output_type": "stream",
     "text": [
      "✅ Cleared collection : docs\n",
      "✅ Created collection : docs\n"
     ]
    }
   ],
   "source": [
    "# if we already have a collection, clear it first\n",
    "if milvus_client.has_collection(collection_name=MY_CONFIG.COLLECTION_NAME):\n",
    "    milvus_client.drop_collection(collection_name=MY_CONFIG.COLLECTION_NAME)\n",
    "    print ('✅ Cleared collection :', MY_CONFIG.COLLECTION_NAME)\n",
    "\n",
    "\n",
    "milvus_client.create_collection(\n",
    "    collection_name=MY_CONFIG.COLLECTION_NAME,\n",
    "    dimension=MY_CONFIG.EMBEDDING_LENGTH,\n",
    "    metric_type=\"IP\",  # Inner product distance\n",
    "    consistency_level=\"Strong\",  # Strong consistency level\n",
    "    auto_id=True\n",
    ")\n",
    "print (\"✅ Created collection :\", MY_CONFIG.COLLECTION_NAME)\n"
   ]
  },
  {
   "cell_type": "code",
   "execution_count": 6,
   "metadata": {},
   "outputs": [
    {
     "name": "stdout",
     "output_type": "stream",
     "text": [
      "inserted # rows 15\n"
     ]
    },
    {
     "data": {
      "text/plain": [
       "{'row_count': 15}"
      ]
     },
     "execution_count": 6,
     "metadata": {},
     "output_type": "execute_result"
    }
   ],
   "source": [
    "res = milvus_client.insert(collection_name=MY_CONFIG.COLLECTION_NAME, data=data_df.to_dict('records'))\n",
    "\n",
    "print('inserted # rows', res['insert_count'])\n",
    "\n",
    "milvus_client.get_collection_stats(MY_CONFIG.COLLECTION_NAME)"
   ]
  },
  {
   "cell_type": "markdown",
   "metadata": {},
   "source": [
    "## Close DB Connection\n",
    "\n",
    "Close the connection so the lock files are relinquished and other notebooks can access the db"
   ]
  },
  {
   "cell_type": "code",
   "execution_count": 7,
   "metadata": {},
   "outputs": [
    {
     "name": "stdout",
     "output_type": "stream",
     "text": [
      "✅ SUCCESS\n"
     ]
    }
   ],
   "source": [
    "milvus_client.close()\n",
    "\n",
    "print (\"✅ SUCCESS\")\n"
   ]
  },
  {
   "cell_type": "markdown",
   "metadata": {},
   "source": [
    "## Test your data by doing a Vector Search\n",
    "\n",
    "See notebook [vector_search.ipynb](vector_search.ipynb)"
   ]
  }
 ],
 "metadata": {
  "kernelspec": {
   "display_name": "Python 3 (ipykernel)",
   "language": "python",
   "name": "python3"
  },
  "language_info": {
   "codemirror_mode": {
    "name": "ipython",
    "version": 3
   },
   "file_extension": ".py",
   "mimetype": "text/x-python",
   "name": "python",
   "nbconvert_exporter": "python",
   "pygments_lexer": "ipython3",
   "version": "3.11.9"
  }
 },
 "nbformat": 4,
 "nbformat_minor": 4
}
