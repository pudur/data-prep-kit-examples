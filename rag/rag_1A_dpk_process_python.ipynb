{
 "cells": [
  {
   "cell_type": "markdown",
   "id": "841e533d-ebb3-406d-9da7-b19e2c5f5866",
   "metadata": {},
   "source": [
    "<div style=\"background-color: #04D7FD; padding: 20px; text-align: left;\">\n",
    "    <h1 style=\"color: #000000; font-size: 36px; margin: 0;\">Data Processing for RAG with Data Prep Kit (Python)</h1>\n",
    "    \n",
    "</div>\n"
   ]
  },
  {
   "cell_type": "markdown",
   "id": "b15976e3",
   "metadata": {},
   "source": [
    "## Before Running the notebook\n",
    "\n",
    "Please complete [setting up python dev environment](./setup-python-dev-env.md)"
   ]
  },
  {
   "cell_type": "markdown",
   "id": "053ecf08-5f62-4b99-9347-8a0955843d21",
   "metadata": {},
   "source": [
    "## Overview\n",
    "\n",
    "This notebook will process PDF documents as part of RAG pipeline\n",
    "\n",
    "![](media/rag-overview-2.png)\n",
    "\n",
    "This notebook will perform steps 1, 2 and 3 in RAG pipeline.\n",
    "\n",
    "Here are the processing steps:\n",
    "\n",
    "- **pdf2parquet** : Extract text from PDF and convert them into parquet files\n",
    "- **Chunk documents**: Split the PDFs into 'meaningful sections' (paragraphs, sentences ..etc)\n",
    "- **Doc_ID generation**: Each chunk is assigned a uniq id, based on content and hash\n",
    "- **Exact Dedup**: Chunks with exact same content are filtered out\n",
    "- **Fuzzy Dedup**: Eliminate chunks that are 'very similar' content\n",
    "- **Doc quality**: Scores the documents based on criteria like number of words, if it contains bad words ..etc\n",
    "- **Text encoder**: Convert chunks into vectors using embedding models"
   ]
  },
  {
   "cell_type": "markdown",
   "id": "e8b10be1",
   "metadata": {},
   "source": [
    "## Step-1: Configuration\n",
    "\n",
    "### 1.1 - Common Config"
   ]
  },
  {
   "cell_type": "code",
   "execution_count": 1,
   "id": "33345487",
   "metadata": {},
   "outputs": [],
   "source": [
    "from my_config import MY_CONFIG"
   ]
  },
  {
   "cell_type": "markdown",
   "id": "02cc3f0e",
   "metadata": {},
   "source": [
    "### 1.2 - Inspect Input Data\n",
    "\n",
    "We have a bnunch of datasets in [data](../data) folder.  Examine them\n",
    "\n",
    "We will use one of them or feel free to bring your own data."
   ]
  },
  {
   "cell_type": "markdown",
   "id": "72510ae6-48b0-4b88-9e13-a623281c3a63",
   "metadata": {},
   "source": [
    "### 1.3 - Set input/output path variables for the pipeline"
   ]
  },
  {
   "cell_type": "code",
   "execution_count": 2,
   "id": "60ac8bee-0960-4309-b225-d7a211b14262",
   "metadata": {},
   "outputs": [
    {
     "name": "stdout",
     "output_type": "stream",
     "text": [
      "✅ Cleared output directory\n"
     ]
    }
   ],
   "source": [
    "import os, sys\n",
    "import shutil\n",
    "\n",
    "if not os.path.exists(MY_CONFIG.INPUT_DATA_DIR ):\n",
    "    raise Exception (f\"❌ Input folder MY_CONFIG.INPUT_DATA_DIR = '{MY_CONFIG.INPUT_DATA_DIR}' not found\")\n",
    "\n",
    "output_parquet_dir = os.path.join (MY_CONFIG.OUTPUT_FOLDER, '01_parquet_out')\n",
    "output_chunk_dir = os.path.join (MY_CONFIG.OUTPUT_FOLDER, '02_chunk_out')\n",
    "output_docid_dir = os.path.join (MY_CONFIG.OUTPUT_FOLDER, '03_docid_out')\n",
    "output_exact_dedupe_dir = os.path.join (MY_CONFIG.OUTPUT_FOLDER, '04_exact_dedupe_out')\n",
    "output_fuzzy_dedupe_dir = os.path.join (MY_CONFIG.OUTPUT_FOLDER, '05_fuzzy_dedupe_out')\n",
    "output_embeddings_dir = os.path.join (MY_CONFIG.OUTPUT_FOLDER, '06_embeddings_out')\n",
    "\n",
    "## clear output folder\n",
    "shutil.rmtree(MY_CONFIG.OUTPUT_FOLDER, ignore_errors=True)\n",
    "shutil.os.makedirs(MY_CONFIG.OUTPUT_FOLDER, exist_ok=True)\n",
    "\n",
    "print (\"✅ Cleared output directory\")"
   ]
  },
  {
   "cell_type": "markdown",
   "id": "bd5d976e-cb4c-4469-af39-4b7ea507e9d8",
   "metadata": {},
   "source": [
    "### 1.4 -  Import Common python modules"
   ]
  },
  {
   "cell_type": "code",
   "execution_count": 3,
   "id": "66178913-42b8-426b-a2e9-9587268fd05b",
   "metadata": {},
   "outputs": [],
   "source": [
    "import os\n",
    "import sys\n",
    "\n",
    "\n",
    "from data_processing.runtime.pure_python import PythonTransformLauncher\n",
    "from data_processing.utils import ParamsUtils"
   ]
  },
  {
   "cell_type": "markdown",
   "id": "2449e5c7-078c-4ad6-a2f6-21d39d4da3fb",
   "metadata": {},
   "source": [
    "<a id=\"pdf2parquet\"></a>\n",
    "\n",
    "## Step-2: pdf2parquet -  Convert data from PDF to Parquet\n",
    "\n",
    "This step is reading the input folder containing all PDF files and ingest them in a parquet table using the [Docling package](https://github.com/DS4SD/docling).\n",
    "The documents are converted into a JSON format which allows to easily chunk it in the later steps.\n",
    "\n"
   ]
  },
  {
   "cell_type": "markdown",
   "id": "c0c574c4-9dc4-4dab-9ad6-b5338207e67a",
   "metadata": {},
   "source": [
    "### 2.1 -  Set Input/output Folder"
   ]
  },
  {
   "cell_type": "code",
   "execution_count": 4,
   "id": "482605b2-d814-456d-9195-49a2ec454ef0",
   "metadata": {},
   "outputs": [
    {
     "name": "stdout",
     "output_type": "stream",
     "text": [
      "🏃🏼 STAGE-1: Processing input='../data/fomc' --> output='output-fomc/01_parquet_out'\n"
     ]
    }
   ],
   "source": [
    "STAGE = 1 \n",
    "\n",
    "input_folder = MY_CONFIG.INPUT_DATA_DIR\n",
    "output_folder =  output_parquet_dir\n",
    "\n",
    "print (f\"🏃🏼 STAGE-{STAGE}: Processing input='{input_folder}' --> output='{output_folder}'\")"
   ]
  },
  {
   "cell_type": "markdown",
   "id": "9bb15f02-ab5c-4525-a536-cfa1fd2ba70b",
   "metadata": {},
   "source": [
    "### 2.2 - Execute "
   ]
  },
  {
   "cell_type": "code",
   "execution_count": 5,
   "id": "b0cd8ebd-bf71-42d6-a397-8df0c7b66a26",
   "metadata": {},
   "outputs": [
    {
     "name": "stderr",
     "output_type": "stream",
     "text": [
      "23:55:35 INFO - pdf2parquet parameters are : {'artifacts_path': None, 'contents_type': <pdf2parquet_contents_types.JSON: 'application/json'>, 'do_table_structure': True, 'do_ocr': True, 'double_precision': 8}\n",
      "23:55:35 INFO - pipeline id pipeline_id\n",
      "23:55:35 INFO - code location None\n",
      "23:55:35 INFO - data factory data_ is using local data access: input_folder - ../data/fomc output_folder - output-fomc/01_parquet_out\n",
      "23:55:35 INFO - data factory data_ max_files -1, n_sample -1\n",
      "23:55:35 INFO - data factory data_ Not using data sets, checkpointing False, max files -1, random samples -1, files to use ['.pdf'], files to checkpoint ['.parquet']\n",
      "23:55:35 INFO - orchestrator pdf2parquet started at 2024-09-18 23:55:35\n",
      "23:55:35 INFO - Number of files is 2, source profile {'max_file_size': 0.1193857192993164, 'min_file_size': 0.11060428619384766, 'total_file_size': 0.22999000549316406}\n",
      "23:55:35 INFO - Initializing models\n"
     ]
    },
    {
     "data": {
      "application/vnd.jupyter.widget-view+json": {
       "model_id": "430b834dc8a742c78d08deb348a50021",
       "version_major": 2,
       "version_minor": 0
      },
      "text/plain": [
       "Fetching 7 files:   0%|          | 0/7 [00:00<?, ?it/s]"
      ]
     },
     "metadata": {},
     "output_type": "display_data"
    },
    {
     "name": "stderr",
     "output_type": "stream",
     "text": [
      "23:55:42 INFO - Completed 1 files (50.0%) in 0.06 min\n",
      "23:55:46 INFO - Completed 2 files (100.0%) in 0.12 min\n",
      "23:55:46 INFO - Done processing 2 files, waiting for flush() completion.\n",
      "23:55:46 INFO - done flushing in 0.0 sec\n",
      "23:55:46 INFO - Completed execution in 0.177 min, execution result 0\n"
     ]
    },
    {
     "name": "stdout",
     "output_type": "stream",
     "text": [
      "✅ Stage:1 completed successfully\n",
      "CPU times: user 26.5 s, sys: 1.13 s, total: 27.6 s\n",
      "Wall time: 13.3 s\n"
     ]
    }
   ],
   "source": [
    "%%time \n",
    "\n",
    "import ast\n",
    "import os\n",
    "import sys\n",
    "\n",
    "from pdf2parquet_transform import (\n",
    "    pdf2parquet_contents_type_cli_param,\n",
    "    pdf2parquet_contents_types,\n",
    ")\n",
    "from pdf2parquet_transform_python import Pdf2ParquetPythonTransformConfiguration\n",
    "\n",
    "from data_processing.utils import GB, ParamsUtils\n",
    "\n",
    "\n",
    "# create parameters\n",
    "local_conf = {\n",
    "    \"input_folder\": input_folder,\n",
    "    \"output_folder\": output_folder,\n",
    "}\n",
    "ingest_config = {\n",
    "    pdf2parquet_contents_type_cli_param: pdf2parquet_contents_types.JSON,\n",
    "}\n",
    "\n",
    "params = {\n",
    "    # Data access. Only required parameters are specified\n",
    "    \"data_local_config\": ParamsUtils.convert_to_ast(local_conf),\n",
    "    \"data_files_to_use\": ast.literal_eval(\"['.pdf']\"),\n",
    "}\n",
    "\n",
    "\n",
    "sys.argv = ParamsUtils.dict_to_req(d=(params | ingest_config))\n",
    "# create launcher\n",
    "launcher = PythonTransformLauncher(Pdf2ParquetPythonTransformConfiguration())\n",
    "# launch\n",
    "return_code = launcher.launch()\n",
    "\n",
    "if return_code == 0:\n",
    "    print (f\"✅ Stage:{STAGE} completed successfully\")\n",
    "else:\n",
    "    raise Exception (\"❌ Job failed\")\n"
   ]
  },
  {
   "cell_type": "markdown",
   "id": "5ca790e0",
   "metadata": {},
   "source": [
    "### 2.3 -  Inspect Generated output\n",
    "\n",
    "Here we should see one entry per input file processed"
   ]
  },
  {
   "cell_type": "code",
   "execution_count": 6,
   "id": "fe59563d",
   "metadata": {},
   "outputs": [
    {
     "name": "stdout",
     "output_type": "stream",
     "text": [
      "Output dimensions (rows x columns)=  (2, 12)\n"
     ]
    },
    {
     "data": {
      "text/html": [
       "<div>\n",
       "<style scoped>\n",
       "    .dataframe tbody tr th:only-of-type {\n",
       "        vertical-align: middle;\n",
       "    }\n",
       "\n",
       "    .dataframe tbody tr th {\n",
       "        vertical-align: top;\n",
       "    }\n",
       "\n",
       "    .dataframe thead th {\n",
       "        text-align: right;\n",
       "    }\n",
       "</style>\n",
       "<table border=\"1\" class=\"dataframe\">\n",
       "  <thead>\n",
       "    <tr style=\"text-align: right;\">\n",
       "      <th></th>\n",
       "      <th>filename</th>\n",
       "      <th>contents</th>\n",
       "      <th>num_pages</th>\n",
       "      <th>num_tables</th>\n",
       "      <th>num_doc_elements</th>\n",
       "      <th>document_id</th>\n",
       "      <th>ext</th>\n",
       "      <th>hash</th>\n",
       "      <th>size</th>\n",
       "      <th>date_acquired</th>\n",
       "      <th>pdf_convert_time</th>\n",
       "      <th>source_filename</th>\n",
       "    </tr>\n",
       "  </thead>\n",
       "  <tbody>\n",
       "    <tr>\n",
       "      <th>0</th>\n",
       "      <td>monetary20240731a1.pdf</td>\n",
       "      <td>{\"_name\":\"\",\"type\":\"pdf-document\",\"description...</td>\n",
       "      <td>4</td>\n",
       "      <td>0</td>\n",
       "      <td>34</td>\n",
       "      <td>a0e52580-4912-4aac-93d4-4fc015b6aa12</td>\n",
       "      <td>pdf</td>\n",
       "      <td>ae2f7f6b109cf8e6388b507c9f866d7946ca907cab6b5a...</td>\n",
       "      <td>11018</td>\n",
       "      <td>2024-09-18T23:55:42.804866</td>\n",
       "      <td>3.573463</td>\n",
       "      <td>monetary20240731a1.pdf</td>\n",
       "    </tr>\n",
       "    <tr>\n",
       "      <th>1</th>\n",
       "      <td>monetary20240918a1.pdf</td>\n",
       "      <td>{\"_name\":\"\",\"type\":\"pdf-document\",\"description...</td>\n",
       "      <td>4</td>\n",
       "      <td>0</td>\n",
       "      <td>33</td>\n",
       "      <td>2967427b-e3cd-45af-b8f2-f5f8c38c495a</td>\n",
       "      <td>pdf</td>\n",
       "      <td>bff09e8a8597537ad482be953a47aa417bd2e693e45e9f...</td>\n",
       "      <td>11056</td>\n",
       "      <td>2024-09-18T23:55:46.442882</td>\n",
       "      <td>3.634502</td>\n",
       "      <td>monetary20240918a1.pdf</td>\n",
       "    </tr>\n",
       "  </tbody>\n",
       "</table>\n",
       "</div>"
      ],
      "text/plain": [
       "                 filename                                           contents  \\\n",
       "0  monetary20240731a1.pdf  {\"_name\":\"\",\"type\":\"pdf-document\",\"description...   \n",
       "1  monetary20240918a1.pdf  {\"_name\":\"\",\"type\":\"pdf-document\",\"description...   \n",
       "\n",
       "   num_pages  num_tables  num_doc_elements  \\\n",
       "0          4           0                34   \n",
       "1          4           0                33   \n",
       "\n",
       "                            document_id  ext  \\\n",
       "0  a0e52580-4912-4aac-93d4-4fc015b6aa12  pdf   \n",
       "1  2967427b-e3cd-45af-b8f2-f5f8c38c495a  pdf   \n",
       "\n",
       "                                                hash   size  \\\n",
       "0  ae2f7f6b109cf8e6388b507c9f866d7946ca907cab6b5a...  11018   \n",
       "1  bff09e8a8597537ad482be953a47aa417bd2e693e45e9f...  11056   \n",
       "\n",
       "                date_acquired  pdf_convert_time         source_filename  \n",
       "0  2024-09-18T23:55:42.804866          3.573463  monetary20240731a1.pdf  \n",
       "1  2024-09-18T23:55:46.442882          3.634502  monetary20240918a1.pdf  "
      ]
     },
     "execution_count": 6,
     "metadata": {},
     "output_type": "execute_result"
    }
   ],
   "source": [
    "from utils import read_parquet_files_as_df\n",
    "\n",
    "output_df = read_parquet_files_as_df(output_folder)\n",
    "\n",
    "print (\"Output dimensions (rows x columns)= \", output_df.shape)\n",
    "\n",
    "output_df.head(5)\n",
    "\n",
    "## To display certain columns\n",
    "#parquet_df[['column1', 'column2', 'column3']].head(5)"
   ]
  },
  {
   "cell_type": "markdown",
   "id": "72274586",
   "metadata": {},
   "source": [
    "<a id=\"chunking\"></a>\n",
    "\n",
    "##  Step-3: Doc chunks\n",
    "\n",
    "Split the documents in chunks, according to their layout segmentation."
   ]
  },
  {
   "cell_type": "markdown",
   "id": "96198fa6",
   "metadata": {},
   "source": [
    "### 3.1 - Set Input/output Folder"
   ]
  },
  {
   "cell_type": "code",
   "execution_count": 7,
   "id": "305f00a3",
   "metadata": {},
   "outputs": [
    {
     "name": "stdout",
     "output_type": "stream",
     "text": [
      "🏃🏼 STAGE-2: Processing input='output-fomc/01_parquet_out' --> output='output-fomc/02_chunk_out'\n"
     ]
    }
   ],
   "source": [
    "STAGE = 2\n",
    "\n",
    "input_folder = output_parquet_dir # previous output folder is the input folder for the current stage\n",
    "output_folder =  output_chunk_dir\n",
    "\n",
    "input_df = read_parquet_files_as_df(input_folder)  ## for debug purposes\n",
    "\n",
    "print (f\"🏃🏼 STAGE-{STAGE}: Processing input='{input_folder}' --> output='{output_folder}'\")"
   ]
  },
  {
   "cell_type": "markdown",
   "id": "369f2cd1",
   "metadata": {},
   "source": [
    "### 3.2 - Execute "
   ]
  },
  {
   "cell_type": "code",
   "execution_count": 8,
   "id": "5b7b18d5",
   "metadata": {},
   "outputs": [
    {
     "name": "stderr",
     "output_type": "stream",
     "text": [
      "23:55:47 INFO - doc_chunk parameters are : {'chunking_type': <chunking_types.DL_JSON: 'dl_json'>, 'content_column_name': 'contents', 'output_chunk_column_name': 'contents', 'output_jsonpath_column_name': 'doc_jsonpath', 'output_pageno_column_name': 'page_number', 'output_bbox_column_name': 'bbox'}\n",
      "23:55:47 INFO - pipeline id pipeline_id\n",
      "23:55:47 INFO - code location None\n",
      "23:55:47 INFO - data factory data_ is using local data access: input_folder - output-fomc/01_parquet_out output_folder - output-fomc/02_chunk_out\n",
      "23:55:47 INFO - data factory data_ max_files -1, n_sample -1\n",
      "23:55:47 INFO - data factory data_ Not using data sets, checkpointing False, max files -1, random samples -1, files to use ['.parquet'], files to checkpoint ['.parquet']\n",
      "23:55:47 INFO - orchestrator doc_chunk started at 2024-09-18 23:55:47\n",
      "23:55:47 INFO - Number of files is 2, source profile {'max_file_size': 0.009243011474609375, 'min_file_size': 0.009152412414550781, 'total_file_size': 0.018395423889160156}\n",
      "23:55:47 INFO - Completed 1 files (50.0%) in 0.0 min\n",
      "23:55:47 INFO - Completed 2 files (100.0%) in 0.0 min\n",
      "23:55:47 INFO - Done processing 2 files, waiting for flush() completion.\n",
      "23:55:47 INFO - done flushing in 0.0 sec\n",
      "23:55:47 INFO - Completed execution in 0.0 min, execution result 0\n"
     ]
    },
    {
     "name": "stdout",
     "output_type": "stream",
     "text": [
      "✅ Stage:2 completed successfully\n",
      "CPU times: user 849 ms, sys: 97.2 ms, total: 947 ms\n",
      "Wall time: 941 ms\n"
     ]
    }
   ],
   "source": [
    "%%time \n",
    "\n",
    "# Import doc_json_chunk transform configuration\n",
    "from doc_chunk_transform_python import DocChunkPythonTransformConfiguration\n",
    "\n",
    "\n",
    "# Prepare the commandline params\n",
    "local_conf = {\n",
    "    \"input_folder\": input_folder,\n",
    "    \"output_folder\": output_folder,\n",
    "}\n",
    "worker_options = {\"num_cpus\" : MY_CONFIG.RAY_NUM_CPUS}\n",
    "params = {\n",
    "    # Data access. Only required parameters are specified\n",
    "    \"data_local_config\": ParamsUtils.convert_to_ast(local_conf),\n",
    "    # doc_chunk arguments\n",
    "    # ...\n",
    "}\n",
    "\n",
    "# Pass the commandline params\n",
    "sys.argv = ParamsUtils.dict_to_req(d=params)\n",
    "\n",
    "# create launcher\n",
    "launcher = PythonTransformLauncher(DocChunkPythonTransformConfiguration())\n",
    "# launch\n",
    "return_code = launcher.launch()\n",
    "\n",
    "if return_code == 0:\n",
    "    print (f\"✅ Stage:{STAGE} completed successfully\")\n",
    "else:\n",
    "    raise Exception (\"❌ Job failed\")"
   ]
  },
  {
   "cell_type": "markdown",
   "id": "213afdf6",
   "metadata": {},
   "source": [
    "### 3.3 - Inspect Generated output\n",
    "\n",
    "We would see documents are split into many chunks"
   ]
  },
  {
   "cell_type": "code",
   "execution_count": 9,
   "id": "d8138d43",
   "metadata": {},
   "outputs": [
    {
     "name": "stdout",
     "output_type": "stream",
     "text": [
      "Files processed : 2\n",
      "Chunks created : 21\n",
      "Input data dimensions (rows x columns)=  (2, 12)\n",
      "Output data dimensions (rows x columns)=  (21, 15)\n"
     ]
    },
    {
     "data": {
      "text/html": [
       "<div>\n",
       "<style scoped>\n",
       "    .dataframe tbody tr th:only-of-type {\n",
       "        vertical-align: middle;\n",
       "    }\n",
       "\n",
       "    .dataframe tbody tr th {\n",
       "        vertical-align: top;\n",
       "    }\n",
       "\n",
       "    .dataframe thead th {\n",
       "        text-align: right;\n",
       "    }\n",
       "</style>\n",
       "<table border=\"1\" class=\"dataframe\">\n",
       "  <thead>\n",
       "    <tr style=\"text-align: right;\">\n",
       "      <th></th>\n",
       "      <th>filename</th>\n",
       "      <th>num_pages</th>\n",
       "      <th>num_tables</th>\n",
       "      <th>num_doc_elements</th>\n",
       "      <th>document_id</th>\n",
       "      <th>ext</th>\n",
       "      <th>hash</th>\n",
       "      <th>size</th>\n",
       "      <th>date_acquired</th>\n",
       "      <th>pdf_convert_time</th>\n",
       "      <th>source_filename</th>\n",
       "      <th>contents</th>\n",
       "      <th>doc_jsonpath</th>\n",
       "      <th>page_number</th>\n",
       "      <th>bbox</th>\n",
       "    </tr>\n",
       "  </thead>\n",
       "  <tbody>\n",
       "    <tr>\n",
       "      <th>15</th>\n",
       "      <td>monetary20240918a1.pdf</td>\n",
       "      <td>4</td>\n",
       "      <td>0</td>\n",
       "      <td>33</td>\n",
       "      <td>2967427b-e3cd-45af-b8f2-f5f8c38c495a</td>\n",
       "      <td>pdf</td>\n",
       "      <td>bff09e8a8597537ad482be953a47aa417bd2e693e45e9f...</td>\n",
       "      <td>11056</td>\n",
       "      <td>2024-09-18T23:55:46.442882</td>\n",
       "      <td>3.634502</td>\n",
       "      <td>monetary20240918a1.pdf</td>\n",
       "      <td>FEDERAL RESERVE press release\\ncould impede th...</td>\n",
       "      <td>$.main-text[10]</td>\n",
       "      <td>2</td>\n",
       "      <td>[71.55211639, 652.95452881, 529.98071289, 719....</td>\n",
       "    </tr>\n",
       "    <tr>\n",
       "      <th>12</th>\n",
       "      <td>monetary20240918a1.pdf</td>\n",
       "      <td>4</td>\n",
       "      <td>0</td>\n",
       "      <td>33</td>\n",
       "      <td>2967427b-e3cd-45af-b8f2-f5f8c38c495a</td>\n",
       "      <td>pdf</td>\n",
       "      <td>bff09e8a8597537ad482be953a47aa417bd2e693e45e9f...</td>\n",
       "      <td>11056</td>\n",
       "      <td>2024-09-18T23:55:46.442882</td>\n",
       "      <td>3.634502</td>\n",
       "      <td>monetary20240918a1.pdf</td>\n",
       "      <td>FEDERAL RESERVE press release\\nThe Committee s...</td>\n",
       "      <td>$.main-text[4]</td>\n",
       "      <td>1</td>\n",
       "      <td>[71.34158325, 406.78799438, 534.84796143, 526....</td>\n",
       "    </tr>\n",
       "    <tr>\n",
       "      <th>10</th>\n",
       "      <td>monetary20240731a1.pdf</td>\n",
       "      <td>4</td>\n",
       "      <td>0</td>\n",
       "      <td>34</td>\n",
       "      <td>a0e52580-4912-4aac-93d4-4fc015b6aa12</td>\n",
       "      <td>pdf</td>\n",
       "      <td>ae2f7f6b109cf8e6388b507c9f866d7946ca907cab6b5a...</td>\n",
       "      <td>11018</td>\n",
       "      <td>2024-09-18T23:55:42.804866</td>\n",
       "      <td>3.573463</td>\n",
       "      <td>monetary20240731a1.pdf</td>\n",
       "      <td>Decisions Regarding Monetary Policy Implementa...</td>\n",
       "      <td>$.main-text[33]</td>\n",
       "      <td>4</td>\n",
       "      <td>[71.32019043, 619.66723633, 516.85302734, 648....</td>\n",
       "    </tr>\n",
       "  </tbody>\n",
       "</table>\n",
       "</div>"
      ],
      "text/plain": [
       "                  filename  num_pages  num_tables  num_doc_elements  \\\n",
       "15  monetary20240918a1.pdf          4           0                33   \n",
       "12  monetary20240918a1.pdf          4           0                33   \n",
       "10  monetary20240731a1.pdf          4           0                34   \n",
       "\n",
       "                             document_id  ext  \\\n",
       "15  2967427b-e3cd-45af-b8f2-f5f8c38c495a  pdf   \n",
       "12  2967427b-e3cd-45af-b8f2-f5f8c38c495a  pdf   \n",
       "10  a0e52580-4912-4aac-93d4-4fc015b6aa12  pdf   \n",
       "\n",
       "                                                 hash   size  \\\n",
       "15  bff09e8a8597537ad482be953a47aa417bd2e693e45e9f...  11056   \n",
       "12  bff09e8a8597537ad482be953a47aa417bd2e693e45e9f...  11056   \n",
       "10  ae2f7f6b109cf8e6388b507c9f866d7946ca907cab6b5a...  11018   \n",
       "\n",
       "                 date_acquired  pdf_convert_time         source_filename  \\\n",
       "15  2024-09-18T23:55:46.442882          3.634502  monetary20240918a1.pdf   \n",
       "12  2024-09-18T23:55:46.442882          3.634502  monetary20240918a1.pdf   \n",
       "10  2024-09-18T23:55:42.804866          3.573463  monetary20240731a1.pdf   \n",
       "\n",
       "                                             contents     doc_jsonpath  \\\n",
       "15  FEDERAL RESERVE press release\\ncould impede th...  $.main-text[10]   \n",
       "12  FEDERAL RESERVE press release\\nThe Committee s...   $.main-text[4]   \n",
       "10  Decisions Regarding Monetary Policy Implementa...  $.main-text[33]   \n",
       "\n",
       "    page_number                                               bbox  \n",
       "15            2  [71.55211639, 652.95452881, 529.98071289, 719....  \n",
       "12            1  [71.34158325, 406.78799438, 534.84796143, 526....  \n",
       "10            4  [71.32019043, 619.66723633, 516.85302734, 648....  "
      ]
     },
     "execution_count": 9,
     "metadata": {},
     "output_type": "execute_result"
    }
   ],
   "source": [
    "from utils import read_parquet_files_as_df\n",
    "\n",
    "output_df = read_parquet_files_as_df(output_folder)\n",
    "\n",
    "print (f\"Files processed : {input_df.shape[0]:,}\")\n",
    "print (f\"Chunks created : {output_df.shape[0]:,}\")\n",
    "\n",
    "print (\"Input data dimensions (rows x columns)= \", input_df.shape)\n",
    "print (\"Output data dimensions (rows x columns)= \", output_df.shape)\n",
    "\n",
    "output_df.sample(min(3, output_df.shape[0]))"
   ]
  },
  {
   "cell_type": "markdown",
   "id": "ece021fd",
   "metadata": {},
   "source": [
    "## Step-4:  DOC ID generation\n",
    "\n",
    "This transform annotates documents with document \"ids\". It supports the following transformations of the original data:\n",
    "\n",
    " - Adding document hash: this enables the addition of a document hash-based id to the data. The hash is calculated with `hashlib.sha256(doc.encode(\"utf-8\")).hexdigest()`. To enable this annotation, set hash_column to the name of the column, where you want to store it.\n",
    " - Adding integer document id: this allows the addition of an integer document id to the data that is unique across all rows in all tables provided to the transform() method. To enable this annotation, set int_id_column to the name of the column, where you want to store it. **This is a pre-requisite for fuzzy dedup** in the pipeline."
   ]
  },
  {
   "cell_type": "markdown",
   "id": "e414c12c",
   "metadata": {},
   "source": [
    "### 4.1 - Set Input/output Folder"
   ]
  },
  {
   "cell_type": "code",
   "execution_count": 10,
   "id": "10251d3d",
   "metadata": {},
   "outputs": [
    {
     "name": "stdout",
     "output_type": "stream",
     "text": [
      "🏃🏼 STAGE-3: Processing input='output-fomc/02_chunk_out' --> output='output-fomc/03_docid_out'\n"
     ]
    }
   ],
   "source": [
    "\n",
    "STAGE  = 3\n",
    "\n",
    "input_folder = output_chunk_dir # previous output folder is the input folder for the current stage\n",
    "output_folder =  output_docid_dir\n",
    "\n",
    "input_df = read_parquet_files_as_df(input_folder)  ## for debug purposes\n",
    "\n",
    "print (f\"🏃🏼 STAGE-{STAGE}: Processing input='{input_folder}' --> output='{output_folder}'\")"
   ]
  },
  {
   "cell_type": "markdown",
   "id": "0f312347",
   "metadata": {},
   "source": [
    "### 4.2 - Execute "
   ]
  },
  {
   "cell_type": "code",
   "execution_count": 11,
   "id": "a8b76a71",
   "metadata": {},
   "outputs": [
    {
     "name": "stderr",
     "output_type": "stream",
     "text": [
      "23:55:47 INFO - Doc id parameters are : {'doc_column': 'contents', 'hash_column': 'chunk_hash', 'int_column': 'chunk_id', 'start_id': 0}\n",
      "23:55:47 INFO - pipeline id pipeline_id\n",
      "23:55:47 INFO - code location None\n",
      "23:55:47 INFO - data factory data_ is using local data access: input_folder - output-fomc/02_chunk_out output_folder - output-fomc/03_docid_out\n",
      "23:55:47 INFO - data factory data_ max_files -1, n_sample -1\n",
      "23:55:47 INFO - data factory data_ Not using data sets, checkpointing False, max files -1, random samples -1, files to use ['.parquet'], files to checkpoint ['.parquet']\n",
      "23:55:47 INFO - orchestrator doc_id started at 2024-09-18 23:55:47\n",
      "23:55:47 INFO - Number of files is 2, source profile {'max_file_size': 0.01009368896484375, 'min_file_size': 0.010049819946289062, 'total_file_size': 0.020143508911132812}\n",
      "23:55:47 INFO - Completed 1 files (50.0%) in 0.0 min\n",
      "23:55:47 INFO - Completed 2 files (100.0%) in 0.0 min\n",
      "23:55:47 INFO - Done processing 2 files, waiting for flush() completion.\n",
      "23:55:47 INFO - done flushing in 0.0 sec\n",
      "23:55:47 INFO - Completed execution in 0.0 min, execution result 0\n"
     ]
    },
    {
     "name": "stdout",
     "output_type": "stream",
     "text": [
      "✅ Stage:3 completed successfully\n",
      "CPU times: user 11.9 ms, sys: 2.93 ms, total: 14.9 ms\n",
      "Wall time: 11.7 ms\n"
     ]
    }
   ],
   "source": [
    "%%time \n",
    "\n",
    "from doc_id_transform_python import DocIDPythonTransformRuntimeConfiguration\n",
    "local_conf = {\n",
    "    \"input_folder\": input_folder,\n",
    "    \"output_folder\": output_folder,\n",
    "}\n",
    "params = {\n",
    "    # Data access. Only required parameters are specified\n",
    "    \"data_local_config\": ParamsUtils.convert_to_ast(local_conf),\n",
    "    # doc id configuration\n",
    "    \"doc_id_doc_column\": \"contents\",\n",
    "    \"doc_id_hash_column\": \"chunk_hash\",\n",
    "    \"doc_id_int_column\": \"chunk_id\",\n",
    "}\n",
    "sys.argv = ParamsUtils.dict_to_req(d=params)\n",
    "\n",
    "# launch\n",
    "\n",
    "launcher = PythonTransformLauncher(DocIDPythonTransformRuntimeConfiguration())\n",
    "\n",
    "return_code = launcher.launch()\n",
    "\n",
    "if return_code == 0:\n",
    "    print (f\"✅ Stage:{STAGE} completed successfully\")\n",
    "else:\n",
    "    raise Exception (\"❌ Ray job failed\")"
   ]
  },
  {
   "cell_type": "markdown",
   "id": "8c23338b",
   "metadata": {},
   "source": [
    "### 4.3 - Inspect Generated output"
   ]
  },
  {
   "cell_type": "code",
   "execution_count": 12,
   "id": "ec23aa3a",
   "metadata": {},
   "outputs": [
    {
     "name": "stdout",
     "output_type": "stream",
     "text": [
      "Input data dimensions (rows x columns)=  (21, 15)\n",
      "Output data dimensions (rows x columns)=  (21, 17)\n"
     ]
    },
    {
     "data": {
      "text/html": [
       "<div>\n",
       "<style scoped>\n",
       "    .dataframe tbody tr th:only-of-type {\n",
       "        vertical-align: middle;\n",
       "    }\n",
       "\n",
       "    .dataframe tbody tr th {\n",
       "        vertical-align: top;\n",
       "    }\n",
       "\n",
       "    .dataframe thead th {\n",
       "        text-align: right;\n",
       "    }\n",
       "</style>\n",
       "<table border=\"1\" class=\"dataframe\">\n",
       "  <thead>\n",
       "    <tr style=\"text-align: right;\">\n",
       "      <th></th>\n",
       "      <th>filename</th>\n",
       "      <th>num_pages</th>\n",
       "      <th>num_tables</th>\n",
       "      <th>num_doc_elements</th>\n",
       "      <th>document_id</th>\n",
       "      <th>ext</th>\n",
       "      <th>hash</th>\n",
       "      <th>size</th>\n",
       "      <th>date_acquired</th>\n",
       "      <th>pdf_convert_time</th>\n",
       "      <th>source_filename</th>\n",
       "      <th>contents</th>\n",
       "      <th>doc_jsonpath</th>\n",
       "      <th>page_number</th>\n",
       "      <th>bbox</th>\n",
       "      <th>chunk_hash</th>\n",
       "      <th>chunk_id</th>\n",
       "    </tr>\n",
       "  </thead>\n",
       "  <tbody>\n",
       "    <tr>\n",
       "      <th>13</th>\n",
       "      <td>monetary20240918a1.pdf</td>\n",
       "      <td>4</td>\n",
       "      <td>0</td>\n",
       "      <td>33</td>\n",
       "      <td>2967427b-e3cd-45af-b8f2-f5f8c38c495a</td>\n",
       "      <td>pdf</td>\n",
       "      <td>bff09e8a8597537ad482be953a47aa417bd2e693e45e9f...</td>\n",
       "      <td>11056</td>\n",
       "      <td>2024-09-18T23:55:46.442882</td>\n",
       "      <td>3.634502</td>\n",
       "      <td>monetary20240918a1.pdf</td>\n",
       "      <td>FEDERAL RESERVE press release\\nIn light of the...</td>\n",
       "      <td>$.main-text[5]</td>\n",
       "      <td>1</td>\n",
       "      <td>[71.19850159, 220.41990662, 533.89196777, 393....</td>\n",
       "      <td>443ad2771a4e7eabd27abc3098c76be456927a5af3df3b...</td>\n",
       "      <td>13</td>\n",
       "    </tr>\n",
       "    <tr>\n",
       "      <th>15</th>\n",
       "      <td>monetary20240918a1.pdf</td>\n",
       "      <td>4</td>\n",
       "      <td>0</td>\n",
       "      <td>33</td>\n",
       "      <td>2967427b-e3cd-45af-b8f2-f5f8c38c495a</td>\n",
       "      <td>pdf</td>\n",
       "      <td>bff09e8a8597537ad482be953a47aa417bd2e693e45e9f...</td>\n",
       "      <td>11056</td>\n",
       "      <td>2024-09-18T23:55:46.442882</td>\n",
       "      <td>3.634502</td>\n",
       "      <td>monetary20240918a1.pdf</td>\n",
       "      <td>FEDERAL RESERVE press release\\ncould impede th...</td>\n",
       "      <td>$.main-text[10]</td>\n",
       "      <td>2</td>\n",
       "      <td>[71.55211639, 652.95452881, 529.98071289, 719....</td>\n",
       "      <td>bbe51c32ce57c2b7bc3e8f0e42dcf7abd0cacdbca42959...</td>\n",
       "      <td>15</td>\n",
       "    </tr>\n",
       "    <tr>\n",
       "      <th>8</th>\n",
       "      <td>monetary20240731a1.pdf</td>\n",
       "      <td>4</td>\n",
       "      <td>0</td>\n",
       "      <td>34</td>\n",
       "      <td>a0e52580-4912-4aac-93d4-4fc015b6aa12</td>\n",
       "      <td>pdf</td>\n",
       "      <td>ae2f7f6b109cf8e6388b507c9f866d7946ca907cab6b5a...</td>\n",
       "      <td>11018</td>\n",
       "      <td>2024-09-18T23:55:42.804866</td>\n",
       "      <td>3.573463</td>\n",
       "      <td>monetary20240731a1.pdf</td>\n",
       "      <td>Decisions Regarding Monetary Policy Implementa...</td>\n",
       "      <td>$.main-text[21]</td>\n",
       "      <td>3</td>\n",
       "      <td>[108.01999664, 500.24020386, 515.20001221, 514...</td>\n",
       "      <td>0db576e8428e011663940a32b19db0dbb5fcd3725c4a30...</td>\n",
       "      <td>8</td>\n",
       "    </tr>\n",
       "  </tbody>\n",
       "</table>\n",
       "</div>"
      ],
      "text/plain": [
       "                  filename  num_pages  num_tables  num_doc_elements  \\\n",
       "13  monetary20240918a1.pdf          4           0                33   \n",
       "15  monetary20240918a1.pdf          4           0                33   \n",
       "8   monetary20240731a1.pdf          4           0                34   \n",
       "\n",
       "                             document_id  ext  \\\n",
       "13  2967427b-e3cd-45af-b8f2-f5f8c38c495a  pdf   \n",
       "15  2967427b-e3cd-45af-b8f2-f5f8c38c495a  pdf   \n",
       "8   a0e52580-4912-4aac-93d4-4fc015b6aa12  pdf   \n",
       "\n",
       "                                                 hash   size  \\\n",
       "13  bff09e8a8597537ad482be953a47aa417bd2e693e45e9f...  11056   \n",
       "15  bff09e8a8597537ad482be953a47aa417bd2e693e45e9f...  11056   \n",
       "8   ae2f7f6b109cf8e6388b507c9f866d7946ca907cab6b5a...  11018   \n",
       "\n",
       "                 date_acquired  pdf_convert_time         source_filename  \\\n",
       "13  2024-09-18T23:55:46.442882          3.634502  monetary20240918a1.pdf   \n",
       "15  2024-09-18T23:55:46.442882          3.634502  monetary20240918a1.pdf   \n",
       "8   2024-09-18T23:55:42.804866          3.573463  monetary20240731a1.pdf   \n",
       "\n",
       "                                             contents     doc_jsonpath  \\\n",
       "13  FEDERAL RESERVE press release\\nIn light of the...   $.main-text[5]   \n",
       "15  FEDERAL RESERVE press release\\ncould impede th...  $.main-text[10]   \n",
       "8   Decisions Regarding Monetary Policy Implementa...  $.main-text[21]   \n",
       "\n",
       "    page_number                                               bbox  \\\n",
       "13            1  [71.19850159, 220.41990662, 533.89196777, 393....   \n",
       "15            2  [71.55211639, 652.95452881, 529.98071289, 719....   \n",
       "8             3  [108.01999664, 500.24020386, 515.20001221, 514...   \n",
       "\n",
       "                                           chunk_hash  chunk_id  \n",
       "13  443ad2771a4e7eabd27abc3098c76be456927a5af3df3b...        13  \n",
       "15  bbe51c32ce57c2b7bc3e8f0e42dcf7abd0cacdbca42959...        15  \n",
       "8   0db576e8428e011663940a32b19db0dbb5fcd3725c4a30...         8  "
      ]
     },
     "execution_count": 12,
     "metadata": {},
     "output_type": "execute_result"
    }
   ],
   "source": [
    "from utils import read_parquet_files_as_df\n",
    "\n",
    "output_df = read_parquet_files_as_df(output_folder)\n",
    "\n",
    "print (\"Input data dimensions (rows x columns)= \", input_df.shape)\n",
    "print (\"Output data dimensions (rows x columns)= \", output_df.shape)\n",
    "\n",
    "output_df.sample(min(3, output_df.shape[0]))"
   ]
  },
  {
   "cell_type": "markdown",
   "id": "4692975c-49ff-41ae-810e-0f5bc0bbdc53",
   "metadata": {},
   "source": [
    "## Step-5: Exact Dedup\n",
    "\n",
    "Remove documents having identical code to remove bias in the training data. On the content of each document, a SHA256 hash is computed,\n",
    "followed by de-duplication of record having identical hashes."
   ]
  },
  {
   "cell_type": "markdown",
   "id": "5acfd3a2-a236-4143-bcfc-15804f1da7fe",
   "metadata": {},
   "source": [
    "### 5.1 - Set Input/output Folder"
   ]
  },
  {
   "cell_type": "code",
   "execution_count": 13,
   "id": "4c7a1b94",
   "metadata": {},
   "outputs": [
    {
     "name": "stdout",
     "output_type": "stream",
     "text": [
      "🏃🏼 STAGE-4: Processing input='output-fomc/03_docid_out' --> output='output-fomc/04_exact_dedupe_out'\n"
     ]
    }
   ],
   "source": [
    "STAGE  = 4\n",
    "\n",
    "input_folder = output_docid_dir # previous output folder is the input folder for the current stage\n",
    "output_folder =  output_exact_dedupe_dir\n",
    "\n",
    "input_df = read_parquet_files_as_df(input_folder)  ## for debug purposes\n",
    "\n",
    "print (f\"🏃🏼 STAGE-{STAGE}: Processing input='{input_folder}' --> output='{output_folder}'\")"
   ]
  },
  {
   "cell_type": "markdown",
   "id": "3661cb37-39c7-4b09-a784-925bfa9eaf1e",
   "metadata": {},
   "source": [
    "### 5.2 - Execute "
   ]
  },
  {
   "cell_type": "code",
   "execution_count": 14,
   "id": "a624b2b2-faad-4325-ac7d-53a840f564ef",
   "metadata": {},
   "outputs": [
    {
     "name": "stderr",
     "output_type": "stream",
     "text": [
      "23:55:47 INFO - exact dedup params are {'doc_column': 'contents', 'doc_id_column': 'chunk_hash', 'use_snapshot': False, 'snapshot_directory': None}\n",
      "23:55:47 INFO - pipeline id pipeline_id\n",
      "23:55:47 INFO - code location None\n",
      "23:55:47 INFO - data factory data_ is using local data access: input_folder - output-fomc/03_docid_out output_folder - output-fomc/04_exact_dedupe_out\n",
      "23:55:47 INFO - data factory data_ max_files -1, n_sample -1\n",
      "23:55:47 INFO - data factory data_ Not using data sets, checkpointing False, max files -1, random samples -1, files to use ['.parquet'], files to checkpoint ['.parquet']\n",
      "23:55:47 INFO - orchestrator ededup started at 2024-09-18 23:55:47\n",
      "23:55:47 INFO - Number of files is 2, source profile {'max_file_size': 0.01155853271484375, 'min_file_size': 0.011479377746582031, 'total_file_size': 0.02303791046142578}\n",
      "23:55:47 INFO - Starting from the beginning\n",
      "23:55:47 INFO - Completed 1 files (50.0%) in 0.0 min\n",
      "23:55:47 INFO - Completed 2 files (100.0%) in 0.0 min\n",
      "23:55:47 INFO - Done processing 2 files, waiting for flush() completion.\n",
      "23:55:47 INFO - done flushing in 0.0 sec\n",
      "23:55:47 INFO - Completed execution in 0.0 min, execution result 0\n"
     ]
    },
    {
     "name": "stdout",
     "output_type": "stream",
     "text": [
      "✅ Stage:4 completed successfully\n",
      "CPU times: user 17.5 ms, sys: 2.24 ms, total: 19.7 ms\n",
      "Wall time: 16.2 ms\n"
     ]
    }
   ],
   "source": [
    "%%time\n",
    "\n",
    "# Import ededup transform configuration\n",
    "from ededup_transform_python import EdedupPythonTransformRuntimeConfiguration\n",
    "\n",
    "\n",
    "# Prepare the commandline params\n",
    "local_conf = {\n",
    "    \"input_folder\": input_folder,\n",
    "    \"output_folder\": output_folder,\n",
    "}\n",
    "params = {\n",
    "    # Data access. Only required parameters are specified\n",
    "    \"data_local_config\": ParamsUtils.convert_to_ast(local_conf),\n",
    "    # ededup parameters\n",
    "    \"ededup_doc_column\": \"contents\",\n",
    "    \"ededup_doc_id_column\": \"chunk_hash\",\n",
    "    \n",
    "}\n",
    "\n",
    "# Pass the commandline params\n",
    "sys.argv = ParamsUtils.dict_to_req(d=params)\n",
    "\n",
    "# create launcher\n",
    "launcher = PythonTransformLauncher(EdedupPythonTransformRuntimeConfiguration())\n",
    "# launch\n",
    "return_code = launcher.launch()\n",
    "\n",
    "if return_code == 0:\n",
    "    print (f\"✅ Stage:{STAGE} completed successfully\")\n",
    "else:\n",
    "    raise Exception (\"❌ Ray job failed\")"
   ]
  },
  {
   "cell_type": "markdown",
   "id": "eaf1c3c3",
   "metadata": {},
   "source": [
    "### 5.3 - Inspect Generated output"
   ]
  },
  {
   "cell_type": "code",
   "execution_count": 15,
   "id": "d824ebf6",
   "metadata": {},
   "outputs": [
    {
     "name": "stdout",
     "output_type": "stream",
     "text": [
      "Input data dimensions (rows x columns)=  (21, 17)\n",
      "Output data dimensions (rows x columns)=  (16, 18)\n",
      "Input chunks before exact dedupe : 21\n",
      "Output chunks after exact dedupe : 16\n",
      "Duplicate chunks removed :   5\n"
     ]
    },
    {
     "data": {
      "text/html": [
       "<div>\n",
       "<style scoped>\n",
       "    .dataframe tbody tr th:only-of-type {\n",
       "        vertical-align: middle;\n",
       "    }\n",
       "\n",
       "    .dataframe tbody tr th {\n",
       "        vertical-align: top;\n",
       "    }\n",
       "\n",
       "    .dataframe thead th {\n",
       "        text-align: right;\n",
       "    }\n",
       "</style>\n",
       "<table border=\"1\" class=\"dataframe\">\n",
       "  <thead>\n",
       "    <tr style=\"text-align: right;\">\n",
       "      <th></th>\n",
       "      <th>filename</th>\n",
       "      <th>num_pages</th>\n",
       "      <th>num_tables</th>\n",
       "      <th>num_doc_elements</th>\n",
       "      <th>document_id</th>\n",
       "      <th>ext</th>\n",
       "      <th>hash</th>\n",
       "      <th>size</th>\n",
       "      <th>date_acquired</th>\n",
       "      <th>pdf_convert_time</th>\n",
       "      <th>source_filename</th>\n",
       "      <th>contents</th>\n",
       "      <th>doc_jsonpath</th>\n",
       "      <th>page_number</th>\n",
       "      <th>bbox</th>\n",
       "      <th>chunk_hash</th>\n",
       "      <th>chunk_id</th>\n",
       "      <th>removed</th>\n",
       "    </tr>\n",
       "  </thead>\n",
       "  <tbody>\n",
       "    <tr>\n",
       "      <th>7</th>\n",
       "      <td>monetary20240731a1.pdf</td>\n",
       "      <td>4</td>\n",
       "      <td>0</td>\n",
       "      <td>34</td>\n",
       "      <td>a0e52580-4912-4aac-93d4-4fc015b6aa12</td>\n",
       "      <td>pdf</td>\n",
       "      <td>ae2f7f6b109cf8e6388b507c9f866d7946ca907cab6b5a...</td>\n",
       "      <td>11018</td>\n",
       "      <td>2024-09-18T23:55:42.804866</td>\n",
       "      <td>3.573463</td>\n",
       "      <td>monetary20240731a1.pdf</td>\n",
       "      <td>Decisions Regarding Monetary Policy Implementa...</td>\n",
       "      <td>$.main-text[18]</td>\n",
       "      <td>3</td>\n",
       "      <td>[71.24868011, 620.85113525, 516.75402832, 649....</td>\n",
       "      <td>d971c9a22c5d2f4455150e54a26443294cbc1a7bea3d4f...</td>\n",
       "      <td>7</td>\n",
       "      <td>[]</td>\n",
       "    </tr>\n",
       "    <tr>\n",
       "      <th>3</th>\n",
       "      <td>monetary20240731a1.pdf</td>\n",
       "      <td>4</td>\n",
       "      <td>0</td>\n",
       "      <td>34</td>\n",
       "      <td>a0e52580-4912-4aac-93d4-4fc015b6aa12</td>\n",
       "      <td>pdf</td>\n",
       "      <td>ae2f7f6b109cf8e6388b507c9f866d7946ca907cab6b5a...</td>\n",
       "      <td>11018</td>\n",
       "      <td>2024-09-18T23:55:42.804866</td>\n",
       "      <td>3.573463</td>\n",
       "      <td>monetary20240731a1.pdf</td>\n",
       "      <td>FEDERAL RESERVE press release\\nIn assessing th...</td>\n",
       "      <td>$.main-text[6]</td>\n",
       "      <td>1</td>\n",
       "      <td>[71.39627075, 120.29415131, 526.43603516, 189....</td>\n",
       "      <td>882ace8bc12af9eaec998452abe7e3bc38e22a94b09d8c...</td>\n",
       "      <td>3</td>\n",
       "      <td>[]</td>\n",
       "    </tr>\n",
       "    <tr>\n",
       "      <th>0</th>\n",
       "      <td>monetary20240731a1.pdf</td>\n",
       "      <td>4</td>\n",
       "      <td>0</td>\n",
       "      <td>34</td>\n",
       "      <td>a0e52580-4912-4aac-93d4-4fc015b6aa12</td>\n",
       "      <td>pdf</td>\n",
       "      <td>ae2f7f6b109cf8e6388b507c9f866d7946ca907cab6b5a...</td>\n",
       "      <td>11018</td>\n",
       "      <td>2024-09-18T23:55:42.804866</td>\n",
       "      <td>3.573463</td>\n",
       "      <td>monetary20240731a1.pdf</td>\n",
       "      <td>FEDERAL RESERVE press release\\nRecent indicato...</td>\n",
       "      <td>$.main-text[3]</td>\n",
       "      <td>1</td>\n",
       "      <td>[71.41007233, 534.21520996, 536.76806641, 630....</td>\n",
       "      <td>d1f181a0a653e27f7c761b7bf6fdc910b9edf8bf8c3a7f...</td>\n",
       "      <td>0</td>\n",
       "      <td>[]</td>\n",
       "    </tr>\n",
       "  </tbody>\n",
       "</table>\n",
       "</div>"
      ],
      "text/plain": [
       "                 filename  num_pages  num_tables  num_doc_elements  \\\n",
       "7  monetary20240731a1.pdf          4           0                34   \n",
       "3  monetary20240731a1.pdf          4           0                34   \n",
       "0  monetary20240731a1.pdf          4           0                34   \n",
       "\n",
       "                            document_id  ext  \\\n",
       "7  a0e52580-4912-4aac-93d4-4fc015b6aa12  pdf   \n",
       "3  a0e52580-4912-4aac-93d4-4fc015b6aa12  pdf   \n",
       "0  a0e52580-4912-4aac-93d4-4fc015b6aa12  pdf   \n",
       "\n",
       "                                                hash   size  \\\n",
       "7  ae2f7f6b109cf8e6388b507c9f866d7946ca907cab6b5a...  11018   \n",
       "3  ae2f7f6b109cf8e6388b507c9f866d7946ca907cab6b5a...  11018   \n",
       "0  ae2f7f6b109cf8e6388b507c9f866d7946ca907cab6b5a...  11018   \n",
       "\n",
       "                date_acquired  pdf_convert_time         source_filename  \\\n",
       "7  2024-09-18T23:55:42.804866          3.573463  monetary20240731a1.pdf   \n",
       "3  2024-09-18T23:55:42.804866          3.573463  monetary20240731a1.pdf   \n",
       "0  2024-09-18T23:55:42.804866          3.573463  monetary20240731a1.pdf   \n",
       "\n",
       "                                            contents     doc_jsonpath  \\\n",
       "7  Decisions Regarding Monetary Policy Implementa...  $.main-text[18]   \n",
       "3  FEDERAL RESERVE press release\\nIn assessing th...   $.main-text[6]   \n",
       "0  FEDERAL RESERVE press release\\nRecent indicato...   $.main-text[3]   \n",
       "\n",
       "   page_number                                               bbox  \\\n",
       "7            3  [71.24868011, 620.85113525, 516.75402832, 649....   \n",
       "3            1  [71.39627075, 120.29415131, 526.43603516, 189....   \n",
       "0            1  [71.41007233, 534.21520996, 536.76806641, 630....   \n",
       "\n",
       "                                          chunk_hash  chunk_id removed  \n",
       "7  d971c9a22c5d2f4455150e54a26443294cbc1a7bea3d4f...         7      []  \n",
       "3  882ace8bc12af9eaec998452abe7e3bc38e22a94b09d8c...         3      []  \n",
       "0  d1f181a0a653e27f7c761b7bf6fdc910b9edf8bf8c3a7f...         0      []  "
      ]
     },
     "execution_count": 15,
     "metadata": {},
     "output_type": "execute_result"
    }
   ],
   "source": [
    "from utils import read_parquet_files_as_df\n",
    "\n",
    "output_df = read_parquet_files_as_df(output_folder)\n",
    "\n",
    "print (\"Input data dimensions (rows x columns)= \", input_df.shape)\n",
    "print (\"Output data dimensions (rows x columns)= \", output_df.shape)\n",
    "print (f\"Input chunks before exact dedupe : {input_df.shape[0]:,}\")\n",
    "print (f\"Output chunks after exact dedupe : {output_df.shape[0]:,}\")\n",
    "print (\"Duplicate chunks removed :  \", (input_df.shape[0] - output_df.shape[0]))\n",
    "\n",
    "output_df.sample(min(3, output_df.shape[0]))"
   ]
  },
  {
   "cell_type": "markdown",
   "id": "85309751-8556-41c6-ac32-84acc941bc8d",
   "metadata": {},
   "source": [
    "## Step-6: Fuzzy Dedup\n",
    "\n",
    "**Fuzzy dedupe is currently available in RAY version**\n",
    "\n",
    "Post exact deduplication, fuzzy deduplication is applied with\n",
    "the goal of removing code files that may have slight variations and thereby unbiasing\n",
    "the data further. Small variations are quite commonly seen in code data in the form\n",
    "of variations in the values of variables, addittion of logging statements etc. Find near-\n",
    "duplicate."
   ]
  },
  {
   "cell_type": "markdown",
   "id": "fcf574a3-b287-419c-9c86-07b828b41ca6",
   "metadata": {},
   "source": [
    "### 6.1 - Set Input/output Folder"
   ]
  },
  {
   "cell_type": "code",
   "execution_count": 16,
   "id": "9e431c8c-c7c7-48de-ba5f-2c4649c35399",
   "metadata": {},
   "outputs": [
    {
     "name": "stdout",
     "output_type": "stream",
     "text": [
      "🏃🏼 STAGE-5: Processing input='output-fomc/04_exact_dedupe_out' --> output='output-fomc/05_fuzzy_dedupe_out'\n"
     ]
    }
   ],
   "source": [
    "STAGE  = 5\n",
    "\n",
    "input_folder = output_exact_dedupe_dir # previous output folder is the input folder for the current stage\n",
    "output_folder =  output_fuzzy_dedupe_dir\n",
    "\n",
    "input_df = read_parquet_files_as_df(input_folder)  ## for debug purposes\n",
    "\n",
    "print (f\"🏃🏼 STAGE-{STAGE}: Processing input='{input_folder}' --> output='{output_folder}'\")"
   ]
  },
  {
   "cell_type": "markdown",
   "id": "f4c82a8f-b513-4fe5-b172-d41b104b54f3",
   "metadata": {},
   "source": [
    "### 6.2 - Execute "
   ]
  },
  {
   "cell_type": "code",
   "execution_count": 17,
   "id": "3864ff77-e9a8-48f7-973b-c3b3aef1a94f",
   "metadata": {},
   "outputs": [
    {
     "name": "stderr",
     "output_type": "stream",
     "text": [
      "23:55:48 INFO - Running locally\n",
      "23:55:48 INFO - fuzzy dedup params are {'doc_column': 'contents', 'id_column': 'chunk_id', 'cluster_column': 'chunk_hash', 'bucket_cpu': 0.3, 'mhash_cpu': 0.3, 'doc_cpu': 0.3, 'num_doc_actors': 1, 'num_minhash_actors': 1, 'num_bucket_actors': 1, 'num_preprocessors': 1, 'num_permutations': 64, 'threshold': 0.7, 'shingles_size': 5, 'delimiters': ' ', 'snapshot_delay': 1, 'use_bucket_snapshot': False, 'use_doc_snapshot': False, 'random_delay_limit': 10, 'worker_options': {'num_cpus': 1}}\n",
      "23:55:48 INFO - data factory data_ is using local data access: input_folder - output-fomc/04_exact_dedupe_out output_folder - output-fomc/05_fuzzy_dedupe_out\n",
      "23:55:48 INFO - data factory data_ max_files -1, n_sample -1\n",
      "23:55:48 INFO - data factory data_ Not using data sets, checkpointing False, max files -1, random samples -1, files to use ['.parquet'], files to checkpoint ['.parquet']\n",
      "23:55:48 INFO - pipeline id pipeline_id\n",
      "23:55:48 INFO - code location None\n",
      "23:55:48 INFO - number of workers 2 worker options {'num_cpus': 1, 'max_restarts': -1}\n",
      "23:55:48 INFO - actor creation delay 0\n",
      "23:55:48 INFO - job details {'job category': 'preprocessing', 'job name': 'fdedup', 'job type': 'ray', 'job id': 'job_id'}\n",
      "2024-09-18 23:55:50,233\tINFO worker.py:1744 -- Started a local Ray instance. View the dashboard at \u001b[1m\u001b[32mhttp://127.0.0.1:8265 \u001b[39m\u001b[22m\n",
      "\u001b[36m(orchestrate pid=1565489)\u001b[0m 23:55:51 INFO - orchestrator started at 2024-09-18 23:55:51\n",
      "\u001b[36m(orchestrate pid=1565489)\u001b[0m 23:55:51 INFO - Number of files is 2, source profile {'max_file_size': 0.019039154052734375, 'min_file_size': 0.011907577514648438, 'total_file_size': 0.030946731567382812}\n",
      "\u001b[36m(orchestrate pid=1565489)\u001b[0m 23:55:51 INFO - Cluster resources: {'cpus': 16, 'gpus': 1, 'memory': 5.6221939092502, 'object_store': 2.8110969541594386}\n",
      "\u001b[36m(orchestrate pid=1565489)\u001b[0m 23:55:51 INFO - Number of workers - 2 with {'num_cpus': 1, 'max_restarts': -1} each\n",
      "\u001b[36m(orchestrate pid=1565489)\u001b[0m 23:55:51 INFO - starting run from the beginning\n",
      "\u001b[36m(orchestrate pid=1565489)\u001b[0m 23:55:51 INFO - continuing from the very beginning\n",
      "\u001b[36m(orchestrate pid=1565489)\u001b[0m 23:55:51 INFO - Fuzzy: num buckets 8, bucket length 8\n",
      "\u001b[36m(orchestrate pid=1565489)\u001b[0m 23:55:51 INFO - created 1 bucket actors\n",
      "\u001b[36m(orchestrate pid=1565489)\u001b[0m 23:55:51 INFO - created 1 minhash actors\n",
      "\u001b[36m(orchestrate pid=1565489)\u001b[0m 23:55:51 INFO - Table preprocessing uses 1 readers\n",
      "\u001b[36m(orchestrate pid=1565489)\u001b[0m 23:55:51 INFO - created 1 table processor actors\n",
      "\u001b[36m(orchestrate pid=1565489)\u001b[0m 23:55:55 INFO - Completed 1 files in 0.064 min\n",
      "\u001b[36m(orchestrate pid=1565489)\u001b[0m 23:55:55 INFO - Completed 1 files (50.0%)  in 0.064 min. Waiting for completion\n",
      "\u001b[36m(orchestrate pid=1565489)\u001b[0m 23:56:00 INFO - Completed processing 2 files in 0.148 min\n",
      "\u001b[36m(orchestrate pid=1565489)\u001b[0m 23:56:00 INFO - creating minhash snapshots\n",
      "\u001b[36m(orchestrate pid=1565489)\u001b[0m 23:56:01 INFO - minhash snapshots created\n",
      "\u001b[36m(orchestrate pid=1565489)\u001b[0m 23:56:01 INFO - creating bucket snapshots\n",
      "\u001b[36m(orchestrate pid=1565489)\u001b[0m 23:56:02 INFO - bucket snapshots created\n",
      "\u001b[36m(orchestrate pid=1565489)\u001b[0m 23:56:02 INFO - created 1 document actors\n",
      "\u001b[36m(orchestrate pid=1565489)\u001b[0m 23:56:02 INFO - created 1 bucket processor actors\n",
      "\u001b[36m(orchestrate pid=1565489)\u001b[0m 23:56:02 INFO - created bucket processor invoker\n",
      "\u001b[36m(orchestrate pid=1565489)\u001b[0m 23:56:02 INFO - added invoker to bucket collectors\n",
      "\u001b[36m(BucketsHash pid=1566347)\u001b[0m 23:56:02 INFO - processing buckets 0 long, 127 short\n",
      "\u001b[36m(BucketsHash pid=1566347)\u001b[0m 23:56:02 INFO - Done submitting long buckets\n",
      "\u001b[36m(orchestrate pid=1565489)\u001b[0m 23:56:03 INFO - Done processing buckets in 0.011 min\n",
      "\u001b[36m(orchestrate pid=1565489)\u001b[0m 23:56:03 INFO - creating document snapshots\n",
      "\u001b[36m(BucketsHashProcessorInvoker pid=1566832)\u001b[0m 23:56:03 INFO - Waiting bucket processing completion. Submitted requests 2\n",
      "\u001b[36m(orchestrate pid=1565489)\u001b[0m 23:56:04 INFO - document snapshots created\n",
      "\u001b[36m(orchestrate pid=1565489)\u001b[0m 23:56:04 INFO - Completed 0 files (0.0%)  in 0.0 min. Waiting for completion\n",
      "\u001b[36m(orchestrate pid=1565489)\u001b[0m 23:56:13 INFO - Completed processing 2 files in 0.164 min\n",
      "\u001b[36m(orchestrate pid=1565489)\u001b[0m 23:56:13 INFO - done flushing in 0.002 sec\n",
      "23:56:23 INFO - Completed execution in 0.595 min, execution result 0\n"
     ]
    },
    {
     "name": "stdout",
     "output_type": "stream",
     "text": [
      "✅ Stage:5 completed successfully\n",
      "CPU times: user 565 ms, sys: 329 ms, total: 893 ms\n",
      "Wall time: 37.1 s\n"
     ]
    }
   ],
   "source": [
    "%%time \n",
    "\n",
    "import os\n",
    "import sys\n",
    "\n",
    "from data_processing.utils import ParamsUtils\n",
    "from fdedup_transform_ray import FdedupRayTransformConfiguration\n",
    "from data_processing_ray.runtime.ray import RayTransformLauncher\n",
    "\n",
    "\n",
    "# create parameters\n",
    "\n",
    "local_conf = {\n",
    "    \"input_folder\": input_folder,\n",
    "    \"output_folder\": output_folder,\n",
    "}\n",
    "worker_options = {\"num_cpus\" : MY_CONFIG.RAY_NUM_CPUS}\n",
    "code_location = {\"github\": \"github\", \"commit_hash\": \"12345\", \"path\": \"path\"}\n",
    "params = {\n",
    "    # where to run\n",
    "    \"run_locally\": True,\n",
    "    # Data access. Only required parameters are specified\n",
    "    \"data_local_config\": ParamsUtils.convert_to_ast(local_conf),\n",
    "    # Orchestration parameters\n",
    "    \"runtime_worker_options\": ParamsUtils.convert_to_ast(worker_options),\n",
    "    \"runtime_num_workers\": MY_CONFIG.RAY_RUNTIME_WORKERS,\n",
    "    # columns used\n",
    "    \"fdedup_doc_column\": \"contents\",\n",
    "    \"fdedup_id_column\": \"chunk_id\",\n",
    "    \"fdedup_cluster_column\": \"chunk_hash\",\n",
    "    # infrastructure\n",
    "    \"fdedup_bucket_cpu\": 0.3,\n",
    "    \"fdedup_doc_cpu\": 0.3,\n",
    "    \"fdedup_mhash_cpu\": 0.3,\n",
    "    \"fdedup_num_doc_actors\": 1,\n",
    "    \"fdedup_num_bucket_actors\": 1,\n",
    "    \"fdedup_num_minhash_actors\": 1,\n",
    "    \"fdedup_num_preprocessors\": 1,\n",
    "    # fuzzy parameters\n",
    "    \"fdedup_num_permutations\": 64,\n",
    "    \"fdedup_threshold\": 0.7, # between 0.0 to 1.0 ; smaller values tend to be more lenient in finding near dupes; close to 1.0 is more strict\n",
    "    \"fdedup_shingles_size\": 5,\n",
    "    \"fdedup_delimiters\": \" \"\n",
    "}\n",
    "\n",
    "# Pass commandline params\n",
    "sys.argv = ParamsUtils.dict_to_req(d=params)\n",
    "\n",
    "# launch\n",
    "\n",
    "launcher = RayTransformLauncher(FdedupRayTransformConfiguration())\n",
    "\n",
    "return_code = launcher.launch()\n",
    "\n",
    "if return_code == 0:\n",
    "    print (f\"✅ Stage:{STAGE} completed successfully\")\n",
    "else:\n",
    "    raise Exception (\"❌ Ray job failed\")"
   ]
  },
  {
   "cell_type": "markdown",
   "id": "a6f8cd11",
   "metadata": {},
   "source": [
    "### 6.3 - Inspect Generated output"
   ]
  },
  {
   "cell_type": "code",
   "execution_count": 18,
   "id": "e899ad60",
   "metadata": {},
   "outputs": [
    {
     "name": "stdout",
     "output_type": "stream",
     "text": [
      "Input data dimensions (rows x columns)=  (16, 18)\n",
      "Output data dimensions (rows x columns)=  (15, 18)\n",
      "Duplicate chunks removed  by fuzzy-dedupe:   1\n"
     ]
    },
    {
     "data": {
      "text/html": [
       "<div>\n",
       "<style scoped>\n",
       "    .dataframe tbody tr th:only-of-type {\n",
       "        vertical-align: middle;\n",
       "    }\n",
       "\n",
       "    .dataframe tbody tr th {\n",
       "        vertical-align: top;\n",
       "    }\n",
       "\n",
       "    .dataframe thead th {\n",
       "        text-align: right;\n",
       "    }\n",
       "</style>\n",
       "<table border=\"1\" class=\"dataframe\">\n",
       "  <thead>\n",
       "    <tr style=\"text-align: right;\">\n",
       "      <th></th>\n",
       "      <th>filename</th>\n",
       "      <th>num_pages</th>\n",
       "      <th>num_tables</th>\n",
       "      <th>num_doc_elements</th>\n",
       "      <th>document_id</th>\n",
       "      <th>ext</th>\n",
       "      <th>hash</th>\n",
       "      <th>size</th>\n",
       "      <th>date_acquired</th>\n",
       "      <th>pdf_convert_time</th>\n",
       "      <th>source_filename</th>\n",
       "      <th>contents</th>\n",
       "      <th>doc_jsonpath</th>\n",
       "      <th>page_number</th>\n",
       "      <th>bbox</th>\n",
       "      <th>chunk_id</th>\n",
       "      <th>removed</th>\n",
       "      <th>chunk_hash</th>\n",
       "    </tr>\n",
       "  </thead>\n",
       "  <tbody>\n",
       "    <tr>\n",
       "      <th>7</th>\n",
       "      <td>monetary20240731a1.pdf</td>\n",
       "      <td>4</td>\n",
       "      <td>0</td>\n",
       "      <td>34</td>\n",
       "      <td>a0e52580-4912-4aac-93d4-4fc015b6aa12</td>\n",
       "      <td>pdf</td>\n",
       "      <td>ae2f7f6b109cf8e6388b507c9f866d7946ca907cab6b5a...</td>\n",
       "      <td>11018</td>\n",
       "      <td>2024-09-18T23:55:42.804866</td>\n",
       "      <td>3.573463</td>\n",
       "      <td>monetary20240731a1.pdf</td>\n",
       "      <td>Decisions Regarding Monetary Policy Implementa...</td>\n",
       "      <td>$.main-text[18]</td>\n",
       "      <td>3</td>\n",
       "      <td>[71.24868011, 620.85113525, 516.75402832, 649....</td>\n",
       "      <td>7</td>\n",
       "      <td>[]</td>\n",
       "      <td>-1</td>\n",
       "    </tr>\n",
       "    <tr>\n",
       "      <th>13</th>\n",
       "      <td>monetary20240918a1.pdf</td>\n",
       "      <td>4</td>\n",
       "      <td>0</td>\n",
       "      <td>33</td>\n",
       "      <td>2967427b-e3cd-45af-b8f2-f5f8c38c495a</td>\n",
       "      <td>pdf</td>\n",
       "      <td>bff09e8a8597537ad482be953a47aa417bd2e693e45e9f...</td>\n",
       "      <td>11056</td>\n",
       "      <td>2024-09-18T23:55:46.442882</td>\n",
       "      <td>3.634502</td>\n",
       "      <td>monetary20240918a1.pdf</td>\n",
       "      <td>FEDERAL RESERVE press release\\nVoting for the ...</td>\n",
       "      <td>$.main-text[11]</td>\n",
       "      <td>2</td>\n",
       "      <td>[71.21774292, 520.26879883, 539.80987549, 640....</td>\n",
       "      <td>16</td>\n",
       "      <td>[]</td>\n",
       "      <td>-1</td>\n",
       "    </tr>\n",
       "    <tr>\n",
       "      <th>12</th>\n",
       "      <td>monetary20240918a1.pdf</td>\n",
       "      <td>4</td>\n",
       "      <td>0</td>\n",
       "      <td>33</td>\n",
       "      <td>2967427b-e3cd-45af-b8f2-f5f8c38c495a</td>\n",
       "      <td>pdf</td>\n",
       "      <td>bff09e8a8597537ad482be953a47aa417bd2e693e45e9f...</td>\n",
       "      <td>11056</td>\n",
       "      <td>2024-09-18T23:55:46.442882</td>\n",
       "      <td>3.634502</td>\n",
       "      <td>monetary20240918a1.pdf</td>\n",
       "      <td>FEDERAL RESERVE press release\\nIn light of the...</td>\n",
       "      <td>$.main-text[5]</td>\n",
       "      <td>1</td>\n",
       "      <td>[71.19850159, 220.41990662, 533.89196777, 393....</td>\n",
       "      <td>13</td>\n",
       "      <td>[]</td>\n",
       "      <td>-1</td>\n",
       "    </tr>\n",
       "  </tbody>\n",
       "</table>\n",
       "</div>"
      ],
      "text/plain": [
       "                  filename  num_pages  num_tables  num_doc_elements  \\\n",
       "7   monetary20240731a1.pdf          4           0                34   \n",
       "13  monetary20240918a1.pdf          4           0                33   \n",
       "12  monetary20240918a1.pdf          4           0                33   \n",
       "\n",
       "                             document_id  ext  \\\n",
       "7   a0e52580-4912-4aac-93d4-4fc015b6aa12  pdf   \n",
       "13  2967427b-e3cd-45af-b8f2-f5f8c38c495a  pdf   \n",
       "12  2967427b-e3cd-45af-b8f2-f5f8c38c495a  pdf   \n",
       "\n",
       "                                                 hash   size  \\\n",
       "7   ae2f7f6b109cf8e6388b507c9f866d7946ca907cab6b5a...  11018   \n",
       "13  bff09e8a8597537ad482be953a47aa417bd2e693e45e9f...  11056   \n",
       "12  bff09e8a8597537ad482be953a47aa417bd2e693e45e9f...  11056   \n",
       "\n",
       "                 date_acquired  pdf_convert_time         source_filename  \\\n",
       "7   2024-09-18T23:55:42.804866          3.573463  monetary20240731a1.pdf   \n",
       "13  2024-09-18T23:55:46.442882          3.634502  monetary20240918a1.pdf   \n",
       "12  2024-09-18T23:55:46.442882          3.634502  monetary20240918a1.pdf   \n",
       "\n",
       "                                             contents     doc_jsonpath  \\\n",
       "7   Decisions Regarding Monetary Policy Implementa...  $.main-text[18]   \n",
       "13  FEDERAL RESERVE press release\\nVoting for the ...  $.main-text[11]   \n",
       "12  FEDERAL RESERVE press release\\nIn light of the...   $.main-text[5]   \n",
       "\n",
       "    page_number                                               bbox  chunk_id  \\\n",
       "7             3  [71.24868011, 620.85113525, 516.75402832, 649....         7   \n",
       "13            2  [71.21774292, 520.26879883, 539.80987549, 640....        16   \n",
       "12            1  [71.19850159, 220.41990662, 533.89196777, 393....        13   \n",
       "\n",
       "   removed  chunk_hash  \n",
       "7       []          -1  \n",
       "13      []          -1  \n",
       "12      []          -1  "
      ]
     },
     "execution_count": 18,
     "metadata": {},
     "output_type": "execute_result"
    }
   ],
   "source": [
    "from utils import read_parquet_files_as_df\n",
    "\n",
    "output_df = read_parquet_files_as_df(output_folder)\n",
    "\n",
    "print (\"Input data dimensions (rows x columns)= \", input_df.shape)\n",
    "print (\"Output data dimensions (rows x columns)= \", output_df.shape)\n",
    "print (\"Duplicate chunks removed  by fuzzy-dedupe:  \", (input_df.shape[0] - output_df.shape[0]))\n",
    "\n",
    "output_df.sample(min(3, output_df.shape[0]))"
   ]
  },
  {
   "cell_type": "markdown",
   "id": "5370950a-2a3a-4143-8218-f9b4808099ba",
   "metadata": {},
   "source": [
    "## Step-7:   Text encoding\n",
    "\n",
    "Encode text for the vector storage."
   ]
  },
  {
   "cell_type": "markdown",
   "id": "74fd33b1",
   "metadata": {},
   "source": [
    "### 7.1 - Set Input/output Folder"
   ]
  },
  {
   "cell_type": "code",
   "execution_count": 19,
   "id": "20a153fa-fd56-401e-86be-4f7617affcc8",
   "metadata": {},
   "outputs": [
    {
     "name": "stdout",
     "output_type": "stream",
     "text": [
      "🏃🏼 STAGE-6: Processing input='output-fomc/05_fuzzy_dedupe_out' --> output='output-fomc/06_embeddings_out'\n"
     ]
    }
   ],
   "source": [
    "STAGE  = 6\n",
    "\n",
    "input_folder = output_fuzzy_dedupe_dir\n",
    "output_folder =  output_embeddings_dir\n",
    "\n",
    "input_df = read_parquet_files_as_df(input_folder)  ## for debug purposes\n",
    "\n",
    "print (f\"🏃🏼 STAGE-{STAGE}: Processing input='{input_folder}' --> output='{output_folder}'\")"
   ]
  },
  {
   "cell_type": "markdown",
   "id": "b9112479",
   "metadata": {},
   "source": [
    "### 7.2 - Execute"
   ]
  },
  {
   "cell_type": "code",
   "execution_count": 20,
   "id": "228df6b2-bc62-494b-9697-03ece98d7853",
   "metadata": {},
   "outputs": [
    {
     "name": "stderr",
     "output_type": "stream",
     "text": [
      "23:56:25 INFO - text_encoder parameters are : {'content_column_name': 'contents', 'output_embeddings_column_name': 'embeddings', 'model_name': 'sentence-transformers/all-MiniLM-L6-v2'}\n",
      "23:56:25 INFO - pipeline id pipeline_id\n",
      "23:56:25 INFO - code location None\n",
      "23:56:25 INFO - data factory data_ is using local data access: input_folder - output-fomc/05_fuzzy_dedupe_out output_folder - output-fomc/06_embeddings_out\n",
      "23:56:25 INFO - data factory data_ max_files -1, n_sample -1\n",
      "23:56:25 INFO - data factory data_ Not using data sets, checkpointing False, max files -1, random samples -1, files to use ['.parquet'], files to checkpoint ['.parquet']\n",
      "23:56:25 INFO - orchestrator text_encoder started at 2024-09-18 23:56:25\n",
      "23:56:25 INFO - Number of files is 2, source profile {'max_file_size': 0.018599510192871094, 'min_file_size': 0.01068878173828125, 'total_file_size': 0.029288291931152344}\n",
      "23:56:28 INFO - Completed 1 files (50.0%) in 0.002 min\n",
      "23:56:28 INFO - Completed 2 files (100.0%) in 0.003 min\n",
      "23:56:28 INFO - Done processing 2 files, waiting for flush() completion.\n",
      "23:56:28 INFO - done flushing in 0.0 sec\n",
      "23:56:28 INFO - Completed execution in 0.044 min, execution result 0\n"
     ]
    },
    {
     "name": "stdout",
     "output_type": "stream",
     "text": [
      "✅ Stage:6 completed successfully\n",
      "CPU times: user 760 ms, sys: 173 ms, total: 932 ms\n",
      "Wall time: 3.15 s\n"
     ]
    }
   ],
   "source": [
    "%%time \n",
    "\n",
    "from text_encoder_transform_python import TextEncoderPythonTransformConfiguration\n",
    "\n",
    "local_conf = {\n",
    "    \"input_folder\": input_folder,\n",
    "    \"output_folder\": output_folder,\n",
    "}\n",
    "params = {\n",
    "    # Data access. Only required parameters are specified\n",
    "    \"data_local_config\": ParamsUtils.convert_to_ast(local_conf),\n",
    "    # text_encoder\n",
    "    \"text_encoder_model_name\": MY_CONFIG.EMBEDDING_MODEL,\n",
    "}\n",
    "\n",
    "sys.argv = ParamsUtils.dict_to_req(d=params)\n",
    "# create launcher\n",
    "launcher = PythonTransformLauncher(TextEncoderPythonTransformConfiguration())\n",
    "# Launch the ray actor(s) to process the input\n",
    "\n",
    "return_code = launcher.launch()\n",
    "\n",
    "if return_code == 0:\n",
    "    print (f\"✅ Stage:{STAGE} completed successfully\")\n",
    "else:\n",
    "    raise Exception (\"❌ Job failed\")"
   ]
  },
  {
   "cell_type": "markdown",
   "id": "b734852c",
   "metadata": {},
   "source": [
    "### 7.3 - Inspect Generated output"
   ]
  },
  {
   "cell_type": "code",
   "execution_count": 21,
   "id": "7b1c1d09",
   "metadata": {},
   "outputs": [
    {
     "name": "stdout",
     "output_type": "stream",
     "text": [
      "Input data dimensions (rows x columns)=  (15, 18)\n",
      "Output data dimensions (rows x columns)=  (15, 19)\n"
     ]
    },
    {
     "data": {
      "text/html": [
       "<div>\n",
       "<style scoped>\n",
       "    .dataframe tbody tr th:only-of-type {\n",
       "        vertical-align: middle;\n",
       "    }\n",
       "\n",
       "    .dataframe tbody tr th {\n",
       "        vertical-align: top;\n",
       "    }\n",
       "\n",
       "    .dataframe thead th {\n",
       "        text-align: right;\n",
       "    }\n",
       "</style>\n",
       "<table border=\"1\" class=\"dataframe\">\n",
       "  <thead>\n",
       "    <tr style=\"text-align: right;\">\n",
       "      <th></th>\n",
       "      <th>filename</th>\n",
       "      <th>num_pages</th>\n",
       "      <th>num_tables</th>\n",
       "      <th>num_doc_elements</th>\n",
       "      <th>document_id</th>\n",
       "      <th>ext</th>\n",
       "      <th>hash</th>\n",
       "      <th>size</th>\n",
       "      <th>date_acquired</th>\n",
       "      <th>pdf_convert_time</th>\n",
       "      <th>source_filename</th>\n",
       "      <th>contents</th>\n",
       "      <th>doc_jsonpath</th>\n",
       "      <th>page_number</th>\n",
       "      <th>bbox</th>\n",
       "      <th>chunk_id</th>\n",
       "      <th>removed</th>\n",
       "      <th>chunk_hash</th>\n",
       "      <th>embeddings</th>\n",
       "    </tr>\n",
       "  </thead>\n",
       "  <tbody>\n",
       "    <tr>\n",
       "      <th>12</th>\n",
       "      <td>monetary20240918a1.pdf</td>\n",
       "      <td>4</td>\n",
       "      <td>0</td>\n",
       "      <td>33</td>\n",
       "      <td>2967427b-e3cd-45af-b8f2-f5f8c38c495a</td>\n",
       "      <td>pdf</td>\n",
       "      <td>bff09e8a8597537ad482be953a47aa417bd2e693e45e9f...</td>\n",
       "      <td>11056</td>\n",
       "      <td>2024-09-18T23:55:46.442882</td>\n",
       "      <td>3.634502</td>\n",
       "      <td>monetary20240918a1.pdf</td>\n",
       "      <td>FEDERAL RESERVE press release\\nIn light of the...</td>\n",
       "      <td>$.main-text[5]</td>\n",
       "      <td>1</td>\n",
       "      <td>[71.19850159, 220.41990662, 533.89196777, 393....</td>\n",
       "      <td>13</td>\n",
       "      <td>[]</td>\n",
       "      <td>-1</td>\n",
       "      <td>[0.08220579, -0.02423102, -0.09095508, 0.06659...</td>\n",
       "    </tr>\n",
       "    <tr>\n",
       "      <th>14</th>\n",
       "      <td>monetary20240918a1.pdf</td>\n",
       "      <td>4</td>\n",
       "      <td>0</td>\n",
       "      <td>33</td>\n",
       "      <td>2967427b-e3cd-45af-b8f2-f5f8c38c495a</td>\n",
       "      <td>pdf</td>\n",
       "      <td>bff09e8a8597537ad482be953a47aa417bd2e693e45e9f...</td>\n",
       "      <td>11056</td>\n",
       "      <td>2024-09-18T23:55:46.442882</td>\n",
       "      <td>3.634502</td>\n",
       "      <td>monetary20240918a1.pdf</td>\n",
       "      <td>Decisions Regarding Monetary Policy Implementa...</td>\n",
       "      <td>$.main-text[18]</td>\n",
       "      <td>3</td>\n",
       "      <td>[71.23934174, 623.85803223, 535.30566406, 651....</td>\n",
       "      <td>18</td>\n",
       "      <td>[]</td>\n",
       "      <td>8</td>\n",
       "      <td>[0.0029574682, -0.009945164, -0.032299336, 0.0...</td>\n",
       "    </tr>\n",
       "    <tr>\n",
       "      <th>7</th>\n",
       "      <td>monetary20240731a1.pdf</td>\n",
       "      <td>4</td>\n",
       "      <td>0</td>\n",
       "      <td>34</td>\n",
       "      <td>a0e52580-4912-4aac-93d4-4fc015b6aa12</td>\n",
       "      <td>pdf</td>\n",
       "      <td>ae2f7f6b109cf8e6388b507c9f866d7946ca907cab6b5a...</td>\n",
       "      <td>11018</td>\n",
       "      <td>2024-09-18T23:55:42.804866</td>\n",
       "      <td>3.573463</td>\n",
       "      <td>monetary20240731a1.pdf</td>\n",
       "      <td>Decisions Regarding Monetary Policy Implementa...</td>\n",
       "      <td>$.main-text[18]</td>\n",
       "      <td>3</td>\n",
       "      <td>[71.24868011, 620.85113525, 516.75402832, 649....</td>\n",
       "      <td>7</td>\n",
       "      <td>[]</td>\n",
       "      <td>-1</td>\n",
       "      <td>[0.035019822, -0.02151688, -0.04607042, 0.0283...</td>\n",
       "    </tr>\n",
       "  </tbody>\n",
       "</table>\n",
       "</div>"
      ],
      "text/plain": [
       "                  filename  num_pages  num_tables  num_doc_elements  \\\n",
       "12  monetary20240918a1.pdf          4           0                33   \n",
       "14  monetary20240918a1.pdf          4           0                33   \n",
       "7   monetary20240731a1.pdf          4           0                34   \n",
       "\n",
       "                             document_id  ext  \\\n",
       "12  2967427b-e3cd-45af-b8f2-f5f8c38c495a  pdf   \n",
       "14  2967427b-e3cd-45af-b8f2-f5f8c38c495a  pdf   \n",
       "7   a0e52580-4912-4aac-93d4-4fc015b6aa12  pdf   \n",
       "\n",
       "                                                 hash   size  \\\n",
       "12  bff09e8a8597537ad482be953a47aa417bd2e693e45e9f...  11056   \n",
       "14  bff09e8a8597537ad482be953a47aa417bd2e693e45e9f...  11056   \n",
       "7   ae2f7f6b109cf8e6388b507c9f866d7946ca907cab6b5a...  11018   \n",
       "\n",
       "                 date_acquired  pdf_convert_time         source_filename  \\\n",
       "12  2024-09-18T23:55:46.442882          3.634502  monetary20240918a1.pdf   \n",
       "14  2024-09-18T23:55:46.442882          3.634502  monetary20240918a1.pdf   \n",
       "7   2024-09-18T23:55:42.804866          3.573463  monetary20240731a1.pdf   \n",
       "\n",
       "                                             contents     doc_jsonpath  \\\n",
       "12  FEDERAL RESERVE press release\\nIn light of the...   $.main-text[5]   \n",
       "14  Decisions Regarding Monetary Policy Implementa...  $.main-text[18]   \n",
       "7   Decisions Regarding Monetary Policy Implementa...  $.main-text[18]   \n",
       "\n",
       "    page_number                                               bbox  chunk_id  \\\n",
       "12            1  [71.19850159, 220.41990662, 533.89196777, 393....        13   \n",
       "14            3  [71.23934174, 623.85803223, 535.30566406, 651....        18   \n",
       "7             3  [71.24868011, 620.85113525, 516.75402832, 649....         7   \n",
       "\n",
       "   removed  chunk_hash                                         embeddings  \n",
       "12      []          -1  [0.08220579, -0.02423102, -0.09095508, 0.06659...  \n",
       "14      []           8  [0.0029574682, -0.009945164, -0.032299336, 0.0...  \n",
       "7       []          -1  [0.035019822, -0.02151688, -0.04607042, 0.0283...  "
      ]
     },
     "execution_count": 21,
     "metadata": {},
     "output_type": "execute_result"
    }
   ],
   "source": [
    "from utils import read_parquet_files_as_df\n",
    "\n",
    "output_df = read_parquet_files_as_df(output_folder)\n",
    "\n",
    "print (\"Input data dimensions (rows x columns)= \", input_df.shape)\n",
    "print (\"Output data dimensions (rows x columns)= \", output_df.shape)\n",
    "\n",
    "output_df.sample(min(3, output_df.shape[0]))"
   ]
  },
  {
   "cell_type": "markdown",
   "id": "f5e12630-be6b-4188-a925-77117155617b",
   "metadata": {},
   "source": [
    "## Step-8: Copy output to final output dir"
   ]
  },
  {
   "cell_type": "code",
   "execution_count": 22,
   "id": "16dee3b8-31dc-4168-8adb-f2a0a0b5e207",
   "metadata": {},
   "outputs": [
    {
     "name": "stdout",
     "output_type": "stream",
     "text": [
      "✅ Copied output from 'output-fomc/06_embeddings_out' --> 'output-fomc/output_final'\n"
     ]
    }
   ],
   "source": [
    "import shutil\n",
    "\n",
    "shutil.rmtree(MY_CONFIG.OUTPUT_FOLDER_FINAL, ignore_errors=True)\n",
    "shutil.copytree(src=output_folder, dst=MY_CONFIG.OUTPUT_FOLDER_FINAL)\n",
    "\n",
    "print (f\"✅ Copied output from '{output_folder}' --> '{MY_CONFIG.OUTPUT_FOLDER_FINAL}'\")"
   ]
  },
  {
   "cell_type": "code",
   "execution_count": null,
   "id": "9ce85f45",
   "metadata": {},
   "outputs": [],
   "source": []
  }
 ],
 "metadata": {
  "kernelspec": {
   "display_name": "Python 3 (ipykernel)",
   "language": "python",
   "name": "python3"
  },
  "language_info": {
   "codemirror_mode": {
    "name": "ipython",
    "version": 3
   },
   "file_extension": ".py",
   "mimetype": "text/x-python",
   "name": "python",
   "nbconvert_exporter": "python",
   "pygments_lexer": "ipython3",
   "version": "3.11.9"
  }
 },
 "nbformat": 4,
 "nbformat_minor": 5
}
