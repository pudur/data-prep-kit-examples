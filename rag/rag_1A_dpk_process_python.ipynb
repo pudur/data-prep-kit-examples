{
 "cells": [
  {
   "cell_type": "markdown",
   "id": "841e533d-ebb3-406d-9da7-b19e2c5f5866",
   "metadata": {},
   "source": [
    "<div style=\"background-color: #04D7FD; padding: 20px; text-align: left;\">\n",
    "    <h1 style=\"color: #000000; font-size: 36px; margin: 0;\">Data Processing for RAG with Data Prep Kit (Python)</h1>\n",
    "    \n",
    "</div>\n"
   ]
  },
  {
   "cell_type": "markdown",
   "id": "b15976e3",
   "metadata": {},
   "source": [
    "## Before Running the notebook\n",
    "\n",
    "Please complete [setting up python dev environment](./setup-python-dev-env.md)"
   ]
  },
  {
   "cell_type": "markdown",
   "id": "053ecf08-5f62-4b99-9347-8a0955843d21",
   "metadata": {},
   "source": [
    "## Overview\n",
    "\n",
    "This notebook will process PDF documents as part of RAG pipeline\n",
    "\n",
    "![](media/rag-overview-2.png)\n",
    "\n",
    "This notebook will perform steps 1, 2 and 3 in RAG pipeline.\n",
    "\n",
    "Here are the processing steps:\n",
    "\n",
    "- **pdf2parquet** : Extract text from PDF and convert them into parquet files\n",
    "- **Chunk documents**: Split the PDFs into 'meaningful sections' (paragraphs, sentences ..etc)\n",
    "- **Doc_ID generation**: Each chunk is assigned a uniq id, based on content and hash\n",
    "- **Exact Dedup**: Chunks with exact same content are filtered out\n",
    "- **Fuzzy Dedup**: Eliminate chunks that are 'very similar' content\n",
    "- **Doc quality**: Scores the documents based on criteria like number of words, if it contains bad words ..etc\n",
    "- **Text encoder**: Convert chunks into vectors using embedding models"
   ]
  },
  {
   "cell_type": "markdown",
   "id": "e8b10be1",
   "metadata": {},
   "source": [
    "## Step-1: Configuration\n",
    "\n",
    "### 1.1 - Basic Config"
   ]
  },
  {
   "cell_type": "code",
   "execution_count": 1,
   "id": "33345487",
   "metadata": {},
   "outputs": [],
   "source": [
    "import os \n",
    "\n",
    "## Configuration\n",
    "class MyConfig:\n",
    "    pass \n",
    "\n",
    "MY_CONFIG = MyConfig ()\n",
    "\n",
    "## Input Data - configure this to the folder we want to process\n",
    "MY_CONFIG.INPUT_DATA_DIR = \"../data/papers\"\n",
    "MY_CONFIG.OUTPUT_FOLDER = \"output\"\n",
    "MY_CONFIG.OUTPUT_FOLDER_FINAL = os.path.join(MY_CONFIG.OUTPUT_FOLDER , \"output_final\")\n",
    "\n",
    "## Embedding model\n",
    "MY_CONFIG.EMBEDDING_MODEL = 'sentence-transformers/all-MiniLM-L6-v2'\n",
    "\n",
    "## RAY CONFIGURATION\n",
    "num_cpus_available =  os.cpu_count()\n",
    "# print (num_cpus_available)\n",
    "# MY_CONFIG.RAY_NUM_CPUS = num_cpus_available // 2  ## use half the available cores for processing\n",
    "MY_CONFIG.RAY_NUM_CPUS =  1\n",
    "# print (MY_CONFIG.RAY_NUM_CPUS)\n",
    "MY_CONFIG.RAY_MEMORY_GB = 2  # GB\n",
    "# MY_CONFIG.RAY_RUNTIME_WORKERS = num_cpus_available // 3\n",
    "MY_CONFIG.RAY_RUNTIME_WORKERS = 2"
   ]
  },
  {
   "cell_type": "markdown",
   "id": "02cc3f0e",
   "metadata": {},
   "source": [
    "### 1.2 - Inspect Input Data\n",
    "\n",
    "We have a bnunch of datasets in [data](../data) folder.  Examine them\n",
    "\n",
    "We will use one of them or feel free to bring your own data."
   ]
  },
  {
   "cell_type": "markdown",
   "id": "72510ae6-48b0-4b88-9e13-a623281c3a63",
   "metadata": {},
   "source": [
    "### 1.3 - Set input/output path variables for the pipeline"
   ]
  },
  {
   "cell_type": "code",
   "execution_count": 2,
   "id": "60ac8bee-0960-4309-b225-d7a211b14262",
   "metadata": {},
   "outputs": [
    {
     "name": "stdout",
     "output_type": "stream",
     "text": [
      "✅ Cleared output directory\n"
     ]
    }
   ],
   "source": [
    "import os, sys\n",
    "import shutil\n",
    "\n",
    "if not os.path.exists(MY_CONFIG.INPUT_DATA_DIR ):\n",
    "    raise Exception (f\"❌ Input folder MY_CONFIG.INPUT_DATA_DIR = '{MY_CONFIG.INPUT_DATA_DIR}' not found\")\n",
    "\n",
    "output_parquet_dir = os.path.join (MY_CONFIG.OUTPUT_FOLDER, '01_parquet_out')\n",
    "output_chunk_dir = os.path.join (MY_CONFIG.OUTPUT_FOLDER, '02_chunk_out')\n",
    "output_docid_dir = os.path.join (MY_CONFIG.OUTPUT_FOLDER, '03_docid_out')\n",
    "output_exact_dedupe_dir = os.path.join (MY_CONFIG.OUTPUT_FOLDER, '04_exact_dedupe_out')\n",
    "output_fuzzy_dedupe_dir = os.path.join (MY_CONFIG.OUTPUT_FOLDER, '05_fuzzy_dedupe_out')\n",
    "output_embeddings_dir = os.path.join (MY_CONFIG.OUTPUT_FOLDER, '06_embeddings_out')\n",
    "\n",
    "## clear output folder\n",
    "shutil.rmtree(MY_CONFIG.OUTPUT_FOLDER, ignore_errors=True)\n",
    "shutil.os.makedirs(MY_CONFIG.OUTPUT_FOLDER, exist_ok=True)\n",
    "\n",
    "print (\"✅ Cleared output directory\")"
   ]
  },
  {
   "cell_type": "markdown",
   "id": "bd5d976e-cb4c-4469-af39-4b7ea507e9d8",
   "metadata": {},
   "source": [
    "### 1.4 -  Import Common python modules"
   ]
  },
  {
   "cell_type": "code",
   "execution_count": 3,
   "id": "66178913-42b8-426b-a2e9-9587268fd05b",
   "metadata": {},
   "outputs": [],
   "source": [
    "import os\n",
    "import sys\n",
    "\n",
    "\n",
    "from data_processing.runtime.pure_python import PythonTransformLauncher\n",
    "from data_processing.utils import ParamsUtils"
   ]
  },
  {
   "cell_type": "markdown",
   "id": "2449e5c7-078c-4ad6-a2f6-21d39d4da3fb",
   "metadata": {},
   "source": [
    "<a id=\"pdf2parquet\"></a>\n",
    "\n",
    "## Step-2: pdf2parquet -  Convert data from PDF to Parquet\n",
    "\n",
    "This step is reading the input folder containing all PDF files and ingest them in a parquet table using the [Docling package](https://github.com/DS4SD/docling).\n",
    "The documents are converted into a JSON format which allows to easily chunk it in the later steps.\n",
    "\n"
   ]
  },
  {
   "cell_type": "markdown",
   "id": "c0c574c4-9dc4-4dab-9ad6-b5338207e67a",
   "metadata": {},
   "source": [
    "### 2.1 -  Set Input/output Folder"
   ]
  },
  {
   "cell_type": "code",
   "execution_count": 4,
   "id": "482605b2-d814-456d-9195-49a2ec454ef0",
   "metadata": {},
   "outputs": [
    {
     "name": "stdout",
     "output_type": "stream",
     "text": [
      "🏃🏼 STAGE-1: Processing input='../data/papers' --> output='output/01_parquet_out'\n"
     ]
    }
   ],
   "source": [
    "STAGE = 1 \n",
    "\n",
    "input_folder = MY_CONFIG.INPUT_DATA_DIR\n",
    "output_folder =  output_parquet_dir\n",
    "\n",
    "print (f\"🏃🏼 STAGE-{STAGE}: Processing input='{input_folder}' --> output='{output_folder}'\")"
   ]
  },
  {
   "cell_type": "markdown",
   "id": "9bb15f02-ab5c-4525-a536-cfa1fd2ba70b",
   "metadata": {},
   "source": [
    "### 2.2 - Execute "
   ]
  },
  {
   "cell_type": "code",
   "execution_count": 5,
   "id": "b0cd8ebd-bf71-42d6-a397-8df0c7b66a26",
   "metadata": {},
   "outputs": [
    {
     "name": "stderr",
     "output_type": "stream",
     "text": [
      "21:54:37 INFO - pdf2parquet parameters are : {'artifacts_path': None, 'contents_type': <pdf2parquet_contents_types.JSON: 'application/json'>, 'do_table_structure': True, 'do_ocr': True, 'double_precision': 8}\n",
      "21:54:37 INFO - pipeline id pipeline_id\n",
      "21:54:37 INFO - code location None\n",
      "21:54:37 INFO - data factory data_ is using local data access: input_folder - ../data/papers output_folder - output/01_parquet_out\n",
      "21:54:37 INFO - data factory data_ max_files -1, n_sample -1\n",
      "21:54:37 INFO - data factory data_ Not using data sets, checkpointing False, max files -1, random samples -1, files to use ['.pdf'], files to checkpoint ['.parquet']\n",
      "21:54:37 INFO - orchestrator pdf2parquet started at 2024-09-18 21:54:37\n",
      "21:54:37 INFO - Number of files is 2, source profile {'max_file_size': 5.398899078369141, 'min_file_size': 2.112621307373047, 'total_file_size': 7.5115203857421875}\n",
      "21:54:37 INFO - Initializing models\n"
     ]
    },
    {
     "data": {
      "application/vnd.jupyter.widget-view+json": {
       "model_id": "c994ff7e58ea44f5b5b8dfa605a6c3fe",
       "version_major": 2,
       "version_minor": 0
      },
      "text/plain": [
       "Fetching 7 files:   0%|          | 0/7 [00:00<?, ?it/s]"
      ]
     },
     "metadata": {},
     "output_type": "display_data"
    },
    {
     "name": "stderr",
     "output_type": "stream",
     "text": [
      "21:55:11 INFO - Completed 1 files (50.0%) in 0.499 min\n",
      "21:55:28 INFO - Completed 2 files (100.0%) in 0.782 min\n",
      "21:55:28 INFO - Done processing 2 files, waiting for flush() completion.\n",
      "21:55:28 INFO - done flushing in 0.0 sec\n",
      "21:55:28 INFO - Completed execution in 0.841 min, execution result 0\n"
     ]
    },
    {
     "name": "stdout",
     "output_type": "stream",
     "text": [
      "✅ Stage:1 completed successfully\n",
      "CPU times: user 1min 52s, sys: 1.43 s, total: 1min 53s\n",
      "Wall time: 53.2 s\n"
     ]
    }
   ],
   "source": [
    "%%time \n",
    "\n",
    "import ast\n",
    "import os\n",
    "import sys\n",
    "\n",
    "from pdf2parquet_transform import (\n",
    "    pdf2parquet_contents_type_cli_param,\n",
    "    pdf2parquet_contents_types,\n",
    ")\n",
    "from pdf2parquet_transform_python import Pdf2ParquetPythonTransformConfiguration\n",
    "\n",
    "from data_processing.utils import GB, ParamsUtils\n",
    "\n",
    "\n",
    "# create parameters\n",
    "local_conf = {\n",
    "    \"input_folder\": input_folder,\n",
    "    \"output_folder\": output_folder,\n",
    "}\n",
    "ingest_config = {\n",
    "    pdf2parquet_contents_type_cli_param: pdf2parquet_contents_types.JSON,\n",
    "}\n",
    "\n",
    "params = {\n",
    "    # Data access. Only required parameters are specified\n",
    "    \"data_local_config\": ParamsUtils.convert_to_ast(local_conf),\n",
    "    \"data_files_to_use\": ast.literal_eval(\"['.pdf']\"),\n",
    "}\n",
    "\n",
    "\n",
    "sys.argv = ParamsUtils.dict_to_req(d=(params | ingest_config))\n",
    "# create launcher\n",
    "launcher = PythonTransformLauncher(Pdf2ParquetPythonTransformConfiguration())\n",
    "# launch\n",
    "return_code = launcher.launch()\n",
    "\n",
    "if return_code == 0:\n",
    "    print (f\"✅ Stage:{STAGE} completed successfully\")\n",
    "else:\n",
    "    raise Exception (\"❌ Job failed\")\n"
   ]
  },
  {
   "cell_type": "markdown",
   "id": "5ca790e0",
   "metadata": {},
   "source": [
    "### 2.3 -  Inspect Generated output\n",
    "\n",
    "Here we should see one entry per input file processed"
   ]
  },
  {
   "cell_type": "code",
   "execution_count": 6,
   "id": "fe59563d",
   "metadata": {},
   "outputs": [
    {
     "name": "stdout",
     "output_type": "stream",
     "text": [
      "Output dimensions (rows x columns)=  (2, 12)\n"
     ]
    },
    {
     "data": {
      "text/html": [
       "<div>\n",
       "<style scoped>\n",
       "    .dataframe tbody tr th:only-of-type {\n",
       "        vertical-align: middle;\n",
       "    }\n",
       "\n",
       "    .dataframe tbody tr th {\n",
       "        vertical-align: top;\n",
       "    }\n",
       "\n",
       "    .dataframe thead th {\n",
       "        text-align: right;\n",
       "    }\n",
       "</style>\n",
       "<table border=\"1\" class=\"dataframe\">\n",
       "  <thead>\n",
       "    <tr style=\"text-align: right;\">\n",
       "      <th></th>\n",
       "      <th>filename</th>\n",
       "      <th>contents</th>\n",
       "      <th>num_pages</th>\n",
       "      <th>num_tables</th>\n",
       "      <th>num_doc_elements</th>\n",
       "      <th>document_id</th>\n",
       "      <th>ext</th>\n",
       "      <th>hash</th>\n",
       "      <th>size</th>\n",
       "      <th>date_acquired</th>\n",
       "      <th>pdf_convert_time</th>\n",
       "      <th>source_filename</th>\n",
       "    </tr>\n",
       "  </thead>\n",
       "  <tbody>\n",
       "    <tr>\n",
       "      <th>0</th>\n",
       "      <td>attention-is-all-you-need.pdf</td>\n",
       "      <td>{\"_name\":\"\",\"type\":\"pdf-document\",\"description...</td>\n",
       "      <td>15</td>\n",
       "      <td>4</td>\n",
       "      <td>193</td>\n",
       "      <td>19f6c470-36a0-4451-addc-788ac4e7ddb8</td>\n",
       "      <td>pdf</td>\n",
       "      <td>414d95bff49753a945e0917d47b840bef75c67bd56af13...</td>\n",
       "      <td>137574</td>\n",
       "      <td>2024-09-18T21:55:28.021651</td>\n",
       "      <td>16.976467</td>\n",
       "      <td>attention-is-all-you-need.pdf</td>\n",
       "    </tr>\n",
       "    <tr>\n",
       "      <th>1</th>\n",
       "      <td>Granite_Foundation_Models.pdf</td>\n",
       "      <td>{\"_name\":\"\",\"type\":\"pdf-document\",\"description...</td>\n",
       "      <td>20</td>\n",
       "      <td>13</td>\n",
       "      <td>444</td>\n",
       "      <td>b93fc398-a714-4a78-a4b0-b4a01b203330</td>\n",
       "      <td>pdf</td>\n",
       "      <td>3fdea13fde26d449edec114b8a7b70c4565673aa90c86b...</td>\n",
       "      <td>394434</td>\n",
       "      <td>2024-09-18T21:55:11.033250</td>\n",
       "      <td>29.943425</td>\n",
       "      <td>Granite_Foundation_Models.pdf</td>\n",
       "    </tr>\n",
       "  </tbody>\n",
       "</table>\n",
       "</div>"
      ],
      "text/plain": [
       "                        filename  \\\n",
       "0  attention-is-all-you-need.pdf   \n",
       "1  Granite_Foundation_Models.pdf   \n",
       "\n",
       "                                            contents  num_pages  num_tables  \\\n",
       "0  {\"_name\":\"\",\"type\":\"pdf-document\",\"description...         15           4   \n",
       "1  {\"_name\":\"\",\"type\":\"pdf-document\",\"description...         20          13   \n",
       "\n",
       "   num_doc_elements                           document_id  ext  \\\n",
       "0               193  19f6c470-36a0-4451-addc-788ac4e7ddb8  pdf   \n",
       "1               444  b93fc398-a714-4a78-a4b0-b4a01b203330  pdf   \n",
       "\n",
       "                                                hash    size  \\\n",
       "0  414d95bff49753a945e0917d47b840bef75c67bd56af13...  137574   \n",
       "1  3fdea13fde26d449edec114b8a7b70c4565673aa90c86b...  394434   \n",
       "\n",
       "                date_acquired  pdf_convert_time                source_filename  \n",
       "0  2024-09-18T21:55:28.021651         16.976467  attention-is-all-you-need.pdf  \n",
       "1  2024-09-18T21:55:11.033250         29.943425  Granite_Foundation_Models.pdf  "
      ]
     },
     "execution_count": 6,
     "metadata": {},
     "output_type": "execute_result"
    }
   ],
   "source": [
    "from utils import read_parquet_files_as_df\n",
    "\n",
    "output_df = read_parquet_files_as_df(output_folder)\n",
    "\n",
    "print (\"Output dimensions (rows x columns)= \", output_df.shape)\n",
    "\n",
    "output_df.head(5)\n",
    "\n",
    "## To display certain columns\n",
    "#parquet_df[['column1', 'column2', 'column3']].head(5)"
   ]
  },
  {
   "cell_type": "markdown",
   "id": "72274586",
   "metadata": {},
   "source": [
    "<a id=\"chunking\"></a>\n",
    "\n",
    "##  Step-3: Doc chunks\n",
    "\n",
    "Split the documents in chunks, according to their layout segmentation."
   ]
  },
  {
   "cell_type": "markdown",
   "id": "96198fa6",
   "metadata": {},
   "source": [
    "### 3.1 - Set Input/output Folder"
   ]
  },
  {
   "cell_type": "code",
   "execution_count": 7,
   "id": "305f00a3",
   "metadata": {},
   "outputs": [
    {
     "name": "stdout",
     "output_type": "stream",
     "text": [
      "🏃🏼 STAGE-2: Processing input='output/01_parquet_out' --> output='output/02_chunk_out'\n"
     ]
    }
   ],
   "source": [
    "STAGE = 2\n",
    "\n",
    "input_folder = output_parquet_dir # previous output folder is the input folder for the current stage\n",
    "output_folder =  output_chunk_dir\n",
    "\n",
    "input_df = read_parquet_files_as_df(input_folder)  ## for debug purposes\n",
    "\n",
    "print (f\"🏃🏼 STAGE-{STAGE}: Processing input='{input_folder}' --> output='{output_folder}'\")"
   ]
  },
  {
   "cell_type": "markdown",
   "id": "369f2cd1",
   "metadata": {},
   "source": [
    "### 3.2 - Execute "
   ]
  },
  {
   "cell_type": "code",
   "execution_count": 8,
   "id": "5b7b18d5",
   "metadata": {},
   "outputs": [
    {
     "name": "stderr",
     "output_type": "stream",
     "text": [
      "21:55:29 INFO - doc_chunk parameters are : {'chunking_type': <chunking_types.DL_JSON: 'dl_json'>, 'content_column_name': 'contents', 'output_chunk_column_name': 'contents', 'output_jsonpath_column_name': 'doc_jsonpath', 'output_pageno_column_name': 'page_number', 'output_bbox_column_name': 'bbox'}\n",
      "21:55:29 INFO - pipeline id pipeline_id\n",
      "21:55:29 INFO - code location None\n",
      "21:55:29 INFO - data factory data_ is using local data access: input_folder - output/01_parquet_out output_folder - output/02_chunk_out\n",
      "21:55:29 INFO - data factory data_ max_files -1, n_sample -1\n",
      "21:55:29 INFO - data factory data_ Not using data sets, checkpointing False, max files -1, random samples -1, files to use ['.parquet'], files to checkpoint ['.parquet']\n",
      "21:55:29 INFO - orchestrator doc_chunk started at 2024-09-18 21:55:29\n",
      "21:55:29 INFO - Number of files is 2, source profile {'max_file_size': 0.0879373550415039, 'min_file_size': 0.03559398651123047, 'total_file_size': 0.12353134155273438}\n",
      "21:55:29 INFO - Completed 1 files (50.0%) in 0.001 min\n",
      "21:55:29 INFO - Completed 2 files (100.0%) in 0.001 min\n",
      "21:55:29 INFO - Done processing 2 files, waiting for flush() completion.\n",
      "21:55:29 INFO - done flushing in 0.0 sec\n",
      "21:55:29 INFO - Completed execution in 0.001 min, execution result 0\n"
     ]
    },
    {
     "name": "stdout",
     "output_type": "stream",
     "text": [
      "✅ Stage:2 completed successfully\n",
      "CPU times: user 965 ms, sys: 114 ms, total: 1.08 s\n",
      "Wall time: 1.09 s\n"
     ]
    }
   ],
   "source": [
    "%%time \n",
    "\n",
    "# Import doc_json_chunk transform configuration\n",
    "from doc_chunk_transform_python import DocChunkPythonTransformConfiguration\n",
    "\n",
    "\n",
    "# Prepare the commandline params\n",
    "local_conf = {\n",
    "    \"input_folder\": input_folder,\n",
    "    \"output_folder\": output_folder,\n",
    "}\n",
    "worker_options = {\"num_cpus\" : MY_CONFIG.RAY_NUM_CPUS}\n",
    "params = {\n",
    "    # Data access. Only required parameters are specified\n",
    "    \"data_local_config\": ParamsUtils.convert_to_ast(local_conf),\n",
    "    # doc_chunk arguments\n",
    "    # ...\n",
    "}\n",
    "\n",
    "# Pass the commandline params\n",
    "sys.argv = ParamsUtils.dict_to_req(d=params)\n",
    "\n",
    "# create launcher\n",
    "launcher = PythonTransformLauncher(DocChunkPythonTransformConfiguration())\n",
    "# launch\n",
    "return_code = launcher.launch()\n",
    "\n",
    "if return_code == 0:\n",
    "    print (f\"✅ Stage:{STAGE} completed successfully\")\n",
    "else:\n",
    "    raise Exception (\"❌ Job failed\")"
   ]
  },
  {
   "cell_type": "markdown",
   "id": "213afdf6",
   "metadata": {},
   "source": [
    "### 3.3 - Inspect Generated output\n",
    "\n",
    "We would see documents are split into many chunks"
   ]
  },
  {
   "cell_type": "code",
   "execution_count": 9,
   "id": "d8138d43",
   "metadata": {},
   "outputs": [
    {
     "name": "stdout",
     "output_type": "stream",
     "text": [
      "Files processed : 2\n",
      "Chunks created : 266\n",
      "Input data dimensions (rows x columns)=  (2, 12)\n",
      "Output data dimensions (rows x columns)=  (266, 15)\n"
     ]
    },
    {
     "data": {
      "text/html": [
       "<div>\n",
       "<style scoped>\n",
       "    .dataframe tbody tr th:only-of-type {\n",
       "        vertical-align: middle;\n",
       "    }\n",
       "\n",
       "    .dataframe tbody tr th {\n",
       "        vertical-align: top;\n",
       "    }\n",
       "\n",
       "    .dataframe thead th {\n",
       "        text-align: right;\n",
       "    }\n",
       "</style>\n",
       "<table border=\"1\" class=\"dataframe\">\n",
       "  <thead>\n",
       "    <tr style=\"text-align: right;\">\n",
       "      <th></th>\n",
       "      <th>filename</th>\n",
       "      <th>num_pages</th>\n",
       "      <th>num_tables</th>\n",
       "      <th>num_doc_elements</th>\n",
       "      <th>document_id</th>\n",
       "      <th>ext</th>\n",
       "      <th>hash</th>\n",
       "      <th>size</th>\n",
       "      <th>date_acquired</th>\n",
       "      <th>pdf_convert_time</th>\n",
       "      <th>source_filename</th>\n",
       "      <th>contents</th>\n",
       "      <th>doc_jsonpath</th>\n",
       "      <th>page_number</th>\n",
       "      <th>bbox</th>\n",
       "    </tr>\n",
       "  </thead>\n",
       "  <tbody>\n",
       "    <tr>\n",
       "      <th>158</th>\n",
       "      <td>Granite_Foundation_Models.pdf</td>\n",
       "      <td>20</td>\n",
       "      <td>13</td>\n",
       "      <td>444</td>\n",
       "      <td>b93fc398-a714-4a78-a4b0-b4a01b203330</td>\n",
       "      <td>pdf</td>\n",
       "      <td>3fdea13fde26d449edec114b8a7b70c4565673aa90c86b...</td>\n",
       "      <td>394434</td>\n",
       "      <td>2024-09-18T21:55:11.033250</td>\n",
       "      <td>29.943425</td>\n",
       "      <td>Granite_Foundation_Models.pdf</td>\n",
       "      <td>A. Foundation Model Evaluation Framework\\n2) I...</td>\n",
       "      <td>$.main-text[158]</td>\n",
       "      <td>7</td>\n",
       "      <td>[48.24153519, 648.87231445, 300.22531128, 707....</td>\n",
       "    </tr>\n",
       "    <tr>\n",
       "      <th>259</th>\n",
       "      <td>Granite_Foundation_Models.pdf</td>\n",
       "      <td>20</td>\n",
       "      <td>13</td>\n",
       "      <td>444</td>\n",
       "      <td>b93fc398-a714-4a78-a4b0-b4a01b203330</td>\n",
       "      <td>pdf</td>\n",
       "      <td>3fdea13fde26d449edec114b8a7b70c4565673aa90c86b...</td>\n",
       "      <td>394434</td>\n",
       "      <td>2024-09-18T21:55:11.033250</td>\n",
       "      <td>29.943425</td>\n",
       "      <td>Granite_Foundation_Models.pdf</td>\n",
       "      <td>JAPANESE FINANCE BENCHMARK EVALUATION RESULTS\\...</td>\n",
       "      <td>$.tables[9]</td>\n",
       "      <td>18</td>\n",
       "      <td>[66.48503876, 285.29275513, 545.31109619, 335....</td>\n",
       "    </tr>\n",
       "    <tr>\n",
       "      <th>19</th>\n",
       "      <td>attention-is-all-you-need.pdf</td>\n",
       "      <td>15</td>\n",
       "      <td>4</td>\n",
       "      <td>193</td>\n",
       "      <td>19f6c470-36a0-4451-addc-788ac4e7ddb8</td>\n",
       "      <td>pdf</td>\n",
       "      <td>414d95bff49753a945e0917d47b840bef75c67bd56af13...</td>\n",
       "      <td>137574</td>\n",
       "      <td>2024-09-18T21:55:28.021651</td>\n",
       "      <td>16.976467</td>\n",
       "      <td>attention-is-all-you-need.pdf</td>\n",
       "      <td>3 Model Architecture\\nThe Transformer follows ...</td>\n",
       "      <td>$.main-text[32]</td>\n",
       "      <td>3</td>\n",
       "      <td>[106.86346436, 323.58956909, 505.24719238, 354...</td>\n",
       "    </tr>\n",
       "  </tbody>\n",
       "</table>\n",
       "</div>"
      ],
      "text/plain": [
       "                          filename  num_pages  num_tables  num_doc_elements  \\\n",
       "158  Granite_Foundation_Models.pdf         20          13               444   \n",
       "259  Granite_Foundation_Models.pdf         20          13               444   \n",
       "19   attention-is-all-you-need.pdf         15           4               193   \n",
       "\n",
       "                              document_id  ext  \\\n",
       "158  b93fc398-a714-4a78-a4b0-b4a01b203330  pdf   \n",
       "259  b93fc398-a714-4a78-a4b0-b4a01b203330  pdf   \n",
       "19   19f6c470-36a0-4451-addc-788ac4e7ddb8  pdf   \n",
       "\n",
       "                                                  hash    size  \\\n",
       "158  3fdea13fde26d449edec114b8a7b70c4565673aa90c86b...  394434   \n",
       "259  3fdea13fde26d449edec114b8a7b70c4565673aa90c86b...  394434   \n",
       "19   414d95bff49753a945e0917d47b840bef75c67bd56af13...  137574   \n",
       "\n",
       "                  date_acquired  pdf_convert_time  \\\n",
       "158  2024-09-18T21:55:11.033250         29.943425   \n",
       "259  2024-09-18T21:55:11.033250         29.943425   \n",
       "19   2024-09-18T21:55:28.021651         16.976467   \n",
       "\n",
       "                   source_filename  \\\n",
       "158  Granite_Foundation_Models.pdf   \n",
       "259  Granite_Foundation_Models.pdf   \n",
       "19   attention-is-all-you-need.pdf   \n",
       "\n",
       "                                              contents      doc_jsonpath  \\\n",
       "158  A. Foundation Model Evaluation Framework\\n2) I...  $.main-text[158]   \n",
       "259  JAPANESE FINANCE BENCHMARK EVALUATION RESULTS\\...       $.tables[9]   \n",
       "19   3 Model Architecture\\nThe Transformer follows ...   $.main-text[32]   \n",
       "\n",
       "     page_number                                               bbox  \n",
       "158            7  [48.24153519, 648.87231445, 300.22531128, 707....  \n",
       "259           18  [66.48503876, 285.29275513, 545.31109619, 335....  \n",
       "19             3  [106.86346436, 323.58956909, 505.24719238, 354...  "
      ]
     },
     "execution_count": 9,
     "metadata": {},
     "output_type": "execute_result"
    }
   ],
   "source": [
    "from utils import read_parquet_files_as_df\n",
    "\n",
    "output_df = read_parquet_files_as_df(output_folder)\n",
    "\n",
    "print (f\"Files processed : {input_df.shape[0]:,}\")\n",
    "print (f\"Chunks created : {output_df.shape[0]:,}\")\n",
    "\n",
    "print (\"Input data dimensions (rows x columns)= \", input_df.shape)\n",
    "print (\"Output data dimensions (rows x columns)= \", output_df.shape)\n",
    "\n",
    "output_df.sample(min(3, output_df.shape[0]))"
   ]
  },
  {
   "cell_type": "markdown",
   "id": "ece021fd",
   "metadata": {},
   "source": [
    "## Step-4:  DOC ID generation\n",
    "\n",
    "This transform annotates documents with document \"ids\". It supports the following transformations of the original data:\n",
    "\n",
    " - Adding document hash: this enables the addition of a document hash-based id to the data. The hash is calculated with `hashlib.sha256(doc.encode(\"utf-8\")).hexdigest()`. To enable this annotation, set hash_column to the name of the column, where you want to store it.\n",
    " - Adding integer document id: this allows the addition of an integer document id to the data that is unique across all rows in all tables provided to the transform() method. To enable this annotation, set int_id_column to the name of the column, where you want to store it. **This is a pre-requisite for fuzzy dedup** in the pipeline."
   ]
  },
  {
   "cell_type": "markdown",
   "id": "e414c12c",
   "metadata": {},
   "source": [
    "### 4.1 - Set Input/output Folder"
   ]
  },
  {
   "cell_type": "code",
   "execution_count": 10,
   "id": "10251d3d",
   "metadata": {},
   "outputs": [
    {
     "name": "stdout",
     "output_type": "stream",
     "text": [
      "🏃🏼 STAGE-3: Processing input='output/02_chunk_out' --> output='output/03_docid_out'\n"
     ]
    }
   ],
   "source": [
    "\n",
    "STAGE  = 3\n",
    "\n",
    "input_folder = output_chunk_dir # previous output folder is the input folder for the current stage\n",
    "output_folder =  output_docid_dir\n",
    "\n",
    "input_df = read_parquet_files_as_df(input_folder)  ## for debug purposes\n",
    "\n",
    "print (f\"🏃🏼 STAGE-{STAGE}: Processing input='{input_folder}' --> output='{output_folder}'\")"
   ]
  },
  {
   "cell_type": "markdown",
   "id": "0f312347",
   "metadata": {},
   "source": [
    "### 4.2 - Execute "
   ]
  },
  {
   "cell_type": "code",
   "execution_count": 11,
   "id": "a8b76a71",
   "metadata": {},
   "outputs": [
    {
     "name": "stderr",
     "output_type": "stream",
     "text": [
      "21:55:29 INFO - Doc id parameters are : {'doc_column': 'contents', 'hash_column': 'chunk_hash', 'int_column': 'chunk_id', 'start_id': 0}\n",
      "21:55:29 INFO - pipeline id pipeline_id\n",
      "21:55:29 INFO - code location None\n",
      "21:55:29 INFO - data factory data_ is using local data access: input_folder - output/02_chunk_out output_folder - output/03_docid_out\n",
      "21:55:29 INFO - data factory data_ max_files -1, n_sample -1\n",
      "21:55:29 INFO - data factory data_ Not using data sets, checkpointing False, max files -1, random samples -1, files to use ['.parquet'], files to checkpoint ['.parquet']\n",
      "21:55:29 INFO - orchestrator doc_id started at 2024-09-18 21:55:29\n",
      "21:55:29 INFO - Number of files is 2, source profile {'max_file_size': 0.04591846466064453, 'min_file_size': 0.024618148803710938, 'total_file_size': 0.07053661346435547}\n",
      "21:55:29 INFO - Completed 1 files (50.0%) in 0.0 min\n",
      "21:55:29 INFO - Completed 2 files (100.0%) in 0.0 min\n",
      "21:55:29 INFO - Done processing 2 files, waiting for flush() completion.\n",
      "21:55:29 INFO - done flushing in 0.0 sec\n",
      "21:55:29 INFO - Completed execution in 0.0 min, execution result 0\n"
     ]
    },
    {
     "name": "stdout",
     "output_type": "stream",
     "text": [
      "✅ Stage:3 completed successfully\n",
      "CPU times: user 15 ms, sys: 2.02 ms, total: 17 ms\n",
      "Wall time: 13.8 ms\n"
     ]
    }
   ],
   "source": [
    "%%time \n",
    "\n",
    "from doc_id_transform_python import DocIDPythonTransformRuntimeConfiguration\n",
    "local_conf = {\n",
    "    \"input_folder\": input_folder,\n",
    "    \"output_folder\": output_folder,\n",
    "}\n",
    "params = {\n",
    "    # Data access. Only required parameters are specified\n",
    "    \"data_local_config\": ParamsUtils.convert_to_ast(local_conf),\n",
    "    # doc id configuration\n",
    "    \"doc_id_doc_column\": \"contents\",\n",
    "    \"doc_id_hash_column\": \"chunk_hash\",\n",
    "    \"doc_id_int_column\": \"chunk_id\",\n",
    "}\n",
    "sys.argv = ParamsUtils.dict_to_req(d=params)\n",
    "\n",
    "# launch\n",
    "\n",
    "launcher = PythonTransformLauncher(DocIDPythonTransformRuntimeConfiguration())\n",
    "\n",
    "return_code = launcher.launch()\n",
    "\n",
    "if return_code == 0:\n",
    "    print (f\"✅ Stage:{STAGE} completed successfully\")\n",
    "else:\n",
    "    raise Exception (\"❌ Ray job failed\")"
   ]
  },
  {
   "cell_type": "markdown",
   "id": "8c23338b",
   "metadata": {},
   "source": [
    "### 4.3 - Inspect Generated output"
   ]
  },
  {
   "cell_type": "code",
   "execution_count": 12,
   "id": "ec23aa3a",
   "metadata": {},
   "outputs": [
    {
     "name": "stdout",
     "output_type": "stream",
     "text": [
      "Input data dimensions (rows x columns)=  (266, 15)\n",
      "Output data dimensions (rows x columns)=  (266, 17)\n"
     ]
    },
    {
     "data": {
      "text/html": [
       "<div>\n",
       "<style scoped>\n",
       "    .dataframe tbody tr th:only-of-type {\n",
       "        vertical-align: middle;\n",
       "    }\n",
       "\n",
       "    .dataframe tbody tr th {\n",
       "        vertical-align: top;\n",
       "    }\n",
       "\n",
       "    .dataframe thead th {\n",
       "        text-align: right;\n",
       "    }\n",
       "</style>\n",
       "<table border=\"1\" class=\"dataframe\">\n",
       "  <thead>\n",
       "    <tr style=\"text-align: right;\">\n",
       "      <th></th>\n",
       "      <th>filename</th>\n",
       "      <th>num_pages</th>\n",
       "      <th>num_tables</th>\n",
       "      <th>num_doc_elements</th>\n",
       "      <th>document_id</th>\n",
       "      <th>ext</th>\n",
       "      <th>hash</th>\n",
       "      <th>size</th>\n",
       "      <th>date_acquired</th>\n",
       "      <th>pdf_convert_time</th>\n",
       "      <th>source_filename</th>\n",
       "      <th>contents</th>\n",
       "      <th>doc_jsonpath</th>\n",
       "      <th>page_number</th>\n",
       "      <th>bbox</th>\n",
       "      <th>chunk_hash</th>\n",
       "      <th>chunk_id</th>\n",
       "    </tr>\n",
       "  </thead>\n",
       "  <tbody>\n",
       "    <tr>\n",
       "      <th>79</th>\n",
       "      <td>attention-is-all-you-need.pdf</td>\n",
       "      <td>15</td>\n",
       "      <td>4</td>\n",
       "      <td>193</td>\n",
       "      <td>19f6c470-36a0-4451-addc-788ac4e7ddb8</td>\n",
       "      <td>pdf</td>\n",
       "      <td>414d95bff49753a945e0917d47b840bef75c67bd56af13...</td>\n",
       "      <td>137574</td>\n",
       "      <td>2024-09-18T21:55:28.021651</td>\n",
       "      <td>16.976467</td>\n",
       "      <td>attention-is-all-you-need.pdf</td>\n",
       "      <td>7 Conclusion\\nIn this work, we presented the T...</td>\n",
       "      <td>$.main-text[131]</td>\n",
       "      <td>10</td>\n",
       "      <td>[107.62519836, 371.36807251, 504.08255005, 402...</td>\n",
       "      <td>5c2480ff983f40a73dfc6da56793ee498042ec8a000a4f...</td>\n",
       "      <td>257</td>\n",
       "    </tr>\n",
       "    <tr>\n",
       "      <th>82</th>\n",
       "      <td>attention-is-all-you-need.pdf</td>\n",
       "      <td>15</td>\n",
       "      <td>4</td>\n",
       "      <td>193</td>\n",
       "      <td>19f6c470-36a0-4451-addc-788ac4e7ddb8</td>\n",
       "      <td>pdf</td>\n",
       "      <td>414d95bff49753a945e0917d47b840bef75c67bd56af13...</td>\n",
       "      <td>137574</td>\n",
       "      <td>2024-09-18T21:55:28.021651</td>\n",
       "      <td>16.976467</td>\n",
       "      <td>attention-is-all-you-need.pdf</td>\n",
       "      <td>7 Conclusion\\nThe code we used to train and ev...</td>\n",
       "      <td>$.main-text[134]</td>\n",
       "      <td>10</td>\n",
       "      <td>[107.08765411, 245.77929688, 505.05099487, 266...</td>\n",
       "      <td>d5f76800c895c554018a4bfe8751e6313993661fe0cf53...</td>\n",
       "      <td>260</td>\n",
       "    </tr>\n",
       "    <tr>\n",
       "      <th>88</th>\n",
       "      <td>Granite_Foundation_Models.pdf</td>\n",
       "      <td>20</td>\n",
       "      <td>13</td>\n",
       "      <td>444</td>\n",
       "      <td>b93fc398-a714-4a78-a4b0-b4a01b203330</td>\n",
       "      <td>pdf</td>\n",
       "      <td>3fdea13fde26d449edec114b8a7b70c4565673aa90c86b...</td>\n",
       "      <td>394434</td>\n",
       "      <td>2024-09-18T21:55:11.033250</td>\n",
       "      <td>29.943425</td>\n",
       "      <td>Granite_Foundation_Models.pdf</td>\n",
       "      <td>Granite Foundation Models\\nAbstract -We introd...</td>\n",
       "      <td>$.main-text[2]</td>\n",
       "      <td>1</td>\n",
       "      <td>[47.95682526, 581.7409668, 300.33987427, 650.7...</td>\n",
       "      <td>6b38b1bb18656824905a09dddf5c2be704196a006daaaf...</td>\n",
       "      <td>0</td>\n",
       "    </tr>\n",
       "  </tbody>\n",
       "</table>\n",
       "</div>"
      ],
      "text/plain": [
       "                         filename  num_pages  num_tables  num_doc_elements  \\\n",
       "79  attention-is-all-you-need.pdf         15           4               193   \n",
       "82  attention-is-all-you-need.pdf         15           4               193   \n",
       "88  Granite_Foundation_Models.pdf         20          13               444   \n",
       "\n",
       "                             document_id  ext  \\\n",
       "79  19f6c470-36a0-4451-addc-788ac4e7ddb8  pdf   \n",
       "82  19f6c470-36a0-4451-addc-788ac4e7ddb8  pdf   \n",
       "88  b93fc398-a714-4a78-a4b0-b4a01b203330  pdf   \n",
       "\n",
       "                                                 hash    size  \\\n",
       "79  414d95bff49753a945e0917d47b840bef75c67bd56af13...  137574   \n",
       "82  414d95bff49753a945e0917d47b840bef75c67bd56af13...  137574   \n",
       "88  3fdea13fde26d449edec114b8a7b70c4565673aa90c86b...  394434   \n",
       "\n",
       "                 date_acquired  pdf_convert_time  \\\n",
       "79  2024-09-18T21:55:28.021651         16.976467   \n",
       "82  2024-09-18T21:55:28.021651         16.976467   \n",
       "88  2024-09-18T21:55:11.033250         29.943425   \n",
       "\n",
       "                  source_filename  \\\n",
       "79  attention-is-all-you-need.pdf   \n",
       "82  attention-is-all-you-need.pdf   \n",
       "88  Granite_Foundation_Models.pdf   \n",
       "\n",
       "                                             contents      doc_jsonpath  \\\n",
       "79  7 Conclusion\\nIn this work, we presented the T...  $.main-text[131]   \n",
       "82  7 Conclusion\\nThe code we used to train and ev...  $.main-text[134]   \n",
       "88  Granite Foundation Models\\nAbstract -We introd...    $.main-text[2]   \n",
       "\n",
       "    page_number                                               bbox  \\\n",
       "79           10  [107.62519836, 371.36807251, 504.08255005, 402...   \n",
       "82           10  [107.08765411, 245.77929688, 505.05099487, 266...   \n",
       "88            1  [47.95682526, 581.7409668, 300.33987427, 650.7...   \n",
       "\n",
       "                                           chunk_hash  chunk_id  \n",
       "79  5c2480ff983f40a73dfc6da56793ee498042ec8a000a4f...       257  \n",
       "82  d5f76800c895c554018a4bfe8751e6313993661fe0cf53...       260  \n",
       "88  6b38b1bb18656824905a09dddf5c2be704196a006daaaf...         0  "
      ]
     },
     "execution_count": 12,
     "metadata": {},
     "output_type": "execute_result"
    }
   ],
   "source": [
    "from utils import read_parquet_files_as_df\n",
    "\n",
    "output_df = read_parquet_files_as_df(output_folder)\n",
    "\n",
    "print (\"Input data dimensions (rows x columns)= \", input_df.shape)\n",
    "print (\"Output data dimensions (rows x columns)= \", output_df.shape)\n",
    "\n",
    "output_df.sample(min(3, output_df.shape[0]))"
   ]
  },
  {
   "cell_type": "markdown",
   "id": "4692975c-49ff-41ae-810e-0f5bc0bbdc53",
   "metadata": {},
   "source": [
    "## Step-5: Exact Dedup\n",
    "\n",
    "Remove documents having identical code to remove bias in the training data. On the content of each document, a SHA256 hash is computed,\n",
    "followed by de-duplication of record having identical hashes."
   ]
  },
  {
   "cell_type": "markdown",
   "id": "5acfd3a2-a236-4143-bcfc-15804f1da7fe",
   "metadata": {},
   "source": [
    "### 5.1 - Set Input/output Folder"
   ]
  },
  {
   "cell_type": "code",
   "execution_count": 13,
   "id": "4c7a1b94",
   "metadata": {},
   "outputs": [
    {
     "name": "stdout",
     "output_type": "stream",
     "text": [
      "🏃🏼 STAGE-4: Processing input='output/03_docid_out' --> output='output/04_exact_dedupe_out'\n"
     ]
    }
   ],
   "source": [
    "STAGE  = 4\n",
    "\n",
    "input_folder = output_docid_dir # previous output folder is the input folder for the current stage\n",
    "output_folder =  output_exact_dedupe_dir\n",
    "\n",
    "input_df = read_parquet_files_as_df(input_folder)  ## for debug purposes\n",
    "\n",
    "print (f\"🏃🏼 STAGE-{STAGE}: Processing input='{input_folder}' --> output='{output_folder}'\")"
   ]
  },
  {
   "cell_type": "markdown",
   "id": "3661cb37-39c7-4b09-a784-925bfa9eaf1e",
   "metadata": {},
   "source": [
    "### 5.2 - Execute "
   ]
  },
  {
   "cell_type": "code",
   "execution_count": 14,
   "id": "a624b2b2-faad-4325-ac7d-53a840f564ef",
   "metadata": {},
   "outputs": [
    {
     "name": "stderr",
     "output_type": "stream",
     "text": [
      "21:55:29 INFO - exact dedup params are {'doc_column': 'contents', 'doc_id_column': 'chunk_hash', 'use_snapshot': False, 'snapshot_directory': None}\n",
      "21:55:29 INFO - pipeline id pipeline_id\n",
      "21:55:29 INFO - code location None\n",
      "21:55:29 INFO - data factory data_ is using local data access: input_folder - output/03_docid_out output_folder - output/04_exact_dedupe_out\n",
      "21:55:29 INFO - data factory data_ max_files -1, n_sample -1\n",
      "21:55:29 INFO - data factory data_ Not using data sets, checkpointing False, max files -1, random samples -1, files to use ['.parquet'], files to checkpoint ['.parquet']\n",
      "21:55:29 INFO - orchestrator ededup started at 2024-09-18 21:55:29\n",
      "21:55:29 INFO - Number of files is 2, source profile {'max_file_size': 0.053391456604003906, 'min_file_size': 0.02887439727783203, 'total_file_size': 0.08226585388183594}\n",
      "21:55:29 INFO - Starting from the beginning\n",
      "21:55:29 INFO - Completed 1 files (50.0%) in 0.0 min\n",
      "21:55:29 INFO - Completed 2 files (100.0%) in 0.0 min\n",
      "21:55:29 INFO - Done processing 2 files, waiting for flush() completion.\n",
      "21:55:29 INFO - done flushing in 0.0 sec\n",
      "21:55:29 INFO - Completed execution in 0.0 min, execution result 0\n"
     ]
    },
    {
     "name": "stdout",
     "output_type": "stream",
     "text": [
      "✅ Stage:4 completed successfully\n",
      "CPU times: user 24.5 ms, sys: 2.05 ms, total: 26.5 ms\n",
      "Wall time: 22.8 ms\n"
     ]
    }
   ],
   "source": [
    "%%time\n",
    "\n",
    "# Import ededup transform configuration\n",
    "from ededup_transform_python import EdedupPythonTransformRuntimeConfiguration\n",
    "\n",
    "\n",
    "# Prepare the commandline params\n",
    "local_conf = {\n",
    "    \"input_folder\": input_folder,\n",
    "    \"output_folder\": output_folder,\n",
    "}\n",
    "params = {\n",
    "    # Data access. Only required parameters are specified\n",
    "    \"data_local_config\": ParamsUtils.convert_to_ast(local_conf),\n",
    "    # ededup parameters\n",
    "    \"ededup_doc_column\": \"contents\",\n",
    "    \"ededup_doc_id_column\": \"chunk_hash\",\n",
    "    \n",
    "}\n",
    "\n",
    "# Pass the commandline params\n",
    "sys.argv = ParamsUtils.dict_to_req(d=params)\n",
    "\n",
    "# create launcher\n",
    "launcher = PythonTransformLauncher(EdedupPythonTransformRuntimeConfiguration())\n",
    "# launch\n",
    "return_code = launcher.launch()\n",
    "\n",
    "if return_code == 0:\n",
    "    print (f\"✅ Stage:{STAGE} completed successfully\")\n",
    "else:\n",
    "    raise Exception (\"❌ Ray job failed\")"
   ]
  },
  {
   "cell_type": "markdown",
   "id": "eaf1c3c3",
   "metadata": {},
   "source": [
    "### 5.3 - Inspect Generated output"
   ]
  },
  {
   "cell_type": "code",
   "execution_count": 15,
   "id": "d824ebf6",
   "metadata": {},
   "outputs": [
    {
     "name": "stdout",
     "output_type": "stream",
     "text": [
      "Input data dimensions (rows x columns)=  (266, 17)\n",
      "Output data dimensions (rows x columns)=  (266, 18)\n",
      "Input chunks before exact dedupe : 266\n",
      "Output chunks after exact dedupe : 266\n",
      "Duplicate chunks removed :   0\n"
     ]
    },
    {
     "data": {
      "text/html": [
       "<div>\n",
       "<style scoped>\n",
       "    .dataframe tbody tr th:only-of-type {\n",
       "        vertical-align: middle;\n",
       "    }\n",
       "\n",
       "    .dataframe tbody tr th {\n",
       "        vertical-align: top;\n",
       "    }\n",
       "\n",
       "    .dataframe thead th {\n",
       "        text-align: right;\n",
       "    }\n",
       "</style>\n",
       "<table border=\"1\" class=\"dataframe\">\n",
       "  <thead>\n",
       "    <tr style=\"text-align: right;\">\n",
       "      <th></th>\n",
       "      <th>filename</th>\n",
       "      <th>num_pages</th>\n",
       "      <th>num_tables</th>\n",
       "      <th>num_doc_elements</th>\n",
       "      <th>document_id</th>\n",
       "      <th>ext</th>\n",
       "      <th>hash</th>\n",
       "      <th>size</th>\n",
       "      <th>date_acquired</th>\n",
       "      <th>pdf_convert_time</th>\n",
       "      <th>source_filename</th>\n",
       "      <th>contents</th>\n",
       "      <th>doc_jsonpath</th>\n",
       "      <th>page_number</th>\n",
       "      <th>bbox</th>\n",
       "      <th>chunk_hash</th>\n",
       "      <th>chunk_id</th>\n",
       "      <th>removed</th>\n",
       "    </tr>\n",
       "  </thead>\n",
       "  <tbody>\n",
       "    <tr>\n",
       "      <th>5</th>\n",
       "      <td>attention-is-all-you-need.pdf</td>\n",
       "      <td>15</td>\n",
       "      <td>4</td>\n",
       "      <td>193</td>\n",
       "      <td>19f6c470-36a0-4451-addc-788ac4e7ddb8</td>\n",
       "      <td>pdf</td>\n",
       "      <td>414d95bff49753a945e0917d47b840bef75c67bd56af13...</td>\n",
       "      <td>137574</td>\n",
       "      <td>2024-09-18T21:55:28.021651</td>\n",
       "      <td>16.976467</td>\n",
       "      <td>attention-is-all-you-need.pdf</td>\n",
       "      <td>Attention Is All You Need\\nAidan N. Gomez ∗ † ...</td>\n",
       "      <td>$.main-text[8]</td>\n",
       "      <td>1</td>\n",
       "      <td>[234.82455444, 475.27728271, 339.99435425, 508...</td>\n",
       "      <td>3bdf2978bed016a6996cf37ffdd1fb96248cac96fccf70...</td>\n",
       "      <td>183</td>\n",
       "      <td>[]</td>\n",
       "    </tr>\n",
       "    <tr>\n",
       "      <th>87</th>\n",
       "      <td>attention-is-all-you-need.pdf</td>\n",
       "      <td>15</td>\n",
       "      <td>4</td>\n",
       "      <td>193</td>\n",
       "      <td>19f6c470-36a0-4451-addc-788ac4e7ddb8</td>\n",
       "      <td>pdf</td>\n",
       "      <td>414d95bff49753a945e0917d47b840bef75c67bd56af13...</td>\n",
       "      <td>137574</td>\n",
       "      <td>2024-09-18T21:55:28.021651</td>\n",
       "      <td>16.976467</td>\n",
       "      <td>attention-is-all-you-need.pdf</td>\n",
       "      <td>Attention Visualizations Input-Input Layer5\\nF...</td>\n",
       "      <td>$.main-text[190]</td>\n",
       "      <td>15</td>\n",
       "      <td>[107.43354034, 157.36341858, 504.06988525, 189...</td>\n",
       "      <td>67626adb815bf2b27871df24d538ddc10ae68a3fbbd238...</td>\n",
       "      <td>265</td>\n",
       "      <td>[]</td>\n",
       "    </tr>\n",
       "    <tr>\n",
       "      <th>194</th>\n",
       "      <td>Granite_Foundation_Models.pdf</td>\n",
       "      <td>20</td>\n",
       "      <td>13</td>\n",
       "      <td>444</td>\n",
       "      <td>b93fc398-a714-4a78-a4b0-b4a01b203330</td>\n",
       "      <td>pdf</td>\n",
       "      <td>3fdea13fde26d449edec114b8a7b70c4565673aa90c86b...</td>\n",
       "      <td>394434</td>\n",
       "      <td>2024-09-18T21:55:11.033250</td>\n",
       "      <td>29.943425</td>\n",
       "      <td>Granite_Foundation_Models.pdf</td>\n",
       "      <td>B. Granite Model Evaluation and Comparison\\nmp...</td>\n",
       "      <td>$.tables[3]</td>\n",
       "      <td>10</td>\n",
       "      <td>[87.39694214, 407.41442871, 261.10140991, 477....</td>\n",
       "      <td>3b19639d275e79607b82eb2ddd7b7a4b0db0c20760fd85...</td>\n",
       "      <td>106</td>\n",
       "      <td>[]</td>\n",
       "    </tr>\n",
       "  </tbody>\n",
       "</table>\n",
       "</div>"
      ],
      "text/plain": [
       "                          filename  num_pages  num_tables  num_doc_elements  \\\n",
       "5    attention-is-all-you-need.pdf         15           4               193   \n",
       "87   attention-is-all-you-need.pdf         15           4               193   \n",
       "194  Granite_Foundation_Models.pdf         20          13               444   \n",
       "\n",
       "                              document_id  ext  \\\n",
       "5    19f6c470-36a0-4451-addc-788ac4e7ddb8  pdf   \n",
       "87   19f6c470-36a0-4451-addc-788ac4e7ddb8  pdf   \n",
       "194  b93fc398-a714-4a78-a4b0-b4a01b203330  pdf   \n",
       "\n",
       "                                                  hash    size  \\\n",
       "5    414d95bff49753a945e0917d47b840bef75c67bd56af13...  137574   \n",
       "87   414d95bff49753a945e0917d47b840bef75c67bd56af13...  137574   \n",
       "194  3fdea13fde26d449edec114b8a7b70c4565673aa90c86b...  394434   \n",
       "\n",
       "                  date_acquired  pdf_convert_time  \\\n",
       "5    2024-09-18T21:55:28.021651         16.976467   \n",
       "87   2024-09-18T21:55:28.021651         16.976467   \n",
       "194  2024-09-18T21:55:11.033250         29.943425   \n",
       "\n",
       "                   source_filename  \\\n",
       "5    attention-is-all-you-need.pdf   \n",
       "87   attention-is-all-you-need.pdf   \n",
       "194  Granite_Foundation_Models.pdf   \n",
       "\n",
       "                                              contents      doc_jsonpath  \\\n",
       "5    Attention Is All You Need\\nAidan N. Gomez ∗ † ...    $.main-text[8]   \n",
       "87   Attention Visualizations Input-Input Layer5\\nF...  $.main-text[190]   \n",
       "194  B. Granite Model Evaluation and Comparison\\nmp...       $.tables[3]   \n",
       "\n",
       "     page_number                                               bbox  \\\n",
       "5              1  [234.82455444, 475.27728271, 339.99435425, 508...   \n",
       "87            15  [107.43354034, 157.36341858, 504.06988525, 189...   \n",
       "194           10  [87.39694214, 407.41442871, 261.10140991, 477....   \n",
       "\n",
       "                                            chunk_hash  chunk_id removed  \n",
       "5    3bdf2978bed016a6996cf37ffdd1fb96248cac96fccf70...       183      []  \n",
       "87   67626adb815bf2b27871df24d538ddc10ae68a3fbbd238...       265      []  \n",
       "194  3b19639d275e79607b82eb2ddd7b7a4b0db0c20760fd85...       106      []  "
      ]
     },
     "execution_count": 15,
     "metadata": {},
     "output_type": "execute_result"
    }
   ],
   "source": [
    "from utils import read_parquet_files_as_df\n",
    "\n",
    "output_df = read_parquet_files_as_df(output_folder)\n",
    "\n",
    "print (\"Input data dimensions (rows x columns)= \", input_df.shape)\n",
    "print (\"Output data dimensions (rows x columns)= \", output_df.shape)\n",
    "print (f\"Input chunks before exact dedupe : {input_df.shape[0]:,}\")\n",
    "print (f\"Output chunks after exact dedupe : {output_df.shape[0]:,}\")\n",
    "print (\"Duplicate chunks removed :  \", (input_df.shape[0] - output_df.shape[0]))\n",
    "\n",
    "output_df.sample(min(3, output_df.shape[0]))"
   ]
  },
  {
   "cell_type": "markdown",
   "id": "85309751-8556-41c6-ac32-84acc941bc8d",
   "metadata": {},
   "source": [
    "## Step-6: Fuzzy Dedup\n",
    "\n",
    "**Fuzzy dedupe is currently available in RAY version**\n",
    "\n",
    "Post exact deduplication, fuzzy deduplication is applied with\n",
    "the goal of removing code files that may have slight variations and thereby unbiasing\n",
    "the data further. Small variations are quite commonly seen in code data in the form\n",
    "of variations in the values of variables, addittion of logging statements etc. Find near-\n",
    "duplicate."
   ]
  },
  {
   "cell_type": "markdown",
   "id": "fcf574a3-b287-419c-9c86-07b828b41ca6",
   "metadata": {},
   "source": [
    "### 6.1 - Set Input/output Folder"
   ]
  },
  {
   "cell_type": "code",
   "execution_count": 16,
   "id": "9e431c8c-c7c7-48de-ba5f-2c4649c35399",
   "metadata": {},
   "outputs": [
    {
     "name": "stdout",
     "output_type": "stream",
     "text": [
      "🏃🏼 STAGE-5: Processing input='output/04_exact_dedupe_out' --> output='output/05_fuzzy_dedupe_out'\n"
     ]
    }
   ],
   "source": [
    "STAGE  = 5\n",
    "\n",
    "input_folder = output_exact_dedupe_dir # previous output folder is the input folder for the current stage\n",
    "output_folder =  output_fuzzy_dedupe_dir\n",
    "\n",
    "input_df = read_parquet_files_as_df(input_folder)  ## for debug purposes\n",
    "\n",
    "print (f\"🏃🏼 STAGE-{STAGE}: Processing input='{input_folder}' --> output='{output_folder}'\")"
   ]
  },
  {
   "cell_type": "markdown",
   "id": "f4c82a8f-b513-4fe5-b172-d41b104b54f3",
   "metadata": {},
   "source": [
    "### 6.2 - Execute "
   ]
  },
  {
   "cell_type": "code",
   "execution_count": 17,
   "id": "3864ff77-e9a8-48f7-973b-c3b3aef1a94f",
   "metadata": {},
   "outputs": [
    {
     "name": "stderr",
     "output_type": "stream",
     "text": [
      "21:55:29 INFO - Running locally\n",
      "21:55:29 INFO - fuzzy dedup params are {'doc_column': 'contents', 'id_column': 'chunk_id', 'cluster_column': 'chunk_hash', 'bucket_cpu': 0.3, 'mhash_cpu': 0.3, 'doc_cpu': 0.3, 'num_doc_actors': 1, 'num_minhash_actors': 1, 'num_bucket_actors': 1, 'num_preprocessors': 1, 'num_permutations': 64, 'threshold': 0.7, 'shingles_size': 5, 'delimiters': ' ', 'snapshot_delay': 1, 'use_bucket_snapshot': False, 'use_doc_snapshot': False, 'random_delay_limit': 10, 'worker_options': {'num_cpus': 1}}\n",
      "21:55:29 INFO - data factory data_ is using local data access: input_folder - output/04_exact_dedupe_out output_folder - output/05_fuzzy_dedupe_out\n",
      "21:55:29 INFO - data factory data_ max_files -1, n_sample -1\n",
      "21:55:29 INFO - data factory data_ Not using data sets, checkpointing False, max files -1, random samples -1, files to use ['.parquet'], files to checkpoint ['.parquet']\n",
      "21:55:29 INFO - pipeline id pipeline_id\n",
      "21:55:29 INFO - code location None\n",
      "21:55:29 INFO - number of workers 2 worker options {'num_cpus': 1, 'max_restarts': -1}\n",
      "21:55:29 INFO - actor creation delay 0\n",
      "21:55:29 INFO - job details {'job category': 'preprocessing', 'job name': 'fdedup', 'job type': 'ray', 'job id': 'job_id'}\n",
      "2024-09-18 21:55:31,543\tINFO worker.py:1744 -- Started a local Ray instance. View the dashboard at \u001b[1m\u001b[32mhttp://127.0.0.1:8265 \u001b[39m\u001b[22m\n",
      "\u001b[36m(orchestrate pid=1404545)\u001b[0m 21:55:32 INFO - orchestrator started at 2024-09-18 21:55:32\n",
      "\u001b[36m(orchestrate pid=1404545)\u001b[0m 21:55:32 INFO - Number of files is 2, source profile {'max_file_size': 0.05375099182128906, 'min_file_size': 0.029233932495117188, 'total_file_size': 0.08298492431640625}\n",
      "\u001b[36m(orchestrate pid=1404545)\u001b[0m 21:55:32 INFO - Cluster resources: {'cpus': 16, 'gpus': 1, 'memory': 6.56231689453125, 'object_store': 3.281158447265625}\n",
      "\u001b[36m(orchestrate pid=1404545)\u001b[0m 21:55:32 INFO - Number of workers - 2 with {'num_cpus': 1, 'max_restarts': -1} each\n",
      "\u001b[36m(orchestrate pid=1404545)\u001b[0m 21:55:32 INFO - starting run from the beginning\n",
      "\u001b[36m(orchestrate pid=1404545)\u001b[0m 21:55:32 INFO - continuing from the very beginning\n",
      "\u001b[36m(orchestrate pid=1404545)\u001b[0m 21:55:32 INFO - Fuzzy: num buckets 8, bucket length 8\n",
      "\u001b[36m(orchestrate pid=1404545)\u001b[0m 21:55:32 INFO - created 1 bucket actors\n",
      "\u001b[36m(orchestrate pid=1404545)\u001b[0m 21:55:32 INFO - created 1 minhash actors\n",
      "\u001b[36m(orchestrate pid=1404545)\u001b[0m 21:55:32 INFO - Table preprocessing uses 1 readers\n",
      "\u001b[36m(orchestrate pid=1404545)\u001b[0m 21:55:32 INFO - created 1 table processor actors\n",
      "\u001b[36m(orchestrate pid=1404545)\u001b[0m 21:55:33 INFO - Completed 1 files in 0.016 min\n",
      "\u001b[36m(orchestrate pid=1404545)\u001b[0m 21:55:33 INFO - Completed 1 files (50.0%)  in 0.016 min. Waiting for completion\n",
      "\u001b[36m(orchestrate pid=1404545)\u001b[0m 21:55:36 INFO - Completed processing 2 files in 0.067 min\n",
      "\u001b[36m(orchestrate pid=1404545)\u001b[0m 21:55:36 INFO - creating minhash snapshots\n",
      "\u001b[36m(orchestrate pid=1404545)\u001b[0m 21:55:37 INFO - minhash snapshots created\n",
      "\u001b[36m(orchestrate pid=1404545)\u001b[0m 21:55:37 INFO - creating bucket snapshots\n",
      "\u001b[36m(orchestrate pid=1404545)\u001b[0m 21:55:38 INFO - bucket snapshots created\n",
      "\u001b[36m(orchestrate pid=1404545)\u001b[0m 21:55:38 INFO - created 1 document actors\n",
      "\u001b[36m(orchestrate pid=1404545)\u001b[0m 21:55:38 INFO - created 1 bucket processor actors\n",
      "\u001b[36m(orchestrate pid=1404545)\u001b[0m 21:55:38 INFO - created bucket processor invoker\n",
      "\u001b[36m(orchestrate pid=1404545)\u001b[0m 21:55:38 INFO - added invoker to bucket collectors\n",
      "\u001b[36m(BucketsHash pid=1405395)\u001b[0m 21:55:38 INFO - processing buckets 0 long, 2126 short\n",
      "\u001b[36m(BucketsHash pid=1405395)\u001b[0m 21:55:38 INFO - Done submitting long buckets\n",
      "\u001b[36m(orchestrate pid=1404545)\u001b[0m 21:55:39 INFO - Done processing buckets in 0.012 min\n",
      "\u001b[36m(orchestrate pid=1404545)\u001b[0m 21:55:39 INFO - creating document snapshots\n",
      "\u001b[36m(BucketsHashProcessorInvoker pid=1405794)\u001b[0m 21:55:39 INFO - Waiting bucket processing completion. Submitted requests 22\n",
      "\u001b[36m(orchestrate pid=1404545)\u001b[0m 21:55:40 INFO - document snapshots created\n",
      "\u001b[36m(orchestrate pid=1404545)\u001b[0m 21:55:40 INFO - Completed 0 files (0.0%)  in 0.0 min. Waiting for completion\n",
      "\u001b[36m(orchestrate pid=1404545)\u001b[0m 21:55:45 INFO - Completed processing 2 files in 0.08 min\n",
      "\u001b[36m(orchestrate pid=1404545)\u001b[0m 21:55:45 INFO - done flushing in 0.001 sec\n",
      "21:55:55 INFO - Completed execution in 0.43 min, execution result 0\n"
     ]
    },
    {
     "name": "stdout",
     "output_type": "stream",
     "text": [
      "✅ Stage:5 completed successfully\n",
      "CPU times: user 445 ms, sys: 340 ms, total: 785 ms\n",
      "Wall time: 27.2 s\n"
     ]
    }
   ],
   "source": [
    "%%time \n",
    "\n",
    "import os\n",
    "import sys\n",
    "\n",
    "from data_processing.utils import ParamsUtils\n",
    "from fdedup_transform_ray import FdedupRayTransformConfiguration\n",
    "from data_processing_ray.runtime.ray import RayTransformLauncher\n",
    "\n",
    "\n",
    "# create parameters\n",
    "\n",
    "local_conf = {\n",
    "    \"input_folder\": input_folder,\n",
    "    \"output_folder\": output_folder,\n",
    "}\n",
    "worker_options = {\"num_cpus\" : MY_CONFIG.RAY_NUM_CPUS}\n",
    "code_location = {\"github\": \"github\", \"commit_hash\": \"12345\", \"path\": \"path\"}\n",
    "params = {\n",
    "    # where to run\n",
    "    \"run_locally\": True,\n",
    "    # Data access. Only required parameters are specified\n",
    "    \"data_local_config\": ParamsUtils.convert_to_ast(local_conf),\n",
    "    # Orchestration parameters\n",
    "    \"runtime_worker_options\": ParamsUtils.convert_to_ast(worker_options),\n",
    "    \"runtime_num_workers\": MY_CONFIG.RAY_RUNTIME_WORKERS,\n",
    "    # columns used\n",
    "    \"fdedup_doc_column\": \"contents\",\n",
    "    \"fdedup_id_column\": \"chunk_id\",\n",
    "    \"fdedup_cluster_column\": \"chunk_hash\",\n",
    "    # infrastructure\n",
    "    \"fdedup_bucket_cpu\": 0.3,\n",
    "    \"fdedup_doc_cpu\": 0.3,\n",
    "    \"fdedup_mhash_cpu\": 0.3,\n",
    "    \"fdedup_num_doc_actors\": 1,\n",
    "    \"fdedup_num_bucket_actors\": 1,\n",
    "    \"fdedup_num_minhash_actors\": 1,\n",
    "    \"fdedup_num_preprocessors\": 1,\n",
    "    # fuzzy parameters\n",
    "    \"fdedup_num_permutations\": 64,\n",
    "    \"fdedup_threshold\": 0.7, # between 0.0 to 1.0 ; smaller values tend to be more lenient in finding near dupes; close to 1.0 is more strict\n",
    "    \"fdedup_shingles_size\": 5,\n",
    "    \"fdedup_delimiters\": \" \"\n",
    "}\n",
    "\n",
    "# Pass commandline params\n",
    "sys.argv = ParamsUtils.dict_to_req(d=params)\n",
    "\n",
    "# launch\n",
    "\n",
    "launcher = RayTransformLauncher(FdedupRayTransformConfiguration())\n",
    "\n",
    "return_code = launcher.launch()\n",
    "\n",
    "if return_code == 0:\n",
    "    print (f\"✅ Stage:{STAGE} completed successfully\")\n",
    "else:\n",
    "    raise Exception (\"❌ Ray job failed\")"
   ]
  },
  {
   "cell_type": "markdown",
   "id": "a6f8cd11",
   "metadata": {},
   "source": [
    "### 6.3 - Inspect Generated output"
   ]
  },
  {
   "cell_type": "code",
   "execution_count": 18,
   "id": "e899ad60",
   "metadata": {},
   "outputs": [
    {
     "name": "stdout",
     "output_type": "stream",
     "text": [
      "Input data dimensions (rows x columns)=  (266, 18)\n",
      "Output data dimensions (rows x columns)=  (266, 18)\n",
      "Duplicate chunks removed  by fuzzy-dedupe:   0\n"
     ]
    },
    {
     "data": {
      "text/html": [
       "<div>\n",
       "<style scoped>\n",
       "    .dataframe tbody tr th:only-of-type {\n",
       "        vertical-align: middle;\n",
       "    }\n",
       "\n",
       "    .dataframe tbody tr th {\n",
       "        vertical-align: top;\n",
       "    }\n",
       "\n",
       "    .dataframe thead th {\n",
       "        text-align: right;\n",
       "    }\n",
       "</style>\n",
       "<table border=\"1\" class=\"dataframe\">\n",
       "  <thead>\n",
       "    <tr style=\"text-align: right;\">\n",
       "      <th></th>\n",
       "      <th>filename</th>\n",
       "      <th>num_pages</th>\n",
       "      <th>num_tables</th>\n",
       "      <th>num_doc_elements</th>\n",
       "      <th>document_id</th>\n",
       "      <th>ext</th>\n",
       "      <th>hash</th>\n",
       "      <th>size</th>\n",
       "      <th>date_acquired</th>\n",
       "      <th>pdf_convert_time</th>\n",
       "      <th>source_filename</th>\n",
       "      <th>contents</th>\n",
       "      <th>doc_jsonpath</th>\n",
       "      <th>page_number</th>\n",
       "      <th>bbox</th>\n",
       "      <th>chunk_id</th>\n",
       "      <th>removed</th>\n",
       "      <th>chunk_hash</th>\n",
       "    </tr>\n",
       "  </thead>\n",
       "  <tbody>\n",
       "    <tr>\n",
       "      <th>212</th>\n",
       "      <td>Granite_Foundation_Models.pdf</td>\n",
       "      <td>20</td>\n",
       "      <td>13</td>\n",
       "      <td>444</td>\n",
       "      <td>b93fc398-a714-4a78-a4b0-b4a01b203330</td>\n",
       "      <td>pdf</td>\n",
       "      <td>3fdea13fde26d449edec114b8a7b70c4565673aa90c86b...</td>\n",
       "      <td>394434</td>\n",
       "      <td>2024-09-18T21:55:11.033250</td>\n",
       "      <td>29.943425</td>\n",
       "      <td>Granite_Foundation_Models.pdf</td>\n",
       "      <td>B. Downstream Documentation\\nInput, Phase = . ...</td>\n",
       "      <td>$.tables[5]</td>\n",
       "      <td>12</td>\n",
       "      <td>[99.78625488, 67.24668884, 512.03955078, 687.1...</td>\n",
       "      <td>124</td>\n",
       "      <td>[]</td>\n",
       "      <td>-1</td>\n",
       "    </tr>\n",
       "    <tr>\n",
       "      <th>10</th>\n",
       "      <td>attention-is-all-you-need.pdf</td>\n",
       "      <td>15</td>\n",
       "      <td>4</td>\n",
       "      <td>193</td>\n",
       "      <td>19f6c470-36a0-4451-addc-788ac4e7ddb8</td>\n",
       "      <td>pdf</td>\n",
       "      <td>414d95bff49753a945e0917d47b840bef75c67bd56af13...</td>\n",
       "      <td>137574</td>\n",
       "      <td>2024-09-18T21:55:28.021651</td>\n",
       "      <td>16.976467</td>\n",
       "      <td>attention-is-all-you-need.pdf</td>\n",
       "      <td>1 Introduction\\nRecurrent models typically fac...</td>\n",
       "      <td>$.main-text[19]</td>\n",
       "      <td>2</td>\n",
       "      <td>[107.33866882, 546.35638428, 504.39059448, 632...</td>\n",
       "      <td>188</td>\n",
       "      <td>[]</td>\n",
       "      <td>-1</td>\n",
       "    </tr>\n",
       "    <tr>\n",
       "      <th>89</th>\n",
       "      <td>Granite_Foundation_Models.pdf</td>\n",
       "      <td>20</td>\n",
       "      <td>13</td>\n",
       "      <td>444</td>\n",
       "      <td>b93fc398-a714-4a78-a4b0-b4a01b203330</td>\n",
       "      <td>pdf</td>\n",
       "      <td>3fdea13fde26d449edec114b8a7b70c4565673aa90c86b...</td>\n",
       "      <td>394434</td>\n",
       "      <td>2024-09-18T21:55:11.033250</td>\n",
       "      <td>29.943425</td>\n",
       "      <td>Granite_Foundation_Models.pdf</td>\n",
       "      <td>Granite Foundation Models\\nIndex Terms -founda...</td>\n",
       "      <td>$.main-text[3]</td>\n",
       "      <td>1</td>\n",
       "      <td>[48.05226898, 531.65960693, 300.17034912, 570....</td>\n",
       "      <td>1</td>\n",
       "      <td>[]</td>\n",
       "      <td>-1</td>\n",
       "    </tr>\n",
       "  </tbody>\n",
       "</table>\n",
       "</div>"
      ],
      "text/plain": [
       "                          filename  num_pages  num_tables  num_doc_elements  \\\n",
       "212  Granite_Foundation_Models.pdf         20          13               444   \n",
       "10   attention-is-all-you-need.pdf         15           4               193   \n",
       "89   Granite_Foundation_Models.pdf         20          13               444   \n",
       "\n",
       "                              document_id  ext  \\\n",
       "212  b93fc398-a714-4a78-a4b0-b4a01b203330  pdf   \n",
       "10   19f6c470-36a0-4451-addc-788ac4e7ddb8  pdf   \n",
       "89   b93fc398-a714-4a78-a4b0-b4a01b203330  pdf   \n",
       "\n",
       "                                                  hash    size  \\\n",
       "212  3fdea13fde26d449edec114b8a7b70c4565673aa90c86b...  394434   \n",
       "10   414d95bff49753a945e0917d47b840bef75c67bd56af13...  137574   \n",
       "89   3fdea13fde26d449edec114b8a7b70c4565673aa90c86b...  394434   \n",
       "\n",
       "                  date_acquired  pdf_convert_time  \\\n",
       "212  2024-09-18T21:55:11.033250         29.943425   \n",
       "10   2024-09-18T21:55:28.021651         16.976467   \n",
       "89   2024-09-18T21:55:11.033250         29.943425   \n",
       "\n",
       "                   source_filename  \\\n",
       "212  Granite_Foundation_Models.pdf   \n",
       "10   attention-is-all-you-need.pdf   \n",
       "89   Granite_Foundation_Models.pdf   \n",
       "\n",
       "                                              contents     doc_jsonpath  \\\n",
       "212  B. Downstream Documentation\\nInput, Phase = . ...      $.tables[5]   \n",
       "10   1 Introduction\\nRecurrent models typically fac...  $.main-text[19]   \n",
       "89   Granite Foundation Models\\nIndex Terms -founda...   $.main-text[3]   \n",
       "\n",
       "     page_number                                               bbox  chunk_id  \\\n",
       "212           12  [99.78625488, 67.24668884, 512.03955078, 687.1...       124   \n",
       "10             2  [107.33866882, 546.35638428, 504.39059448, 632...       188   \n",
       "89             1  [48.05226898, 531.65960693, 300.17034912, 570....         1   \n",
       "\n",
       "    removed  chunk_hash  \n",
       "212      []          -1  \n",
       "10       []          -1  \n",
       "89       []          -1  "
      ]
     },
     "execution_count": 18,
     "metadata": {},
     "output_type": "execute_result"
    }
   ],
   "source": [
    "from utils import read_parquet_files_as_df\n",
    "\n",
    "output_df = read_parquet_files_as_df(output_folder)\n",
    "\n",
    "print (\"Input data dimensions (rows x columns)= \", input_df.shape)\n",
    "print (\"Output data dimensions (rows x columns)= \", output_df.shape)\n",
    "print (\"Duplicate chunks removed  by fuzzy-dedupe:  \", (input_df.shape[0] - output_df.shape[0]))\n",
    "\n",
    "output_df.sample(min(3, output_df.shape[0]))"
   ]
  },
  {
   "cell_type": "markdown",
   "id": "5370950a-2a3a-4143-8218-f9b4808099ba",
   "metadata": {},
   "source": [
    "## Step-7:   Text encoding\n",
    "\n",
    "Encode text for the vector storage."
   ]
  },
  {
   "cell_type": "markdown",
   "id": "74fd33b1",
   "metadata": {},
   "source": [
    "### 7.1 - Set Input/output Folder"
   ]
  },
  {
   "cell_type": "code",
   "execution_count": 19,
   "id": "20a153fa-fd56-401e-86be-4f7617affcc8",
   "metadata": {},
   "outputs": [
    {
     "name": "stdout",
     "output_type": "stream",
     "text": [
      "🏃🏼 STAGE-6: Processing input='output/05_fuzzy_dedupe_out' --> output='output/06_embeddings_out'\n"
     ]
    }
   ],
   "source": [
    "STAGE  = 6\n",
    "\n",
    "input_folder = output_fuzzy_dedupe_dir\n",
    "output_folder =  output_embeddings_dir\n",
    "\n",
    "input_df = read_parquet_files_as_df(input_folder)  ## for debug purposes\n",
    "\n",
    "print (f\"🏃🏼 STAGE-{STAGE}: Processing input='{input_folder}' --> output='{output_folder}'\")"
   ]
  },
  {
   "cell_type": "markdown",
   "id": "b9112479",
   "metadata": {},
   "source": [
    "### 7.2 - Execute"
   ]
  },
  {
   "cell_type": "code",
   "execution_count": 20,
   "id": "228df6b2-bc62-494b-9697-03ece98d7853",
   "metadata": {},
   "outputs": [
    {
     "name": "stderr",
     "output_type": "stream",
     "text": [
      "21:55:56 INFO - text_encoder parameters are : {'content_column_name': 'contents', 'output_embeddings_column_name': 'embeddings', 'model_name': 'sentence-transformers/all-MiniLM-L6-v2'}\n",
      "21:55:56 INFO - pipeline id pipeline_id\n",
      "21:55:56 INFO - code location None\n",
      "21:55:56 INFO - data factory data_ is using local data access: input_folder - output/05_fuzzy_dedupe_out output_folder - output/06_embeddings_out\n",
      "21:55:56 INFO - data factory data_ max_files -1, n_sample -1\n",
      "21:55:56 INFO - data factory data_ Not using data sets, checkpointing False, max files -1, random samples -1, files to use ['.parquet'], files to checkpoint ['.parquet']\n",
      "21:55:56 INFO - orchestrator text_encoder started at 2024-09-18 21:55:56\n",
      "21:55:56 INFO - Number of files is 2, source profile {'max_file_size': 0.04749584197998047, 'min_file_size': 0.02600860595703125, 'total_file_size': 0.07350444793701172}\n",
      "21:56:00 INFO - Completed 1 files (50.0%) in 0.016 min\n",
      "21:56:00 INFO - Completed 2 files (100.0%) in 0.024 min\n",
      "21:56:00 INFO - Done processing 2 files, waiting for flush() completion.\n",
      "21:56:00 INFO - done flushing in 0.0 sec\n",
      "21:56:00 INFO - Completed execution in 0.064 min, execution result 0\n"
     ]
    },
    {
     "name": "stdout",
     "output_type": "stream",
     "text": [
      "✅ Stage:6 completed successfully\n",
      "CPU times: user 1.89 s, sys: 161 ms, total: 2.05 s\n",
      "Wall time: 4.09 s\n"
     ]
    }
   ],
   "source": [
    "%%time \n",
    "\n",
    "from text_encoder_transform_python import TextEncoderPythonTransformConfiguration\n",
    "\n",
    "local_conf = {\n",
    "    \"input_folder\": input_folder,\n",
    "    \"output_folder\": output_folder,\n",
    "}\n",
    "params = {\n",
    "    # Data access. Only required parameters are specified\n",
    "    \"data_local_config\": ParamsUtils.convert_to_ast(local_conf),\n",
    "    # text_encoder\n",
    "    \"text_encoder_model_name\": MY_CONFIG.EMBEDDING_MODEL,\n",
    "}\n",
    "\n",
    "sys.argv = ParamsUtils.dict_to_req(d=params)\n",
    "# create launcher\n",
    "launcher = PythonTransformLauncher(TextEncoderPythonTransformConfiguration())\n",
    "# Launch the ray actor(s) to process the input\n",
    "\n",
    "return_code = launcher.launch()\n",
    "\n",
    "if return_code == 0:\n",
    "    print (f\"✅ Stage:{STAGE} completed successfully\")\n",
    "else:\n",
    "    raise Exception (\"❌ Job failed\")"
   ]
  },
  {
   "cell_type": "markdown",
   "id": "b734852c",
   "metadata": {},
   "source": [
    "### 7.3 - Inspect Generated output"
   ]
  },
  {
   "cell_type": "code",
   "execution_count": 21,
   "id": "7b1c1d09",
   "metadata": {},
   "outputs": [
    {
     "name": "stdout",
     "output_type": "stream",
     "text": [
      "Input data dimensions (rows x columns)=  (266, 18)\n",
      "Output data dimensions (rows x columns)=  (266, 19)\n"
     ]
    },
    {
     "data": {
      "text/html": [
       "<div>\n",
       "<style scoped>\n",
       "    .dataframe tbody tr th:only-of-type {\n",
       "        vertical-align: middle;\n",
       "    }\n",
       "\n",
       "    .dataframe tbody tr th {\n",
       "        vertical-align: top;\n",
       "    }\n",
       "\n",
       "    .dataframe thead th {\n",
       "        text-align: right;\n",
       "    }\n",
       "</style>\n",
       "<table border=\"1\" class=\"dataframe\">\n",
       "  <thead>\n",
       "    <tr style=\"text-align: right;\">\n",
       "      <th></th>\n",
       "      <th>filename</th>\n",
       "      <th>num_pages</th>\n",
       "      <th>num_tables</th>\n",
       "      <th>num_doc_elements</th>\n",
       "      <th>document_id</th>\n",
       "      <th>ext</th>\n",
       "      <th>hash</th>\n",
       "      <th>size</th>\n",
       "      <th>date_acquired</th>\n",
       "      <th>pdf_convert_time</th>\n",
       "      <th>source_filename</th>\n",
       "      <th>contents</th>\n",
       "      <th>doc_jsonpath</th>\n",
       "      <th>page_number</th>\n",
       "      <th>bbox</th>\n",
       "      <th>chunk_id</th>\n",
       "      <th>removed</th>\n",
       "      <th>chunk_hash</th>\n",
       "      <th>embeddings</th>\n",
       "    </tr>\n",
       "  </thead>\n",
       "  <tbody>\n",
       "    <tr>\n",
       "      <th>229</th>\n",
       "      <td>Granite_Foundation_Models.pdf</td>\n",
       "      <td>20</td>\n",
       "      <td>13</td>\n",
       "      <td>444</td>\n",
       "      <td>b93fc398-a714-4a78-a4b0-b4a01b203330</td>\n",
       "      <td>pdf</td>\n",
       "      <td>3fdea13fde26d449edec114b8a7b70c4565673aa90c86b...</td>\n",
       "      <td>394434</td>\n",
       "      <td>2024-09-18T21:55:11.033250</td>\n",
       "      <td>29.943425</td>\n",
       "      <td>Granite_Foundation_Models.pdf</td>\n",
       "      <td>A. Model Outputs from Safety Tasks\\nOutput : \"...</td>\n",
       "      <td>$.main-text[380]</td>\n",
       "      <td>16</td>\n",
       "      <td>[68.22934723, 327.2671814, 300.39501953, 372.7...</td>\n",
       "      <td>141</td>\n",
       "      <td>[]</td>\n",
       "      <td>-1</td>\n",
       "      <td>[0.02780273, 0.0015434993, -0.01713702, 0.0060...</td>\n",
       "    </tr>\n",
       "    <tr>\n",
       "      <th>44</th>\n",
       "      <td>attention-is-all-you-need.pdf</td>\n",
       "      <td>15</td>\n",
       "      <td>4</td>\n",
       "      <td>193</td>\n",
       "      <td>19f6c470-36a0-4451-addc-788ac4e7ddb8</td>\n",
       "      <td>pdf</td>\n",
       "      <td>414d95bff49753a945e0917d47b840bef75c67bd56af13...</td>\n",
       "      <td>137574</td>\n",
       "      <td>2024-09-18T21:55:28.021651</td>\n",
       "      <td>16.976467</td>\n",
       "      <td>attention-is-all-you-need.pdf</td>\n",
       "      <td>4 Why Self-Attention\\nIn this section we compa...</td>\n",
       "      <td>$.main-text[80]</td>\n",
       "      <td>6</td>\n",
       "      <td>[106.83399963, 217.19508362, 505.65368652, 270...</td>\n",
       "      <td>222</td>\n",
       "      <td>[]</td>\n",
       "      <td>-1</td>\n",
       "      <td>[-0.03718457, -0.08758642, 0.048269093, -0.042...</td>\n",
       "    </tr>\n",
       "    <tr>\n",
       "      <th>260</th>\n",
       "      <td>Granite_Foundation_Models.pdf</td>\n",
       "      <td>20</td>\n",
       "      <td>13</td>\n",
       "      <td>444</td>\n",
       "      <td>b93fc398-a714-4a78-a4b0-b4a01b203330</td>\n",
       "      <td>pdf</td>\n",
       "      <td>3fdea13fde26d449edec114b8a7b70c4565673aa90c86b...</td>\n",
       "      <td>394434</td>\n",
       "      <td>2024-09-18T21:55:11.033250</td>\n",
       "      <td>29.943425</td>\n",
       "      <td>Granite_Foundation_Models.pdf</td>\n",
       "      <td>JAPANESE FINANCE BENCHMARK EVALUATION RESULTS\\...</td>\n",
       "      <td>$.tables[10]</td>\n",
       "      <td>18</td>\n",
       "      <td>[94.07535553, 50.58311462, 517.87585449, 236.5...</td>\n",
       "      <td>172</td>\n",
       "      <td>[]</td>\n",
       "      <td>-1</td>\n",
       "      <td>[0.028512888, -0.034300514, -0.02429659, 0.032...</td>\n",
       "    </tr>\n",
       "  </tbody>\n",
       "</table>\n",
       "</div>"
      ],
      "text/plain": [
       "                          filename  num_pages  num_tables  num_doc_elements  \\\n",
       "229  Granite_Foundation_Models.pdf         20          13               444   \n",
       "44   attention-is-all-you-need.pdf         15           4               193   \n",
       "260  Granite_Foundation_Models.pdf         20          13               444   \n",
       "\n",
       "                              document_id  ext  \\\n",
       "229  b93fc398-a714-4a78-a4b0-b4a01b203330  pdf   \n",
       "44   19f6c470-36a0-4451-addc-788ac4e7ddb8  pdf   \n",
       "260  b93fc398-a714-4a78-a4b0-b4a01b203330  pdf   \n",
       "\n",
       "                                                  hash    size  \\\n",
       "229  3fdea13fde26d449edec114b8a7b70c4565673aa90c86b...  394434   \n",
       "44   414d95bff49753a945e0917d47b840bef75c67bd56af13...  137574   \n",
       "260  3fdea13fde26d449edec114b8a7b70c4565673aa90c86b...  394434   \n",
       "\n",
       "                  date_acquired  pdf_convert_time  \\\n",
       "229  2024-09-18T21:55:11.033250         29.943425   \n",
       "44   2024-09-18T21:55:28.021651         16.976467   \n",
       "260  2024-09-18T21:55:11.033250         29.943425   \n",
       "\n",
       "                   source_filename  \\\n",
       "229  Granite_Foundation_Models.pdf   \n",
       "44   attention-is-all-you-need.pdf   \n",
       "260  Granite_Foundation_Models.pdf   \n",
       "\n",
       "                                              contents      doc_jsonpath  \\\n",
       "229  A. Model Outputs from Safety Tasks\\nOutput : \"...  $.main-text[380]   \n",
       "44   4 Why Self-Attention\\nIn this section we compa...   $.main-text[80]   \n",
       "260  JAPANESE FINANCE BENCHMARK EVALUATION RESULTS\\...      $.tables[10]   \n",
       "\n",
       "     page_number                                               bbox  chunk_id  \\\n",
       "229           16  [68.22934723, 327.2671814, 300.39501953, 372.7...       141   \n",
       "44             6  [106.83399963, 217.19508362, 505.65368652, 270...       222   \n",
       "260           18  [94.07535553, 50.58311462, 517.87585449, 236.5...       172   \n",
       "\n",
       "    removed  chunk_hash                                         embeddings  \n",
       "229      []          -1  [0.02780273, 0.0015434993, -0.01713702, 0.0060...  \n",
       "44       []          -1  [-0.03718457, -0.08758642, 0.048269093, -0.042...  \n",
       "260      []          -1  [0.028512888, -0.034300514, -0.02429659, 0.032...  "
      ]
     },
     "execution_count": 21,
     "metadata": {},
     "output_type": "execute_result"
    }
   ],
   "source": [
    "from utils import read_parquet_files_as_df\n",
    "\n",
    "output_df = read_parquet_files_as_df(output_folder)\n",
    "\n",
    "print (\"Input data dimensions (rows x columns)= \", input_df.shape)\n",
    "print (\"Output data dimensions (rows x columns)= \", output_df.shape)\n",
    "\n",
    "output_df.sample(min(3, output_df.shape[0]))"
   ]
  },
  {
   "cell_type": "markdown",
   "id": "f5e12630-be6b-4188-a925-77117155617b",
   "metadata": {},
   "source": [
    "## Step-8: Copy output to final output dir"
   ]
  },
  {
   "cell_type": "code",
   "execution_count": 22,
   "id": "16dee3b8-31dc-4168-8adb-f2a0a0b5e207",
   "metadata": {},
   "outputs": [
    {
     "name": "stdout",
     "output_type": "stream",
     "text": [
      "✅ Copied output from 'output/06_embeddings_out' --> 'output/output_final'\n"
     ]
    }
   ],
   "source": [
    "import shutil\n",
    "\n",
    "shutil.rmtree(MY_CONFIG.OUTPUT_FOLDER_FINAL, ignore_errors=True)\n",
    "shutil.copytree(src=output_folder, dst=MY_CONFIG.OUTPUT_FOLDER_FINAL)\n",
    "\n",
    "print (f\"✅ Copied output from '{output_folder}' --> '{MY_CONFIG.OUTPUT_FOLDER_FINAL}'\")"
   ]
  },
  {
   "cell_type": "code",
   "execution_count": null,
   "id": "9ce85f45",
   "metadata": {},
   "outputs": [],
   "source": []
  }
 ],
 "metadata": {
  "kernelspec": {
   "display_name": "Python 3 (ipykernel)",
   "language": "python",
   "name": "python3"
  },
  "language_info": {
   "codemirror_mode": {
    "name": "ipython",
    "version": 3
   },
   "file_extension": ".py",
   "mimetype": "text/x-python",
   "name": "python",
   "nbconvert_exporter": "python",
   "pygments_lexer": "ipython3",
   "version": "3.11.9"
  }
 },
 "nbformat": 4,
 "nbformat_minor": 5
}
