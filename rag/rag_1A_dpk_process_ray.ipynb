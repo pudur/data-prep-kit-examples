{
 "cells": [
  {
   "cell_type": "markdown",
   "id": "841e533d-ebb3-406d-9da7-b19e2c5f5866",
   "metadata": {},
   "source": [
    "<div style=\"background-color: #04D7FD; padding: 20px; text-align: left;\">\n",
    "    <h1 style=\"color: #000000; font-size: 36px; margin: 0;\">Data Processing for RAG with Data Prep Kit (RAY)</h1>\n",
    "    \n",
    "</div>\n"
   ]
  },
  {
   "cell_type": "markdown",
   "id": "b15976e3",
   "metadata": {},
   "source": [
    "## Before Running the notebook\n",
    "\n",
    "Please complete [setting up python dev environment](./setup-python-dev-env.md)"
   ]
  },
  {
   "cell_type": "markdown",
   "id": "053ecf08-5f62-4b99-9347-8a0955843d21",
   "metadata": {},
   "source": [
    "## Overview\n",
    "\n",
    "This notebook will process PDF documents as part of RAG pipeline\n",
    "\n",
    "![](media/rag-overview-2.png)\n",
    "\n",
    "This notebook will perform steps 1, 2 and 3 in RAG pipeline.\n",
    "\n",
    "Here are the processing steps:\n",
    "\n",
    "- **pdf2parquet** : Extract text from PDF and convert them into parquet files\n",
    "- **Chunk documents**: Split the PDFs into 'meaningful sections' (paragraphs, sentences ..etc)\n",
    "- **Doc_ID generation**: Each chunk is assigned a uniq id, based on content and hash\n",
    "- **Exact Dedup**: Chunks with exact same content are filtered out\n",
    "- **Fuzzy Dedup**: Eliminate chunks that are 'very similar' content\n",
    "- **Doc quality**: Scores the documents based on criteria like number of words, if it contains bad words ..etc\n",
    "- **Text encoder**: Convert chunks into vectors using embedding models"
   ]
  },
  {
   "cell_type": "markdown",
   "id": "e8b10be1",
   "metadata": {},
   "source": [
    "## Step-1: Configuration\n",
    "\n",
    "### 1.1 - Common Config"
   ]
  },
  {
   "cell_type": "code",
   "execution_count": 1,
   "id": "33345487",
   "metadata": {},
   "outputs": [],
   "source": [
    "from my_config import MY_CONFIG\n"
   ]
  },
  {
   "cell_type": "markdown",
   "id": "02cc3f0e",
   "metadata": {},
   "source": [
    "### 1.2 - Inspect Input Data\n",
    "\n",
    "We have a bnunch of datasets in [data](../data) folder.  Examine them\n",
    "\n",
    "We will use one of them or feel free to bring your own data."
   ]
  },
  {
   "cell_type": "markdown",
   "id": "72510ae6-48b0-4b88-9e13-a623281c3a63",
   "metadata": {},
   "source": [
    "### 1.3  - Set input/output path variables for the pipeline"
   ]
  },
  {
   "cell_type": "code",
   "execution_count": 2,
   "id": "60ac8bee-0960-4309-b225-d7a211b14262",
   "metadata": {},
   "outputs": [
    {
     "name": "stdout",
     "output_type": "stream",
     "text": [
      "✅ Cleared output directory\n"
     ]
    }
   ],
   "source": [
    "import os, sys\n",
    "import shutil\n",
    "\n",
    "if not os.path.exists(MY_CONFIG.INPUT_DATA_DIR ):\n",
    "    raise Exception (f\"❌ Input folder MY_CONFIG.INPUT_DATA_DIR = '{MY_CONFIG.INPUT_DATA_DIR}' not found\")\n",
    "\n",
    "output_parquet_dir = os.path.join (MY_CONFIG.OUTPUT_FOLDER, '01_parquet_out')\n",
    "output_chunk_dir = os.path.join (MY_CONFIG.OUTPUT_FOLDER, '02_chunk_out')\n",
    "output_docid_dir = os.path.join (MY_CONFIG.OUTPUT_FOLDER, '03_docid_out')\n",
    "output_exact_dedupe_dir = os.path.join (MY_CONFIG.OUTPUT_FOLDER, '04_exact_dedupe_out')\n",
    "output_fuzzy_dedupe_dir = os.path.join (MY_CONFIG.OUTPUT_FOLDER, '05_fuzzy_dedupe_out')\n",
    "output_embeddings_dir = os.path.join (MY_CONFIG.OUTPUT_FOLDER, '06_embeddings_out')\n",
    "\n",
    "\n",
    "## clear output folder\n",
    "shutil.rmtree(MY_CONFIG.OUTPUT_FOLDER, ignore_errors=True)\n",
    "shutil.os.makedirs(MY_CONFIG.OUTPUT_FOLDER, exist_ok=True)\n",
    "\n",
    "print (\"✅ Cleared output directory\")"
   ]
  },
  {
   "cell_type": "markdown",
   "id": "bd5d976e-cb4c-4469-af39-4b7ea507e9d8",
   "metadata": {},
   "source": [
    "### 1.4 - Import Common python modules"
   ]
  },
  {
   "cell_type": "code",
   "execution_count": 3,
   "id": "66178913-42b8-426b-a2e9-9587268fd05b",
   "metadata": {},
   "outputs": [],
   "source": [
    "import os\n",
    "import sys\n",
    "\n",
    "\n",
    "from data_processing_ray.runtime.ray import RayTransformLauncher\n",
    "from data_processing.utils import ParamsUtils"
   ]
  },
  {
   "cell_type": "markdown",
   "id": "2449e5c7-078c-4ad6-a2f6-21d39d4da3fb",
   "metadata": {},
   "source": [
    "<a id=\"pdf2parquet\"></a>\n",
    "\n",
    "## Step-2: pdf2parquet -  Convert data from PDF to Parquet\n",
    "\n",
    "This step is reading the input folder containing all PDF files and ingest them in a parquet table using the [Docling package](https://github.com/DS4SD/docling).\n",
    "The documents are converted into a JSON format which allows to easily chunk it in the later steps.\n",
    "\n"
   ]
  },
  {
   "cell_type": "markdown",
   "id": "c0c574c4-9dc4-4dab-9ad6-b5338207e67a",
   "metadata": {},
   "source": [
    "### 2.1 - Set Input/output Folder"
   ]
  },
  {
   "cell_type": "code",
   "execution_count": 4,
   "id": "482605b2-d814-456d-9195-49a2ec454ef0",
   "metadata": {},
   "outputs": [
    {
     "name": "stdout",
     "output_type": "stream",
     "text": [
      "🏃🏼 STAGE-1: Processing input='../data/solar-system' --> output='output-solar-system/01_parquet_out'\n"
     ]
    }
   ],
   "source": [
    "STAGE = 1 \n",
    "\n",
    "input_folder = MY_CONFIG.INPUT_DATA_DIR\n",
    "output_folder =  output_parquet_dir\n",
    "\n",
    "print (f\"🏃🏼 STAGE-{STAGE}: Processing input='{input_folder}' --> output='{output_folder}'\")"
   ]
  },
  {
   "cell_type": "markdown",
   "id": "9bb15f02-ab5c-4525-a536-cfa1fd2ba70b",
   "metadata": {},
   "source": [
    "### 2.2 -  Execute "
   ]
  },
  {
   "cell_type": "code",
   "execution_count": 5,
   "id": "b0cd8ebd-bf71-42d6-a397-8df0c7b66a26",
   "metadata": {},
   "outputs": [
    {
     "name": "stderr",
     "output_type": "stream",
     "text": [
      "11:49:07 INFO - Running locally\n",
      "11:49:07 INFO - pdf2parquet parameters are : {'artifacts_path': None, 'contents_type': <pdf2parquet_contents_types.JSON: 'application/json'>, 'do_table_structure': True, 'do_ocr': True, 'double_precision': 8}\n",
      "11:49:07 INFO - data factory data_ is using local data access: input_folder - ../data/solar-system output_folder - output-solar-system/01_parquet_out\n",
      "11:49:07 INFO - data factory data_ max_files -1, n_sample -1\n",
      "11:49:07 INFO - data factory data_ Not using data sets, checkpointing False, max files -1, random samples -1, files to use ['.pdf'], files to checkpoint ['.parquet']\n",
      "11:49:07 INFO - pipeline id pipeline_id\n",
      "11:49:07 INFO - code location {'github': 'github', 'commit_hash': '12345', 'path': 'path'}\n",
      "11:49:07 INFO - number of workers 2 worker options {'num_cpus': 1, 'memory': 2147483648, 'max_restarts': -1}\n",
      "11:49:07 INFO - actor creation delay 0\n",
      "11:49:07 INFO - job details {'job category': 'preprocessing', 'job name': 'pdf2parquet', 'job type': 'ray', 'job id': 'job_id'}\n",
      "2024-09-20 11:49:09,448\tINFO worker.py:1744 -- Started a local Ray instance. View the dashboard at \u001b[1m\u001b[32mhttp://127.0.0.1:8265 \u001b[39m\u001b[22m\n",
      "\u001b[36m(orchestrate pid=3779196)\u001b[0m 11:49:12 INFO - orchestrator started at 2024-09-20 11:49:12\n",
      "\u001b[36m(orchestrate pid=3779196)\u001b[0m 11:49:12 INFO - Number of files is 2, source profile {'max_file_size': 0.055823326110839844, 'min_file_size': 0.0551910400390625, 'total_file_size': 0.11101436614990234}\n",
      "\u001b[36m(orchestrate pid=3779196)\u001b[0m 11:49:12 INFO - Cluster resources: {'cpus': 16, 'gpus': 1, 'memory': 5.374188995920122, 'object_store': 2.6870944974943995}\n",
      "\u001b[36m(orchestrate pid=3779196)\u001b[0m 11:49:12 INFO - Number of workers - 2 with {'num_cpus': 1, 'memory': 2147483648, 'max_restarts': -1} each\n",
      "\u001b[36m(orchestrate pid=3779196)\u001b[0m 11:49:12 INFO - Completed 0 files (0.0%)  in 0.0 min. Waiting for completion\n",
      "\u001b[36m(RayTransformFileProcessor pid=3780094)\u001b[0m 11:49:15 INFO - Initializing models\n",
      "Fetching 9 files: 100%|██████████| 9/9 [00:00<00:00, 79137.81it/s]\n",
      "\u001b[36m(RayTransformFileProcessor pid=3780094)\u001b[0m Neither CUDA nor MPS are available - defaulting to CPU. Note: This module is much faster with a GPU.\n",
      "\u001b[36m(orchestrate pid=3779196)\u001b[0m 11:49:21 INFO - Completed processing 2 files in 0.135 min\n",
      "\u001b[36m(orchestrate pid=3779196)\u001b[0m 11:49:21 INFO - done flushing in 0.001 sec\n",
      "\u001b[36m(RayTransformFileProcessor pid=3780093)\u001b[0m 11:49:15 INFO - Initializing models\n",
      "11:49:31 INFO - Completed execution in 0.392 min, execution result 0\n",
      "Fetching 9 files: 100%|██████████| 9/9 [00:00<00:00, 64749.12it/s]\n",
      "\u001b[36m(RayTransformFileProcessor pid=3780093)\u001b[0m Neither CUDA nor MPS are available - defaulting to CPU. Note: This module is much faster with a GPU.\n"
     ]
    },
    {
     "name": "stdout",
     "output_type": "stream",
     "text": [
      "✅ Stage:1 completed successfully\n",
      "CPU times: user 3.48 s, sys: 500 ms, total: 3.98 s\n",
      "Wall time: 27.4 s\n"
     ]
    }
   ],
   "source": [
    "%%time \n",
    "\n",
    "import ast\n",
    "import os\n",
    "import sys\n",
    "\n",
    "from pdf2parquet_transform import (\n",
    "    pdf2parquet_contents_type_cli_param,\n",
    "    pdf2parquet_contents_types,\n",
    ")\n",
    "from pdf2parquet_transform_python import Pdf2ParquetPythonTransformConfiguration\n",
    "from pdf2parquet_transform_ray import Pdf2ParquetRayTransformConfiguration\n",
    "\n",
    "from data_processing.utils import GB, ParamsUtils\n",
    "\n",
    "\n",
    "# create parameters\n",
    "local_conf = {\n",
    "    \"input_folder\": input_folder,\n",
    "    \"output_folder\": output_folder,\n",
    "}\n",
    "worker_options = {\"num_cpus\" : MY_CONFIG.RAY_NUM_CPUS, \"memory\": MY_CONFIG.RAY_MEMORY_GB * GB}\n",
    "code_location = {\"github\": \"github\", \"commit_hash\": \"12345\", \"path\": \"path\"}\n",
    "ingest_config = {\n",
    "    pdf2parquet_contents_type_cli_param: pdf2parquet_contents_types.JSON,\n",
    "}\n",
    "\n",
    "params = {\n",
    "    # where to run\n",
    "    \"run_locally\": True,\n",
    "    # Data access. Only required parameters are specified\n",
    "    \"data_local_config\": ParamsUtils.convert_to_ast(local_conf),\n",
    "    \"data_files_to_use\": ast.literal_eval(\"['.pdf']\"),\n",
    "    # orchestrator\n",
    "    \"runtime_worker_options\": ParamsUtils.convert_to_ast(worker_options),\n",
    "    \"runtime_num_workers\": MY_CONFIG.RAY_RUNTIME_WORKERS,\n",
    "    \"runtime_pipeline_id\": \"pipeline_id\",\n",
    "    \"runtime_job_id\": \"job_id\",\n",
    "    \"runtime_code_location\": ParamsUtils.convert_to_ast(code_location),\n",
    "}\n",
    "\n",
    "\n",
    "sys.argv = ParamsUtils.dict_to_req(d=(params | ingest_config))\n",
    "# create launcher\n",
    "launcher = RayTransformLauncher(Pdf2ParquetRayTransformConfiguration())\n",
    "# launch\n",
    "return_code = launcher.launch()\n",
    "\n",
    "if return_code == 0:\n",
    "    print (f\"✅ Stage:{STAGE} completed successfully\")\n",
    "else:\n",
    "    raise Exception (\"❌ Ray job failed\")\n"
   ]
  },
  {
   "cell_type": "markdown",
   "id": "5ca790e0",
   "metadata": {},
   "source": [
    "### 2.3 - Inspect Generated output\n",
    "\n",
    "Here we should see one entry per input file processed"
   ]
  },
  {
   "cell_type": "code",
   "execution_count": 6,
   "id": "fe59563d",
   "metadata": {},
   "outputs": [
    {
     "name": "stdout",
     "output_type": "stream",
     "text": [
      "Output dimensions (rows x columns)=  (2, 12)\n"
     ]
    },
    {
     "data": {
      "text/html": [
       "<div>\n",
       "<style scoped>\n",
       "    .dataframe tbody tr th:only-of-type {\n",
       "        vertical-align: middle;\n",
       "    }\n",
       "\n",
       "    .dataframe tbody tr th {\n",
       "        vertical-align: top;\n",
       "    }\n",
       "\n",
       "    .dataframe thead th {\n",
       "        text-align: right;\n",
       "    }\n",
       "</style>\n",
       "<table border=\"1\" class=\"dataframe\">\n",
       "  <thead>\n",
       "    <tr style=\"text-align: right;\">\n",
       "      <th></th>\n",
       "      <th>filename</th>\n",
       "      <th>contents</th>\n",
       "      <th>num_pages</th>\n",
       "      <th>num_tables</th>\n",
       "      <th>num_doc_elements</th>\n",
       "      <th>document_id</th>\n",
       "      <th>ext</th>\n",
       "      <th>hash</th>\n",
       "      <th>size</th>\n",
       "      <th>date_acquired</th>\n",
       "      <th>pdf_convert_time</th>\n",
       "      <th>source_filename</th>\n",
       "    </tr>\n",
       "  </thead>\n",
       "  <tbody>\n",
       "    <tr>\n",
       "      <th>0</th>\n",
       "      <td>mars.pdf</td>\n",
       "      <td>{\"_name\":\"\",\"type\":\"pdf-document\",\"description...</td>\n",
       "      <td>1</td>\n",
       "      <td>0</td>\n",
       "      <td>11</td>\n",
       "      <td>39513892-bd6e-4935-b196-ef95ea5804fa</td>\n",
       "      <td>pdf</td>\n",
       "      <td>8edd5dfbf888777120b528a5d8998f2757d006df0eaef7...</td>\n",
       "      <td>2800</td>\n",
       "      <td>2024-09-20T11:49:20.974002</td>\n",
       "      <td>1.919181</td>\n",
       "      <td>mars.pdf</td>\n",
       "    </tr>\n",
       "    <tr>\n",
       "      <th>1</th>\n",
       "      <td>earth.pdf</td>\n",
       "      <td>{\"_name\":\"\",\"type\":\"pdf-document\",\"description...</td>\n",
       "      <td>1</td>\n",
       "      <td>0</td>\n",
       "      <td>11</td>\n",
       "      <td>2573f862-f4a5-4d92-b8b9-6ff8cc92b8f0</td>\n",
       "      <td>pdf</td>\n",
       "      <td>18713f970989055625bef22209b6f4b6830b9ca22046bf...</td>\n",
       "      <td>2686</td>\n",
       "      <td>2024-09-20T11:49:21.020310</td>\n",
       "      <td>1.936369</td>\n",
       "      <td>earth.pdf</td>\n",
       "    </tr>\n",
       "  </tbody>\n",
       "</table>\n",
       "</div>"
      ],
      "text/plain": [
       "    filename                                           contents  num_pages  \\\n",
       "0   mars.pdf  {\"_name\":\"\",\"type\":\"pdf-document\",\"description...          1   \n",
       "1  earth.pdf  {\"_name\":\"\",\"type\":\"pdf-document\",\"description...          1   \n",
       "\n",
       "   num_tables  num_doc_elements                           document_id  ext  \\\n",
       "0           0                11  39513892-bd6e-4935-b196-ef95ea5804fa  pdf   \n",
       "1           0                11  2573f862-f4a5-4d92-b8b9-6ff8cc92b8f0  pdf   \n",
       "\n",
       "                                                hash  size  \\\n",
       "0  8edd5dfbf888777120b528a5d8998f2757d006df0eaef7...  2800   \n",
       "1  18713f970989055625bef22209b6f4b6830b9ca22046bf...  2686   \n",
       "\n",
       "                date_acquired  pdf_convert_time source_filename  \n",
       "0  2024-09-20T11:49:20.974002          1.919181        mars.pdf  \n",
       "1  2024-09-20T11:49:21.020310          1.936369       earth.pdf  "
      ]
     },
     "execution_count": 6,
     "metadata": {},
     "output_type": "execute_result"
    }
   ],
   "source": [
    "from utils import read_parquet_files_as_df\n",
    "\n",
    "output_df = read_parquet_files_as_df(output_folder)\n",
    "\n",
    "print (\"Output dimensions (rows x columns)= \", output_df.shape)\n",
    "\n",
    "output_df.head(5)\n",
    "\n",
    "## To display certain columns\n",
    "#parquet_df[['column1', 'column2', 'column3']].head(5)"
   ]
  },
  {
   "cell_type": "markdown",
   "id": "72274586",
   "metadata": {},
   "source": [
    "<a id=\"chunking\"></a>\n",
    "\n",
    "##  Step-3: Doc chunks\n",
    "\n",
    "Split the documents in chunks, according to their layout segmentation."
   ]
  },
  {
   "cell_type": "markdown",
   "id": "96198fa6",
   "metadata": {},
   "source": [
    "### 3.1 - Set Input/output Folder"
   ]
  },
  {
   "cell_type": "code",
   "execution_count": 7,
   "id": "305f00a3",
   "metadata": {},
   "outputs": [
    {
     "name": "stdout",
     "output_type": "stream",
     "text": [
      "🏃🏼 STAGE-2: Processing input='output-solar-system/01_parquet_out' --> output='output-solar-system/02_chunk_out'\n"
     ]
    }
   ],
   "source": [
    "STAGE = 2\n",
    "\n",
    "input_folder = output_parquet_dir # previous output folder is the input folder for the current stage\n",
    "output_folder =  output_chunk_dir\n",
    "\n",
    "input_df = read_parquet_files_as_df(input_folder)  ## for debug purposes\n",
    "\n",
    "print (f\"🏃🏼 STAGE-{STAGE}: Processing input='{input_folder}' --> output='{output_folder}'\")"
   ]
  },
  {
   "cell_type": "markdown",
   "id": "369f2cd1",
   "metadata": {},
   "source": [
    "### 3.2 -  Execute "
   ]
  },
  {
   "cell_type": "code",
   "execution_count": 8,
   "id": "5b7b18d5",
   "metadata": {},
   "outputs": [
    {
     "name": "stderr",
     "output_type": "stream",
     "text": [
      "11:49:33 INFO - Running locally\n",
      "11:49:33 INFO - doc_chunk parameters are : {'chunking_type': <chunking_types.DL_JSON: 'dl_json'>, 'content_column_name': 'contents', 'output_chunk_column_name': 'contents', 'output_jsonpath_column_name': 'doc_jsonpath', 'output_pageno_column_name': 'page_number', 'output_bbox_column_name': 'bbox'}\n",
      "11:49:33 INFO - data factory data_ is using local data access: input_folder - output-solar-system/01_parquet_out output_folder - output-solar-system/02_chunk_out\n",
      "11:49:33 INFO - data factory data_ max_files -1, n_sample -1\n",
      "11:49:33 INFO - data factory data_ Not using data sets, checkpointing False, max files -1, random samples -1, files to use ['.parquet'], files to checkpoint ['.parquet']\n",
      "11:49:33 INFO - pipeline id pipeline_id\n",
      "11:49:33 INFO - code location None\n",
      "11:49:33 INFO - number of workers 2 worker options {'num_cpus': 1, 'max_restarts': -1}\n",
      "11:49:33 INFO - actor creation delay 0\n",
      "11:49:33 INFO - job details {'job category': 'preprocessing', 'job name': 'doc_chunk', 'job type': 'ray', 'job id': 'job_id'}\n",
      "2024-09-20 11:49:35,205\tINFO worker.py:1744 -- Started a local Ray instance. View the dashboard at \u001b[1m\u001b[32mhttp://127.0.0.1:8265 \u001b[39m\u001b[22m\n",
      "\u001b[36m(orchestrate pid=3781052)\u001b[0m 11:49:37 INFO - orchestrator started at 2024-09-20 11:49:37\n",
      "\u001b[36m(orchestrate pid=3781052)\u001b[0m 11:49:37 INFO - Number of files is 2, source profile {'max_file_size': 0.02239513397216797, 'min_file_size': 0.02167987823486328, 'total_file_size': 0.04407501220703125}\n",
      "\u001b[36m(orchestrate pid=3781052)\u001b[0m 11:49:37 INFO - Cluster resources: {'cpus': 16, 'gpus': 1, 'memory': 5.344821168109775, 'object_store': 2.6724105831235647}\n",
      "\u001b[36m(orchestrate pid=3781052)\u001b[0m 11:49:37 INFO - Number of workers - 2 with {'num_cpus': 1, 'max_restarts': -1} each\n",
      "\u001b[36m(orchestrate pid=3781052)\u001b[0m 11:49:37 INFO - Completed 0 files (0.0%)  in 0.0 min. Waiting for completion\n",
      "\u001b[36m(orchestrate pid=3781052)\u001b[0m 11:49:39 INFO - Completed processing 2 files in 0.032 min\n",
      "\u001b[36m(orchestrate pid=3781052)\u001b[0m 11:49:39 INFO - done flushing in 0.001 sec\n",
      "11:49:49 INFO - Completed execution in 0.27 min, execution result 0\n"
     ]
    },
    {
     "name": "stdout",
     "output_type": "stream",
     "text": [
      "✅ Stage:2 completed successfully\n",
      "CPU times: user 915 ms, sys: 275 ms, total: 1.19 s\n",
      "Wall time: 18.4 s\n"
     ]
    }
   ],
   "source": [
    "%%time \n",
    "\n",
    "# Import doc_json_chunk transform configuration\n",
    "from doc_chunk_transform_ray import DocChunkRayTransformConfiguration\n",
    "\n",
    "\n",
    "# Prepare the commandline params\n",
    "local_conf = {\n",
    "    \"input_folder\": input_folder,\n",
    "    \"output_folder\": output_folder,\n",
    "}\n",
    "worker_options = {\"num_cpus\" : MY_CONFIG.RAY_NUM_CPUS}\n",
    "params = {\n",
    "    # where to run\n",
    "    \"run_locally\": True,\n",
    "    # Data access. Only required parameters are specified\n",
    "    \"data_local_config\": ParamsUtils.convert_to_ast(local_conf),\n",
    "    # orchestrator\n",
    "    \"runtime_worker_options\": ParamsUtils.convert_to_ast(worker_options),\n",
    "    \"runtime_num_workers\": MY_CONFIG.RAY_RUNTIME_WORKERS,\n",
    "    # doc_chunk arguments\n",
    "    # ...\n",
    "}\n",
    "\n",
    "# Pass the commandline params\n",
    "sys.argv = ParamsUtils.dict_to_req(d=params)\n",
    "\n",
    "# create launcher\n",
    "launcher = RayTransformLauncher(DocChunkRayTransformConfiguration())\n",
    "# launch\n",
    "return_code = launcher.launch()\n",
    "\n",
    "if return_code == 0:\n",
    "    print (f\"✅ Stage:{STAGE} completed successfully\")\n",
    "else:\n",
    "    raise Exception (\"❌ Ray job failed\")"
   ]
  },
  {
   "cell_type": "markdown",
   "id": "213afdf6",
   "metadata": {},
   "source": [
    "### 3.3 - Inspect Generated output\n",
    "\n",
    "We would see documents are split into many chunks"
   ]
  },
  {
   "cell_type": "code",
   "execution_count": 9,
   "id": "d8138d43",
   "metadata": {},
   "outputs": [
    {
     "name": "stdout",
     "output_type": "stream",
     "text": [
      "Files processed : 2\n",
      "Chunks created : 8\n",
      "Input data dimensions (rows x columns)=  (2, 12)\n",
      "Output data dimensions (rows x columns)=  (8, 15)\n"
     ]
    },
    {
     "data": {
      "text/html": [
       "<div>\n",
       "<style scoped>\n",
       "    .dataframe tbody tr th:only-of-type {\n",
       "        vertical-align: middle;\n",
       "    }\n",
       "\n",
       "    .dataframe tbody tr th {\n",
       "        vertical-align: top;\n",
       "    }\n",
       "\n",
       "    .dataframe thead th {\n",
       "        text-align: right;\n",
       "    }\n",
       "</style>\n",
       "<table border=\"1\" class=\"dataframe\">\n",
       "  <thead>\n",
       "    <tr style=\"text-align: right;\">\n",
       "      <th></th>\n",
       "      <th>filename</th>\n",
       "      <th>num_pages</th>\n",
       "      <th>num_tables</th>\n",
       "      <th>num_doc_elements</th>\n",
       "      <th>document_id</th>\n",
       "      <th>ext</th>\n",
       "      <th>hash</th>\n",
       "      <th>size</th>\n",
       "      <th>date_acquired</th>\n",
       "      <th>pdf_convert_time</th>\n",
       "      <th>source_filename</th>\n",
       "      <th>contents</th>\n",
       "      <th>doc_jsonpath</th>\n",
       "      <th>page_number</th>\n",
       "      <th>bbox</th>\n",
       "    </tr>\n",
       "  </thead>\n",
       "  <tbody>\n",
       "    <tr>\n",
       "      <th>3</th>\n",
       "      <td>mars.pdf</td>\n",
       "      <td>1</td>\n",
       "      <td>0</td>\n",
       "      <td>11</td>\n",
       "      <td>39513892-bd6e-4935-b196-ef95ea5804fa</td>\n",
       "      <td>pdf</td>\n",
       "      <td>8edd5dfbf888777120b528a5d8998f2757d006df0eaef7...</td>\n",
       "      <td>2800</td>\n",
       "      <td>2024-09-20T11:49:20.974002</td>\n",
       "      <td>1.919181</td>\n",
       "      <td>mars.pdf</td>\n",
       "      <td>Basic facts about Mars:\\n· Distance from the S...</td>\n",
       "      <td>$.main-text[6]</td>\n",
       "      <td>1</td>\n",
       "      <td>[133.2026062, 482.90710449, 237.04431152, 493....</td>\n",
       "    </tr>\n",
       "    <tr>\n",
       "      <th>6</th>\n",
       "      <td>earth.pdf</td>\n",
       "      <td>1</td>\n",
       "      <td>0</td>\n",
       "      <td>11</td>\n",
       "      <td>2573f862-f4a5-4d92-b8b9-6ff8cc92b8f0</td>\n",
       "      <td>pdf</td>\n",
       "      <td>18713f970989055625bef22209b6f4b6830b9ca22046bf...</td>\n",
       "      <td>2686</td>\n",
       "      <td>2024-09-20T11:49:21.020310</td>\n",
       "      <td>1.936369</td>\n",
       "      <td>earth.pdf</td>\n",
       "      <td>Earth\\nEarth is the third planet from the Sun....</td>\n",
       "      <td>$.main-text[5]</td>\n",
       "      <td>1</td>\n",
       "      <td>[132.91053772, 512.46295166, 477.84887695, 534...</td>\n",
       "    </tr>\n",
       "    <tr>\n",
       "      <th>1</th>\n",
       "      <td>mars.pdf</td>\n",
       "      <td>1</td>\n",
       "      <td>0</td>\n",
       "      <td>11</td>\n",
       "      <td>39513892-bd6e-4935-b196-ef95ea5804fa</td>\n",
       "      <td>pdf</td>\n",
       "      <td>8edd5dfbf888777120b528a5d8998f2757d006df0eaef7...</td>\n",
       "      <td>2800</td>\n",
       "      <td>2024-09-20T11:49:20.974002</td>\n",
       "      <td>1.919181</td>\n",
       "      <td>mars.pdf</td>\n",
       "      <td>Solar System\\nFor more details about the Solar...</td>\n",
       "      <td>$.main-text[3]</td>\n",
       "      <td>1</td>\n",
       "      <td>[133.18510437, 570.83258057, 374.99838257, 581...</td>\n",
       "    </tr>\n",
       "  </tbody>\n",
       "</table>\n",
       "</div>"
      ],
      "text/plain": [
       "    filename  num_pages  num_tables  num_doc_elements  \\\n",
       "3   mars.pdf          1           0                11   \n",
       "6  earth.pdf          1           0                11   \n",
       "1   mars.pdf          1           0                11   \n",
       "\n",
       "                            document_id  ext  \\\n",
       "3  39513892-bd6e-4935-b196-ef95ea5804fa  pdf   \n",
       "6  2573f862-f4a5-4d92-b8b9-6ff8cc92b8f0  pdf   \n",
       "1  39513892-bd6e-4935-b196-ef95ea5804fa  pdf   \n",
       "\n",
       "                                                hash  size  \\\n",
       "3  8edd5dfbf888777120b528a5d8998f2757d006df0eaef7...  2800   \n",
       "6  18713f970989055625bef22209b6f4b6830b9ca22046bf...  2686   \n",
       "1  8edd5dfbf888777120b528a5d8998f2757d006df0eaef7...  2800   \n",
       "\n",
       "                date_acquired  pdf_convert_time source_filename  \\\n",
       "3  2024-09-20T11:49:20.974002          1.919181        mars.pdf   \n",
       "6  2024-09-20T11:49:21.020310          1.936369       earth.pdf   \n",
       "1  2024-09-20T11:49:20.974002          1.919181        mars.pdf   \n",
       "\n",
       "                                            contents    doc_jsonpath  \\\n",
       "3  Basic facts about Mars:\\n· Distance from the S...  $.main-text[6]   \n",
       "6  Earth\\nEarth is the third planet from the Sun....  $.main-text[5]   \n",
       "1  Solar System\\nFor more details about the Solar...  $.main-text[3]   \n",
       "\n",
       "   page_number                                               bbox  \n",
       "3            1  [133.2026062, 482.90710449, 237.04431152, 493....  \n",
       "6            1  [132.91053772, 512.46295166, 477.84887695, 534...  \n",
       "1            1  [133.18510437, 570.83258057, 374.99838257, 581...  "
      ]
     },
     "execution_count": 9,
     "metadata": {},
     "output_type": "execute_result"
    }
   ],
   "source": [
    "from utils import read_parquet_files_as_df\n",
    "\n",
    "output_df = read_parquet_files_as_df(output_folder)\n",
    "\n",
    "print (f\"Files processed : {input_df.shape[0]:,}\")\n",
    "print (f\"Chunks created : {output_df.shape[0]:,}\")\n",
    "\n",
    "print (\"Input data dimensions (rows x columns)= \", input_df.shape)\n",
    "print (\"Output data dimensions (rows x columns)= \", output_df.shape)\n",
    "\n",
    "output_df.sample(min(3, output_df.shape[0]))"
   ]
  },
  {
   "cell_type": "markdown",
   "id": "6d4b9079",
   "metadata": {},
   "source": [
    "## Step-4:  DOC ID generation\n",
    "\n",
    "This transform annotates documents with document \"ids\". It supports the following transformations of the original data:\n",
    "\n",
    " - Adding document hash: this enables the addition of a document hash-based id to the data. The hash is calculated with `hashlib.sha256(doc.encode(\"utf-8\")).hexdigest()`. To enable this annotation, set hash_column to the name of the column, where you want to store it.\n",
    " - Adding integer document id: this allows the addition of an integer document id to the data that is unique across all rows in all tables provided to the transform() method. To enable this annotation, set int_id_column to the name of the column, where you want to store it. **This is a pre-requisite for fuzzy dedup** in the pipeline."
   ]
  },
  {
   "cell_type": "markdown",
   "id": "46e88f76",
   "metadata": {},
   "source": [
    "### 4.1 - Set Input/output Folder"
   ]
  },
  {
   "cell_type": "code",
   "execution_count": 10,
   "id": "7debd243",
   "metadata": {},
   "outputs": [
    {
     "name": "stdout",
     "output_type": "stream",
     "text": [
      "🏃🏼 STAGE-3: Processing input='output-solar-system/02_chunk_out' --> output='output-solar-system/03_docid_out'\n"
     ]
    }
   ],
   "source": [
    "\n",
    "STAGE  = 3\n",
    "\n",
    "input_folder = output_chunk_dir # previous output folder is the input folder for the current stage\n",
    "output_folder =  output_docid_dir\n",
    "\n",
    "input_df = read_parquet_files_as_df(input_folder)  ## for debug purposes\n",
    "\n",
    "print (f\"🏃🏼 STAGE-{STAGE}: Processing input='{input_folder}' --> output='{output_folder}'\")"
   ]
  },
  {
   "cell_type": "markdown",
   "id": "1cadc2f3",
   "metadata": {},
   "source": [
    "### 4.2 - Execute "
   ]
  },
  {
   "cell_type": "code",
   "execution_count": 11,
   "id": "6b0eade3",
   "metadata": {},
   "outputs": [
    {
     "name": "stderr",
     "output_type": "stream",
     "text": [
      "11:49:50 INFO - Running locally\n",
      "11:49:50 INFO - Doc id parameters are : {'doc_column': 'contents', 'hash_column': 'chunk_hash', 'int_column': 'chunk_id', 'start_id': 0}\n",
      "11:49:50 INFO - data factory data_ is using local data access: input_folder - output-solar-system/02_chunk_out output_folder - output-solar-system/03_docid_out\n",
      "11:49:50 INFO - data factory data_ max_files -1, n_sample -1\n",
      "11:49:50 INFO - data factory data_ Not using data sets, checkpointing False, max files -1, random samples -1, files to use ['.parquet'], files to checkpoint ['.parquet']\n",
      "11:49:50 INFO - pipeline id pipeline_id\n",
      "11:49:50 INFO - code location None\n",
      "11:49:50 INFO - number of workers 2 worker options {'num_cpus': 1, 'max_restarts': -1}\n",
      "11:49:50 INFO - actor creation delay 0\n",
      "11:49:50 INFO - job details {'job category': 'preprocessing', 'job name': 'doc_id', 'job type': 'ray', 'job id': 'job_id'}\n",
      "2024-09-20 11:49:52,750\tINFO worker.py:1744 -- Started a local Ray instance. View the dashboard at \u001b[1m\u001b[32mhttp://127.0.0.1:8265 \u001b[39m\u001b[22m\n",
      "\u001b[36m(orchestrate pid=3782727)\u001b[0m 11:49:53 INFO - orchestrator started at 2024-09-20 11:49:53\n",
      "\u001b[36m(orchestrate pid=3782727)\u001b[0m 11:49:53 INFO - Number of files is 2, source profile {'max_file_size': 0.008135795593261719, 'min_file_size': 0.008058547973632812, 'total_file_size': 0.01619434356689453}\n",
      "\u001b[36m(orchestrate pid=3782727)\u001b[0m 11:49:53 INFO - Cluster resources: {'cpus': 16, 'gpus': 1, 'memory': 5.322205353528261, 'object_store': 2.661102675832808}\n",
      "\u001b[36m(orchestrate pid=3782727)\u001b[0m 11:49:53 INFO - Number of workers - 2 with {'num_cpus': 1, 'max_restarts': -1} each\n",
      "\u001b[36m(orchestrate pid=3782727)\u001b[0m 11:49:53 INFO - Completed 0 files (0.0%)  in 0.0 min. Waiting for completion\n",
      "\u001b[36m(orchestrate pid=3782727)\u001b[0m 11:49:54 INFO - Completed processing 2 files in 0.013 min\n",
      "\u001b[36m(orchestrate pid=3782727)\u001b[0m 11:49:54 INFO - done flushing in 0.001 sec\n",
      "11:50:04 INFO - Completed execution in 0.228 min, execution result 0\n"
     ]
    },
    {
     "name": "stdout",
     "output_type": "stream",
     "text": [
      "✅ Stage:3 completed successfully\n",
      "CPU times: user 127 ms, sys: 166 ms, total: 292 ms\n",
      "Wall time: 15.1 s\n"
     ]
    }
   ],
   "source": [
    "%%time \n",
    "\n",
    "from doc_id_transform_ray import DocIDRayTransformRuntimeConfiguration\n",
    "local_conf = {\n",
    "    \"input_folder\": input_folder,\n",
    "    \"output_folder\": output_folder,\n",
    "}\n",
    "worker_options = {\"num_cpus\" : MY_CONFIG.RAY_NUM_CPUS}\n",
    "params = {\n",
    "    # where to run\n",
    "    \"run_locally\": True,\n",
    "    # Data access. Only required parameters are specified\n",
    "    \"data_local_config\": ParamsUtils.convert_to_ast(local_conf),\n",
    "    # orchestrator\n",
    "    \"runtime_worker_options\": ParamsUtils.convert_to_ast(worker_options),\n",
    "    \"runtime_num_workers\": MY_CONFIG.RAY_RUNTIME_WORKERS,\n",
    "    # doc id configuration\n",
    "    \"doc_id_doc_column\": \"contents\",\n",
    "    \"doc_id_hash_column\": \"chunk_hash\",\n",
    "    \"doc_id_int_column\": \"chunk_id\",\n",
    "}\n",
    "sys.argv = ParamsUtils.dict_to_req(d=params)\n",
    "\n",
    "# launch\n",
    "\n",
    "launcher = RayTransformLauncher(DocIDRayTransformRuntimeConfiguration())\n",
    "\n",
    "return_code = launcher.launch()\n",
    "\n",
    "if return_code == 0:\n",
    "    print (f\"✅ Stage:{STAGE} completed successfully\")\n",
    "else:\n",
    "    raise Exception (\"❌ Ray job failed\")"
   ]
  },
  {
   "cell_type": "markdown",
   "id": "d5c5c6e4",
   "metadata": {},
   "source": [
    "### 4.3 - Inspect Generated output"
   ]
  },
  {
   "cell_type": "code",
   "execution_count": 12,
   "id": "45d941b2",
   "metadata": {},
   "outputs": [
    {
     "name": "stdout",
     "output_type": "stream",
     "text": [
      "Input data dimensions (rows x columns)=  (8, 15)\n",
      "Output data dimensions (rows x columns)=  (8, 17)\n"
     ]
    },
    {
     "data": {
      "text/html": [
       "<div>\n",
       "<style scoped>\n",
       "    .dataframe tbody tr th:only-of-type {\n",
       "        vertical-align: middle;\n",
       "    }\n",
       "\n",
       "    .dataframe tbody tr th {\n",
       "        vertical-align: top;\n",
       "    }\n",
       "\n",
       "    .dataframe thead th {\n",
       "        text-align: right;\n",
       "    }\n",
       "</style>\n",
       "<table border=\"1\" class=\"dataframe\">\n",
       "  <thead>\n",
       "    <tr style=\"text-align: right;\">\n",
       "      <th></th>\n",
       "      <th>filename</th>\n",
       "      <th>num_pages</th>\n",
       "      <th>num_tables</th>\n",
       "      <th>num_doc_elements</th>\n",
       "      <th>document_id</th>\n",
       "      <th>ext</th>\n",
       "      <th>hash</th>\n",
       "      <th>size</th>\n",
       "      <th>date_acquired</th>\n",
       "      <th>pdf_convert_time</th>\n",
       "      <th>source_filename</th>\n",
       "      <th>contents</th>\n",
       "      <th>doc_jsonpath</th>\n",
       "      <th>page_number</th>\n",
       "      <th>bbox</th>\n",
       "      <th>chunk_hash</th>\n",
       "      <th>chunk_id</th>\n",
       "    </tr>\n",
       "  </thead>\n",
       "  <tbody>\n",
       "    <tr>\n",
       "      <th>1</th>\n",
       "      <td>mars.pdf</td>\n",
       "      <td>1</td>\n",
       "      <td>0</td>\n",
       "      <td>11</td>\n",
       "      <td>39513892-bd6e-4935-b196-ef95ea5804fa</td>\n",
       "      <td>pdf</td>\n",
       "      <td>8edd5dfbf888777120b528a5d8998f2757d006df0eaef7...</td>\n",
       "      <td>2800</td>\n",
       "      <td>2024-09-20T11:49:20.974002</td>\n",
       "      <td>1.919181</td>\n",
       "      <td>mars.pdf</td>\n",
       "      <td>Solar System\\nFor more details about the Solar...</td>\n",
       "      <td>$.main-text[3]</td>\n",
       "      <td>1</td>\n",
       "      <td>[133.18510437, 570.83258057, 374.99838257, 581...</td>\n",
       "      <td>dee4c03474c98efdabbadbcc4ce91138c7820f4ac8ff07...</td>\n",
       "      <td>1</td>\n",
       "    </tr>\n",
       "    <tr>\n",
       "      <th>3</th>\n",
       "      <td>mars.pdf</td>\n",
       "      <td>1</td>\n",
       "      <td>0</td>\n",
       "      <td>11</td>\n",
       "      <td>39513892-bd6e-4935-b196-ef95ea5804fa</td>\n",
       "      <td>pdf</td>\n",
       "      <td>8edd5dfbf888777120b528a5d8998f2757d006df0eaef7...</td>\n",
       "      <td>2800</td>\n",
       "      <td>2024-09-20T11:49:20.974002</td>\n",
       "      <td>1.919181</td>\n",
       "      <td>mars.pdf</td>\n",
       "      <td>Basic facts about Mars:\\n· Distance from the S...</td>\n",
       "      <td>$.main-text[6]</td>\n",
       "      <td>1</td>\n",
       "      <td>[133.2026062, 482.90710449, 237.04431152, 493....</td>\n",
       "      <td>7ff317954ec5f3b15607c053c30c2b0db0f6b64cc3295a...</td>\n",
       "      <td>3</td>\n",
       "    </tr>\n",
       "    <tr>\n",
       "      <th>6</th>\n",
       "      <td>earth.pdf</td>\n",
       "      <td>1</td>\n",
       "      <td>0</td>\n",
       "      <td>11</td>\n",
       "      <td>2573f862-f4a5-4d92-b8b9-6ff8cc92b8f0</td>\n",
       "      <td>pdf</td>\n",
       "      <td>18713f970989055625bef22209b6f4b6830b9ca22046bf...</td>\n",
       "      <td>2686</td>\n",
       "      <td>2024-09-20T11:49:21.020310</td>\n",
       "      <td>1.936369</td>\n",
       "      <td>earth.pdf</td>\n",
       "      <td>Earth\\nEarth is the third planet from the Sun....</td>\n",
       "      <td>$.main-text[5]</td>\n",
       "      <td>1</td>\n",
       "      <td>[132.91053772, 512.46295166, 477.84887695, 534...</td>\n",
       "      <td>7c4a750e2215f231803a6f8078bde1e9699034fb033dd3...</td>\n",
       "      <td>6</td>\n",
       "    </tr>\n",
       "  </tbody>\n",
       "</table>\n",
       "</div>"
      ],
      "text/plain": [
       "    filename  num_pages  num_tables  num_doc_elements  \\\n",
       "1   mars.pdf          1           0                11   \n",
       "3   mars.pdf          1           0                11   \n",
       "6  earth.pdf          1           0                11   \n",
       "\n",
       "                            document_id  ext  \\\n",
       "1  39513892-bd6e-4935-b196-ef95ea5804fa  pdf   \n",
       "3  39513892-bd6e-4935-b196-ef95ea5804fa  pdf   \n",
       "6  2573f862-f4a5-4d92-b8b9-6ff8cc92b8f0  pdf   \n",
       "\n",
       "                                                hash  size  \\\n",
       "1  8edd5dfbf888777120b528a5d8998f2757d006df0eaef7...  2800   \n",
       "3  8edd5dfbf888777120b528a5d8998f2757d006df0eaef7...  2800   \n",
       "6  18713f970989055625bef22209b6f4b6830b9ca22046bf...  2686   \n",
       "\n",
       "                date_acquired  pdf_convert_time source_filename  \\\n",
       "1  2024-09-20T11:49:20.974002          1.919181        mars.pdf   \n",
       "3  2024-09-20T11:49:20.974002          1.919181        mars.pdf   \n",
       "6  2024-09-20T11:49:21.020310          1.936369       earth.pdf   \n",
       "\n",
       "                                            contents    doc_jsonpath  \\\n",
       "1  Solar System\\nFor more details about the Solar...  $.main-text[3]   \n",
       "3  Basic facts about Mars:\\n· Distance from the S...  $.main-text[6]   \n",
       "6  Earth\\nEarth is the third planet from the Sun....  $.main-text[5]   \n",
       "\n",
       "   page_number                                               bbox  \\\n",
       "1            1  [133.18510437, 570.83258057, 374.99838257, 581...   \n",
       "3            1  [133.2026062, 482.90710449, 237.04431152, 493....   \n",
       "6            1  [132.91053772, 512.46295166, 477.84887695, 534...   \n",
       "\n",
       "                                          chunk_hash  chunk_id  \n",
       "1  dee4c03474c98efdabbadbcc4ce91138c7820f4ac8ff07...         1  \n",
       "3  7ff317954ec5f3b15607c053c30c2b0db0f6b64cc3295a...         3  \n",
       "6  7c4a750e2215f231803a6f8078bde1e9699034fb033dd3...         6  "
      ]
     },
     "execution_count": 12,
     "metadata": {},
     "output_type": "execute_result"
    }
   ],
   "source": [
    "from utils import read_parquet_files_as_df\n",
    "\n",
    "output_df = read_parquet_files_as_df(output_folder)\n",
    "\n",
    "print (\"Input data dimensions (rows x columns)= \", input_df.shape)\n",
    "print (\"Output data dimensions (rows x columns)= \", output_df.shape)\n",
    "\n",
    "output_df.sample(min(3, output_df.shape[0]))"
   ]
  },
  {
   "cell_type": "markdown",
   "id": "4692975c-49ff-41ae-810e-0f5bc0bbdc53",
   "metadata": {},
   "source": [
    "## Step-5: Exact Dedup\n",
    "\n",
    "Remove documents having identical code to remove bias in the training data. On the content of each document, a SHA256 hash is computed,\n",
    "followed by de-duplication of record having identical hashes."
   ]
  },
  {
   "cell_type": "markdown",
   "id": "5acfd3a2-a236-4143-bcfc-15804f1da7fe",
   "metadata": {},
   "source": [
    "### 5.1 -  Set Input/output Folder"
   ]
  },
  {
   "cell_type": "code",
   "execution_count": 13,
   "id": "4c7a1b94",
   "metadata": {},
   "outputs": [
    {
     "name": "stdout",
     "output_type": "stream",
     "text": [
      "🏃🏼 STAGE-4: Processing input='output-solar-system/03_docid_out' --> output='output-solar-system/04_exact_dedupe_out'\n"
     ]
    }
   ],
   "source": [
    "STAGE  = 4\n",
    "\n",
    "input_folder = output_docid_dir # previous output folder is the input folder for the current stage\n",
    "output_folder =  output_exact_dedupe_dir\n",
    "\n",
    "input_df = read_parquet_files_as_df(input_folder)  ## for debug purposes\n",
    "\n",
    "print (f\"🏃🏼 STAGE-{STAGE}: Processing input='{input_folder}' --> output='{output_folder}'\")"
   ]
  },
  {
   "cell_type": "markdown",
   "id": "3661cb37-39c7-4b09-a784-925bfa9eaf1e",
   "metadata": {},
   "source": [
    "### 5.2 - Execute "
   ]
  },
  {
   "cell_type": "code",
   "execution_count": 14,
   "id": "a624b2b2-faad-4325-ac7d-53a840f564ef",
   "metadata": {},
   "outputs": [
    {
     "name": "stderr",
     "output_type": "stream",
     "text": [
      "11:50:06 INFO - Running locally\n",
      "11:50:06 INFO - exact dedup params are {'doc_column': 'contents', 'doc_id_column': 'chunk_hash', 'use_snapshot': False, 'snapshot_directory': None, 'hash_cpu': 0.5, 'num_hashes': 2}\n",
      "11:50:06 INFO - data factory data_ is using local data access: input_folder - output-solar-system/03_docid_out output_folder - output-solar-system/04_exact_dedupe_out\n",
      "11:50:06 INFO - data factory data_ max_files -1, n_sample -1\n",
      "11:50:06 INFO - data factory data_ Not using data sets, checkpointing False, max files -1, random samples -1, files to use ['.parquet'], files to checkpoint ['.parquet']\n",
      "11:50:06 INFO - pipeline id pipeline_id\n",
      "11:50:06 INFO - code location None\n",
      "11:50:06 INFO - number of workers 2 worker options {'num_cpus': 1, 'max_restarts': -1}\n",
      "11:50:06 INFO - actor creation delay 0\n",
      "11:50:06 INFO - job details {'job category': 'preprocessing', 'job name': 'ededup', 'job type': 'ray', 'job id': 'job_id'}\n",
      "2024-09-20 11:50:07,944\tINFO worker.py:1744 -- Started a local Ray instance. View the dashboard at \u001b[1m\u001b[32mhttp://127.0.0.1:8265 \u001b[39m\u001b[22m\n",
      "\u001b[36m(orchestrate pid=3784334)\u001b[0m 11:50:08 INFO - orchestrator started at 2024-09-20 11:50:08\n",
      "\u001b[36m(orchestrate pid=3784334)\u001b[0m 11:50:08 INFO - Number of files is 2, source profile {'max_file_size': 0.009340286254882812, 'min_file_size': 0.0092620849609375, 'total_file_size': 0.018602371215820312}\n",
      "\u001b[36m(orchestrate pid=3784334)\u001b[0m 11:50:08 INFO - Cluster resources: {'cpus': 16, 'gpus': 1, 'memory': 5.342671967111528, 'object_store': 2.6713359830901027}\n",
      "\u001b[36m(orchestrate pid=3784334)\u001b[0m 11:50:08 INFO - Number of workers - 2 with {'num_cpus': 1, 'max_restarts': -1} each\n",
      "\u001b[36m(orchestrate pid=3784334)\u001b[0m 11:50:09 INFO - Completed 0 files (0.0%)  in 0.0 min. Waiting for completion\n",
      "\u001b[36m(orchestrate pid=3784334)\u001b[0m 11:50:09 INFO - Completed processing 2 files in 0.012 min\n",
      "\u001b[36m(orchestrate pid=3784334)\u001b[0m 11:50:09 INFO - done flushing in 0.001 sec\n",
      "11:50:19 INFO - Completed execution in 0.228 min, execution result 0\n"
     ]
    },
    {
     "name": "stdout",
     "output_type": "stream",
     "text": [
      "✅ Stage:4 completed successfully\n",
      "CPU times: user 125 ms, sys: 152 ms, total: 277 ms\n",
      "Wall time: 15.3 s\n"
     ]
    }
   ],
   "source": [
    "%%time\n",
    "\n",
    "# Import ededup transform configuration\n",
    "from ededup_transform_ray import EdedupRayTransformRuntimeConfiguration\n",
    "\n",
    "\n",
    "# Prepare the commandline params\n",
    "local_conf = {\n",
    "    \"input_folder\": input_folder,\n",
    "    \"output_folder\": output_folder,\n",
    "}\n",
    "worker_options = {\"num_cpus\" : MY_CONFIG.RAY_NUM_CPUS}\n",
    "params = {\n",
    "    # where to run\n",
    "    \"run_locally\": True,\n",
    "    # Data access. Only required parameters are specified\n",
    "    \"data_local_config\": ParamsUtils.convert_to_ast(local_conf),\n",
    "    # orchestrator\n",
    "    \"runtime_worker_options\": ParamsUtils.convert_to_ast(worker_options),\n",
    "    \"runtime_num_workers\": MY_CONFIG.RAY_RUNTIME_WORKERS,\n",
    "    # ededup parameters\n",
    "    \"ededup_hash_cpu\": 0.5,\n",
    "    \"ededup_num_hashes\": 2,\n",
    "    \"ededup_doc_column\": \"contents\",\n",
    "    \"ededup_doc_id_column\": \"chunk_hash\",\n",
    "    \n",
    "}\n",
    "\n",
    "# Pass the commandline params\n",
    "sys.argv = ParamsUtils.dict_to_req(d=params)\n",
    "\n",
    "# create launcher\n",
    "launcher = RayTransformLauncher(EdedupRayTransformRuntimeConfiguration())\n",
    "# launch\n",
    "return_code = launcher.launch()\n",
    "\n",
    "if return_code == 0:\n",
    "    print (f\"✅ Stage:{STAGE} completed successfully\")\n",
    "else:\n",
    "    raise Exception (\"❌ Ray job failed\")"
   ]
  },
  {
   "cell_type": "markdown",
   "id": "eaf1c3c3",
   "metadata": {},
   "source": [
    "### 5.3 - Inspect Generated output"
   ]
  },
  {
   "cell_type": "code",
   "execution_count": 15,
   "id": "d824ebf6",
   "metadata": {},
   "outputs": [
    {
     "name": "stdout",
     "output_type": "stream",
     "text": [
      "Input data dimensions (rows x columns)=  (8, 17)\n",
      "Output data dimensions (rows x columns)=  (7, 18)\n",
      "Input chunks before exact dedupe : 8\n",
      "Output chunks after exact dedupe : 7\n",
      "Duplicate chunks removed :   1\n"
     ]
    },
    {
     "data": {
      "text/html": [
       "<div>\n",
       "<style scoped>\n",
       "    .dataframe tbody tr th:only-of-type {\n",
       "        vertical-align: middle;\n",
       "    }\n",
       "\n",
       "    .dataframe tbody tr th {\n",
       "        vertical-align: top;\n",
       "    }\n",
       "\n",
       "    .dataframe thead th {\n",
       "        text-align: right;\n",
       "    }\n",
       "</style>\n",
       "<table border=\"1\" class=\"dataframe\">\n",
       "  <thead>\n",
       "    <tr style=\"text-align: right;\">\n",
       "      <th></th>\n",
       "      <th>filename</th>\n",
       "      <th>num_pages</th>\n",
       "      <th>num_tables</th>\n",
       "      <th>num_doc_elements</th>\n",
       "      <th>document_id</th>\n",
       "      <th>ext</th>\n",
       "      <th>hash</th>\n",
       "      <th>size</th>\n",
       "      <th>date_acquired</th>\n",
       "      <th>pdf_convert_time</th>\n",
       "      <th>source_filename</th>\n",
       "      <th>contents</th>\n",
       "      <th>doc_jsonpath</th>\n",
       "      <th>page_number</th>\n",
       "      <th>bbox</th>\n",
       "      <th>chunk_hash</th>\n",
       "      <th>chunk_id</th>\n",
       "      <th>removed</th>\n",
       "    </tr>\n",
       "  </thead>\n",
       "  <tbody>\n",
       "    <tr>\n",
       "      <th>5</th>\n",
       "      <td>earth.pdf</td>\n",
       "      <td>1</td>\n",
       "      <td>0</td>\n",
       "      <td>11</td>\n",
       "      <td>2573f862-f4a5-4d92-b8b9-6ff8cc92b8f0</td>\n",
       "      <td>pdf</td>\n",
       "      <td>18713f970989055625bef22209b6f4b6830b9ca22046bf...</td>\n",
       "      <td>2686</td>\n",
       "      <td>2024-09-20T11:49:21.020310</td>\n",
       "      <td>1.936369</td>\n",
       "      <td>earth.pdf</td>\n",
       "      <td>Earth\\nEarth is the third planet from the Sun....</td>\n",
       "      <td>$.main-text[5]</td>\n",
       "      <td>1</td>\n",
       "      <td>[132.91053772, 512.46295166, 477.84887695, 534...</td>\n",
       "      <td>7c4a750e2215f231803a6f8078bde1e9699034fb033dd3...</td>\n",
       "      <td>6</td>\n",
       "      <td>[]</td>\n",
       "    </tr>\n",
       "    <tr>\n",
       "      <th>1</th>\n",
       "      <td>mars.pdf</td>\n",
       "      <td>1</td>\n",
       "      <td>0</td>\n",
       "      <td>11</td>\n",
       "      <td>39513892-bd6e-4935-b196-ef95ea5804fa</td>\n",
       "      <td>pdf</td>\n",
       "      <td>8edd5dfbf888777120b528a5d8998f2757d006df0eaef7...</td>\n",
       "      <td>2800</td>\n",
       "      <td>2024-09-20T11:49:20.974002</td>\n",
       "      <td>1.919181</td>\n",
       "      <td>mars.pdf</td>\n",
       "      <td>Solar System\\nFor more details about the Solar...</td>\n",
       "      <td>$.main-text[3]</td>\n",
       "      <td>1</td>\n",
       "      <td>[133.18510437, 570.83258057, 374.99838257, 581...</td>\n",
       "      <td>dee4c03474c98efdabbadbcc4ce91138c7820f4ac8ff07...</td>\n",
       "      <td>1</td>\n",
       "      <td>[]</td>\n",
       "    </tr>\n",
       "    <tr>\n",
       "      <th>6</th>\n",
       "      <td>earth.pdf</td>\n",
       "      <td>1</td>\n",
       "      <td>0</td>\n",
       "      <td>11</td>\n",
       "      <td>2573f862-f4a5-4d92-b8b9-6ff8cc92b8f0</td>\n",
       "      <td>pdf</td>\n",
       "      <td>18713f970989055625bef22209b6f4b6830b9ca22046bf...</td>\n",
       "      <td>2686</td>\n",
       "      <td>2024-09-20T11:49:21.020310</td>\n",
       "      <td>1.936369</td>\n",
       "      <td>earth.pdf</td>\n",
       "      <td>Earth\\nBasic facts about Earth:\\n· Distance fr...</td>\n",
       "      <td>$.main-text[6]</td>\n",
       "      <td>1</td>\n",
       "      <td>[133.30151367, 494.86206055, 240.17156982, 505...</td>\n",
       "      <td>189a221704d17feeb96b1b1ef60a2a2445459848cd8e8f...</td>\n",
       "      <td>7</td>\n",
       "      <td>[]</td>\n",
       "    </tr>\n",
       "  </tbody>\n",
       "</table>\n",
       "</div>"
      ],
      "text/plain": [
       "    filename  num_pages  num_tables  num_doc_elements  \\\n",
       "5  earth.pdf          1           0                11   \n",
       "1   mars.pdf          1           0                11   \n",
       "6  earth.pdf          1           0                11   \n",
       "\n",
       "                            document_id  ext  \\\n",
       "5  2573f862-f4a5-4d92-b8b9-6ff8cc92b8f0  pdf   \n",
       "1  39513892-bd6e-4935-b196-ef95ea5804fa  pdf   \n",
       "6  2573f862-f4a5-4d92-b8b9-6ff8cc92b8f0  pdf   \n",
       "\n",
       "                                                hash  size  \\\n",
       "5  18713f970989055625bef22209b6f4b6830b9ca22046bf...  2686   \n",
       "1  8edd5dfbf888777120b528a5d8998f2757d006df0eaef7...  2800   \n",
       "6  18713f970989055625bef22209b6f4b6830b9ca22046bf...  2686   \n",
       "\n",
       "                date_acquired  pdf_convert_time source_filename  \\\n",
       "5  2024-09-20T11:49:21.020310          1.936369       earth.pdf   \n",
       "1  2024-09-20T11:49:20.974002          1.919181        mars.pdf   \n",
       "6  2024-09-20T11:49:21.020310          1.936369       earth.pdf   \n",
       "\n",
       "                                            contents    doc_jsonpath  \\\n",
       "5  Earth\\nEarth is the third planet from the Sun....  $.main-text[5]   \n",
       "1  Solar System\\nFor more details about the Solar...  $.main-text[3]   \n",
       "6  Earth\\nBasic facts about Earth:\\n· Distance fr...  $.main-text[6]   \n",
       "\n",
       "   page_number                                               bbox  \\\n",
       "5            1  [132.91053772, 512.46295166, 477.84887695, 534...   \n",
       "1            1  [133.18510437, 570.83258057, 374.99838257, 581...   \n",
       "6            1  [133.30151367, 494.86206055, 240.17156982, 505...   \n",
       "\n",
       "                                          chunk_hash  chunk_id removed  \n",
       "5  7c4a750e2215f231803a6f8078bde1e9699034fb033dd3...         6      []  \n",
       "1  dee4c03474c98efdabbadbcc4ce91138c7820f4ac8ff07...         1      []  \n",
       "6  189a221704d17feeb96b1b1ef60a2a2445459848cd8e8f...         7      []  "
      ]
     },
     "execution_count": 15,
     "metadata": {},
     "output_type": "execute_result"
    }
   ],
   "source": [
    "from utils import read_parquet_files_as_df\n",
    "\n",
    "output_df = read_parquet_files_as_df(output_folder)\n",
    "\n",
    "print (\"Input data dimensions (rows x columns)= \", input_df.shape)\n",
    "print (\"Output data dimensions (rows x columns)= \", output_df.shape)\n",
    "print (f\"Input chunks before exact dedupe : {input_df.shape[0]:,}\")\n",
    "print (f\"Output chunks after exact dedupe : {output_df.shape[0]:,}\")\n",
    "print (\"Duplicate chunks removed :  \", (input_df.shape[0] - output_df.shape[0]))\n",
    "\n",
    "output_df.sample(min(3, output_df.shape[0]))"
   ]
  },
  {
   "cell_type": "markdown",
   "id": "85309751-8556-41c6-ac32-84acc941bc8d",
   "metadata": {},
   "source": [
    "## Step-6: Fuzzy Dedup\n",
    "\n",
    "Post exact deduplication, fuzzy deduplication is applied with\n",
    "the goal of removing code files that may have slight variations and thereby unbiasing\n",
    "the data further. Small variations are quite commonly seen in code data in the form\n",
    "of variations in the values of variables, addittion of logging statements etc. Find near-\n",
    "duplicate."
   ]
  },
  {
   "cell_type": "markdown",
   "id": "fcf574a3-b287-419c-9c86-07b828b41ca6",
   "metadata": {},
   "source": [
    "### 6.1 - Set Input/output Folder"
   ]
  },
  {
   "cell_type": "code",
   "execution_count": 16,
   "id": "9e431c8c-c7c7-48de-ba5f-2c4649c35399",
   "metadata": {},
   "outputs": [
    {
     "name": "stdout",
     "output_type": "stream",
     "text": [
      "🏃🏼 STAGE-5: Processing input='output-solar-system/04_exact_dedupe_out' --> output='output-solar-system/05_fuzzy_dedupe_out'\n"
     ]
    }
   ],
   "source": [
    "## Input to this component is the output of doc_id generator component. \n",
    "\n",
    "STAGE  = 5\n",
    "\n",
    "input_folder = output_exact_dedupe_dir # previous output folder is the input folder for the current stage\n",
    "output_folder =  output_fuzzy_dedupe_dir\n",
    "\n",
    "input_df = read_parquet_files_as_df(input_folder)  ## for debug purposes\n",
    "\n",
    "print (f\"🏃🏼 STAGE-{STAGE}: Processing input='{input_folder}' --> output='{output_folder}'\")"
   ]
  },
  {
   "cell_type": "markdown",
   "id": "f4c82a8f-b513-4fe5-b172-d41b104b54f3",
   "metadata": {},
   "source": [
    "### 6.2 - Execute "
   ]
  },
  {
   "cell_type": "code",
   "execution_count": 17,
   "id": "3864ff77-e9a8-48f7-973b-c3b3aef1a94f",
   "metadata": {},
   "outputs": [
    {
     "name": "stderr",
     "output_type": "stream",
     "text": [
      "11:50:21 INFO - Running locally\n",
      "11:50:21 INFO - fuzzy dedup params are {'doc_column': 'contents', 'id_column': 'chunk_id', 'cluster_column': 'chunk_hash', 'bucket_cpu': 0.3, 'mhash_cpu': 0.3, 'doc_cpu': 0.3, 'num_doc_actors': 1, 'num_minhash_actors': 1, 'num_bucket_actors': 1, 'num_preprocessors': 1, 'num_permutations': 64, 'threshold': 0.7, 'shingles_size': 5, 'delimiters': ' ', 'snapshot_delay': 1, 'use_bucket_snapshot': False, 'use_doc_snapshot': False, 'random_delay_limit': 10, 'worker_options': {'num_cpus': 1}}\n",
      "11:50:21 INFO - data factory data_ is using local data access: input_folder - output-solar-system/04_exact_dedupe_out output_folder - output-solar-system/05_fuzzy_dedupe_out\n",
      "11:50:21 INFO - data factory data_ max_files -1, n_sample -1\n",
      "11:50:21 INFO - data factory data_ Not using data sets, checkpointing False, max files -1, random samples -1, files to use ['.parquet'], files to checkpoint ['.parquet']\n",
      "11:50:21 INFO - pipeline id pipeline_id\n",
      "11:50:21 INFO - code location None\n",
      "11:50:21 INFO - number of workers 2 worker options {'num_cpus': 1, 'max_restarts': -1}\n",
      "11:50:21 INFO - actor creation delay 0\n",
      "11:50:21 INFO - job details {'job category': 'preprocessing', 'job name': 'fdedup', 'job type': 'ray', 'job id': 'job_id'}\n",
      "2024-09-20 11:50:23,246\tINFO worker.py:1744 -- Started a local Ray instance. View the dashboard at \u001b[1m\u001b[32mhttp://127.0.0.1:8265 \u001b[39m\u001b[22m\n",
      "\u001b[36m(orchestrate pid=3786031)\u001b[0m 11:50:24 INFO - orchestrator started at 2024-09-20 11:50:24\n",
      "\u001b[36m(orchestrate pid=3786031)\u001b[0m 11:50:24 INFO - Number of files is 2, source profile {'max_file_size': 0.0096893310546875, 'min_file_size': 0.009440422058105469, 'total_file_size': 0.01912975311279297}\n",
      "\u001b[36m(orchestrate pid=3786031)\u001b[0m 11:50:24 INFO - Cluster resources: {'cpus': 16, 'gpus': 1, 'memory': 5.302031708881259, 'object_store': 2.651015853509307}\n",
      "\u001b[36m(orchestrate pid=3786031)\u001b[0m 11:50:24 INFO - Number of workers - 2 with {'num_cpus': 1, 'max_restarts': -1} each\n",
      "\u001b[36m(orchestrate pid=3786031)\u001b[0m 11:50:24 INFO - starting run from the beginning\n",
      "\u001b[36m(orchestrate pid=3786031)\u001b[0m 11:50:24 INFO - continuing from the very beginning\n",
      "\u001b[36m(orchestrate pid=3786031)\u001b[0m 11:50:24 INFO - Fuzzy: num buckets 8, bucket length 8\n",
      "\u001b[36m(orchestrate pid=3786031)\u001b[0m 11:50:24 INFO - created 1 bucket actors\n",
      "\u001b[36m(orchestrate pid=3786031)\u001b[0m 11:50:24 INFO - created 1 minhash actors\n",
      "\u001b[36m(orchestrate pid=3786031)\u001b[0m 11:50:24 INFO - Table preprocessing uses 1 readers\n",
      "\u001b[36m(orchestrate pid=3786031)\u001b[0m 11:50:24 INFO - created 1 table processor actors\n",
      "\u001b[36m(orchestrate pid=3786031)\u001b[0m 11:50:32 INFO - Completed 1 files in 0.131 min\n",
      "\u001b[36m(orchestrate pid=3786031)\u001b[0m 11:50:32 INFO - Completed 1 files (50.0%)  in 0.131 min. Waiting for completion\n",
      "\u001b[36m(orchestrate pid=3786031)\u001b[0m 11:50:40 INFO - Completed processing 2 files in 0.265 min\n",
      "\u001b[36m(orchestrate pid=3786031)\u001b[0m 11:50:40 INFO - creating minhash snapshots\n",
      "\u001b[36m(orchestrate pid=3786031)\u001b[0m 11:50:41 INFO - minhash snapshots created\n",
      "\u001b[36m(orchestrate pid=3786031)\u001b[0m 11:50:41 INFO - creating bucket snapshots\n",
      "\u001b[36m(orchestrate pid=3786031)\u001b[0m 11:50:42 INFO - bucket snapshots created\n",
      "\u001b[36m(orchestrate pid=3786031)\u001b[0m 11:50:42 INFO - created 1 document actors\n",
      "\u001b[36m(orchestrate pid=3786031)\u001b[0m 11:50:42 INFO - created 1 bucket processor actors\n",
      "\u001b[36m(orchestrate pid=3786031)\u001b[0m 11:50:42 INFO - created bucket processor invoker\n",
      "\u001b[36m(orchestrate pid=3786031)\u001b[0m 11:50:42 INFO - added invoker to bucket collectors\n",
      "\u001b[36m(BucketsHash pid=3786868)\u001b[0m 11:50:42 INFO - processing buckets 0 long, 53 short\n",
      "\u001b[36m(BucketsHash pid=3786868)\u001b[0m 11:50:42 INFO - Done submitting long buckets\n",
      "\u001b[36m(orchestrate pid=3786031)\u001b[0m 11:50:43 INFO - Done processing buckets in 0.011 min\n",
      "\u001b[36m(orchestrate pid=3786031)\u001b[0m 11:50:43 INFO - creating document snapshots\n",
      "\u001b[36m(BucketsHashProcessorInvoker pid=3787506)\u001b[0m 11:50:42 INFO - Waiting bucket processing completion. Submitted requests 1\n",
      "\u001b[36m(orchestrate pid=3786031)\u001b[0m 11:50:44 INFO - document snapshots created\n",
      "\u001b[36m(orchestrate pid=3786031)\u001b[0m 11:50:44 INFO - Completed 0 files (0.0%)  in 0.0 min. Waiting for completion\n",
      "\u001b[36m(orchestrate pid=3786031)\u001b[0m 11:50:46 INFO - Completed processing 2 files in 0.047 min\n",
      "\u001b[36m(orchestrate pid=3786031)\u001b[0m 11:50:46 INFO - done flushing in 0.004 sec\n",
      "11:50:56 INFO - Completed execution in 0.592 min, execution result 0\n"
     ]
    },
    {
     "name": "stdout",
     "output_type": "stream",
     "text": [
      "✅ Stage:5 completed successfully\n",
      "CPU times: user 185 ms, sys: 200 ms, total: 385 ms\n",
      "Wall time: 36.8 s\n"
     ]
    }
   ],
   "source": [
    "%%time \n",
    "\n",
    "import os\n",
    "import sys\n",
    "\n",
    "from data_processing.utils import ParamsUtils\n",
    "from fdedup_transform_ray import FdedupRayTransformConfiguration\n",
    "\n",
    "# create parameters\n",
    "\n",
    "local_conf = {\n",
    "    \"input_folder\": input_folder,\n",
    "    \"output_folder\": output_folder,\n",
    "}\n",
    "worker_options = {\"num_cpus\" : MY_CONFIG.RAY_NUM_CPUS}\n",
    "code_location = {\"github\": \"github\", \"commit_hash\": \"12345\", \"path\": \"path\"}\n",
    "params = {\n",
    "    # where to run\n",
    "    \"run_locally\": True,\n",
    "    # Data access. Only required parameters are specified\n",
    "    \"data_local_config\": ParamsUtils.convert_to_ast(local_conf),\n",
    "    # Orchestration parameters\n",
    "    \"runtime_worker_options\": ParamsUtils.convert_to_ast(worker_options),\n",
    "    \"runtime_num_workers\": MY_CONFIG.RAY_RUNTIME_WORKERS,\n",
    "    # columns used\n",
    "    \"fdedup_doc_column\": \"contents\",\n",
    "    \"fdedup_id_column\": \"chunk_id\",\n",
    "    \"fdedup_cluster_column\": \"chunk_hash\",\n",
    "    # infrastructure\n",
    "    \"fdedup_bucket_cpu\": 0.3,\n",
    "    \"fdedup_doc_cpu\": 0.3,\n",
    "    \"fdedup_mhash_cpu\": 0.3,\n",
    "    \"fdedup_num_doc_actors\": 1,\n",
    "    \"fdedup_num_bucket_actors\": 1,\n",
    "    \"fdedup_num_minhash_actors\": 1,\n",
    "    \"fdedup_num_preprocessors\": 1,\n",
    "    # fuzzy parameters\n",
    "    \"fdedup_num_permutations\": 64,\n",
    "    \"fdedup_threshold\": 0.7, # between 0.0 to 1.0 ; smaller values tend to be more lenient in finding near dupes; close to 1.0 is more strict\n",
    "    \"fdedup_shingles_size\": 5,\n",
    "    \"fdedup_delimiters\": \" \"\n",
    "}\n",
    "\n",
    "# Pass commandline params\n",
    "sys.argv = ParamsUtils.dict_to_req(d=params)\n",
    "\n",
    "# launch\n",
    "\n",
    "launcher = RayTransformLauncher(FdedupRayTransformConfiguration())\n",
    "\n",
    "return_code = launcher.launch()\n",
    "\n",
    "if return_code == 0:\n",
    "    print (f\"✅ Stage:{STAGE} completed successfully\")\n",
    "else:\n",
    "    raise Exception (\"❌ Ray job failed\")"
   ]
  },
  {
   "cell_type": "markdown",
   "id": "a6f8cd11",
   "metadata": {},
   "source": [
    "### 6.3 - Inspect Generated output"
   ]
  },
  {
   "cell_type": "code",
   "execution_count": 18,
   "id": "e899ad60",
   "metadata": {},
   "outputs": [
    {
     "name": "stdout",
     "output_type": "stream",
     "text": [
      "Input data dimensions (rows x columns)=  (7, 18)\n",
      "Output data dimensions (rows x columns)=  (6, 18)\n",
      "Duplicate chunks removed  by fuzzy-dedupe:   1\n"
     ]
    },
    {
     "data": {
      "text/html": [
       "<div>\n",
       "<style scoped>\n",
       "    .dataframe tbody tr th:only-of-type {\n",
       "        vertical-align: middle;\n",
       "    }\n",
       "\n",
       "    .dataframe tbody tr th {\n",
       "        vertical-align: top;\n",
       "    }\n",
       "\n",
       "    .dataframe thead th {\n",
       "        text-align: right;\n",
       "    }\n",
       "</style>\n",
       "<table border=\"1\" class=\"dataframe\">\n",
       "  <thead>\n",
       "    <tr style=\"text-align: right;\">\n",
       "      <th></th>\n",
       "      <th>filename</th>\n",
       "      <th>num_pages</th>\n",
       "      <th>num_tables</th>\n",
       "      <th>num_doc_elements</th>\n",
       "      <th>document_id</th>\n",
       "      <th>ext</th>\n",
       "      <th>hash</th>\n",
       "      <th>size</th>\n",
       "      <th>date_acquired</th>\n",
       "      <th>pdf_convert_time</th>\n",
       "      <th>source_filename</th>\n",
       "      <th>contents</th>\n",
       "      <th>doc_jsonpath</th>\n",
       "      <th>page_number</th>\n",
       "      <th>bbox</th>\n",
       "      <th>chunk_id</th>\n",
       "      <th>removed</th>\n",
       "      <th>chunk_hash</th>\n",
       "    </tr>\n",
       "  </thead>\n",
       "  <tbody>\n",
       "    <tr>\n",
       "      <th>0</th>\n",
       "      <td>mars.pdf</td>\n",
       "      <td>1</td>\n",
       "      <td>0</td>\n",
       "      <td>11</td>\n",
       "      <td>39513892-bd6e-4935-b196-ef95ea5804fa</td>\n",
       "      <td>pdf</td>\n",
       "      <td>8edd5dfbf888777120b528a5d8998f2757d006df0eaef7...</td>\n",
       "      <td>2800</td>\n",
       "      <td>2024-09-20T11:49:20.974002</td>\n",
       "      <td>1.919181</td>\n",
       "      <td>mars.pdf</td>\n",
       "      <td>Solar System\\nOur solar system is a vast and f...</td>\n",
       "      <td>$.main-text[2]</td>\n",
       "      <td>1</td>\n",
       "      <td>[132.84518433, 588.96014404, 479.40917969, 623...</td>\n",
       "      <td>0</td>\n",
       "      <td>[]</td>\n",
       "      <td>-1</td>\n",
       "    </tr>\n",
       "    <tr>\n",
       "      <th>3</th>\n",
       "      <td>mars.pdf</td>\n",
       "      <td>1</td>\n",
       "      <td>0</td>\n",
       "      <td>11</td>\n",
       "      <td>39513892-bd6e-4935-b196-ef95ea5804fa</td>\n",
       "      <td>pdf</td>\n",
       "      <td>8edd5dfbf888777120b528a5d8998f2757d006df0eaef7...</td>\n",
       "      <td>2800</td>\n",
       "      <td>2024-09-20T11:49:20.974002</td>\n",
       "      <td>1.919181</td>\n",
       "      <td>mars.pdf</td>\n",
       "      <td>Basic facts about Mars:\\n· Distance from the S...</td>\n",
       "      <td>$.main-text[6]</td>\n",
       "      <td>1</td>\n",
       "      <td>[133.2026062, 482.90710449, 237.04431152, 493....</td>\n",
       "      <td>3</td>\n",
       "      <td>[]</td>\n",
       "      <td>-1</td>\n",
       "    </tr>\n",
       "    <tr>\n",
       "      <th>4</th>\n",
       "      <td>earth.pdf</td>\n",
       "      <td>1</td>\n",
       "      <td>0</td>\n",
       "      <td>11</td>\n",
       "      <td>2573f862-f4a5-4d92-b8b9-6ff8cc92b8f0</td>\n",
       "      <td>pdf</td>\n",
       "      <td>18713f970989055625bef22209b6f4b6830b9ca22046bf...</td>\n",
       "      <td>2686</td>\n",
       "      <td>2024-09-20T11:49:21.020310</td>\n",
       "      <td>1.936369</td>\n",
       "      <td>earth.pdf</td>\n",
       "      <td>Earth\\nEarth is the third planet from the Sun....</td>\n",
       "      <td>$.main-text[5]</td>\n",
       "      <td>1</td>\n",
       "      <td>[132.91053772, 512.46295166, 477.84887695, 534...</td>\n",
       "      <td>6</td>\n",
       "      <td>[]</td>\n",
       "      <td>-1</td>\n",
       "    </tr>\n",
       "  </tbody>\n",
       "</table>\n",
       "</div>"
      ],
      "text/plain": [
       "    filename  num_pages  num_tables  num_doc_elements  \\\n",
       "0   mars.pdf          1           0                11   \n",
       "3   mars.pdf          1           0                11   \n",
       "4  earth.pdf          1           0                11   \n",
       "\n",
       "                            document_id  ext  \\\n",
       "0  39513892-bd6e-4935-b196-ef95ea5804fa  pdf   \n",
       "3  39513892-bd6e-4935-b196-ef95ea5804fa  pdf   \n",
       "4  2573f862-f4a5-4d92-b8b9-6ff8cc92b8f0  pdf   \n",
       "\n",
       "                                                hash  size  \\\n",
       "0  8edd5dfbf888777120b528a5d8998f2757d006df0eaef7...  2800   \n",
       "3  8edd5dfbf888777120b528a5d8998f2757d006df0eaef7...  2800   \n",
       "4  18713f970989055625bef22209b6f4b6830b9ca22046bf...  2686   \n",
       "\n",
       "                date_acquired  pdf_convert_time source_filename  \\\n",
       "0  2024-09-20T11:49:20.974002          1.919181        mars.pdf   \n",
       "3  2024-09-20T11:49:20.974002          1.919181        mars.pdf   \n",
       "4  2024-09-20T11:49:21.020310          1.936369       earth.pdf   \n",
       "\n",
       "                                            contents    doc_jsonpath  \\\n",
       "0  Solar System\\nOur solar system is a vast and f...  $.main-text[2]   \n",
       "3  Basic facts about Mars:\\n· Distance from the S...  $.main-text[6]   \n",
       "4  Earth\\nEarth is the third planet from the Sun....  $.main-text[5]   \n",
       "\n",
       "   page_number                                               bbox  chunk_id  \\\n",
       "0            1  [132.84518433, 588.96014404, 479.40917969, 623...         0   \n",
       "3            1  [133.2026062, 482.90710449, 237.04431152, 493....         3   \n",
       "4            1  [132.91053772, 512.46295166, 477.84887695, 534...         6   \n",
       "\n",
       "  removed  chunk_hash  \n",
       "0      []          -1  \n",
       "3      []          -1  \n",
       "4      []          -1  "
      ]
     },
     "execution_count": 18,
     "metadata": {},
     "output_type": "execute_result"
    }
   ],
   "source": [
    "from utils import read_parquet_files_as_df\n",
    "\n",
    "output_df = read_parquet_files_as_df(output_folder)\n",
    "\n",
    "print (\"Input data dimensions (rows x columns)= \", input_df.shape)\n",
    "print (\"Output data dimensions (rows x columns)= \", output_df.shape)\n",
    "print (\"Duplicate chunks removed  by fuzzy-dedupe:  \", (input_df.shape[0] - output_df.shape[0]))\n",
    "\n",
    "output_df.sample(min(3, output_df.shape[0]))"
   ]
  },
  {
   "cell_type": "markdown",
   "id": "5370950a-2a3a-4143-8218-f9b4808099ba",
   "metadata": {},
   "source": [
    "## Step-7:   Text encoding\n",
    "\n",
    "Encode text for the vector storage."
   ]
  },
  {
   "cell_type": "markdown",
   "id": "8fbbeaff",
   "metadata": {},
   "source": [
    "### 7.1 - Set Input/output Folder"
   ]
  },
  {
   "cell_type": "code",
   "execution_count": 19,
   "id": "20a153fa-fd56-401e-86be-4f7617affcc8",
   "metadata": {},
   "outputs": [
    {
     "name": "stdout",
     "output_type": "stream",
     "text": [
      "🏃🏼 STAGE-6: Processing input='output-solar-system/05_fuzzy_dedupe_out' --> output='output-solar-system/06_embeddings_out'\n"
     ]
    }
   ],
   "source": [
    "STAGE  = 6\n",
    "\n",
    "input_folder = output_fuzzy_dedupe_dir\n",
    "output_folder =  output_embeddings_dir\n",
    "\n",
    "input_df = read_parquet_files_as_df(input_folder)  ## for debug purposes\n",
    "\n",
    "print (f\"🏃🏼 STAGE-{STAGE}: Processing input='{input_folder}' --> output='{output_folder}'\")"
   ]
  },
  {
   "cell_type": "markdown",
   "id": "1e6a88f8",
   "metadata": {},
   "source": [
    "### 7.2 - Execute"
   ]
  },
  {
   "cell_type": "code",
   "execution_count": 20,
   "id": "228df6b2-bc62-494b-9697-03ece98d7853",
   "metadata": {},
   "outputs": [
    {
     "name": "stderr",
     "output_type": "stream",
     "text": [
      "11:50:58 INFO - Running locally\n",
      "11:50:58 INFO - text_encoder parameters are : {'content_column_name': 'contents', 'output_embeddings_column_name': 'embeddings', 'model_name': 'sentence-transformers/all-MiniLM-L6-v2'}\n",
      "11:50:58 INFO - data factory data_ is using local data access: input_folder - output-solar-system/05_fuzzy_dedupe_out output_folder - output-solar-system/06_embeddings_out\n",
      "11:50:58 INFO - data factory data_ max_files -1, n_sample -1\n",
      "11:50:58 INFO - data factory data_ Not using data sets, checkpointing False, max files -1, random samples -1, files to use ['.parquet'], files to checkpoint ['.parquet']\n",
      "11:50:58 INFO - pipeline id pipeline_id\n",
      "11:50:58 INFO - code location None\n",
      "11:50:58 INFO - number of workers 2 worker options {'num_cpus': 1, 'max_restarts': -1}\n",
      "11:50:58 INFO - actor creation delay 0\n",
      "11:50:58 INFO - job details {'job category': 'preprocessing', 'job name': 'text_encoder', 'job type': 'ray', 'job id': 'job_id'}\n",
      "2024-09-20 11:51:00,481\tINFO worker.py:1744 -- Started a local Ray instance. View the dashboard at \u001b[1m\u001b[32mhttp://127.0.0.1:8265 \u001b[39m\u001b[22m\n",
      "\u001b[36m(orchestrate pid=3788387)\u001b[0m 11:51:03 INFO - orchestrator started at 2024-09-20 11:51:03\n",
      "\u001b[36m(orchestrate pid=3788387)\u001b[0m 11:51:03 INFO - Number of files is 2, source profile {'max_file_size': 0.009282112121582031, 'min_file_size': 0.008668899536132812, 'total_file_size': 0.017951011657714844}\n",
      "\u001b[36m(orchestrate pid=3788387)\u001b[0m 11:51:03 INFO - Cluster resources: {'cpus': 16, 'gpus': 1, 'memory': 5.3264305125921965, 'object_store': 2.6632152553647757}\n",
      "\u001b[36m(orchestrate pid=3788387)\u001b[0m 11:51:03 INFO - Number of workers - 2 with {'num_cpus': 1, 'max_restarts': -1} each\n",
      "\u001b[36m(orchestrate pid=3788387)\u001b[0m 11:51:03 INFO - Completed 0 files (0.0%)  in 0.0 min. Waiting for completion\n",
      "\u001b[36m(orchestrate pid=3788387)\u001b[0m 11:51:09 INFO - Completed processing 2 files in 0.095 min\n",
      "\u001b[36m(orchestrate pid=3788387)\u001b[0m 11:51:09 INFO - done flushing in 0.001 sec\n",
      "11:51:19 INFO - Completed execution in 0.346 min, execution result 0\n"
     ]
    },
    {
     "name": "stdout",
     "output_type": "stream",
     "text": [
      "✅ Stage:6 completed successfully\n",
      "CPU times: user 456 ms, sys: 204 ms, total: 660 ms\n",
      "Wall time: 22.6 s\n"
     ]
    }
   ],
   "source": [
    "%%time \n",
    "\n",
    "from text_encoder_transform_ray import TextEncoderRayTransformConfiguration\n",
    "\n",
    "local_conf = {\n",
    "    \"input_folder\": input_folder,\n",
    "    \"output_folder\": output_folder,\n",
    "}\n",
    "worker_options = {\"num_cpus\" : MY_CONFIG.RAY_NUM_CPUS}\n",
    "params = {\n",
    "    # where to run\n",
    "    \"run_locally\": True,\n",
    "    # Data access. Only required parameters are specified\n",
    "    \"data_local_config\": ParamsUtils.convert_to_ast(local_conf),\n",
    "    # orchestrator\n",
    "    \"runtime_worker_options\": ParamsUtils.convert_to_ast(worker_options),\n",
    "    \"runtime_num_workers\": MY_CONFIG.RAY_RUNTIME_WORKERS,\n",
    "    # text_encoder\n",
    "    \"text_encoder_model_name\": MY_CONFIG.EMBEDDING_MODEL,\n",
    "}\n",
    "\n",
    "sys.argv = ParamsUtils.dict_to_req(d=params)\n",
    "# create launcher\n",
    "launcher = RayTransformLauncher(TextEncoderRayTransformConfiguration())\n",
    "# Launch the ray actor(s) to process the input\n",
    "\n",
    "return_code = launcher.launch()\n",
    "\n",
    "if return_code == 0:\n",
    "    print (f\"✅ Stage:{STAGE} completed successfully\")\n",
    "else:\n",
    "    raise Exception (\"❌ Ray job failed\")"
   ]
  },
  {
   "cell_type": "markdown",
   "id": "b734852c",
   "metadata": {},
   "source": [
    "### 7.3 - Inspect Generated output"
   ]
  },
  {
   "cell_type": "code",
   "execution_count": 21,
   "id": "7b1c1d09",
   "metadata": {},
   "outputs": [
    {
     "name": "stdout",
     "output_type": "stream",
     "text": [
      "Input data dimensions (rows x columns)=  (6, 18)\n",
      "Output data dimensions (rows x columns)=  (6, 19)\n"
     ]
    },
    {
     "data": {
      "text/html": [
       "<div>\n",
       "<style scoped>\n",
       "    .dataframe tbody tr th:only-of-type {\n",
       "        vertical-align: middle;\n",
       "    }\n",
       "\n",
       "    .dataframe tbody tr th {\n",
       "        vertical-align: top;\n",
       "    }\n",
       "\n",
       "    .dataframe thead th {\n",
       "        text-align: right;\n",
       "    }\n",
       "</style>\n",
       "<table border=\"1\" class=\"dataframe\">\n",
       "  <thead>\n",
       "    <tr style=\"text-align: right;\">\n",
       "      <th></th>\n",
       "      <th>filename</th>\n",
       "      <th>num_pages</th>\n",
       "      <th>num_tables</th>\n",
       "      <th>num_doc_elements</th>\n",
       "      <th>document_id</th>\n",
       "      <th>ext</th>\n",
       "      <th>hash</th>\n",
       "      <th>size</th>\n",
       "      <th>date_acquired</th>\n",
       "      <th>pdf_convert_time</th>\n",
       "      <th>source_filename</th>\n",
       "      <th>contents</th>\n",
       "      <th>doc_jsonpath</th>\n",
       "      <th>page_number</th>\n",
       "      <th>bbox</th>\n",
       "      <th>chunk_id</th>\n",
       "      <th>removed</th>\n",
       "      <th>chunk_hash</th>\n",
       "      <th>embeddings</th>\n",
       "    </tr>\n",
       "  </thead>\n",
       "  <tbody>\n",
       "    <tr>\n",
       "      <th>3</th>\n",
       "      <td>mars.pdf</td>\n",
       "      <td>1</td>\n",
       "      <td>0</td>\n",
       "      <td>11</td>\n",
       "      <td>39513892-bd6e-4935-b196-ef95ea5804fa</td>\n",
       "      <td>pdf</td>\n",
       "      <td>8edd5dfbf888777120b528a5d8998f2757d006df0eaef7...</td>\n",
       "      <td>2800</td>\n",
       "      <td>2024-09-20T11:49:20.974002</td>\n",
       "      <td>1.919181</td>\n",
       "      <td>mars.pdf</td>\n",
       "      <td>Basic facts about Mars:\\n· Distance from the S...</td>\n",
       "      <td>$.main-text[6]</td>\n",
       "      <td>1</td>\n",
       "      <td>[133.2026062, 482.90710449, 237.04431152, 493....</td>\n",
       "      <td>3</td>\n",
       "      <td>[]</td>\n",
       "      <td>-1</td>\n",
       "      <td>[0.1059802, 0.025460616, 0.02362733, 0.0390564...</td>\n",
       "    </tr>\n",
       "    <tr>\n",
       "      <th>4</th>\n",
       "      <td>earth.pdf</td>\n",
       "      <td>1</td>\n",
       "      <td>0</td>\n",
       "      <td>11</td>\n",
       "      <td>2573f862-f4a5-4d92-b8b9-6ff8cc92b8f0</td>\n",
       "      <td>pdf</td>\n",
       "      <td>18713f970989055625bef22209b6f4b6830b9ca22046bf...</td>\n",
       "      <td>2686</td>\n",
       "      <td>2024-09-20T11:49:21.020310</td>\n",
       "      <td>1.936369</td>\n",
       "      <td>earth.pdf</td>\n",
       "      <td>Earth\\nEarth is the third planet from the Sun....</td>\n",
       "      <td>$.main-text[5]</td>\n",
       "      <td>1</td>\n",
       "      <td>[132.91053772, 512.46295166, 477.84887695, 534...</td>\n",
       "      <td>6</td>\n",
       "      <td>[]</td>\n",
       "      <td>-1</td>\n",
       "      <td>[0.0724358, -0.058001805, -0.01977186, -0.0243...</td>\n",
       "    </tr>\n",
       "    <tr>\n",
       "      <th>0</th>\n",
       "      <td>mars.pdf</td>\n",
       "      <td>1</td>\n",
       "      <td>0</td>\n",
       "      <td>11</td>\n",
       "      <td>39513892-bd6e-4935-b196-ef95ea5804fa</td>\n",
       "      <td>pdf</td>\n",
       "      <td>8edd5dfbf888777120b528a5d8998f2757d006df0eaef7...</td>\n",
       "      <td>2800</td>\n",
       "      <td>2024-09-20T11:49:20.974002</td>\n",
       "      <td>1.919181</td>\n",
       "      <td>mars.pdf</td>\n",
       "      <td>Solar System\\nOur solar system is a vast and f...</td>\n",
       "      <td>$.main-text[2]</td>\n",
       "      <td>1</td>\n",
       "      <td>[132.84518433, 588.96014404, 479.40917969, 623...</td>\n",
       "      <td>0</td>\n",
       "      <td>[]</td>\n",
       "      <td>-1</td>\n",
       "      <td>[0.0077404897, -0.020559434, 0.026426662, 0.01...</td>\n",
       "    </tr>\n",
       "  </tbody>\n",
       "</table>\n",
       "</div>"
      ],
      "text/plain": [
       "    filename  num_pages  num_tables  num_doc_elements  \\\n",
       "3   mars.pdf          1           0                11   \n",
       "4  earth.pdf          1           0                11   \n",
       "0   mars.pdf          1           0                11   \n",
       "\n",
       "                            document_id  ext  \\\n",
       "3  39513892-bd6e-4935-b196-ef95ea5804fa  pdf   \n",
       "4  2573f862-f4a5-4d92-b8b9-6ff8cc92b8f0  pdf   \n",
       "0  39513892-bd6e-4935-b196-ef95ea5804fa  pdf   \n",
       "\n",
       "                                                hash  size  \\\n",
       "3  8edd5dfbf888777120b528a5d8998f2757d006df0eaef7...  2800   \n",
       "4  18713f970989055625bef22209b6f4b6830b9ca22046bf...  2686   \n",
       "0  8edd5dfbf888777120b528a5d8998f2757d006df0eaef7...  2800   \n",
       "\n",
       "                date_acquired  pdf_convert_time source_filename  \\\n",
       "3  2024-09-20T11:49:20.974002          1.919181        mars.pdf   \n",
       "4  2024-09-20T11:49:21.020310          1.936369       earth.pdf   \n",
       "0  2024-09-20T11:49:20.974002          1.919181        mars.pdf   \n",
       "\n",
       "                                            contents    doc_jsonpath  \\\n",
       "3  Basic facts about Mars:\\n· Distance from the S...  $.main-text[6]   \n",
       "4  Earth\\nEarth is the third planet from the Sun....  $.main-text[5]   \n",
       "0  Solar System\\nOur solar system is a vast and f...  $.main-text[2]   \n",
       "\n",
       "   page_number                                               bbox  chunk_id  \\\n",
       "3            1  [133.2026062, 482.90710449, 237.04431152, 493....         3   \n",
       "4            1  [132.91053772, 512.46295166, 477.84887695, 534...         6   \n",
       "0            1  [132.84518433, 588.96014404, 479.40917969, 623...         0   \n",
       "\n",
       "  removed  chunk_hash                                         embeddings  \n",
       "3      []          -1  [0.1059802, 0.025460616, 0.02362733, 0.0390564...  \n",
       "4      []          -1  [0.0724358, -0.058001805, -0.01977186, -0.0243...  \n",
       "0      []          -1  [0.0077404897, -0.020559434, 0.026426662, 0.01...  "
      ]
     },
     "execution_count": 21,
     "metadata": {},
     "output_type": "execute_result"
    }
   ],
   "source": [
    "from utils import read_parquet_files_as_df\n",
    "\n",
    "output_df = read_parquet_files_as_df(output_folder)\n",
    "\n",
    "print (\"Input data dimensions (rows x columns)= \", input_df.shape)\n",
    "print (\"Output data dimensions (rows x columns)= \", output_df.shape)\n",
    "\n",
    "output_df.sample(min(3, output_df.shape[0]))"
   ]
  },
  {
   "cell_type": "markdown",
   "id": "f5e12630-be6b-4188-a925-77117155617b",
   "metadata": {},
   "source": [
    "## Step-8: Copy output to final output dir"
   ]
  },
  {
   "cell_type": "code",
   "execution_count": 22,
   "id": "16dee3b8-31dc-4168-8adb-f2a0a0b5e207",
   "metadata": {},
   "outputs": [
    {
     "name": "stdout",
     "output_type": "stream",
     "text": [
      "✅ Copied output from 'output-solar-system/06_embeddings_out' --> 'output-solar-system/output_final'\n"
     ]
    }
   ],
   "source": [
    "import shutil\n",
    "\n",
    "shutil.rmtree(MY_CONFIG.OUTPUT_FOLDER_FINAL, ignore_errors=True)\n",
    "shutil.copytree(src=output_folder, dst=MY_CONFIG.OUTPUT_FOLDER_FINAL)\n",
    "\n",
    "print (f\"✅ Copied output from '{output_folder}' --> '{MY_CONFIG.OUTPUT_FOLDER_FINAL}'\")"
   ]
  },
  {
   "cell_type": "code",
   "execution_count": null,
   "id": "9ce85f45",
   "metadata": {},
   "outputs": [],
   "source": []
  }
 ],
 "metadata": {
  "kernelspec": {
   "display_name": "Python 3 (ipykernel)",
   "language": "python",
   "name": "python3"
  },
  "language_info": {
   "codemirror_mode": {
    "name": "ipython",
    "version": 3
   },
   "file_extension": ".py",
   "mimetype": "text/x-python",
   "name": "python",
   "nbconvert_exporter": "python",
   "pygments_lexer": "ipython3",
   "version": "3.11.9"
  }
 },
 "nbformat": 4,
 "nbformat_minor": 5
}
