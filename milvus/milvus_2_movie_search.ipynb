{
 "cells": [
  {
   "cell_type": "markdown",
   "metadata": {},
   "source": [
    "# Vector Search of Movie Plots with Milvus\n",
    "\n",
    "[![Open In Colab](https://colab.research.google.com/assets/colab-badge.svg)](https://colab.research.google.com/github/sujee/data-prep-kit-examples/blob/main/milvus/milvus_2_movie_search.ipynb)\n",
    "\n",
    "\n",
    "This notebook will demonstrate how do 'semantic search' of movie plots.  For example we can query for movies like:\n",
    "\n",
    "- \"Where humans fight aliens\"\n",
    "- \"Relationship drama between two good friends\"\n",
    "\n",
    "We will:\n",
    "\n",
    "- 👉 Use this [movie data](https://huggingface.co/datasets/MongoDB/embedded_movies)\n",
    "- 👉 index the plot text using embedding models\n",
    "- 👉 Load the indexed data into [Milvus](https://milvus.io/) -  a popular vector database.  \n",
    "- 👉 And run queries\n",
    "\n",
    "References\n",
    "- [Milvus quick start](https://milvus.io/docs/quickstart.md)\n",
    "\n",
    "**This notebook is deisnged to run on local python environment and Google Colab environment 😄** "
   ]
  },
  {
   "cell_type": "markdown",
   "metadata": {},
   "source": [
    "## Configuration\n",
    "\n",
    "### Embedding models\n",
    "\n",
    "See hugging face embedding models (sentence transformers) here : https://huggingface.co/models?library=sentence-transformers&sort=trending\n",
    "\n",
    "Here are a select models for comparison.  Taken from leaderboard : https://huggingface.co/spaces/mteb/leaderboard\n",
    "\n",
    "| model name                              | overall score | model params | model size | embedding length | url                                                            |\n",
    "|-----------------------------------------|---------------|--------------|------------|------------------|----------------------------------------------------------------|\n",
    "| intfloat/e5-mistral-7b-instruct         | 66.x          | 7.11 B       | 15 GB      | 4096             | https://huggingface.co/intfloat/e5-mistral-7b-instruct         |\n",
    "| BAAI/bge-large-en-v1.5                  | 64.x          | 335 M        | 1.34 GB    | 1024             | https://huggingface.co/BAAI/bge-large-en-v1.5                  |\n",
    "| BAAI/bge-small-en-v1.5                  | 62.x          | 33.5 M       | 133 MB     | 384              | https://huggingface.co/BAAI/bge-small-en-v1.5                  |\n",
    "| sentence-transformers/all-mpnet-base-v2 | 57.8          |              | 438 MB     | 768              | https://huggingface.co/sentence-transformers/all-mpnet-base-v2 |\n",
    "| sentence-transformers/all-MiniLM-L12-v2 | 56.x          |              | 134 MB     | 384              | https://huggingface.co/sentence-transformers/all-MiniLM-L12-v2 |\n",
    "| sentence-transformers/all-MiniLM-L6-v2  | 56.x          |              | 91 MB      | 384              | https://huggingface.co/sentence-transformers/all-MiniLM-L6-v2  |\n"
   ]
  },
  {
   "cell_type": "code",
   "execution_count": 1,
   "metadata": {},
   "outputs": [],
   "source": [
    "class MyConfig:\n",
    "    pass\n",
    "\n",
    "MY_CONFIG = MyConfig()\n",
    "\n",
    "## different embedding models to try\n",
    "\n",
    "# MY_CONFIG.MODEL_NAME = \"bge-large-en-v1.5\"\n",
    "# MY_CONFIG.EMBEDDING_LENGTH = 1024\n",
    "\n",
    "MY_CONFIG.MODEL_NAME = \"BAAI/bge-small-en-v1.5\"\n",
    "MY_CONFIG.EMBEDDING_LENGTH = 384\n",
    "\n",
    "# MY_CONFIG.MODEL_NAME = \"all-mpnet-base-v2 \"\n",
    "# MY_CONFIG.EMBEDDING_LENGTH = 768\n",
    "\n",
    "# MY_CONFIG.MODEL_NAME = \"all-MiniLM-L6-v2\"\n",
    "# MY_CONFIG.EMBEDDING_LENGTH = 384\n",
    "\n"
   ]
  },
  {
   "cell_type": "markdown",
   "metadata": {},
   "source": [
    "## Determine Runtime"
   ]
  },
  {
   "cell_type": "code",
   "execution_count": 2,
   "metadata": {},
   "outputs": [
    {
     "name": "stdout",
     "output_type": "stream",
     "text": [
      "NOT running in Colab\n"
     ]
    }
   ],
   "source": [
    "# are we running in Colab?\n",
    "import os\n",
    "\n",
    "if os.getenv(\"COLAB_RELEASE_TAG\"):\n",
    "   print(\"Running in Colab\")\n",
    "   MY_CONFIG.RUNNING_IN_COLAB = True\n",
    "else:\n",
    "   print(\"NOT running in Colab\")\n",
    "   MY_CONFIG.RUNNING_IN_COLAB = False"
   ]
  },
  {
   "cell_type": "markdown",
   "metadata": {},
   "source": [
    "## Install Dependencies (If required)"
   ]
  },
  {
   "cell_type": "code",
   "execution_count": 3,
   "metadata": {},
   "outputs": [],
   "source": [
    "if MY_CONFIG.RUNNING_IN_COLAB:\n",
    "  !pip install pymilvus  'pymilvus[model]'  datasets"
   ]
  },
  {
   "cell_type": "markdown",
   "metadata": {},
   "source": [
    "## Load Data\n",
    "\n",
    "We will load movies data.  The movie data has the following fields.  \n",
    "\n",
    "- plot: A brief summary of the movie's plot.\n",
    "- title: The title of the movie.\n",
    "- and many more ...\n",
    "\n",
    "See the [dataset description](https://huggingface.co/datasets/MongoDB/embedded_movies) for full description\n"
   ]
  },
  {
   "cell_type": "code",
   "execution_count": 4,
   "metadata": {},
   "outputs": [
    {
     "name": "stderr",
     "output_type": "stream",
     "text": [
      "/home/sujee/apps/anaconda3/envs/data-prep-kit-1/lib/python3.11/site-packages/tqdm/auto.py:21: TqdmWarning: IProgress not found. Please update jupyter and ipywidgets. See https://ipywidgets.readthedocs.io/en/stable/user_install.html\n",
      "  from .autonotebook import tqdm as notebook_tqdm\n"
     ]
    },
    {
     "name": "stdout",
     "output_type": "stream",
     "text": [
      "Loaded 1473 movies\n"
     ]
    },
    {
     "data": {
      "text/plain": [
       "[{'plot': 'A young humanoid alien who gets stranded on earth hooks up with a grizzled old sheriff in a western town and tries to help him solve a tough case, but the sheriff doesn\\'t want any help from a \"kid.\"',\n",
       "  'title': 'Uno sceriffo extraterrestre... poco extra e molto terrestre'},\n",
       " {'plot': 'Archeologist Jack keeps having reoccurring dreams of a past life, where he is the great General Meng Yi, whom is sworn to protect a Korean Princess named OK-soo. Jack decides to go investigate everything with his friend William.',\n",
       "  'title': 'The Myth'},\n",
       " {'plot': 'A corrupt businessman commits a murder and the only witness is the girlfriend of another businessman with close connections to the Chinese government, so a bodyguard from Beijing is ...',\n",
       "  'title': 'The Defender'},\n",
       " {'plot': 'Col. Paul Tibbetts piloted the plane that dropped the atomic bomb on Hiroshima in World War 2.',\n",
       "  'title': 'Above and Beyond'},\n",
       " {'plot': 'The tough biker Harley and his no less tough cowboy friend Marlboro learn that an old friend of theirs will lose his bar, because a bank wants to build a new complex there and demands 2.5 ...',\n",
       "  'title': 'Harley Davidson and the Marlboro Man'}]"
      ]
     },
     "execution_count": 4,
     "metadata": {},
     "output_type": "execute_result"
    }
   ],
   "source": [
    "from datasets import load_dataset\n",
    "import random\n",
    "\n",
    "dataset = load_dataset(\"MongoDB/embedded_movies\")['train']\n",
    "\n",
    "# convert the dataset to an array of dicts, we only wants movies with plots\n",
    "movies = [row for row in dataset if row['plot']]\n",
    "print (f'Loaded {len(movies)} movies')\n",
    "\n",
    "# select a few attributes\n",
    "movies = [{k : v for k, v in m.items() if k in ['title', 'plot']} for m in movies ]\n",
    "\n",
    "random.sample(movies, 5)"
   ]
  },
  {
   "cell_type": "markdown",
   "metadata": {},
   "source": [
    "## Setup Embedded Database\n",
    "\n",
    "Milvus can be embedded and easy to use.\n",
    "\n",
    "After we execute this code, you will see `milvus_demo.db` and `.milvus_demo.db.lock` file in the folder"
   ]
  },
  {
   "cell_type": "code",
   "execution_count": 5,
   "metadata": {},
   "outputs": [],
   "source": [
    "from pymilvus import MilvusClient\n",
    "\n",
    "client = MilvusClient(\"milvus_demo.db\")"
   ]
  },
  {
   "cell_type": "markdown",
   "metadata": {},
   "source": [
    "# Create A Collection\n",
    "\n"
   ]
  },
  {
   "cell_type": "code",
   "execution_count": 6,
   "metadata": {},
   "outputs": [],
   "source": [
    "# if we already have a collection, clear it first\n",
    "if client.has_collection(collection_name=\"movies\"):\n",
    "    client.drop_collection(collection_name=\"movies\")\n",
    "\n",
    "client.create_collection(\n",
    "    collection_name=\"movies\",\n",
    "    dimension=MY_CONFIG.EMBEDDING_LENGTH\n",
    ")\n"
   ]
  },
  {
   "cell_type": "markdown",
   "metadata": {},
   "source": [
    "## Calculate Embeddings for Plots"
   ]
  },
  {
   "cell_type": "code",
   "execution_count": 7,
   "metadata": {},
   "outputs": [
    {
     "name": "stdout",
     "output_type": "stream",
     "text": [
      "Using device :  cpu\n"
     ]
    }
   ],
   "source": [
    "import torch\n",
    "\n",
    "# Set the default device to GPU if available\n",
    "device = torch.device(\"cuda\" if torch.cuda.is_available() else \"cpu\")\n",
    "\n",
    "print ('Using device : ', device)"
   ]
  },
  {
   "cell_type": "code",
   "execution_count": 8,
   "metadata": {},
   "outputs": [
    {
     "name": "stdout",
     "output_type": "stream",
     "text": [
      "id: 567\n",
      "title:  The Getaway\n",
      "plot :  Doc McCoy is put in prison because his partners chickened out and flew off without him after exchanging a prisoner with a lot of money. Doc knows Jack Benyon, a rich \"business\"-man, is up ...\n",
      "vector dim : 384\n",
      "vector[:10] : [-0.04328088, 0.034391157, -0.017175872, -0.009192432, 0.07682802, -0.06499585, 0.084120356, -0.005084703, 0.012017756, -0.017768722]\n",
      "\n",
      "id: 181\n",
      "title:  Circle of Iron\n",
      "plot :  A young martial artist embarks on an adventure, encountering other martial artists in battle until one day he meets an aging blind man who will show him the true meaning of martial arts and life.\n",
      "vector dim : 384\n",
      "vector[:10] : [-0.04944184, 0.032928616, -0.0026674287, 0.03647252, -0.039496258, -0.016607348, 0.071427315, -0.062343694, -0.021074358, -0.07305081]\n",
      "\n",
      "id: 509\n",
      "title:  El mariachi\n",
      "plot :  A traveling mariachi is mistaken for a murderous criminal and must hide from a gang bent on killing him.\n",
      "vector dim : 384\n",
      "vector[:10] : [0.0135182245, 0.006492788, -0.0022875764, -0.0057962495, 0.08522457, -0.0036603175, 0.13798556, 0.014610432, 0.0069485563, -0.10060068]\n",
      "\n"
     ]
    }
   ],
   "source": [
    "from pymilvus import model\n",
    "import random\n",
    "\n",
    "# If connection to https://huggingface.co/ failed, uncomment the following path\n",
    "# import os\n",
    "# os.environ['HF_ENDPOINT'] = 'https://hf-mirror.com'\n",
    "\n",
    "# embedding_fn = model.DefaultEmbeddingFunction()\n",
    "\n",
    "## initialize the SentenceTransformerEmbeddingFunction\n",
    "embedding_fn = model.dense.SentenceTransformerEmbeddingFunction(\n",
    "    model_name=MY_CONFIG.MODEL_NAME,\n",
    "    device=device \n",
    ")\n",
    "\n",
    "# calculate embeddings for plots\n",
    "for i, m in enumerate (movies):\n",
    "    m['id'] = i\n",
    "    m['vector'] = embedding_fn ([m['plot']][0])\n",
    "    # m['vector'] = embedding_fn.encode_documents ([m['plot']][0])\n",
    "\n",
    "# print a sample\n",
    "for m in random.sample (movies, 3):\n",
    "    print ('id:', m['id'] )\n",
    "    print ('title: ', m['title'])\n",
    "    print ('plot : ', m['plot'])\n",
    "    print ('vector dim :',  len(m[\"vector\"]))\n",
    "    print ('vector[:10] :', m[\"vector\"][:10])\n",
    "    print()"
   ]
  },
  {
   "cell_type": "markdown",
   "metadata": {},
   "source": [
    "## Insert data"
   ]
  },
  {
   "cell_type": "code",
   "execution_count": 9,
   "metadata": {},
   "outputs": [
    {
     "name": "stdout",
     "output_type": "stream",
     "text": [
      "inserted # rows 1473\n",
      "cost 0\n"
     ]
    }
   ],
   "source": [
    "res = client.insert(collection_name=\"movies\", data=movies)\n",
    "\n",
    "print('inserted # rows', res['insert_count'])\n",
    "print('cost', res['cost'])"
   ]
  },
  {
   "cell_type": "markdown",
   "metadata": {},
   "source": [
    "## Perform Vector Search (the FUN part!)\n",
    "\n",
    "Let's do a semantic search on plot lines"
   ]
  },
  {
   "cell_type": "code",
   "execution_count": 10,
   "metadata": {},
   "outputs": [],
   "source": [
    "from pprint import pprint\n",
    "\n",
    "## helper function to perform vector search\n",
    "def  do_vector_search (query):\n",
    "    # query_vectors = embedding_fn.encode_queries([query])\n",
    "    query_vectors = embedding_fn([query])\n",
    "\n",
    "    results = client.search(\n",
    "        collection_name=\"movies\",  # target collection\n",
    "        data=query_vectors,  # query vectors\n",
    "        limit=5,  # number of returned entities\n",
    "        output_fields=[\"title\", \"plot\"],  # specifies fields to be returned\n",
    "    )\n",
    "    return results\n",
    "## ----\n",
    "\n",
    "\n",
    "def  print_search_results (results):\n",
    "    # pprint (results)\n",
    "    print ('num results : ', len(results[0]))\n",
    "\n",
    "    for i, r in enumerate (results[0]):\n",
    "        #pprint(r, indent=4)\n",
    "        print (i+1)\n",
    "        print ('search score:', r['distance'])\n",
    "        print ('tile:', r['entity']['title'])\n",
    "        print ('plot:', r['entity']['plot'])\n",
    "        print()"
   ]
  },
  {
   "cell_type": "code",
   "execution_count": 11,
   "metadata": {},
   "outputs": [
    {
     "name": "stdout",
     "output_type": "stream",
     "text": [
      "num results :  5\n",
      "1\n",
      "search score: 0.8236286640167236\n",
      "tile: Independence Day\n",
      "plot: The aliens are coming and their goal is to invade and destroy Earth. Fighting superior technology, mankind's best weapon is the will to survive.\n",
      "\n",
      "2\n",
      "search score: 0.7872649431228638\n",
      "tile: Starship Troopers\n",
      "plot: Humans in a fascistic, militaristic future do battle with giant alien bugs in a fight for survival.\n",
      "\n",
      "3\n",
      "search score: 0.7458122372627258\n",
      "tile: V: The Final Battle\n",
      "plot: A small group of human resistance fighters fight a desperate guerilla war against the genocidal extra-terrestrials who dominate Earth.\n",
      "\n",
      "4\n",
      "search score: 0.7356772422790527\n",
      "tile: Enemy Mine\n",
      "plot: A soldier from Earth crash-lands on an alien world after sustaining battle damage. Eventually he encounters another survivor, but from the enemy species he was fighting; they band together ...\n",
      "\n",
      "5\n",
      "search score: 0.7283806204795837\n",
      "tile: Battlefield Earth\n",
      "plot: After enslavement & near extermination by an alien race in the year 3000, humanity begins to fight back.\n",
      "\n"
     ]
    }
   ],
   "source": [
    "query = \"Where humans fight aliens\"\n",
    "\n",
    "results = do_vector_search (query)\n",
    "print_search_results (results)"
   ]
  },
  {
   "cell_type": "code",
   "execution_count": 12,
   "metadata": {},
   "outputs": [
    {
     "name": "stdout",
     "output_type": "stream",
     "text": [
      "num results :  5\n",
      "1\n",
      "search score: 0.7513974905014038\n",
      "tile: Varalaaru\n",
      "plot: Relationships become entangled in an emotional web.\n",
      "\n",
      "2\n",
      "search score: 0.6959847211837769\n",
      "tile: Once a Thief\n",
      "plot: A romantic and action packed story of three best friends, a group of high end art thieves, who come into trouble when a love-triangle forms between them.\n",
      "\n",
      "3\n",
      "search score: 0.6907370090484619\n",
      "tile: Dark Blue World\n",
      "plot: The friendship of two men becomes tested when they both fall for the same woman.\n",
      "\n",
      "4\n",
      "search score: 0.6907370090484619\n",
      "tile: Dark Blue World\n",
      "plot: The friendship of two men becomes tested when they both fall for the same woman.\n",
      "\n",
      "5\n",
      "search score: 0.690660834312439\n",
      "tile: Harsh Times\n",
      "plot: A tough-minded drama about two friends in South Central Los Angeles and the violence that comes between them.\n",
      "\n"
     ]
    }
   ],
   "source": [
    "query = \"Relationship drama between friends\"\n",
    "\n",
    "results = do_vector_search (query)\n",
    "print_search_results (results)"
   ]
  },
  {
   "cell_type": "code",
   "execution_count": null,
   "metadata": {},
   "outputs": [],
   "source": []
  }
 ],
 "metadata": {
  "kernelspec": {
   "display_name": "data-prep-kit-1",
   "language": "python",
   "name": "python3"
  },
  "language_info": {
   "codemirror_mode": {
    "name": "ipython",
    "version": 3
   },
   "file_extension": ".py",
   "mimetype": "text/x-python",
   "name": "python",
   "nbconvert_exporter": "python",
   "pygments_lexer": "ipython3",
   "version": "3.11.9"
  }
 },
 "nbformat": 4,
 "nbformat_minor": 2
}
