{
  "cells": [
    {
      "cell_type": "markdown",
      "metadata": {
        "id": "jp96Y6Zq1vl8"
      },
      "source": [
        "# Vector Search of Movie Plots with Milvus\n",
        "\n",
        "[![Open In Colab](https://colab.research.google.com/assets/colab-badge.svg)](https://colab.research.google.com/github/sujee/data-prep-kit-examples/blob/main/milvus/milvus_2_movie_search.ipynb)\n",
        "\n",
        "\n",
        "This notebook will demonstrate how do 'semantic search' of movie plots.  For example we can query for movies like:\n",
        "\n",
        "- \"Where humans fight aliens\"\n",
        "- \"Relationship drama between two good friends\"\n",
        "\n",
        "We will:\n",
        "\n",
        "- 👉 Use this [movie data](https://huggingface.co/datasets/MongoDB/embedded_movies)\n",
        "- 👉 index the plot text using embedding models\n",
        "- 👉 Load the indexed data into [Milvus](https://milvus.io/) -  a popular vector database.  \n",
        "- 👉 And run queries\n",
        "\n",
        "References\n",
        "- [Milvus quick start](https://milvus.io/docs/quickstart.md)\n",
        "\n",
        "**This notebook is deisnged to run on local python environment and Google Colab environment 😄**"
      ]
    },
    {
      "cell_type": "markdown",
      "metadata": {
        "id": "bV4fF4CT1vl_"
      },
      "source": [
        "## Configuration\n",
        "\n",
        "### Embedding models\n",
        "\n",
        "See hugging face embedding models (sentence transformers) here : https://huggingface.co/models?library=sentence-transformers&sort=trending\n",
        "\n",
        "Here are a select models for comparison.  Taken from leaderboard : https://huggingface.co/spaces/mteb/leaderboard\n",
        "\n",
        "| model name                              | overall score | model params | model size | embedding length | url                                                            |\n",
        "|-----------------------------------------|---------------|--------------|------------|------------------|----------------------------------------------------------------|\n",
        "| intfloat/e5-mistral-7b-instruct         | 66.x          | 7.11 B       | 15 GB      | 4096             | https://huggingface.co/intfloat/e5-mistral-7b-instruct         |\n",
        "| BAAI/bge-large-en-v1.5                  | 64.x          | 335 M        | 1.34 GB    | 1024             | https://huggingface.co/BAAI/bge-large-en-v1.5                  |\n",
        "| BAAI/bge-small-en-v1.5                  | 62.x          | 33.5 M       | 133 MB     | 384              | https://huggingface.co/BAAI/bge-small-en-v1.5                  |\n",
        "| sentence-transformers/all-mpnet-base-v2 | 57.8          |              | 438 MB     | 768              | https://huggingface.co/sentence-transformers/all-mpnet-base-v2 |\n",
        "| sentence-transformers/all-MiniLM-L12-v2 | 56.x          |              | 134 MB     | 384              | https://huggingface.co/sentence-transformers/all-MiniLM-L12-v2 |\n",
        "| sentence-transformers/all-MiniLM-L6-v2  | 56.x          |              | 91 MB      | 384              | https://huggingface.co/sentence-transformers/all-MiniLM-L6-v2  |\n"
      ]
    },
    {
      "cell_type": "code",
      "execution_count": 1,
      "metadata": {
        "id": "9xYd0kCf1vmA"
      },
      "outputs": [],
      "source": [
        "class MyConfig:\n",
        "    pass\n",
        "\n",
        "MY_CONFIG = MyConfig()\n",
        "\n",
        "## different embedding models to try\n",
        "\n",
        "# MY_CONFIG.MODEL_NAME = \"bge-large-en-v1.5\"\n",
        "# MY_CONFIG.EMBEDDING_LENGTH = 1024\n",
        "\n",
        "MY_CONFIG.MODEL_NAME = \"BAAI/bge-small-en-v1.5\"\n",
        "MY_CONFIG.EMBEDDING_LENGTH = 384\n",
        "\n",
        "# MY_CONFIG.MODEL_NAME = \"all-mpnet-base-v2 \"\n",
        "# MY_CONFIG.EMBEDDING_LENGTH = 768\n",
        "\n",
        "# MY_CONFIG.MODEL_NAME = \"all-MiniLM-L6-v2\"\n",
        "# MY_CONFIG.EMBEDDING_LENGTH = 384\n",
        "\n"
      ]
    },
    {
      "cell_type": "markdown",
      "metadata": {
        "id": "HBT2Q3lS1vmB"
      },
      "source": [
        "## Determine Runtime"
      ]
    },
    {
      "cell_type": "code",
      "execution_count": 2,
      "metadata": {
        "colab": {
          "base_uri": "https://localhost:8080/"
        },
        "id": "B2e2zcAp1vmB",
        "outputId": "6939471c-b4f9-49f0-8a25-da45d08477e3"
      },
      "outputs": [
        {
          "name": "stdout",
          "output_type": "stream",
          "text": [
            "NOT running in Colab\n"
          ]
        }
      ],
      "source": [
        "# are we running in Colab?\n",
        "import os\n",
        "\n",
        "if os.getenv(\"COLAB_RELEASE_TAG\"):\n",
        "   print(\"Running in Colab\")\n",
        "   MY_CONFIG.RUNNING_IN_COLAB = True\n",
        "else:\n",
        "   print(\"NOT running in Colab\")\n",
        "   MY_CONFIG.RUNNING_IN_COLAB = False"
      ]
    },
    {
      "cell_type": "markdown",
      "metadata": {
        "id": "o7zHRmtP1vmC"
      },
      "source": [
        "## Install Dependencies (If required)\n",
        "\n",
        "**A note for Google Colab Users**\n",
        "\n",
        "After installing the dependenceis, if you get errors loading libraries, **restart runtime** and **run the notebook** again"
      ]
    },
    {
      "cell_type": "code",
      "execution_count": 3,
      "metadata": {
        "colab": {
          "base_uri": "https://localhost:8080/"
        },
        "id": "L46MqHmk1vmC",
        "outputId": "4276cfef-4ea8-4279-88ff-0342387839e8"
      },
      "outputs": [],
      "source": [
        "if MY_CONFIG.RUNNING_IN_COLAB:\n",
        "  !pip install pymilvus  'pymilvus[model]'  datasets  sentence-transformers"
      ]
    },
    {
      "cell_type": "markdown",
      "metadata": {
        "id": "6T3Z-Qq01vmC"
      },
      "source": [
        "## Load Data\n",
        "\n",
        "We will load movies data.  The movie data has the following fields.  \n",
        "\n",
        "- plot: A brief summary of the movie's plot.\n",
        "- title: The title of the movie.\n",
        "- and many more ...\n",
        "\n",
        "See the [dataset description](https://huggingface.co/datasets/MongoDB/embedded_movies) for full description\n"
      ]
    },
    {
      "cell_type": "code",
      "execution_count": 4,
      "metadata": {
        "colab": {
          "base_uri": "https://localhost:8080/"
        },
        "id": "sb0eDD-c1vmD",
        "outputId": "c71e326a-c1ab-409c-b370-f67b4a74ced5"
      },
      "outputs": [
        {
          "data": {
            "application/vnd.jupyter.widget-view+json": {
              "model_id": "03d01ffa80744bd8b450e0ce80f62c3c",
              "version_major": 2,
              "version_minor": 0
            },
            "text/plain": [
              "README.md:   0%|          | 0.00/6.17k [00:00<?, ?B/s]"
            ]
          },
          "metadata": {},
          "output_type": "display_data"
        },
        {
          "data": {
            "application/vnd.jupyter.widget-view+json": {
              "model_id": "b8f716f6343142c39fe63ba5f95682e6",
              "version_major": 2,
              "version_minor": 0
            },
            "text/plain": [
              "sample_mflix.embedded_movies.json:   0%|          | 0.00/42.3M [00:00<?, ?B/s]"
            ]
          },
          "metadata": {},
          "output_type": "display_data"
        },
        {
          "data": {
            "application/vnd.jupyter.widget-view+json": {
              "model_id": "54c96bf0a8084cd481f4dd5e22195fda",
              "version_major": 2,
              "version_minor": 0
            },
            "text/plain": [
              "Generating train split:   0%|          | 0/1500 [00:00<?, ? examples/s]"
            ]
          },
          "metadata": {},
          "output_type": "display_data"
        },
        {
          "name": "stdout",
          "output_type": "stream",
          "text": [
            "Loaded 1473 movies\n"
          ]
        }
      ],
      "source": [
        "from datasets import load_dataset\n",
        "\n",
        "dataset = load_dataset(\"MongoDB/embedded_movies\")['train']\n",
        "\n",
        "# convert the dataset to an array of dicts, we only wants movies with plots\n",
        "movies = [row for row in dataset if row['plot']]\n",
        "print (f'Loaded {len(movies)} movies')\n",
        "\n",
        "# select a few attributes\n",
        "movies = [{k : v for k, v in m.items() if k in ['title', 'plot']} for m in movies ]"
      ]
    },
    {
      "cell_type": "code",
      "execution_count": 5,
      "metadata": {
        "colab": {
          "base_uri": "https://localhost:8080/",
          "height": 1087
        },
        "id": "C9bQkl8z3VzV",
        "outputId": "8b12fc84-725a-444e-c64a-d8af651df84f"
      },
      "outputs": [
        {
          "name": "stdout",
          "output_type": "stream",
          "text": [
            "[{'plot': 'In 2018, a mysterious new weapon in the war against the machines, '\n",
            "          'half-human and half-machine, comes to John Connor on the eve of a '\n",
            "          'resistance attack on Skynet. But whose side is he on, and can he be '\n",
            "          'trusted?',\n",
            "  'title': 'Terminator Salvation'},\n",
            " {'plot': 'A new take on the Manson Family murders, with a keen focus on '\n",
            "          'Charles Manson himself.',\n",
            "  'title': 'Helter Skelter'},\n",
            " {'plot': 'When the President of India is kidnapped by Kashmiri terrorists in '\n",
            "          'Locarno, Switzerland, an Indian secret agent is sent to find him '\n",
            "          'and set him free. With the help of an Indian singer he will make '\n",
            "          'the \"Impossible\" to complete the mission.',\n",
            "  'title': 'Asambhav'},\n",
            " {'plot': \"In 1984, the USSR's best submarine captain in their newest sub \"\n",
            "          'violates orders and heads for the USA. Is he trying to defect, or '\n",
            "          'to start a war?',\n",
            "  'title': 'The Hunt for Red October'},\n",
            " {'plot': 'An imprisoned drug kingpin offers a huge cash reward to anyone that '\n",
            "          \"can break him out of police custody and only the LAPD's Special \"\n",
            "          'Weapons and Tactics team can prevent it.',\n",
            "  'title': 'S.W.A.T.'}]\n"
          ]
        },
        {
          "data": {
            "text/html": [
              "<div>\n",
              "<style scoped>\n",
              "    .dataframe tbody tr th:only-of-type {\n",
              "        vertical-align: middle;\n",
              "    }\n",
              "\n",
              "    .dataframe tbody tr th {\n",
              "        vertical-align: top;\n",
              "    }\n",
              "\n",
              "    .dataframe thead th {\n",
              "        text-align: right;\n",
              "    }\n",
              "</style>\n",
              "<table border=\"1\" class=\"dataframe\">\n",
              "  <thead>\n",
              "    <tr style=\"text-align: right;\">\n",
              "      <th></th>\n",
              "      <th>plot</th>\n",
              "      <th>title</th>\n",
              "    </tr>\n",
              "  </thead>\n",
              "  <tbody>\n",
              "    <tr>\n",
              "      <th>0</th>\n",
              "      <td>Young Pauline is left a lot of money when her ...</td>\n",
              "      <td>The Perils of Pauline</td>\n",
              "    </tr>\n",
              "    <tr>\n",
              "      <th>1</th>\n",
              "      <td>A penniless young man tries to save an heiress...</td>\n",
              "      <td>From Hand to Mouth</td>\n",
              "    </tr>\n",
              "    <tr>\n",
              "      <th>2</th>\n",
              "      <td>Michael \"Beau\" Geste leaves England in disgrac...</td>\n",
              "      <td>Beau Geste</td>\n",
              "    </tr>\n",
              "    <tr>\n",
              "      <th>3</th>\n",
              "      <td>Seeking revenge, an athletic young man joins t...</td>\n",
              "      <td>The Black Pirate</td>\n",
              "    </tr>\n",
              "    <tr>\n",
              "      <th>4</th>\n",
              "      <td>An irresponsible young millionaire changes his...</td>\n",
              "      <td>For Heaven's Sake</td>\n",
              "    </tr>\n",
              "    <tr>\n",
              "      <th>...</th>\n",
              "      <td>...</td>\n",
              "      <td>...</td>\n",
              "    </tr>\n",
              "    <tr>\n",
              "      <th>1468</th>\n",
              "      <td>In the ironically named city of Paradise, a re...</td>\n",
              "      <td>Postal</td>\n",
              "    </tr>\n",
              "    <tr>\n",
              "      <th>1469</th>\n",
              "      <td>A group of suburban biker wannabes looking for...</td>\n",
              "      <td>Wild Hogs</td>\n",
              "    </tr>\n",
              "    <tr>\n",
              "      <th>1470</th>\n",
              "      <td>Shakespeare's masterpiece \"Othello\" set in mod...</td>\n",
              "      <td>Omkara</td>\n",
              "    </tr>\n",
              "    <tr>\n",
              "      <th>1471</th>\n",
              "      <td>When a small Colorado town is overrun by the f...</td>\n",
              "      <td>Day of the Dead</td>\n",
              "    </tr>\n",
              "    <tr>\n",
              "      <th>1472</th>\n",
              "      <td>A teenager with teleportation abilities sudden...</td>\n",
              "      <td>Jumper</td>\n",
              "    </tr>\n",
              "  </tbody>\n",
              "</table>\n",
              "<p>1473 rows × 2 columns</p>\n",
              "</div>"
            ],
            "text/plain": [
              "                                                   plot                  title\n",
              "0     Young Pauline is left a lot of money when her ...  The Perils of Pauline\n",
              "1     A penniless young man tries to save an heiress...     From Hand to Mouth\n",
              "2     Michael \"Beau\" Geste leaves England in disgrac...             Beau Geste\n",
              "3     Seeking revenge, an athletic young man joins t...       The Black Pirate\n",
              "4     An irresponsible young millionaire changes his...      For Heaven's Sake\n",
              "...                                                 ...                    ...\n",
              "1468  In the ironically named city of Paradise, a re...                 Postal\n",
              "1469  A group of suburban biker wannabes looking for...              Wild Hogs\n",
              "1470  Shakespeare's masterpiece \"Othello\" set in mod...                 Omkara\n",
              "1471  When a small Colorado town is overrun by the f...        Day of the Dead\n",
              "1472  A teenager with teleportation abilities sudden...                 Jumper\n",
              "\n",
              "[1473 rows x 2 columns]"
            ]
          },
          "execution_count": 5,
          "metadata": {},
          "output_type": "execute_result"
        }
      ],
      "source": [
        "import pandas as pd\n",
        "import pprint\n",
        "import random\n",
        "\n",
        "pprint.pprint (random.sample(movies, 5))\n",
        "movies_df = pd.DataFrame(movies)\n",
        "movies_df\n"
      ]
    },
    {
      "cell_type": "markdown",
      "metadata": {
        "id": "ft7dgSlU1vmD"
      },
      "source": [
        "## Setup Embedded Database\n",
        "\n",
        "Milvus can be embedded and easy to use.\n",
        "\n",
        "After we execute this code, you will see `milvus_demo.db` and `.milvus_demo.db.lock` file in the folder"
      ]
    },
    {
      "cell_type": "code",
      "execution_count": 6,
      "metadata": {
        "colab": {
          "base_uri": "https://localhost:8080/"
        },
        "id": "8HIpJw0P1vmD",
        "outputId": "7c384ad3-5b41-4268-ca44-8dfb271f051e"
      },
      "outputs": [],
      "source": [
        "from pymilvus import MilvusClient\n",
        "\n",
        "client = MilvusClient(\"milvus_demo.db\")"
      ]
    },
    {
      "cell_type": "markdown",
      "metadata": {
        "id": "sIfjJ7YW1vmD"
      },
      "source": [
        "# Create A Collection\n",
        "\n"
      ]
    },
    {
      "cell_type": "code",
      "execution_count": 7,
      "metadata": {
        "colab": {
          "base_uri": "https://localhost:8080/"
        },
        "id": "sjSx-lb91vmD",
        "outputId": "cf0b8b62-64d0-4b66-fbdf-8d5a7f2a31c7"
      },
      "outputs": [],
      "source": [
        "# if we already have a collection, clear it first\n",
        "if client.has_collection(collection_name=\"movies\"):\n",
        "    client.drop_collection(collection_name=\"movies\")\n",
        "\n",
        "client.create_collection(\n",
        "    collection_name=\"movies\",\n",
        "    dimension=MY_CONFIG.EMBEDDING_LENGTH\n",
        ")\n"
      ]
    },
    {
      "cell_type": "markdown",
      "metadata": {
        "id": "04Ksum071vmD"
      },
      "source": [
        "## Calculate Embeddings for Plots"
      ]
    },
    {
      "cell_type": "code",
      "execution_count": 8,
      "metadata": {
        "colab": {
          "base_uri": "https://localhost:8080/"
        },
        "id": "alb_El6V1vmD",
        "outputId": "90c08188-ae7b-468b-dc3a-0558abb449be"
      },
      "outputs": [
        {
          "name": "stdout",
          "output_type": "stream",
          "text": [
            "Using device :  cuda\n"
          ]
        }
      ],
      "source": [
        "import torch\n",
        "\n",
        "# Set the default device to GPU if available\n",
        "device = torch.device(\"cuda\" if torch.cuda.is_available() else \"cpu\")\n",
        "\n",
        "print ('Using device : ', device)"
      ]
    },
    {
      "cell_type": "code",
      "execution_count": 9,
      "metadata": {
        "colab": {
          "base_uri": "https://localhost:8080/"
        },
        "id": "-l3qoGUh1vmE",
        "outputId": "ddb761da-0ed1-4ed7-9628-9f73c33e4468"
      },
      "outputs": [
        {
          "name": "stderr",
          "output_type": "stream",
          "text": [
            "/home/sujee/apps/anaconda3/envs/data-prep-kit-11-workshop/lib/python3.11/site-packages/huggingface_hub/file_download.py:1142: FutureWarning: `resume_download` is deprecated and will be removed in version 1.0.0. Downloads always resume when possible. If you want to force a new download, use `force_download=True`.\n",
            "  warnings.warn(\n"
          ]
        },
        {
          "name": "stdout",
          "output_type": "stream",
          "text": [
            "id: 108\n",
            "title:  The Getaway\n",
            "plot :  A recently released ex-con and his loyal wife go on the run after a heist goes awry.\n",
            "vector dim : 384\n",
            "vector[:10] : [-0.08382397, 0.05230988, -0.014309435, -0.011326386, 0.10341536, 0.056453865, 0.09219162, -0.0613747, 0.024395863, -0.091724716]\n",
            "\n",
            "id: 1418\n",
            "title:  National Treasure: Book of Secrets\n",
            "plot :  Benjamin Gates must follow a clue left in John Wilkes Booth's diary to prove his ancestor's innocence in the assassination of Abraham Lincoln.\n",
            "vector dim : 384\n",
            "vector[:10] : [-0.031828713, 0.069093674, -0.0278634, 0.01077982, -0.022104671, -0.020216575, 0.052249935, -0.007882549, -0.06997956, -0.06649173]\n",
            "\n",
            "id: 1202\n",
            "title:  44 Minutes: The North Hollywood Shoot-Out\n",
            "plot :  After a failed bank robbery, two heavily armed men hold the Los Angeles Police Department at bay for 44 minutes.\n",
            "vector dim : 384\n",
            "vector[:10] : [-0.044815417, 0.0033549126, -0.06647203, -0.022393027, 0.053098995, 0.024502177, 0.05405336, -0.044095457, 0.053354908, -0.085571066]\n",
            "\n"
          ]
        }
      ],
      "source": [
        "from pymilvus import model\n",
        "import random\n",
        "\n",
        "# If connection to https://huggingface.co/ failed, uncomment the following path\n",
        "# import os\n",
        "# os.environ['HF_ENDPOINT'] = 'https://hf-mirror.com'\n",
        "\n",
        "# embedding_fn = model.DefaultEmbeddingFunction()\n",
        "\n",
        "## initialize the SentenceTransformerEmbeddingFunction\n",
        "embedding_fn = model.dense.SentenceTransformerEmbeddingFunction(\n",
        "    model_name=MY_CONFIG.MODEL_NAME,\n",
        "    device=device\n",
        ")\n",
        "\n",
        "# calculate embeddings for plots\n",
        "for i, m in enumerate (movies):\n",
        "    m['id'] = i\n",
        "    m['vector'] = embedding_fn ([m['plot']][0])\n",
        "    # m['vector'] = embedding_fn.encode_documents ([m['plot']][0])\n",
        "\n",
        "# print a sample\n",
        "for m in random.sample (movies, 3):\n",
        "    print ('id:', m['id'] )\n",
        "    print ('title: ', m['title'])\n",
        "    print ('plot : ', m['plot'])\n",
        "    print ('vector dim :',  len(m[\"vector\"]))\n",
        "    print ('vector[:10] :', m[\"vector\"][:10])\n",
        "    print()"
      ]
    },
    {
      "cell_type": "markdown",
      "metadata": {
        "id": "d-fvlunj1vmE"
      },
      "source": [
        "## Insert data"
      ]
    },
    {
      "cell_type": "code",
      "execution_count": 10,
      "metadata": {
        "colab": {
          "base_uri": "https://localhost:8080/"
        },
        "id": "BHEhQqiG1vmE",
        "outputId": "615944c5-29bf-47fe-ccff-62252ec42f8d"
      },
      "outputs": [
        {
          "name": "stdout",
          "output_type": "stream",
          "text": [
            "inserted # rows 1473\n",
            "cost 0\n"
          ]
        }
      ],
      "source": [
        "res = client.insert(collection_name=\"movies\", data=movies)\n",
        "\n",
        "print('inserted # rows', res['insert_count'])\n",
        "print('cost', res['cost'])"
      ]
    },
    {
      "cell_type": "markdown",
      "metadata": {
        "id": "aACDvyXW1vmE"
      },
      "source": [
        "## Perform Vector Search (the FUN part!)\n",
        "\n",
        "Let's do a semantic search on plot lines"
      ]
    },
    {
      "cell_type": "code",
      "execution_count": 11,
      "metadata": {
        "id": "On1953c01vmE"
      },
      "outputs": [],
      "source": [
        "from pprint import pprint\n",
        "\n",
        "## helper function to perform vector search\n",
        "def  do_vector_search (query):\n",
        "    # query_vectors = embedding_fn.encode_queries([query])\n",
        "    query_vectors = embedding_fn([query])\n",
        "\n",
        "    results = client.search(\n",
        "        collection_name=\"movies\",  # target collection\n",
        "        data=query_vectors,  # query vectors\n",
        "        limit=5,  # number of returned entities\n",
        "        output_fields=[\"title\", \"plot\"],  # specifies fields to be returned\n",
        "    )\n",
        "    return results\n",
        "## ----\n",
        "\n",
        "\n",
        "def  print_search_results (results):\n",
        "    # pprint (results)\n",
        "    print ('num results : ', len(results[0]))\n",
        "\n",
        "    for i, r in enumerate (results[0]):\n",
        "        #pprint(r, indent=4)\n",
        "        print (i+1)\n",
        "        print ('search score:', r['distance'])\n",
        "        print ('tile:', r['entity']['title'])\n",
        "        print ('plot:', r['entity']['plot'])\n",
        "        print()"
      ]
    },
    {
      "cell_type": "code",
      "execution_count": 12,
      "metadata": {
        "colab": {
          "base_uri": "https://localhost:8080/"
        },
        "id": "-H4_lnkE1vmE",
        "outputId": "1f8b8e5e-abfe-49ec-dcdb-31ea294ece7e"
      },
      "outputs": [
        {
          "name": "stdout",
          "output_type": "stream",
          "text": [
            "num results :  5\n",
            "1\n",
            "search score: 0.8236284852027893\n",
            "tile: Independence Day\n",
            "plot: The aliens are coming and their goal is to invade and destroy Earth. Fighting superior technology, mankind's best weapon is the will to survive.\n",
            "\n",
            "2\n",
            "search score: 0.7872651219367981\n",
            "tile: Starship Troopers\n",
            "plot: Humans in a fascistic, militaristic future do battle with giant alien bugs in a fight for survival.\n",
            "\n",
            "3\n",
            "search score: 0.7458122968673706\n",
            "tile: V: The Final Battle\n",
            "plot: A small group of human resistance fighters fight a desperate guerilla war against the genocidal extra-terrestrials who dominate Earth.\n",
            "\n",
            "4\n",
            "search score: 0.7356771230697632\n",
            "tile: Enemy Mine\n",
            "plot: A soldier from Earth crash-lands on an alien world after sustaining battle damage. Eventually he encounters another survivor, but from the enemy species he was fighting; they band together ...\n",
            "\n",
            "5\n",
            "search score: 0.7283806800842285\n",
            "tile: Battlefield Earth\n",
            "plot: After enslavement & near extermination by an alien race in the year 3000, humanity begins to fight back.\n",
            "\n"
          ]
        }
      ],
      "source": [
        "query = \"Where humans fight aliens\"\n",
        "\n",
        "results = do_vector_search (query)\n",
        "print_search_results (results)"
      ]
    },
    {
      "cell_type": "code",
      "execution_count": 13,
      "metadata": {
        "colab": {
          "base_uri": "https://localhost:8080/"
        },
        "id": "1nElRCPA1vmE",
        "outputId": "bb1b0dd3-12a8-41a1-b8d1-42d90f03f7b5"
      },
      "outputs": [
        {
          "name": "stdout",
          "output_type": "stream",
          "text": [
            "num results :  5\n",
            "1\n",
            "search score: 0.7513976693153381\n",
            "tile: Varalaaru\n",
            "plot: Relationships become entangled in an emotional web.\n",
            "\n",
            "2\n",
            "search score: 0.6959848403930664\n",
            "tile: Once a Thief\n",
            "plot: A romantic and action packed story of three best friends, a group of high end art thieves, who come into trouble when a love-triangle forms between them.\n",
            "\n",
            "3\n",
            "search score: 0.6907370090484619\n",
            "tile: Dark Blue World\n",
            "plot: The friendship of two men becomes tested when they both fall for the same woman.\n",
            "\n",
            "4\n",
            "search score: 0.6907370090484619\n",
            "tile: Dark Blue World\n",
            "plot: The friendship of two men becomes tested when they both fall for the same woman.\n",
            "\n",
            "5\n",
            "search score: 0.6906609535217285\n",
            "tile: Harsh Times\n",
            "plot: A tough-minded drama about two friends in South Central Los Angeles and the violence that comes between them.\n",
            "\n"
          ]
        }
      ],
      "source": [
        "query = \"Relationship drama between friends\"\n",
        "\n",
        "results = do_vector_search (query)\n",
        "print_search_results (results)"
      ]
    },
    {
      "cell_type": "code",
      "execution_count": 13,
      "metadata": {
        "id": "_oWgT6wx1vmF"
      },
      "outputs": [],
      "source": []
    }
  ],
  "metadata": {
    "colab": {
      "provenance": []
    },
    "kernelspec": {
      "display_name": "data-prep-kit-1",
      "language": "python",
      "name": "python3"
    },
    "language_info": {
      "codemirror_mode": {
        "name": "ipython",
        "version": 3
      },
      "file_extension": ".py",
      "mimetype": "text/x-python",
      "name": "python",
      "nbconvert_exporter": "python",
      "pygments_lexer": "ipython3",
      "version": "3.11.9"
    }
  },
  "nbformat": 4,
  "nbformat_minor": 0
}
