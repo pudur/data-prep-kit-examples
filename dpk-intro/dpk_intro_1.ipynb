{
  "cells": [
    {
      "cell_type": "markdown",
      "id": "841e533d-ebb3-406d-9da7-b19e2c5f5866",
      "metadata": {
        "id": "841e533d-ebb3-406d-9da7-b19e2c5f5866"
      },
      "source": [
        "# Data Prep Kit Demo 1\n",
        "\n",
        "[Data prep kit](https://ibm.github.io/data-prep-kit)  is an open source framework that helps with data wrangling.\n",
        "\n",
        "[github repo](https://github.com/IBM/data-prep-kit)\n",
        "\n",
        "This notebook will introduce DPK and showcase some of it's capabilities."
      ]
    },
    {
      "cell_type": "markdown",
      "id": "b15976e3",
      "metadata": {
        "id": "b15976e3"
      },
      "source": [
        "## How to run this notebook\n",
        "\n",
        "Two options:\n",
        "\n",
        "- **Option 1 - Google Colab:** easiest option.  no setup required.  Click this link to open this on google colab.  [![Open In Colab](https://colab.research.google.com/assets/colab-badge.svg)](https://colab.research.google.com/github/sujee/data-prep-kit-exmples/blob/main/dpk-intro/dpk-intro-1.ipynb)\n",
        "- **Option 2 - Local python dev environment:**  Setup using this guide: [setting up python dev environment](../setup-python-dev-env.md)\n",
        "\n",
        "The notebook will work as in both environments"
      ]
    },
    {
      "cell_type": "markdown",
      "id": "eb8b0d5c",
      "metadata": {
        "id": "eb8b0d5c"
      },
      "source": [
        "## Step-1: Inspect the Data\n",
        "\n",
        "We will use simple PDFs about Solar system.  The files are [here](https://github.com/sujee/data-prep-kit-examples/tree/main/data/solar-system)\n",
        "\n",
        "- [earth.pdf](https://github.com/sujee/data-prep-kit-examples/blob/main/data/solar-system/earth.pdf)\n",
        "- [mars.pdf](https://github.com/sujee/data-prep-kit-examples/blob/main/data/solar-system/mars.pdf)\n",
        "\n",
        "### How to generate PDFs?\n",
        "\n",
        "If you like to play around with various inputs files, follow these steps to re-generate PDFs.\n",
        "\n",
        "**Option 1: markdown -> pdf**\n",
        "\n",
        "First edit the markdown files using any text editor.\n",
        "\n",
        "Then use [pandoc](https://pandoc.org/) to convert them to pdfs.\n",
        "\n",
        "```bash\n",
        "pandoc  earth.md  -o earth.pdf\n",
        "pandoc  mars.md  -o mars.pdf\n",
        "```\n",
        "\n",
        "**Option 2: Use a word editor or google docs editor**\n",
        "\n",
        "Write your content and export as PDF"
      ]
    },
    {
      "cell_type": "markdown",
      "id": "39a0ab6e",
      "metadata": {
        "id": "39a0ab6e"
      },
      "source": [
        "## Step-2: Figure out Runtime Environment\n",
        "\n",
        "### 2.1 - Determine runtime\n",
        "\n",
        "Determine if we are running on Google colab or local python environment"
      ]
    },
    {
      "cell_type": "code",
      "execution_count": 1,
      "id": "1fe354b7",
      "metadata": {
        "colab": {
          "base_uri": "https://localhost:8080/"
        },
        "id": "1fe354b7",
        "outputId": "baba7295-f144-4dbb-a584-5d98d5a7efe9"
      },
      "outputs": [
        {
          "name": "stdout",
          "output_type": "stream",
          "text": [
            "NOT in Colab\n"
          ]
        }
      ],
      "source": [
        "import os\n",
        "\n",
        "if os.getenv(\"COLAB_RELEASE_TAG\"):\n",
        "   print(\"Running in Colab\")\n",
        "   RUNNING_IN_COLAB = True\n",
        "else:\n",
        "   print(\"NOT in Colab\")\n",
        "   RUNNING_IN_COLAB = False"
      ]
    },
    {
      "cell_type": "markdown",
      "id": "8e7c104b",
      "metadata": {
        "id": "8e7c104b"
      },
      "source": [
        "### 2.2 -Download Data if running on Google Colab"
      ]
    },
    {
      "cell_type": "code",
      "execution_count": 2,
      "id": "3309799e",
      "metadata": {
        "colab": {
          "base_uri": "https://localhost:8080/"
        },
        "id": "3309799e",
        "outputId": "3a17bee7-549a-42b8-b5f3-d90b65f6b63b"
      },
      "outputs": [],
      "source": [
        "if RUNNING_IN_COLAB:\n",
        "    !mkdir -p 'input'\n",
        "    !wget -O 'input/earth.pdf'  'https://raw.githubusercontent.com/sujee/data-prep-kit-examples/main/data/solar-system/earth.pdf'\n",
        "    !wget -O 'input/mars.pdf'  'https://raw.githubusercontent.com/sujee/data-prep-kit-examples/main/data/solar-system/mars.pdf'\n",
        "    !wget -O 'input/earth.pdf'  'https://raw.githubusercontent.com/sujee/data-prep-kit-examples/main/data/solar-system/earth.pdf'\n",
        "    !wget -O 'utils.py'  'https://raw.githubusercontent.com/sujee/data-prep-kit-examples/main/utils.py'"
      ]
    },
    {
      "cell_type": "markdown",
      "id": "a5dc2b68",
      "metadata": {
        "id": "a5dc2b68"
      },
      "source": [
        "### 2.3 - Install dependencies if running on Google Colab"
      ]
    },
    {
      "cell_type": "code",
      "execution_count": 3,
      "id": "1fcec577",
      "metadata": {
        "colab": {
          "base_uri": "https://localhost:8080/",
          "height": 1000
        },
        "id": "1fcec577",
        "outputId": "e2c1af34-2228-4892-eb44-b80a1b323588"
      },
      "outputs": [],
      "source": [
        "if RUNNING_IN_COLAB:\n",
        "    ! pip install  --default-timeout=100  data-prep-toolkit-transforms-ray==0.2.1.dev1"
      ]
    },
    {
      "cell_type": "markdown",
      "id": "243322b8",
      "metadata": {
        "id": "243322b8"
      },
      "source": [
        "### 2.4 - Restart Runtime\n",
        "\n",
        "After installing dependencies, be sure <font color=\"red\">restart runtime</font>, so libraries will be loaded\n",
        "\n",
        "You do this by going to **`Runtime --> Restart Session`**\n",
        "\n",
        "Then you can continue to the next step (no need to re-run the notebook)"
      ]
    },
    {
      "cell_type": "markdown",
      "id": "e8b10be1",
      "metadata": {
        "id": "e8b10be1"
      },
      "source": [
        "## Step-2: Configuration"
      ]
    },
    {
      "cell_type": "markdown",
      "id": "356c66f7",
      "metadata": {
        "id": "356c66f7"
      },
      "source": [
        "### 2.1 - Basic Config"
      ]
    },
    {
      "cell_type": "code",
      "execution_count": 4,
      "id": "e4YMZrBuFycl",
      "metadata": {
        "colab": {
          "base_uri": "https://localhost:8080/"
        },
        "id": "e4YMZrBuFycl",
        "outputId": "3bb03cb4-b9b8-4644-ca4a-ddcdce5ea11b"
      },
      "outputs": [
        {
          "name": "stdout",
          "output_type": "stream",
          "text": [
            "NOT in Colab\n"
          ]
        }
      ],
      "source": [
        "import os\n",
        "\n",
        "if os.getenv(\"COLAB_RELEASE_TAG\"):\n",
        "   print(\"Running in Colab\")\n",
        "   RUNNING_IN_COLAB = True\n",
        "else:\n",
        "   print(\"NOT in Colab\")\n",
        "   RUNNING_IN_COLAB = False"
      ]
    },
    {
      "cell_type": "code",
      "execution_count": 5,
      "id": "33345487",
      "metadata": {
        "id": "33345487"
      },
      "outputs": [],
      "source": [
        "import os\n",
        "\n",
        "## Configuration\n",
        "class MyConfig:\n",
        "    pass\n",
        "\n",
        "MY_CONFIG = MyConfig ()\n",
        "\n",
        "if RUNNING_IN_COLAB:\n",
        "  MY_CONFIG.INPUT_DATA_DIR = 'input'\n",
        "else:\n",
        "  MY_CONFIG.INPUT_DATA_DIR = os.path.join (os.path.abspath (''), '..', 'data', 'solar-system')\n",
        "MY_CONFIG.OUTPUT_FOLDER = \"output\"\n",
        "MY_CONFIG.OUTPUT_FOLDER_FINAL = os.path.join(MY_CONFIG.OUTPUT_FOLDER , \"output_final\")\n",
        "\n",
        "## Embedding model\n",
        "MY_CONFIG.EMBEDDING_MODEL = 'sentence-transformers/all-MiniLM-L6-v2'\n",
        "\n",
        "## RAY CONFIGURATION\n",
        "num_cpus_available =  os.cpu_count()\n",
        "# print (num_cpus_available)\n",
        "# MY_CONFIG.RAY_NUM_CPUS = num_cpus_available // 2  ## use half the available cores for processing\n",
        "MY_CONFIG.RAY_NUM_CPUS =  1\n",
        "# print (MY_CONFIG.RAY_NUM_CPUS)\n",
        "MY_CONFIG.RAY_MEMORY_GB = 2  # GB\n",
        "# MY_CONFIG.RAY_RUNTIME_WORKERS = num_cpus_available // 3\n",
        "MY_CONFIG.RAY_RUNTIME_WORKERS = 1"
      ]
    },
    {
      "cell_type": "code",
      "execution_count": 6,
      "id": "b15e6827",
      "metadata": {
        "id": "b15e6827"
      },
      "outputs": [],
      "source": [
        "## Add parent dir to path\n",
        "import os,sys\n",
        "\n",
        "this_dir = os.path.abspath('')\n",
        "parent_dir = os.path.dirname(this_dir)\n",
        "sys.path.append (os.path.abspath (parent_dir))"
      ]
    },
    {
      "cell_type": "markdown",
      "id": "72510ae6-48b0-4b88-9e13-a623281c3a63",
      "metadata": {
        "id": "72510ae6-48b0-4b88-9e13-a623281c3a63"
      },
      "source": [
        "### 2.2 - Setup input/outpur directories"
      ]
    },
    {
      "cell_type": "code",
      "execution_count": 7,
      "id": "60ac8bee-0960-4309-b225-d7a211b14262",
      "metadata": {
        "colab": {
          "base_uri": "https://localhost:8080/"
        },
        "id": "60ac8bee-0960-4309-b225-d7a211b14262",
        "outputId": "c3b03b99-951d-4e22-e72c-f2e4d80cf8a6"
      },
      "outputs": [
        {
          "name": "stdout",
          "output_type": "stream",
          "text": [
            "✅ Cleared output directory\n"
          ]
        }
      ],
      "source": [
        "import os, sys\n",
        "import shutil\n",
        "\n",
        "if not os.path.exists(MY_CONFIG.INPUT_DATA_DIR ):\n",
        "    raise Exception (f\"❌ Input folder MY_CONFIG.INPUT_DATA_DIR = '{MY_CONFIG.INPUT_DATA_DIR}' not found\")\n",
        "\n",
        "STAGE = 0\n",
        "\n",
        "## clear output folder\n",
        "shutil.rmtree(MY_CONFIG.OUTPUT_FOLDER, ignore_errors=True)\n",
        "shutil.os.makedirs(MY_CONFIG.OUTPUT_FOLDER, exist_ok=True)\n",
        "\n",
        "print (\"✅ Cleared output directory\")"
      ]
    },
    {
      "cell_type": "markdown",
      "id": "2449e5c7-078c-4ad6-a2f6-21d39d4da3fb",
      "metadata": {
        "id": "2449e5c7-078c-4ad6-a2f6-21d39d4da3fb"
      },
      "source": [
        "## Step-3: pdf2parquet -  Convert data from PDF to Parquet\n",
        "\n",
        "This step is reading the input folder containing all PDF files and ingest them in a parquet table using the [Docling package](https://github.com/DS4SD/docling).\n",
        "The documents are converted into a JSON format which allows to easily chunk it in the later steps.\n",
        "\n"
      ]
    },
    {
      "cell_type": "markdown",
      "id": "c0c574c4-9dc4-4dab-9ad6-b5338207e67a",
      "metadata": {
        "id": "c0c574c4-9dc4-4dab-9ad6-b5338207e67a"
      },
      "source": [
        "### 3.1 - Set Input/output Folder"
      ]
    },
    {
      "cell_type": "code",
      "execution_count": 8,
      "id": "482605b2-d814-456d-9195-49a2ec454ef0",
      "metadata": {
        "colab": {
          "base_uri": "https://localhost:8080/"
        },
        "id": "482605b2-d814-456d-9195-49a2ec454ef0",
        "outputId": "a400ec2b-f659-4641-a439-4b8932af5f96"
      },
      "outputs": [
        {
          "name": "stdout",
          "output_type": "stream",
          "text": [
            "🏃🏼 STAGE-1: Processing input='/home/sujee/my-stuff/projects/ai-alliance/data-prep-kit-examples/dpk-intro/../data/solar-system' --> output='output/01_parquet_out'\n"
          ]
        }
      ],
      "source": [
        "STAGE  += 1\n",
        "# STAGE = 1  ## DEBUG\n",
        "\n",
        "input_folder = MY_CONFIG.INPUT_DATA_DIR\n",
        "output_folder =  os.path.join(MY_CONFIG.OUTPUT_FOLDER, f\"{STAGE:02}_parquet_out\")\n",
        "\n",
        "print (f\"🏃🏼 STAGE-{STAGE}: Processing input='{input_folder}' --> output='{output_folder}'\")"
      ]
    },
    {
      "cell_type": "markdown",
      "id": "9bb15f02-ab5c-4525-a536-cfa1fd2ba70b",
      "metadata": {
        "id": "9bb15f02-ab5c-4525-a536-cfa1fd2ba70b"
      },
      "source": [
        "### 3.2 - Execute"
      ]
    },
    {
      "cell_type": "code",
      "execution_count": 9,
      "id": "b0cd8ebd-bf71-42d6-a397-8df0c7b66a26",
      "metadata": {
        "colab": {
          "base_uri": "https://localhost:8080/"
        },
        "id": "b0cd8ebd-bf71-42d6-a397-8df0c7b66a26",
        "outputId": "7c069fa3-cf98-4686-e290-f3257d8cf050"
      },
      "outputs": [
        {
          "name": "stderr",
          "output_type": "stream",
          "text": [
            "00:21:47 INFO - Running locally\n",
            "00:21:47 INFO - pdf2parquet parameters are : {'artifacts_path': None, 'contents_type': <pdf2parquet_contents_types.JSON: 'application/json'>, 'do_table_structure': True, 'do_ocr': False}\n",
            "00:21:47 INFO - data factory data_ is using local data access: input_folder - /home/sujee/my-stuff/projects/ai-alliance/data-prep-kit-examples/dpk-intro/../data/solar-system output_folder - output/01_parquet_out\n",
            "00:21:47 INFO - data factory data_ max_files -1, n_sample -1\n",
            "00:21:47 INFO - data factory data_ Not using data sets, checkpointing False, max files -1, random samples -1, files to use ['.pdf'], files to checkpoint ['.parquet']\n",
            "00:21:47 INFO - pipeline id pipeline_id\n",
            "00:21:47 INFO - code location None\n",
            "00:21:47 INFO - number of workers 1 worker options {'num_cpus': 1, 'memory': 2147483648, 'max_restarts': -1}\n",
            "00:21:47 INFO - actor creation delay 0\n",
            "00:21:47 INFO - job details {'job category': 'preprocessing', 'job name': 'pdf2parquet', 'job type': 'ray', 'job id': 'job_id'}\n",
            "2024-09-09 00:21:50,755\tINFO worker.py:1744 -- Started a local Ray instance. View the dashboard at \u001b[1m\u001b[32mhttp://127.0.0.1:8265 \u001b[39m\u001b[22m\n",
            "\u001b[36m(orchestrate pid=1541394)\u001b[0m 00:21:55 INFO - orchestrator started at 2024-09-09 00:21:55\n",
            "\u001b[36m(orchestrate pid=1541394)\u001b[0m 00:21:55 INFO - Number of files is 2, source profile {'max_file_size': 0.055823326110839844, 'min_file_size': 0.0551910400390625, 'total_file_size': 0.11101436614990234}\n",
            "\u001b[36m(orchestrate pid=1541394)\u001b[0m 00:21:55 INFO - Cluster resources: {'cpus': 16, 'gpus': 1, 'memory': 8.713307190686464, 'object_store': 4.35665359441191}\n",
            "\u001b[36m(orchestrate pid=1541394)\u001b[0m 00:21:55 INFO - Number of workers - 1 with {'num_cpus': 1, 'memory': 2147483648, 'max_restarts': -1} each\n",
            "\u001b[36m(RayTransformFileProcessor pid=1542388)\u001b[0m 00:21:59 INFO - Initializing models\n",
            "Fetching 7 files: 100%|██████████| 7/7 [00:00<00:00, 53092.46it/s]\n",
            "\u001b[36m(RayTransformFileProcessor pid=1542388)\u001b[0m /home/sujee/apps/anaconda3/envs/data-prep-kit-3-py311/lib/python3.11/site-packages/torch/nn/modules/transformer.py:307: UserWarning: enable_nested_tensor is True, but self.use_nested_tensor is False because encoder_layer.self_attn.batch_first was not True(use batch_first for better inference performance)\n",
            "\u001b[36m(RayTransformFileProcessor pid=1542388)\u001b[0m   warnings.warn(f\"enable_nested_tensor is True, but self.use_nested_tensor is False because {why_not_sparsity_fast_path}\")\n",
            "\u001b[36m(orchestrate pid=1541394)\u001b[0m 00:22:12 INFO - Completed 1 files in 0.29218942721684776 min\n",
            "\u001b[36m(orchestrate pid=1541394)\u001b[0m 00:22:12 INFO - Completed 1 files (50.0%)  in 0.29219079415003457 min. Waiting for completion\n",
            "\u001b[36m(orchestrate pid=1541394)\u001b[0m 00:22:14 INFO - Completed processing 2 files in 0.3189416686693827 min\n",
            "\u001b[36m(orchestrate pid=1541394)\u001b[0m 00:22:14 INFO - done flushing in 0.0005784034729003906 sec\n",
            "00:22:24 INFO - Completed execution in 0.6134068648020427 min, execution result 0\n"
          ]
        },
        {
          "name": "stdout",
          "output_type": "stream",
          "text": [
            "✅ Stage:1 completed successfully\n",
            "CPU times: user 4.01 s, sys: 1.58 s, total: 5.59 s\n",
            "Wall time: 43.5 s\n"
          ]
        }
      ],
      "source": [
        "%%time\n",
        "\n",
        "import ast\n",
        "import os\n",
        "import sys\n",
        "\n",
        "from pdf2parquet_transform import (\n",
        "    pdf2parquet_contents_type_cli_param,\n",
        "    pdf2parquet_contents_types,\n",
        ")\n",
        "from data_processing_ray.runtime.ray import RayTransformLauncher\n",
        "from pdf2parquet_transform_python import Pdf2ParquetPythonTransformConfiguration\n",
        "from pdf2parquet_transform_ray import Pdf2ParquetRayTransformConfiguration\n",
        "\n",
        "from data_processing.utils import GB, ParamsUtils\n",
        "\n",
        "\n",
        "# create parameters\n",
        "local_conf = {\n",
        "    \"input_folder\": input_folder,\n",
        "    \"output_folder\": output_folder,\n",
        "}\n",
        "worker_options = {\"num_cpus\" : MY_CONFIG.RAY_NUM_CPUS, \"memory\": MY_CONFIG.RAY_MEMORY_GB * GB}\n",
        "ingest_config = {\n",
        "    pdf2parquet_contents_type_cli_param: pdf2parquet_contents_types.JSON,\n",
        "}\n",
        "\n",
        "params = {\n",
        "    # where to run\n",
        "    \"run_locally\": True,\n",
        "    # Data access. Only required parameters are specified\n",
        "    \"data_local_config\": ParamsUtils.convert_to_ast(local_conf),\n",
        "    \"data_files_to_use\": ast.literal_eval(\"['.pdf']\"),\n",
        "    # orchestrator\n",
        "    \"runtime_worker_options\": ParamsUtils.convert_to_ast(worker_options),\n",
        "    \"runtime_num_workers\": MY_CONFIG.RAY_RUNTIME_WORKERS,\n",
        "}\n",
        "\n",
        "\n",
        "sys.argv = ParamsUtils.dict_to_req(d=(params | ingest_config))\n",
        "# create launcher\n",
        "launcher = RayTransformLauncher(Pdf2ParquetRayTransformConfiguration())\n",
        "# launcher = PythonTransformLauncher(Pdf2ParquetPythonTransformConfiguration())\n",
        "# launch\n",
        "return_code = launcher.launch()\n",
        "\n",
        "if return_code == 0:\n",
        "    print (f\"✅ Stage:{STAGE} completed successfully\")\n",
        "else:\n",
        "    raise Exception (\"❌ Ray job failed\")\n"
      ]
    },
    {
      "cell_type": "markdown",
      "id": "5ca790e0",
      "metadata": {
        "id": "5ca790e0"
      },
      "source": [
        "### 3.3 - Inspect Generated output\n",
        "\n",
        "Here we should see one entry per input file processed."
      ]
    },
    {
      "cell_type": "code",
      "execution_count": 10,
      "id": "fe59563d",
      "metadata": {
        "colab": {
          "base_uri": "https://localhost:8080/",
          "height": 255
        },
        "id": "fe59563d",
        "outputId": "a1a50df5-af0d-4d90-c8d1-9abbfd45cba4"
      },
      "outputs": [
        {
          "name": "stdout",
          "output_type": "stream",
          "text": [
            "Output dimensions (rows x columns)=  (2, 12)\n"
          ]
        },
        {
          "data": {
            "text/html": [
              "<div>\n",
              "<style scoped>\n",
              "    .dataframe tbody tr th:only-of-type {\n",
              "        vertical-align: middle;\n",
              "    }\n",
              "\n",
              "    .dataframe tbody tr th {\n",
              "        vertical-align: top;\n",
              "    }\n",
              "\n",
              "    .dataframe thead th {\n",
              "        text-align: right;\n",
              "    }\n",
              "</style>\n",
              "<table border=\"1\" class=\"dataframe\">\n",
              "  <thead>\n",
              "    <tr style=\"text-align: right;\">\n",
              "      <th></th>\n",
              "      <th>filename</th>\n",
              "      <th>contents</th>\n",
              "      <th>num_pages</th>\n",
              "      <th>num_tables</th>\n",
              "      <th>num_doc_elements</th>\n",
              "      <th>document_id</th>\n",
              "      <th>ext</th>\n",
              "      <th>hash</th>\n",
              "      <th>size</th>\n",
              "      <th>date_acquired</th>\n",
              "      <th>pdf_convert_time</th>\n",
              "      <th>source_filename</th>\n",
              "    </tr>\n",
              "  </thead>\n",
              "  <tbody>\n",
              "    <tr>\n",
              "      <th>0</th>\n",
              "      <td>mars.pdf</td>\n",
              "      <td>{\"_name\":\"\",\"type\":\"pdf-document\",\"description...</td>\n",
              "      <td>1</td>\n",
              "      <td>0</td>\n",
              "      <td>11</td>\n",
              "      <td>26d247d6-60f7-42a5-9be4-3524391010dd</td>\n",
              "      <td>pdf</td>\n",
              "      <td>6dfaeed444efc80bf32e0c67308a57c38cc8d27a6405ec...</td>\n",
              "      <td>2531</td>\n",
              "      <td>2024-09-09T00:22:14.490039</td>\n",
              "      <td>1.602514</td>\n",
              "      <td>mars.pdf</td>\n",
              "    </tr>\n",
              "    <tr>\n",
              "      <th>1</th>\n",
              "      <td>earth.pdf</td>\n",
              "      <td>{\"_name\":\"\",\"type\":\"pdf-document\",\"description...</td>\n",
              "      <td>1</td>\n",
              "      <td>0</td>\n",
              "      <td>11</td>\n",
              "      <td>347b47c6-7172-4e23-be0c-89581cf0d33d</td>\n",
              "      <td>pdf</td>\n",
              "      <td>0260c5d12de8d1ce27a6c096f7983336b1ded574ad3ab8...</td>\n",
              "      <td>2407</td>\n",
              "      <td>2024-09-09T00:22:12.874147</td>\n",
              "      <td>1.662447</td>\n",
              "      <td>earth.pdf</td>\n",
              "    </tr>\n",
              "  </tbody>\n",
              "</table>\n",
              "</div>"
            ],
            "text/plain": [
              "    filename                                           contents  num_pages  \\\n",
              "0   mars.pdf  {\"_name\":\"\",\"type\":\"pdf-document\",\"description...          1   \n",
              "1  earth.pdf  {\"_name\":\"\",\"type\":\"pdf-document\",\"description...          1   \n",
              "\n",
              "   num_tables  num_doc_elements                           document_id  ext  \\\n",
              "0           0                11  26d247d6-60f7-42a5-9be4-3524391010dd  pdf   \n",
              "1           0                11  347b47c6-7172-4e23-be0c-89581cf0d33d  pdf   \n",
              "\n",
              "                                                hash  size  \\\n",
              "0  6dfaeed444efc80bf32e0c67308a57c38cc8d27a6405ec...  2531   \n",
              "1  0260c5d12de8d1ce27a6c096f7983336b1ded574ad3ab8...  2407   \n",
              "\n",
              "                date_acquired  pdf_convert_time source_filename  \n",
              "0  2024-09-09T00:22:14.490039          1.602514        mars.pdf  \n",
              "1  2024-09-09T00:22:12.874147          1.662447       earth.pdf  "
            ]
          },
          "execution_count": 10,
          "metadata": {},
          "output_type": "execute_result"
        }
      ],
      "source": [
        "from utils import read_parquet_files_as_df\n",
        "\n",
        "output_df = read_parquet_files_as_df(output_folder)\n",
        "\n",
        "print (\"Output dimensions (rows x columns)= \", output_df.shape)\n",
        "\n",
        "output_df.head(5)\n",
        "\n",
        "## To display certain columns\n",
        "#parquet_df[['column1', 'column2', 'column3']].head(5)"
      ]
    },
    {
      "cell_type": "markdown",
      "id": "e5058a21",
      "metadata": {
        "id": "e5058a21"
      },
      "source": [
        "\n",
        "### 3.4 - Understand the output\n",
        "\n",
        "Here are some interesting attributes to note:\n",
        "\n",
        "- **filename** : original filename\n",
        "- **contents** : text\n",
        "- **document_id**: unique id (UUID) assignd to this document\n",
        "- **hash** : hash of document\n",
        "- **pdf_convert_time** : time to convert this pdf in seconds\n",
        "\n",
        "Let's inspect the **contents** column.  See how the text is being divided up!"
      ]
    },
    {
      "cell_type": "code",
      "execution_count": 11,
      "id": "f870e624",
      "metadata": {
        "colab": {
          "base_uri": "https://localhost:8080/"
        },
        "id": "f870e624",
        "outputId": "ae8aa43a-7b36-4532-b4a0-421c4a8f7b32"
      },
      "outputs": [
        {
          "name": "stdout",
          "output_type": "stream",
          "text": [
            "{'_name': '',\n",
            " 'description': {'logs': []},\n",
            " 'equations': [],\n",
            " 'figures': [],\n",
            " 'file-info': {'#-pages': 1,\n",
            "               'document-hash': '1a83f43f3a202e3f203c1263e36961ecc45d401aad488f638fc5559a584333b2',\n",
            "               'filename': 'mars.pdf',\n",
            "               'page-hashes': [{'hash': '551fe7a9bde2a9302f150c0a79a13fcc0868fcf73ac6afb80be645c1174734a0',\n",
            "                                'model': 'default',\n",
            "                                'page': 1}]},\n",
            " 'footnotes': [],\n",
            " 'main-text': [{'name': 'Section-header',\n",
            "                'prov': [{'bbox': [133.35, 657.11, 169.63, 667.98],\n",
            "                          'page': 1,\n",
            "                          'span': [0, 4]}],\n",
            "                'text': 'Mars',\n",
            "                'type': 'subtitle-level-1'},\n",
            "               {'name': 'Section-header',\n",
            "                'prov': [{'bbox': [133.1, 630.68, 210.45, 642.34],\n",
            "                          'page': 1,\n",
            "                          'span': [0, 12]}],\n",
            "                'text': 'Solar System',\n",
            "                'type': 'subtitle-level-1'},\n",
            "               {'name': 'text',\n",
            "                'prov': [{'bbox': [132.85, 590.24, 478.57, 623.03],\n",
            "                          'page': 1,\n",
            "                          'span': [0, 205]}],\n",
            "                'text': 'Our solar system is a vast and fascinating expanse, '\n",
            "                        'comprising eight planets, five dwarf planets, '\n",
            "                        'numerous moons, asteroids, comets, and other '\n",
            "                        'celestial bodies. At its center lies the star we call '\n",
            "                        'the Sun.',\n",
            "                'type': 'paragraph'},\n",
            "               {'name': 'text',\n",
            "                'prov': [{'bbox': [133.19, 570.83, 374.24, 581.07],\n",
            "                          'page': 1,\n",
            "                          'span': [0, 54]}],\n",
            "                'text': 'For more details about the Solar system see Chapter '\n",
            "                        '1.',\n",
            "                'type': 'paragraph'},\n",
            "               {'name': 'Section-header',\n",
            "                'prov': [{'bbox': [133.23, 545.08, 163.69, 554.45],\n",
            "                          'page': 1,\n",
            "                          'span': [0, 4]}],\n",
            "                'text': 'Mars',\n",
            "                'type': 'subtitle-level-1'},\n",
            "               {'name': 'text',\n",
            "                'prov': [{'bbox': [132.87, 500.92, 477.3, 534.56],\n",
            "                          'page': 1,\n",
            "                          'span': [0, 196]}],\n",
            "                'text': 'Mars, the fourth planet from the Sun, is a cold, '\n",
            "                        'desert world with a thin atmosphere composed '\n",
            "                        'primarily of carbon dioxide. Its reddish hue comes '\n",
            "                        'from iron oxide, or rust, prevalent on its surface.',\n",
            "                'type': 'paragraph'},\n",
            "               {'name': 'Section-header',\n",
            "                'prov': [{'bbox': [133.2, 484.8, 236.31, 493.07],\n",
            "                          'page': 1,\n",
            "                          'span': [0, 23]}],\n",
            "                'text': 'Basic facts about Mars:',\n",
            "                'type': 'subtitle-level-1'},\n",
            "               {'name': 'text',\n",
            "                'prov': [{'bbox': [147.73, 452.7, 476.98, 474.97],\n",
            "                          'page': 1,\n",
            "                          'span': [0, 78]}],\n",
            "                'text': '· Distance from the Sun: Average of 228 million '\n",
            "                        'kilometers (142 million miles)',\n",
            "                'type': 'paragraph'},\n",
            "               {'name': 'List-item',\n",
            "                'prov': [{'bbox': [147.28, 440.75, 430.68, 451.21],\n",
            "                          'page': 1,\n",
            "                          'span': [0, 64]}],\n",
            "                'text': '· Rotation Period: 24.6 hours (one Martian day - '\n",
            "                        'called a \"sol\")',\n",
            "                'type': 'paragraph'},\n",
            "               {'name': 'List-item',\n",
            "                'prov': [{'bbox': [147.35, 429.36, 365.35, 438.84],\n",
            "                          'page': 1,\n",
            "                          'span': [0, 44]}],\n",
            "                'text': '· Moons: Two small moons, Phobos and Deimos.',\n",
            "                'type': 'paragraph'},\n",
            "               {'name': 'Page-footer',\n",
            "                'prov': [{'bbox': [303.3, 89.26, 307.37, 96.52],\n",
            "                          'page': 1,\n",
            "                          'span': [0, 1]}],\n",
            "                'text': '1',\n",
            "                'type': 'page-footer'}],\n",
            " 'page-dimensions': [{'height': 792.0, 'page': 1, 'width': 612.0}],\n",
            " 'page-footers': [],\n",
            " 'page-headers': [],\n",
            " 'tables': [],\n",
            " 'type': 'pdf-document'}\n"
          ]
        }
      ],
      "source": [
        "import pprint\n",
        "import json\n",
        "\n",
        "pprint.pprint (json.loads(output_df.iloc[0, ]['contents']))\n",
        "# json.loads(output_df.iloc[0, ]['contents'])"
      ]
    },
    {
      "cell_type": "code",
      "execution_count": 12,
      "id": "e1a10c2d",
      "metadata": {
        "colab": {
          "base_uri": "https://localhost:8080/"
        },
        "id": "e1a10c2d",
        "outputId": "ea40bf12-e137-4138-c679-8116888708e2"
      },
      "outputs": [
        {
          "name": "stdout",
          "output_type": "stream",
          "text": [
            "{'_name': '',\n",
            " 'description': {'logs': []},\n",
            " 'equations': [],\n",
            " 'figures': [],\n",
            " 'file-info': {'#-pages': 1,\n",
            "               'document-hash': '7401ae81637dbb89e7040dcd5945bbfb75ff8648bb761c69f8a1595e86538748',\n",
            "               'filename': 'earth.pdf',\n",
            "               'page-hashes': [{'hash': 'ca802e4bd5a3301792808caea2a47db51f0520888875b77fc230c99ee851c19b',\n",
            "                                'model': 'default',\n",
            "                                'page': 1}]},\n",
            " 'footnotes': [],\n",
            " 'main-text': [{'name': 'Section-header',\n",
            "                'prov': [{'bbox': [133.31, 656.9, 173.65, 667.93],\n",
            "                          'page': 1,\n",
            "                          'span': [0, 5]}],\n",
            "                'text': 'Earth',\n",
            "                'type': 'subtitle-level-1'},\n",
            "               {'name': 'Section-header',\n",
            "                'prov': [{'bbox': [133.13, 630.69, 210.44, 642.28],\n",
            "                          'page': 1,\n",
            "                          'span': [0, 12]}],\n",
            "                'text': 'Solar System',\n",
            "                'type': 'subtitle-level-1'},\n",
            "               {'name': 'text',\n",
            "                'prov': [{'bbox': [132.87, 590.26, 478.57, 623.05],\n",
            "                          'page': 1,\n",
            "                          'span': [0, 205]}],\n",
            "                'text': 'Our solar system is a vast and fascinating expanse, '\n",
            "                        'comprising eight planets, five dwarf planets, '\n",
            "                        'numerous moons, asteroids, comets, and other '\n",
            "                        'celestial bodies. At its center lies the star we call '\n",
            "                        'the Sun.',\n",
            "                'type': 'paragraph'},\n",
            "               {'name': 'text',\n",
            "                'prov': [{'bbox': [133.21, 570.82, 374.81, 581.08],\n",
            "                          'page': 1,\n",
            "                          'span': [0, 54]}],\n",
            "                'text': 'For more details about our Solar system see Chapter '\n",
            "                        '1.',\n",
            "                'type': 'paragraph'},\n",
            "               {'name': 'Section-header',\n",
            "                'prov': [{'bbox': [133.16, 544.91, 167.02, 554.37],\n",
            "                          'page': 1,\n",
            "                          'span': [0, 5]}],\n",
            "                'text': 'Earth',\n",
            "                'type': 'subtitle-level-1'},\n",
            "               {'name': 'text',\n",
            "                'prov': [{'bbox': [132.91, 512.46, 477.41, 534.48],\n",
            "                          'page': 1,\n",
            "                          'span': [0, 107]}],\n",
            "                'text': \"Earth is the third planet from the Sun. It's our home \"\n",
            "                        'planet. Earth is the only place we know of with life.',\n",
            "                'type': 'paragraph'},\n",
            "               {'name': 'Text',\n",
            "                'prov': [{'bbox': [133.3, 496.79, 239.59, 505.07],\n",
            "                          'page': 1,\n",
            "                          'span': [0, 24]}],\n",
            "                'text': 'Basic facts about Earth:',\n",
            "                'type': 'paragraph'},\n",
            "               {'name': 'text',\n",
            "                'prov': [{'bbox': [147.68, 464.66, 477.03, 487.03],\n",
            "                          'page': 1,\n",
            "                          'span': [0, 79]}],\n",
            "                'text': '· Distance from the Sun: Average of 149.6 million '\n",
            "                        'kilometers (93 million miles)',\n",
            "                'type': 'paragraph'},\n",
            "               {'name': 'List-item',\n",
            "                'prov': [{'bbox': [147.4, 452.7, 317.19, 463.24],\n",
            "                          'page': 1,\n",
            "                          'span': [0, 37]}],\n",
            "                'text': '· Rotation Period: 24 hours (one day)',\n",
            "                'type': 'paragraph'},\n",
            "               {'name': 'text',\n",
            "                'prov': [{'bbox': [147.33, 440.71, 395.81, 451.2],\n",
            "                          'page': 1,\n",
            "                          'span': [0, 52]}],\n",
            "                'text': '· Moons: One moon, called Luna or simply \"the Moon\".',\n",
            "                'type': 'paragraph'},\n",
            "               {'name': 'Page-footer',\n",
            "                'prov': [{'bbox': [303.31, 89.24, 307.35, 96.54],\n",
            "                          'page': 1,\n",
            "                          'span': [0, 1]}],\n",
            "                'text': '1',\n",
            "                'type': 'page-footer'}],\n",
            " 'page-dimensions': [{'height': 792.0, 'page': 1, 'width': 612.0}],\n",
            " 'page-footers': [],\n",
            " 'page-headers': [],\n",
            " 'tables': [],\n",
            " 'type': 'pdf-document'}\n"
          ]
        }
      ],
      "source": [
        "pprint.pprint (json.loads(output_df.iloc[1, ]['contents']))"
      ]
    },
    {
      "cell_type": "markdown",
      "id": "72274586",
      "metadata": {
        "id": "72274586"
      },
      "source": [
        "##  Step-4: Doc chunks\n",
        "\n",
        "In the previous step, we have extracted text from oru PDFs.  But we have the content of entire file as 'one row' in our parquet output.\n",
        "\n",
        "In this step, we are going to split the documents in chunks, according to their layout segmentation.\n",
        "\n",
        "This transform uses [Quackling](https://github.com/DS4SD/quackling) `HierarchicalChunker`\n",
        "to chunk according to the document layout segmentation, i.e. respecting the original document components as paragraphs, tables, enumerations, etc.\n",
        "It relies on documents converted with the Docling library in the [pdf2parquet transform](https://github.com/IBM/data-prep-kit/blob/dev/transforms/language/pdf2parquet/python/README.md) using the option `contents_type: \"application/json\"`,\n",
        "which provides the required JSON structure."
      ]
    },
    {
      "cell_type": "markdown",
      "id": "96198fa6",
      "metadata": {
        "id": "96198fa6"
      },
      "source": [
        "### 4.1 - Set Input/output Folder"
      ]
    },
    {
      "cell_type": "code",
      "execution_count": 13,
      "id": "305f00a3",
      "metadata": {
        "colab": {
          "base_uri": "https://localhost:8080/"
        },
        "id": "305f00a3",
        "outputId": "83b55206-573f-43b8-82db-504fa7a0c321"
      },
      "outputs": [
        {
          "name": "stdout",
          "output_type": "stream",
          "text": [
            "🏃🏼 STAGE-2: Processing input='output/01_parquet_out' --> output='output/02_chunk_out'\n"
          ]
        }
      ],
      "source": [
        "STAGE  += 1\n",
        "# STAGE = 2  ## DEBUG\n",
        "\n",
        "input_folder = output_folder # previous output folder is the input folder for the current stage\n",
        "output_folder =  os.path.join(MY_CONFIG.OUTPUT_FOLDER, f\"{STAGE:02}_chunk_out\")\n",
        "\n",
        "input_df = read_parquet_files_as_df(input_folder)  ## for debug purposes\n",
        "\n",
        "print (f\"🏃🏼 STAGE-{STAGE}: Processing input='{input_folder}' --> output='{output_folder}'\")"
      ]
    },
    {
      "cell_type": "markdown",
      "id": "369f2cd1",
      "metadata": {
        "id": "369f2cd1"
      },
      "source": [
        "### 4.2 - Execute"
      ]
    },
    {
      "cell_type": "code",
      "execution_count": 14,
      "id": "5b7b18d5",
      "metadata": {
        "colab": {
          "base_uri": "https://localhost:8080/"
        },
        "id": "5b7b18d5",
        "outputId": "591e4ffa-ba10-4cce-9e1f-9279a7867cfa"
      },
      "outputs": [
        {
          "name": "stderr",
          "output_type": "stream",
          "text": [
            "[nltk_data] Downloading package punkt_tab to\n",
            "[nltk_data]     /home/sujee/apps/anaconda3/envs/data-prep-\n",
            "[nltk_data]     kit-3-py311/lib/python3.11/site-\n",
            "[nltk_data]     packages/llama_index/core/_static/nltk_cache...\n",
            "[nltk_data]   Package punkt_tab is already up-to-date!\n",
            "00:22:27 INFO - Running locally\n",
            "00:22:27 INFO - doc_chunk parameters are : {'chunking_type': <chunking_types.DL_JSON: 'dl_json'>, 'content_column_name': 'contents', 'output_chunk_column_name': 'contents', 'output_jsonpath_column_name': 'doc_jsonpath', 'output_pageno_column_name': 'page_number', 'output_bbox_column_name': 'bbox'}\n",
            "00:22:27 INFO - data factory data_ is using local data access: input_folder - output/01_parquet_out output_folder - output/02_chunk_out\n",
            "00:22:27 INFO - data factory data_ max_files -1, n_sample -1\n",
            "00:22:27 INFO - data factory data_ Not using data sets, checkpointing False, max files -1, random samples -1, files to use ['.parquet'], files to checkpoint ['.parquet']\n",
            "00:22:27 INFO - pipeline id pipeline_id\n",
            "00:22:27 INFO - code location None\n",
            "00:22:27 INFO - number of workers 1 worker options {'num_cpus': 1, 'max_restarts': -1}\n",
            "00:22:27 INFO - actor creation delay 0\n",
            "00:22:27 INFO - job details {'job category': 'preprocessing', 'job name': 'doc_chunk', 'job type': 'ray', 'job id': 'job_id'}\n",
            "2024-09-09 00:22:29,388\tINFO worker.py:1744 -- Started a local Ray instance. View the dashboard at \u001b[1m\u001b[32mhttp://127.0.0.1:8265 \u001b[39m\u001b[22m\n",
            "\u001b[36m(orchestrate pid=1543554)\u001b[0m [nltk_data] Downloading package punkt_tab to\n",
            "\u001b[36m(orchestrate pid=1543554)\u001b[0m [nltk_data]     /home/sujee/apps/anaconda3/envs/data-prep-\n",
            "\u001b[36m(orchestrate pid=1543554)\u001b[0m [nltk_data]     kit-3-py311/lib/python3.11/site-\n",
            "\u001b[36m(orchestrate pid=1543554)\u001b[0m [nltk_data]     packages/llama_index/core/_static/nltk_cache...\n",
            "\u001b[36m(orchestrate pid=1543554)\u001b[0m [nltk_data]   Package punkt_tab is already up-to-date!\n",
            "\u001b[36m(orchestrate pid=1543554)\u001b[0m 00:22:31 INFO - orchestrator started at 2024-09-09 00:22:31\n",
            "\u001b[36m(orchestrate pid=1543554)\u001b[0m 00:22:31 INFO - Number of files is 2, source profile {'max_file_size': 0.020951271057128906, 'min_file_size': 0.02016735076904297, 'total_file_size': 0.041118621826171875}\n",
            "\u001b[36m(orchestrate pid=1543554)\u001b[0m 00:22:31 INFO - Cluster resources: {'cpus': 16, 'gpus': 1, 'memory': 8.63390579354018, 'object_store': 4.316952895373106}\n",
            "\u001b[36m(orchestrate pid=1543554)\u001b[0m 00:22:31 INFO - Number of workers - 1 with {'num_cpus': 1, 'max_restarts': -1} each\n",
            "\u001b[36m(orchestrate pid=1543554)\u001b[0m 00:22:33 INFO - Completed 1 files in 0.030289932092030843 min\n",
            "\u001b[36m(orchestrate pid=1543554)\u001b[0m 00:22:33 INFO - Completed 1 files (50.0%)  in 0.030291950702667235 min. Waiting for completion\n",
            "\u001b[36m(orchestrate pid=1543554)\u001b[0m 00:22:33 INFO - Completed processing 2 files in 0.030362510681152345 min\n",
            "\u001b[36m(orchestrate pid=1543554)\u001b[0m 00:22:33 INFO - done flushing in 0.0007121562957763672 sec\n",
            "00:22:43 INFO - Completed execution in 0.26609704494476316 min, execution result 0\n",
            "\u001b[36m(RayTransformFileProcessor pid=1544415)\u001b[0m [nltk_data] Downloading package punkt_tab to\n",
            "\u001b[36m(RayTransformFileProcessor pid=1544415)\u001b[0m [nltk_data]     kit-3-py311/lib/python3.11/site-\u001b[32m [repeated 2x across cluster] (Ray deduplicates logs by default. Set RAY_DEDUP_LOGS=0 to disable log deduplication, or see https://docs.ray.io/en/master/ray-observability/user-guides/configure-logging.html#log-deduplication for more options.)\u001b[0m\n",
            "\u001b[36m(RayTransformFileProcessor pid=1544415)\u001b[0m [nltk_data]     packages/llama_index/core/_static/nltk_cache...\n",
            "\u001b[36m(RayTransformFileProcessor pid=1544415)\u001b[0m [nltk_data]   Package punkt_tab is already up-to-date!\n"
          ]
        },
        {
          "name": "stdout",
          "output_type": "stream",
          "text": [
            "✅ Stage:2 completed successfully\n",
            "CPU times: user 1.33 s, sys: 995 ms, total: 2.32 s\n",
            "Wall time: 18.9 s\n"
          ]
        }
      ],
      "source": [
        "%%time\n",
        "\n",
        "from data_processing_ray.runtime.ray import RayTransformLauncher\n",
        "from doc_chunk_transform_ray import DocChunkRayTransformConfiguration\n",
        "\n",
        "\n",
        "# Prepare the commandline params\n",
        "local_conf = {\n",
        "    \"input_folder\": input_folder,\n",
        "    \"output_folder\": output_folder,\n",
        "}\n",
        "worker_options = {\"num_cpus\" : MY_CONFIG.RAY_NUM_CPUS}\n",
        "params = {\n",
        "    # where to run\n",
        "    \"run_locally\": True,\n",
        "    # Data access. Only required parameters are specified\n",
        "    \"data_local_config\": ParamsUtils.convert_to_ast(local_conf),\n",
        "    # orchestrator\n",
        "    \"runtime_worker_options\": ParamsUtils.convert_to_ast(worker_options),\n",
        "    \"runtime_num_workers\": MY_CONFIG.RAY_RUNTIME_WORKERS,\n",
        "    # doc_chunk arguments\n",
        "    # ...\n",
        "}\n",
        "\n",
        "# Pass the commandline params\n",
        "sys.argv = ParamsUtils.dict_to_req(d=params)\n",
        "\n",
        "# create launcher\n",
        "launcher = RayTransformLauncher(DocChunkRayTransformConfiguration())\n",
        "# launch\n",
        "return_code = launcher.launch()\n",
        "\n",
        "if return_code == 0:\n",
        "    print (f\"✅ Stage:{STAGE} completed successfully\")\n",
        "else:\n",
        "    raise Exception (\"❌ Ray job failed\")"
      ]
    },
    {
      "cell_type": "markdown",
      "id": "213afdf6",
      "metadata": {
        "id": "213afdf6"
      },
      "source": [
        "### 4.3 - Inspect Generated output\n",
        "\n",
        "We would see documents are split into many chunks"
      ]
    },
    {
      "cell_type": "code",
      "execution_count": 15,
      "id": "d8138d43",
      "metadata": {
        "colab": {
          "base_uri": "https://localhost:8080/",
          "height": 914
        },
        "id": "d8138d43",
        "outputId": "3cf1b09c-fb88-42f7-fd8e-af131c07a412"
      },
      "outputs": [
        {
          "name": "stdout",
          "output_type": "stream",
          "text": [
            "Files processed : 2\n",
            "Chunks created : 8\n",
            "Input data dimensions (rows x columns)=  (2, 12)\n",
            "Output data dimensions (rows x columns)=  (8, 15)\n"
          ]
        },
        {
          "data": {
            "text/html": [
              "<div>\n",
              "<style scoped>\n",
              "    .dataframe tbody tr th:only-of-type {\n",
              "        vertical-align: middle;\n",
              "    }\n",
              "\n",
              "    .dataframe tbody tr th {\n",
              "        vertical-align: top;\n",
              "    }\n",
              "\n",
              "    .dataframe thead th {\n",
              "        text-align: right;\n",
              "    }\n",
              "</style>\n",
              "<table border=\"1\" class=\"dataframe\">\n",
              "  <thead>\n",
              "    <tr style=\"text-align: right;\">\n",
              "      <th></th>\n",
              "      <th>filename</th>\n",
              "      <th>num_pages</th>\n",
              "      <th>num_tables</th>\n",
              "      <th>num_doc_elements</th>\n",
              "      <th>document_id</th>\n",
              "      <th>ext</th>\n",
              "      <th>hash</th>\n",
              "      <th>size</th>\n",
              "      <th>date_acquired</th>\n",
              "      <th>pdf_convert_time</th>\n",
              "      <th>source_filename</th>\n",
              "      <th>contents</th>\n",
              "      <th>doc_jsonpath</th>\n",
              "      <th>page_number</th>\n",
              "      <th>bbox</th>\n",
              "    </tr>\n",
              "  </thead>\n",
              "  <tbody>\n",
              "    <tr>\n",
              "      <th>0</th>\n",
              "      <td>mars.pdf</td>\n",
              "      <td>1</td>\n",
              "      <td>0</td>\n",
              "      <td>11</td>\n",
              "      <td>26d247d6-60f7-42a5-9be4-3524391010dd</td>\n",
              "      <td>pdf</td>\n",
              "      <td>6dfaeed444efc80bf32e0c67308a57c38cc8d27a6405ec...</td>\n",
              "      <td>2531</td>\n",
              "      <td>2024-09-09T00:22:14.490039</td>\n",
              "      <td>1.602514</td>\n",
              "      <td>mars.pdf</td>\n",
              "      <td>Solar System\\nOur solar system is a vast and f...</td>\n",
              "      <td>$.main-text[2]</td>\n",
              "      <td>1</td>\n",
              "      <td>[132.85, 590.24, 478.57, 623.03]</td>\n",
              "    </tr>\n",
              "    <tr>\n",
              "      <th>1</th>\n",
              "      <td>mars.pdf</td>\n",
              "      <td>1</td>\n",
              "      <td>0</td>\n",
              "      <td>11</td>\n",
              "      <td>26d247d6-60f7-42a5-9be4-3524391010dd</td>\n",
              "      <td>pdf</td>\n",
              "      <td>6dfaeed444efc80bf32e0c67308a57c38cc8d27a6405ec...</td>\n",
              "      <td>2531</td>\n",
              "      <td>2024-09-09T00:22:14.490039</td>\n",
              "      <td>1.602514</td>\n",
              "      <td>mars.pdf</td>\n",
              "      <td>Solar System\\nFor more details about the Solar...</td>\n",
              "      <td>$.main-text[3]</td>\n",
              "      <td>1</td>\n",
              "      <td>[133.19, 570.83, 374.24, 581.07]</td>\n",
              "    </tr>\n",
              "    <tr>\n",
              "      <th>2</th>\n",
              "      <td>mars.pdf</td>\n",
              "      <td>1</td>\n",
              "      <td>0</td>\n",
              "      <td>11</td>\n",
              "      <td>26d247d6-60f7-42a5-9be4-3524391010dd</td>\n",
              "      <td>pdf</td>\n",
              "      <td>6dfaeed444efc80bf32e0c67308a57c38cc8d27a6405ec...</td>\n",
              "      <td>2531</td>\n",
              "      <td>2024-09-09T00:22:14.490039</td>\n",
              "      <td>1.602514</td>\n",
              "      <td>mars.pdf</td>\n",
              "      <td>Mars\\nMars, the fourth planet from the Sun, is...</td>\n",
              "      <td>$.main-text[5]</td>\n",
              "      <td>1</td>\n",
              "      <td>[132.87, 500.92, 477.3, 534.56]</td>\n",
              "    </tr>\n",
              "    <tr>\n",
              "      <th>3</th>\n",
              "      <td>mars.pdf</td>\n",
              "      <td>1</td>\n",
              "      <td>0</td>\n",
              "      <td>11</td>\n",
              "      <td>26d247d6-60f7-42a5-9be4-3524391010dd</td>\n",
              "      <td>pdf</td>\n",
              "      <td>6dfaeed444efc80bf32e0c67308a57c38cc8d27a6405ec...</td>\n",
              "      <td>2531</td>\n",
              "      <td>2024-09-09T00:22:14.490039</td>\n",
              "      <td>1.602514</td>\n",
              "      <td>mars.pdf</td>\n",
              "      <td>Basic facts about Mars:\\n· Distance from the S...</td>\n",
              "      <td>$.main-text[7]</td>\n",
              "      <td>1</td>\n",
              "      <td>[147.73, 452.7, 476.98, 474.97]</td>\n",
              "    </tr>\n",
              "    <tr>\n",
              "      <th>4</th>\n",
              "      <td>earth.pdf</td>\n",
              "      <td>1</td>\n",
              "      <td>0</td>\n",
              "      <td>11</td>\n",
              "      <td>347b47c6-7172-4e23-be0c-89581cf0d33d</td>\n",
              "      <td>pdf</td>\n",
              "      <td>0260c5d12de8d1ce27a6c096f7983336b1ded574ad3ab8...</td>\n",
              "      <td>2407</td>\n",
              "      <td>2024-09-09T00:22:12.874147</td>\n",
              "      <td>1.662447</td>\n",
              "      <td>earth.pdf</td>\n",
              "      <td>Solar System\\nOur solar system is a vast and f...</td>\n",
              "      <td>$.main-text[2]</td>\n",
              "      <td>1</td>\n",
              "      <td>[132.87, 590.26, 478.57, 623.05]</td>\n",
              "    </tr>\n",
              "    <tr>\n",
              "      <th>5</th>\n",
              "      <td>earth.pdf</td>\n",
              "      <td>1</td>\n",
              "      <td>0</td>\n",
              "      <td>11</td>\n",
              "      <td>347b47c6-7172-4e23-be0c-89581cf0d33d</td>\n",
              "      <td>pdf</td>\n",
              "      <td>0260c5d12de8d1ce27a6c096f7983336b1ded574ad3ab8...</td>\n",
              "      <td>2407</td>\n",
              "      <td>2024-09-09T00:22:12.874147</td>\n",
              "      <td>1.662447</td>\n",
              "      <td>earth.pdf</td>\n",
              "      <td>Solar System\\nFor more details about our Solar...</td>\n",
              "      <td>$.main-text[3]</td>\n",
              "      <td>1</td>\n",
              "      <td>[133.21, 570.82, 374.81, 581.08]</td>\n",
              "    </tr>\n",
              "    <tr>\n",
              "      <th>6</th>\n",
              "      <td>earth.pdf</td>\n",
              "      <td>1</td>\n",
              "      <td>0</td>\n",
              "      <td>11</td>\n",
              "      <td>347b47c6-7172-4e23-be0c-89581cf0d33d</td>\n",
              "      <td>pdf</td>\n",
              "      <td>0260c5d12de8d1ce27a6c096f7983336b1ded574ad3ab8...</td>\n",
              "      <td>2407</td>\n",
              "      <td>2024-09-09T00:22:12.874147</td>\n",
              "      <td>1.662447</td>\n",
              "      <td>earth.pdf</td>\n",
              "      <td>Earth\\nEarth is the third planet from the Sun....</td>\n",
              "      <td>$.main-text[5]</td>\n",
              "      <td>1</td>\n",
              "      <td>[132.91, 512.46, 477.41, 534.48]</td>\n",
              "    </tr>\n",
              "    <tr>\n",
              "      <th>7</th>\n",
              "      <td>earth.pdf</td>\n",
              "      <td>1</td>\n",
              "      <td>0</td>\n",
              "      <td>11</td>\n",
              "      <td>347b47c6-7172-4e23-be0c-89581cf0d33d</td>\n",
              "      <td>pdf</td>\n",
              "      <td>0260c5d12de8d1ce27a6c096f7983336b1ded574ad3ab8...</td>\n",
              "      <td>2407</td>\n",
              "      <td>2024-09-09T00:22:12.874147</td>\n",
              "      <td>1.662447</td>\n",
              "      <td>earth.pdf</td>\n",
              "      <td>Earth\\n· Distance from the Sun: Average of 149...</td>\n",
              "      <td>$.main-text[7]</td>\n",
              "      <td>1</td>\n",
              "      <td>[147.68, 464.66, 477.03, 487.03]</td>\n",
              "    </tr>\n",
              "  </tbody>\n",
              "</table>\n",
              "</div>"
            ],
            "text/plain": [
              "    filename  num_pages  num_tables  num_doc_elements  \\\n",
              "0   mars.pdf          1           0                11   \n",
              "1   mars.pdf          1           0                11   \n",
              "2   mars.pdf          1           0                11   \n",
              "3   mars.pdf          1           0                11   \n",
              "4  earth.pdf          1           0                11   \n",
              "5  earth.pdf          1           0                11   \n",
              "6  earth.pdf          1           0                11   \n",
              "7  earth.pdf          1           0                11   \n",
              "\n",
              "                            document_id  ext  \\\n",
              "0  26d247d6-60f7-42a5-9be4-3524391010dd  pdf   \n",
              "1  26d247d6-60f7-42a5-9be4-3524391010dd  pdf   \n",
              "2  26d247d6-60f7-42a5-9be4-3524391010dd  pdf   \n",
              "3  26d247d6-60f7-42a5-9be4-3524391010dd  pdf   \n",
              "4  347b47c6-7172-4e23-be0c-89581cf0d33d  pdf   \n",
              "5  347b47c6-7172-4e23-be0c-89581cf0d33d  pdf   \n",
              "6  347b47c6-7172-4e23-be0c-89581cf0d33d  pdf   \n",
              "7  347b47c6-7172-4e23-be0c-89581cf0d33d  pdf   \n",
              "\n",
              "                                                hash  size  \\\n",
              "0  6dfaeed444efc80bf32e0c67308a57c38cc8d27a6405ec...  2531   \n",
              "1  6dfaeed444efc80bf32e0c67308a57c38cc8d27a6405ec...  2531   \n",
              "2  6dfaeed444efc80bf32e0c67308a57c38cc8d27a6405ec...  2531   \n",
              "3  6dfaeed444efc80bf32e0c67308a57c38cc8d27a6405ec...  2531   \n",
              "4  0260c5d12de8d1ce27a6c096f7983336b1ded574ad3ab8...  2407   \n",
              "5  0260c5d12de8d1ce27a6c096f7983336b1ded574ad3ab8...  2407   \n",
              "6  0260c5d12de8d1ce27a6c096f7983336b1ded574ad3ab8...  2407   \n",
              "7  0260c5d12de8d1ce27a6c096f7983336b1ded574ad3ab8...  2407   \n",
              "\n",
              "                date_acquired  pdf_convert_time source_filename  \\\n",
              "0  2024-09-09T00:22:14.490039          1.602514        mars.pdf   \n",
              "1  2024-09-09T00:22:14.490039          1.602514        mars.pdf   \n",
              "2  2024-09-09T00:22:14.490039          1.602514        mars.pdf   \n",
              "3  2024-09-09T00:22:14.490039          1.602514        mars.pdf   \n",
              "4  2024-09-09T00:22:12.874147          1.662447       earth.pdf   \n",
              "5  2024-09-09T00:22:12.874147          1.662447       earth.pdf   \n",
              "6  2024-09-09T00:22:12.874147          1.662447       earth.pdf   \n",
              "7  2024-09-09T00:22:12.874147          1.662447       earth.pdf   \n",
              "\n",
              "                                            contents    doc_jsonpath  \\\n",
              "0  Solar System\\nOur solar system is a vast and f...  $.main-text[2]   \n",
              "1  Solar System\\nFor more details about the Solar...  $.main-text[3]   \n",
              "2  Mars\\nMars, the fourth planet from the Sun, is...  $.main-text[5]   \n",
              "3  Basic facts about Mars:\\n· Distance from the S...  $.main-text[7]   \n",
              "4  Solar System\\nOur solar system is a vast and f...  $.main-text[2]   \n",
              "5  Solar System\\nFor more details about our Solar...  $.main-text[3]   \n",
              "6  Earth\\nEarth is the third planet from the Sun....  $.main-text[5]   \n",
              "7  Earth\\n· Distance from the Sun: Average of 149...  $.main-text[7]   \n",
              "\n",
              "   page_number                              bbox  \n",
              "0            1  [132.85, 590.24, 478.57, 623.03]  \n",
              "1            1  [133.19, 570.83, 374.24, 581.07]  \n",
              "2            1   [132.87, 500.92, 477.3, 534.56]  \n",
              "3            1   [147.73, 452.7, 476.98, 474.97]  \n",
              "4            1  [132.87, 590.26, 478.57, 623.05]  \n",
              "5            1  [133.21, 570.82, 374.81, 581.08]  \n",
              "6            1  [132.91, 512.46, 477.41, 534.48]  \n",
              "7            1  [147.68, 464.66, 477.03, 487.03]  "
            ]
          },
          "execution_count": 15,
          "metadata": {},
          "output_type": "execute_result"
        }
      ],
      "source": [
        "from utils import read_parquet_files_as_df\n",
        "\n",
        "output_df = read_parquet_files_as_df(output_folder)\n",
        "\n",
        "print (f\"Files processed : {input_df.shape[0]:,}\")\n",
        "print (f\"Chunks created : {output_df.shape[0]:,}\")\n",
        "\n",
        "print (\"Input data dimensions (rows x columns)= \", input_df.shape)\n",
        "print (\"Output data dimensions (rows x columns)= \", output_df.shape)\n",
        "\n",
        "output_df.head(10)"
      ]
    },
    {
      "cell_type": "markdown",
      "id": "9e9ca75c",
      "metadata": {
        "id": "9e9ca75c"
      },
      "source": [
        "### 4.4 - Understanding the Output\n",
        "\n",
        "Here we see 2 PDF files are split into 6 chunks.  Basically we see the documents are being split along 'natural boundaris' - paragraphs and bullet points\n",
        "\n",
        "See how **document_id** is carried throughout.  This helps us identify original documents.\n",
        "\n",
        "Also note **contents** is now plain text (not JSON as before)"
      ]
    },
    {
      "cell_type": "code",
      "execution_count": 16,
      "id": "3090c950",
      "metadata": {
        "colab": {
          "base_uri": "https://localhost:8080/",
          "height": 300
        },
        "id": "3090c950",
        "outputId": "1ae4ea95-b17a-4973-f161-8621f4ed070d"
      },
      "outputs": [
        {
          "data": {
            "text/html": [
              "<div>\n",
              "<style scoped>\n",
              "    .dataframe tbody tr th:only-of-type {\n",
              "        vertical-align: middle;\n",
              "    }\n",
              "\n",
              "    .dataframe tbody tr th {\n",
              "        vertical-align: top;\n",
              "    }\n",
              "\n",
              "    .dataframe thead th {\n",
              "        text-align: right;\n",
              "    }\n",
              "</style>\n",
              "<table border=\"1\" class=\"dataframe\">\n",
              "  <thead>\n",
              "    <tr style=\"text-align: right;\">\n",
              "      <th></th>\n",
              "      <th>filename</th>\n",
              "      <th>contents</th>\n",
              "    </tr>\n",
              "  </thead>\n",
              "  <tbody>\n",
              "    <tr>\n",
              "      <th>0</th>\n",
              "      <td>mars.pdf</td>\n",
              "      <td>Solar System\\nOur solar system is a vast and f...</td>\n",
              "    </tr>\n",
              "    <tr>\n",
              "      <th>1</th>\n",
              "      <td>mars.pdf</td>\n",
              "      <td>Solar System\\nFor more details about the Solar...</td>\n",
              "    </tr>\n",
              "    <tr>\n",
              "      <th>2</th>\n",
              "      <td>mars.pdf</td>\n",
              "      <td>Mars\\nMars, the fourth planet from the Sun, is...</td>\n",
              "    </tr>\n",
              "    <tr>\n",
              "      <th>3</th>\n",
              "      <td>mars.pdf</td>\n",
              "      <td>Basic facts about Mars:\\n· Distance from the S...</td>\n",
              "    </tr>\n",
              "    <tr>\n",
              "      <th>4</th>\n",
              "      <td>earth.pdf</td>\n",
              "      <td>Solar System\\nOur solar system is a vast and f...</td>\n",
              "    </tr>\n",
              "    <tr>\n",
              "      <th>5</th>\n",
              "      <td>earth.pdf</td>\n",
              "      <td>Solar System\\nFor more details about our Solar...</td>\n",
              "    </tr>\n",
              "    <tr>\n",
              "      <th>6</th>\n",
              "      <td>earth.pdf</td>\n",
              "      <td>Earth\\nEarth is the third planet from the Sun....</td>\n",
              "    </tr>\n",
              "    <tr>\n",
              "      <th>7</th>\n",
              "      <td>earth.pdf</td>\n",
              "      <td>Earth\\n· Distance from the Sun: Average of 149...</td>\n",
              "    </tr>\n",
              "  </tbody>\n",
              "</table>\n",
              "</div>"
            ],
            "text/plain": [
              "    filename                                           contents\n",
              "0   mars.pdf  Solar System\\nOur solar system is a vast and f...\n",
              "1   mars.pdf  Solar System\\nFor more details about the Solar...\n",
              "2   mars.pdf  Mars\\nMars, the fourth planet from the Sun, is...\n",
              "3   mars.pdf  Basic facts about Mars:\\n· Distance from the S...\n",
              "4  earth.pdf  Solar System\\nOur solar system is a vast and f...\n",
              "5  earth.pdf  Solar System\\nFor more details about our Solar...\n",
              "6  earth.pdf  Earth\\nEarth is the third planet from the Sun....\n",
              "7  earth.pdf  Earth\\n· Distance from the Sun: Average of 149..."
            ]
          },
          "execution_count": 16,
          "metadata": {},
          "output_type": "execute_result"
        }
      ],
      "source": [
        "output_df[['filename', 'contents']]"
      ]
    },
    {
      "cell_type": "code",
      "execution_count": 17,
      "id": "d5f151ae",
      "metadata": {
        "colab": {
          "base_uri": "https://localhost:8080/"
        },
        "id": "d5f151ae",
        "outputId": "0eb15e9f-a5fd-4be3-d4f2-76e62f485e2f"
      },
      "outputs": [
        {
          "name": "stdout",
          "output_type": "stream",
          "text": [
            "========== mars.pdf ===========\n",
            "-------Chunk 0------\n",
            "Solar System\n",
            "Our solar system is a vast and fascinating expanse, comprising eight planets, five dwarf planets, numerous moons, asteroids, comets, and other celestial bodies. At its center lies the star we call the Sun.\n",
            "-------\n",
            "-------Chunk 1------\n",
            "Solar System\n",
            "For more details about the Solar system see Chapter 1.\n",
            "-------\n",
            "-------Chunk 2------\n",
            "Mars\n",
            "Mars, the fourth planet from the Sun, is a cold, desert world with a thin atmosphere composed primarily of carbon dioxide. Its reddish hue comes from iron oxide, or rust, prevalent on its surface.\n",
            "-------\n",
            "-------Chunk 3------\n",
            "Basic facts about Mars:\n",
            "· Distance from the Sun: Average of 228 million kilometers (142 million miles)\n",
            "· Rotation Period: 24.6 hours (one Martian day - called a \"sol\")\n",
            "· Moons: Two small moons, Phobos and Deimos.\n",
            "-------\n",
            "========== earth.pdf ===========\n",
            "-------Chunk 0------\n",
            "Solar System\n",
            "Our solar system is a vast and fascinating expanse, comprising eight planets, five dwarf planets, numerous moons, asteroids, comets, and other celestial bodies. At its center lies the star we call the Sun.\n",
            "-------\n",
            "-------Chunk 1------\n",
            "Solar System\n",
            "For more details about our Solar system see Chapter 1.\n",
            "-------\n",
            "-------Chunk 2------\n",
            "Earth\n",
            "Earth is the third planet from the Sun. It's our home planet. Earth is the only place we know of with life.\n",
            "-------\n",
            "-------Chunk 3------\n",
            "Earth\n",
            "· Distance from the Sun: Average of 149.6 million kilometers (93 million miles)\n",
            "· Rotation Period: 24 hours (one day)\n",
            "-------\n"
          ]
        }
      ],
      "source": [
        "for f in output_df['filename'].unique():\n",
        "    print ('==========' , f, '===========')\n",
        "    chunks = output_df[output_df['filename'] == f]['contents']\n",
        "    for idx , chunk in enumerate(chunks):\n",
        "        print (f'-------Chunk {idx}------\\n{chunk}\\n-------')"
      ]
    },
    {
      "cell_type": "markdown",
      "id": "4692975c-49ff-41ae-810e-0f5bc0bbdc53",
      "metadata": {
        "id": "4692975c-49ff-41ae-810e-0f5bc0bbdc53"
      },
      "source": [
        "## Step-5: Exact Dedup\n",
        "\n"
      ]
    },
    {
      "cell_type": "markdown",
      "id": "5acfd3a2-a236-4143-bcfc-15804f1da7fe",
      "metadata": {
        "id": "5acfd3a2-a236-4143-bcfc-15804f1da7fe"
      },
      "source": [
        "### 5.1 - Set Input/output Folder"
      ]
    },
    {
      "cell_type": "code",
      "execution_count": 18,
      "id": "4c7a1b94",
      "metadata": {
        "colab": {
          "base_uri": "https://localhost:8080/"
        },
        "id": "4c7a1b94",
        "outputId": "5950b198-dfc1-4e47-9de8-c6a021509814"
      },
      "outputs": [
        {
          "name": "stdout",
          "output_type": "stream",
          "text": [
            "🏃🏼 STAGE-3: Processing input='output/02_chunk_out' --> output='output/03_ededupe_out'\n"
          ]
        }
      ],
      "source": [
        "STAGE  += 1\n",
        "# STAGE  = 3  ## DEBUG\n",
        "\n",
        "input_folder = output_folder # previous output folder is the input folder for the current stage\n",
        "output_folder =  os.path.join(MY_CONFIG.OUTPUT_FOLDER, f\"{STAGE:02}_ededupe_out\")\n",
        "\n",
        "input_df = read_parquet_files_as_df(input_folder)  ## for debug purposes\n",
        "\n",
        "print (f\"🏃🏼 STAGE-{STAGE}: Processing input='{input_folder}' --> output='{output_folder}'\")"
      ]
    },
    {
      "cell_type": "markdown",
      "id": "3661cb37-39c7-4b09-a784-925bfa9eaf1e",
      "metadata": {
        "id": "3661cb37-39c7-4b09-a784-925bfa9eaf1e"
      },
      "source": [
        "### 5.2 - Execute"
      ]
    },
    {
      "cell_type": "code",
      "execution_count": 19,
      "id": "a624b2b2-faad-4325-ac7d-53a840f564ef",
      "metadata": {
        "colab": {
          "base_uri": "https://localhost:8080/"
        },
        "id": "a624b2b2-faad-4325-ac7d-53a840f564ef",
        "outputId": "125db573-ab2c-49ff-9010-8b470a53b2a7"
      },
      "outputs": [
        {
          "name": "stderr",
          "output_type": "stream",
          "text": [
            "00:22:45 INFO - Running locally\n",
            "00:22:45 INFO - exact dedup params are {'doc_column': 'contents', 'hash_cpu': 0.5, 'num_hashes': 2}\n",
            "00:22:45 INFO - data factory data_ is using local data access: input_folder - output/02_chunk_out output_folder - output/03_ededupe_out\n",
            "00:22:45 INFO - data factory data_ max_files -1, n_sample -1\n",
            "00:22:45 INFO - data factory data_ Not using data sets, checkpointing False, max files -1, random samples -1, files to use ['.parquet'], files to checkpoint ['.parquet']\n",
            "00:22:45 INFO - pipeline id pipeline_id\n",
            "00:22:45 INFO - code location None\n",
            "00:22:45 INFO - number of workers 1 worker options {'num_cpus': 1, 'max_restarts': -1}\n",
            "00:22:45 INFO - actor creation delay 0\n",
            "00:22:45 INFO - job details {'job category': 'preprocessing', 'job name': 'ededup', 'job type': 'ray', 'job id': 'job_id'}\n",
            "2024-09-09 00:22:46,937\tINFO worker.py:1744 -- Started a local Ray instance. View the dashboard at \u001b[1m\u001b[32mhttp://127.0.0.1:8265 \u001b[39m\u001b[22m\n",
            "\u001b[36m(orchestrate pid=1545148)\u001b[0m 00:22:47 INFO - orchestrator started at 2024-09-09 00:22:47\n",
            "\u001b[36m(orchestrate pid=1545148)\u001b[0m 00:22:47 INFO - Number of files is 2, source profile {'max_file_size': 0.008111000061035156, 'min_file_size': 0.007655143737792969, 'total_file_size': 0.015766143798828125}\n",
            "\u001b[36m(orchestrate pid=1545148)\u001b[0m 00:22:47 INFO - Cluster resources: {'cpus': 16, 'gpus': 1, 'memory': 8.692822266370058, 'object_store': 4.3464111322537065}\n",
            "\u001b[36m(orchestrate pid=1545148)\u001b[0m 00:22:47 INFO - Number of workers - 1 with {'num_cpus': 1, 'max_restarts': -1} each\n",
            "\u001b[36m(orchestrate pid=1545148)\u001b[0m 00:22:48 INFO - Completed 1 files in 0.011457629998524984 min\n",
            "\u001b[36m(orchestrate pid=1545148)\u001b[0m 00:22:48 INFO - Completed 1 files (50.0%)  in 0.011458909511566162 min. Waiting for completion\n",
            "\u001b[36m(orchestrate pid=1545148)\u001b[0m 00:22:48 INFO - Completed processing 2 files in 0.011527697245279947 min\n",
            "\u001b[36m(orchestrate pid=1545148)\u001b[0m 00:22:48 INFO - done flushing in 0.0007109642028808594 sec\n",
            "00:22:58 INFO - Completed execution in 0.22587796449661254 min, execution result 0\n"
          ]
        },
        {
          "name": "stdout",
          "output_type": "stream",
          "text": [
            "✅ Stage:3 completed successfully\n",
            "CPU times: user 126 ms, sys: 151 ms, total: 278 ms\n",
            "Wall time: 14.9 s\n"
          ]
        }
      ],
      "source": [
        "%%time\n",
        "\n",
        "from data_processing_ray.runtime.ray import RayTransformLauncher\n",
        "from ededup_transform_ray import EdedupRayTransformConfiguration\n",
        "\n",
        "\n",
        "# Prepare the commandline params\n",
        "local_conf = {\n",
        "    \"input_folder\": input_folder,\n",
        "    \"output_folder\": output_folder,\n",
        "}\n",
        "worker_options = {\"num_cpus\" : MY_CONFIG.RAY_NUM_CPUS}\n",
        "params = {\n",
        "    # where to run\n",
        "    \"run_locally\": True,\n",
        "    # Data access. Only required parameters are specified\n",
        "    \"data_local_config\": ParamsUtils.convert_to_ast(local_conf),\n",
        "    # orchestrator\n",
        "    \"runtime_worker_options\": ParamsUtils.convert_to_ast(worker_options),\n",
        "    \"runtime_num_workers\": MY_CONFIG.RAY_RUNTIME_WORKERS,\n",
        "    # ededup parameters\n",
        "    \"ededup_hash_cpu\": 0.5,\n",
        "    \"ededup_num_hashes\": 2,\n",
        "    \"ededup_doc_column\": \"contents\",\n",
        "}\n",
        "\n",
        "# Pass the commandline params\n",
        "sys.argv = ParamsUtils.dict_to_req(d=params)\n",
        "\n",
        "# create launcher\n",
        "launcher = RayTransformLauncher(EdedupRayTransformConfiguration())\n",
        "# launch\n",
        "return_code = launcher.launch()\n",
        "\n",
        "if return_code == 0:\n",
        "    print (f\"✅ Stage:{STAGE} completed successfully\")\n",
        "else:\n",
        "    raise Exception (\"❌ Ray job failed\")"
      ]
    },
    {
      "cell_type": "markdown",
      "id": "eaf1c3c3",
      "metadata": {
        "id": "eaf1c3c3"
      },
      "source": [
        "### 5.3 - Inspect Generated output"
      ]
    },
    {
      "cell_type": "code",
      "execution_count": 20,
      "id": "d824ebf6",
      "metadata": {
        "id": "d824ebf6"
      },
      "outputs": [
        {
          "name": "stdout",
          "output_type": "stream",
          "text": [
            "Input data dimensions (rows x columns)=  (8, 15)\n",
            "Output data dimensions (rows x columns)=  (7, 15)\n",
            "Input chunks before exact dedupe : 8\n",
            "Output chunks after exact dedupe : 7\n",
            "Duplicate chunks removed :   1\n"
          ]
        },
        {
          "data": {
            "text/html": [
              "<div>\n",
              "<style scoped>\n",
              "    .dataframe tbody tr th:only-of-type {\n",
              "        vertical-align: middle;\n",
              "    }\n",
              "\n",
              "    .dataframe tbody tr th {\n",
              "        vertical-align: top;\n",
              "    }\n",
              "\n",
              "    .dataframe thead th {\n",
              "        text-align: right;\n",
              "    }\n",
              "</style>\n",
              "<table border=\"1\" class=\"dataframe\">\n",
              "  <thead>\n",
              "    <tr style=\"text-align: right;\">\n",
              "      <th></th>\n",
              "      <th>filename</th>\n",
              "      <th>num_pages</th>\n",
              "      <th>num_tables</th>\n",
              "      <th>num_doc_elements</th>\n",
              "      <th>document_id</th>\n",
              "      <th>ext</th>\n",
              "      <th>hash</th>\n",
              "      <th>size</th>\n",
              "      <th>date_acquired</th>\n",
              "      <th>pdf_convert_time</th>\n",
              "      <th>source_filename</th>\n",
              "      <th>contents</th>\n",
              "      <th>doc_jsonpath</th>\n",
              "      <th>page_number</th>\n",
              "      <th>bbox</th>\n",
              "    </tr>\n",
              "  </thead>\n",
              "  <tbody>\n",
              "    <tr>\n",
              "      <th>0</th>\n",
              "      <td>mars.pdf</td>\n",
              "      <td>1</td>\n",
              "      <td>0</td>\n",
              "      <td>11</td>\n",
              "      <td>26d247d6-60f7-42a5-9be4-3524391010dd</td>\n",
              "      <td>pdf</td>\n",
              "      <td>6dfaeed444efc80bf32e0c67308a57c38cc8d27a6405ec...</td>\n",
              "      <td>2531</td>\n",
              "      <td>2024-09-09T00:22:14.490039</td>\n",
              "      <td>1.602514</td>\n",
              "      <td>mars.pdf</td>\n",
              "      <td>Solar System\\nFor more details about the Solar...</td>\n",
              "      <td>$.main-text[3]</td>\n",
              "      <td>1</td>\n",
              "      <td>[133.19, 570.83, 374.24, 581.07]</td>\n",
              "    </tr>\n",
              "    <tr>\n",
              "      <th>1</th>\n",
              "      <td>mars.pdf</td>\n",
              "      <td>1</td>\n",
              "      <td>0</td>\n",
              "      <td>11</td>\n",
              "      <td>26d247d6-60f7-42a5-9be4-3524391010dd</td>\n",
              "      <td>pdf</td>\n",
              "      <td>6dfaeed444efc80bf32e0c67308a57c38cc8d27a6405ec...</td>\n",
              "      <td>2531</td>\n",
              "      <td>2024-09-09T00:22:14.490039</td>\n",
              "      <td>1.602514</td>\n",
              "      <td>mars.pdf</td>\n",
              "      <td>Mars\\nMars, the fourth planet from the Sun, is...</td>\n",
              "      <td>$.main-text[5]</td>\n",
              "      <td>1</td>\n",
              "      <td>[132.87, 500.92, 477.3, 534.56]</td>\n",
              "    </tr>\n",
              "    <tr>\n",
              "      <th>2</th>\n",
              "      <td>mars.pdf</td>\n",
              "      <td>1</td>\n",
              "      <td>0</td>\n",
              "      <td>11</td>\n",
              "      <td>26d247d6-60f7-42a5-9be4-3524391010dd</td>\n",
              "      <td>pdf</td>\n",
              "      <td>6dfaeed444efc80bf32e0c67308a57c38cc8d27a6405ec...</td>\n",
              "      <td>2531</td>\n",
              "      <td>2024-09-09T00:22:14.490039</td>\n",
              "      <td>1.602514</td>\n",
              "      <td>mars.pdf</td>\n",
              "      <td>Basic facts about Mars:\\n· Distance from the S...</td>\n",
              "      <td>$.main-text[7]</td>\n",
              "      <td>1</td>\n",
              "      <td>[147.73, 452.7, 476.98, 474.97]</td>\n",
              "    </tr>\n",
              "    <tr>\n",
              "      <th>3</th>\n",
              "      <td>earth.pdf</td>\n",
              "      <td>1</td>\n",
              "      <td>0</td>\n",
              "      <td>11</td>\n",
              "      <td>347b47c6-7172-4e23-be0c-89581cf0d33d</td>\n",
              "      <td>pdf</td>\n",
              "      <td>0260c5d12de8d1ce27a6c096f7983336b1ded574ad3ab8...</td>\n",
              "      <td>2407</td>\n",
              "      <td>2024-09-09T00:22:12.874147</td>\n",
              "      <td>1.662447</td>\n",
              "      <td>earth.pdf</td>\n",
              "      <td>Solar System\\nOur solar system is a vast and f...</td>\n",
              "      <td>$.main-text[2]</td>\n",
              "      <td>1</td>\n",
              "      <td>[132.87, 590.26, 478.57, 623.05]</td>\n",
              "    </tr>\n",
              "    <tr>\n",
              "      <th>4</th>\n",
              "      <td>earth.pdf</td>\n",
              "      <td>1</td>\n",
              "      <td>0</td>\n",
              "      <td>11</td>\n",
              "      <td>347b47c6-7172-4e23-be0c-89581cf0d33d</td>\n",
              "      <td>pdf</td>\n",
              "      <td>0260c5d12de8d1ce27a6c096f7983336b1ded574ad3ab8...</td>\n",
              "      <td>2407</td>\n",
              "      <td>2024-09-09T00:22:12.874147</td>\n",
              "      <td>1.662447</td>\n",
              "      <td>earth.pdf</td>\n",
              "      <td>Solar System\\nFor more details about our Solar...</td>\n",
              "      <td>$.main-text[3]</td>\n",
              "      <td>1</td>\n",
              "      <td>[133.21, 570.82, 374.81, 581.08]</td>\n",
              "    </tr>\n",
              "    <tr>\n",
              "      <th>5</th>\n",
              "      <td>earth.pdf</td>\n",
              "      <td>1</td>\n",
              "      <td>0</td>\n",
              "      <td>11</td>\n",
              "      <td>347b47c6-7172-4e23-be0c-89581cf0d33d</td>\n",
              "      <td>pdf</td>\n",
              "      <td>0260c5d12de8d1ce27a6c096f7983336b1ded574ad3ab8...</td>\n",
              "      <td>2407</td>\n",
              "      <td>2024-09-09T00:22:12.874147</td>\n",
              "      <td>1.662447</td>\n",
              "      <td>earth.pdf</td>\n",
              "      <td>Earth\\nEarth is the third planet from the Sun....</td>\n",
              "      <td>$.main-text[5]</td>\n",
              "      <td>1</td>\n",
              "      <td>[132.91, 512.46, 477.41, 534.48]</td>\n",
              "    </tr>\n",
              "    <tr>\n",
              "      <th>6</th>\n",
              "      <td>earth.pdf</td>\n",
              "      <td>1</td>\n",
              "      <td>0</td>\n",
              "      <td>11</td>\n",
              "      <td>347b47c6-7172-4e23-be0c-89581cf0d33d</td>\n",
              "      <td>pdf</td>\n",
              "      <td>0260c5d12de8d1ce27a6c096f7983336b1ded574ad3ab8...</td>\n",
              "      <td>2407</td>\n",
              "      <td>2024-09-09T00:22:12.874147</td>\n",
              "      <td>1.662447</td>\n",
              "      <td>earth.pdf</td>\n",
              "      <td>Earth\\n· Distance from the Sun: Average of 149...</td>\n",
              "      <td>$.main-text[7]</td>\n",
              "      <td>1</td>\n",
              "      <td>[147.68, 464.66, 477.03, 487.03]</td>\n",
              "    </tr>\n",
              "  </tbody>\n",
              "</table>\n",
              "</div>"
            ],
            "text/plain": [
              "    filename  num_pages  num_tables  num_doc_elements  \\\n",
              "0   mars.pdf          1           0                11   \n",
              "1   mars.pdf          1           0                11   \n",
              "2   mars.pdf          1           0                11   \n",
              "3  earth.pdf          1           0                11   \n",
              "4  earth.pdf          1           0                11   \n",
              "5  earth.pdf          1           0                11   \n",
              "6  earth.pdf          1           0                11   \n",
              "\n",
              "                            document_id  ext  \\\n",
              "0  26d247d6-60f7-42a5-9be4-3524391010dd  pdf   \n",
              "1  26d247d6-60f7-42a5-9be4-3524391010dd  pdf   \n",
              "2  26d247d6-60f7-42a5-9be4-3524391010dd  pdf   \n",
              "3  347b47c6-7172-4e23-be0c-89581cf0d33d  pdf   \n",
              "4  347b47c6-7172-4e23-be0c-89581cf0d33d  pdf   \n",
              "5  347b47c6-7172-4e23-be0c-89581cf0d33d  pdf   \n",
              "6  347b47c6-7172-4e23-be0c-89581cf0d33d  pdf   \n",
              "\n",
              "                                                hash  size  \\\n",
              "0  6dfaeed444efc80bf32e0c67308a57c38cc8d27a6405ec...  2531   \n",
              "1  6dfaeed444efc80bf32e0c67308a57c38cc8d27a6405ec...  2531   \n",
              "2  6dfaeed444efc80bf32e0c67308a57c38cc8d27a6405ec...  2531   \n",
              "3  0260c5d12de8d1ce27a6c096f7983336b1ded574ad3ab8...  2407   \n",
              "4  0260c5d12de8d1ce27a6c096f7983336b1ded574ad3ab8...  2407   \n",
              "5  0260c5d12de8d1ce27a6c096f7983336b1ded574ad3ab8...  2407   \n",
              "6  0260c5d12de8d1ce27a6c096f7983336b1ded574ad3ab8...  2407   \n",
              "\n",
              "                date_acquired  pdf_convert_time source_filename  \\\n",
              "0  2024-09-09T00:22:14.490039          1.602514        mars.pdf   \n",
              "1  2024-09-09T00:22:14.490039          1.602514        mars.pdf   \n",
              "2  2024-09-09T00:22:14.490039          1.602514        mars.pdf   \n",
              "3  2024-09-09T00:22:12.874147          1.662447       earth.pdf   \n",
              "4  2024-09-09T00:22:12.874147          1.662447       earth.pdf   \n",
              "5  2024-09-09T00:22:12.874147          1.662447       earth.pdf   \n",
              "6  2024-09-09T00:22:12.874147          1.662447       earth.pdf   \n",
              "\n",
              "                                            contents    doc_jsonpath  \\\n",
              "0  Solar System\\nFor more details about the Solar...  $.main-text[3]   \n",
              "1  Mars\\nMars, the fourth planet from the Sun, is...  $.main-text[5]   \n",
              "2  Basic facts about Mars:\\n· Distance from the S...  $.main-text[7]   \n",
              "3  Solar System\\nOur solar system is a vast and f...  $.main-text[2]   \n",
              "4  Solar System\\nFor more details about our Solar...  $.main-text[3]   \n",
              "5  Earth\\nEarth is the third planet from the Sun....  $.main-text[5]   \n",
              "6  Earth\\n· Distance from the Sun: Average of 149...  $.main-text[7]   \n",
              "\n",
              "   page_number                              bbox  \n",
              "0            1  [133.19, 570.83, 374.24, 581.07]  \n",
              "1            1   [132.87, 500.92, 477.3, 534.56]  \n",
              "2            1   [147.73, 452.7, 476.98, 474.97]  \n",
              "3            1  [132.87, 590.26, 478.57, 623.05]  \n",
              "4            1  [133.21, 570.82, 374.81, 581.08]  \n",
              "5            1  [132.91, 512.46, 477.41, 534.48]  \n",
              "6            1  [147.68, 464.66, 477.03, 487.03]  "
            ]
          },
          "execution_count": 20,
          "metadata": {},
          "output_type": "execute_result"
        }
      ],
      "source": [
        "from utils import read_parquet_files_as_df\n",
        "\n",
        "output_df = read_parquet_files_as_df(output_folder)\n",
        "\n",
        "print (\"Input data dimensions (rows x columns)= \", input_df.shape)\n",
        "print (\"Output data dimensions (rows x columns)= \", output_df.shape)\n",
        "print (f\"Input chunks before exact dedupe : {input_df.shape[0]:,}\")\n",
        "print (f\"Output chunks after exact dedupe : {output_df.shape[0]:,}\")\n",
        "print (\"Duplicate chunks removed :  \", (input_df.shape[0] - output_df.shape[0]))\n",
        "\n",
        "output_df.head(10)"
      ]
    },
    {
      "cell_type": "code",
      "execution_count": 21,
      "id": "82cc9bb0",
      "metadata": {
        "id": "82cc9bb0"
      },
      "outputs": [
        {
          "data": {
            "text/html": [
              "<div>\n",
              "<style scoped>\n",
              "    .dataframe tbody tr th:only-of-type {\n",
              "        vertical-align: middle;\n",
              "    }\n",
              "\n",
              "    .dataframe tbody tr th {\n",
              "        vertical-align: top;\n",
              "    }\n",
              "\n",
              "    .dataframe thead th {\n",
              "        text-align: right;\n",
              "    }\n",
              "</style>\n",
              "<table border=\"1\" class=\"dataframe\">\n",
              "  <thead>\n",
              "    <tr style=\"text-align: right;\">\n",
              "      <th></th>\n",
              "      <th>filename</th>\n",
              "      <th>contents</th>\n",
              "    </tr>\n",
              "  </thead>\n",
              "  <tbody>\n",
              "    <tr>\n",
              "      <th>0</th>\n",
              "      <td>mars.pdf</td>\n",
              "      <td>Solar System\\nFor more details about the Solar...</td>\n",
              "    </tr>\n",
              "    <tr>\n",
              "      <th>1</th>\n",
              "      <td>mars.pdf</td>\n",
              "      <td>Mars\\nMars, the fourth planet from the Sun, is...</td>\n",
              "    </tr>\n",
              "    <tr>\n",
              "      <th>2</th>\n",
              "      <td>mars.pdf</td>\n",
              "      <td>Basic facts about Mars:\\n· Distance from the S...</td>\n",
              "    </tr>\n",
              "    <tr>\n",
              "      <th>3</th>\n",
              "      <td>earth.pdf</td>\n",
              "      <td>Solar System\\nOur solar system is a vast and f...</td>\n",
              "    </tr>\n",
              "    <tr>\n",
              "      <th>4</th>\n",
              "      <td>earth.pdf</td>\n",
              "      <td>Solar System\\nFor more details about our Solar...</td>\n",
              "    </tr>\n",
              "    <tr>\n",
              "      <th>5</th>\n",
              "      <td>earth.pdf</td>\n",
              "      <td>Earth\\nEarth is the third planet from the Sun....</td>\n",
              "    </tr>\n",
              "    <tr>\n",
              "      <th>6</th>\n",
              "      <td>earth.pdf</td>\n",
              "      <td>Earth\\n· Distance from the Sun: Average of 149...</td>\n",
              "    </tr>\n",
              "  </tbody>\n",
              "</table>\n",
              "</div>"
            ],
            "text/plain": [
              "    filename                                           contents\n",
              "0   mars.pdf  Solar System\\nFor more details about the Solar...\n",
              "1   mars.pdf  Mars\\nMars, the fourth planet from the Sun, is...\n",
              "2   mars.pdf  Basic facts about Mars:\\n· Distance from the S...\n",
              "3  earth.pdf  Solar System\\nOur solar system is a vast and f...\n",
              "4  earth.pdf  Solar System\\nFor more details about our Solar...\n",
              "5  earth.pdf  Earth\\nEarth is the third planet from the Sun....\n",
              "6  earth.pdf  Earth\\n· Distance from the Sun: Average of 149..."
            ]
          },
          "execution_count": 21,
          "metadata": {},
          "output_type": "execute_result"
        }
      ],
      "source": [
        "output_df[['filename', 'contents']]"
      ]
    },
    {
      "cell_type": "code",
      "execution_count": 22,
      "id": "cc61dffa",
      "metadata": {
        "id": "cc61dffa"
      },
      "outputs": [
        {
          "name": "stdout",
          "output_type": "stream",
          "text": [
            "========== mars.pdf ===========\n",
            "-------Chunk 0------\n",
            "Solar System\n",
            "For more details about the Solar system see Chapter 1.\n",
            "-------\n",
            "-------Chunk 1------\n",
            "Mars\n",
            "Mars, the fourth planet from the Sun, is a cold, desert world with a thin atmosphere composed primarily of carbon dioxide. Its reddish hue comes from iron oxide, or rust, prevalent on its surface.\n",
            "-------\n",
            "-------Chunk 2------\n",
            "Basic facts about Mars:\n",
            "· Distance from the Sun: Average of 228 million kilometers (142 million miles)\n",
            "· Rotation Period: 24.6 hours (one Martian day - called a \"sol\")\n",
            "· Moons: Two small moons, Phobos and Deimos.\n",
            "-------\n",
            "========== earth.pdf ===========\n",
            "-------Chunk 0------\n",
            "Solar System\n",
            "Our solar system is a vast and fascinating expanse, comprising eight planets, five dwarf planets, numerous moons, asteroids, comets, and other celestial bodies. At its center lies the star we call the Sun.\n",
            "-------\n",
            "-------Chunk 1------\n",
            "Solar System\n",
            "For more details about our Solar system see Chapter 1.\n",
            "-------\n",
            "-------Chunk 2------\n",
            "Earth\n",
            "Earth is the third planet from the Sun. It's our home planet. Earth is the only place we know of with life.\n",
            "-------\n",
            "-------Chunk 3------\n",
            "Earth\n",
            "· Distance from the Sun: Average of 149.6 million kilometers (93 million miles)\n",
            "· Rotation Period: 24 hours (one day)\n",
            "-------\n"
          ]
        }
      ],
      "source": [
        "for f in output_df['filename'].unique():\n",
        "    print ('==========' , f, '===========')\n",
        "    chunks = output_df[output_df['filename'] == f]['contents']\n",
        "    for idx , chunk in enumerate(chunks):\n",
        "        print (f'-------Chunk {idx}------\\n{chunk}\\n-------')"
      ]
    },
    {
      "cell_type": "markdown",
      "id": "383f40ba",
      "metadata": {
        "id": "383f40ba"
      },
      "source": [
        "### 5.4 - Understanding the output\n",
        "\n",
        "Remember we had 8 chunks initially.  Now we have 7!  One duplicate chunk is removed.\n",
        "\n",
        "If you look at the PDF, the following common paragraph in `earth.pdf` and `mars.pdf`  is removed from one of the documents!  Pretty neat, eh!\n",
        "\n",
        "```text\n",
        "## Solar System\n",
        "\n",
        "Our solar system is a vast and fascinating expanse, comprising eight planets, five dwarf planets, numerous moons, asteroids, comets, and other celestial bodies. At its center lies the star we call the Sun.\n",
        "```"
      ]
    },
    {
      "cell_type": "markdown",
      "id": "f15f4d00-33bb-4d9a-9f34-4d7f3ee0b7bc",
      "metadata": {
        "id": "f15f4d00-33bb-4d9a-9f34-4d7f3ee0b7bc"
      },
      "source": [
        "## Step-6:  DOC ID generation\n",
        "\n",
        "This transform annotates documents with document \"ids\". It supports the following transformations of the original data:\n",
        "\n",
        " - Adding document hash: this enables the addition of a document hash-based id to the data. The hash is calculated with `hashlib.sha256(doc.encode(\"utf-8\")).hexdigest()`. To enable this annotation, set **hash_column** to the name of the column, where you want to store it.\n",
        " - Adding integer document id: this allows the addition of an integer document id to the data that is unique across all rows in all tables provided to the transform() method. To enable this annotation, set **int_id_column** to the name of the column, where you want to store it.\n",
        "\n",
        "**This is a pre-requisite for fuzzy dedup** in the pipeline."
      ]
    },
    {
      "cell_type": "markdown",
      "id": "14285baf",
      "metadata": {
        "id": "14285baf"
      },
      "source": [
        "### 6.1 - Set Input/output Folder"
      ]
    },
    {
      "cell_type": "code",
      "execution_count": 23,
      "id": "e6f62394-fbde-495c-bbbb-83161b006bed",
      "metadata": {
        "id": "e6f62394-fbde-495c-bbbb-83161b006bed"
      },
      "outputs": [
        {
          "name": "stdout",
          "output_type": "stream",
          "text": [
            "🏃🏼 STAGE-4: Processing input='output/03_ededupe_out' --> output='output/04_doc_id_out'\n"
          ]
        }
      ],
      "source": [
        "\n",
        "# Input for this stage is the output of exact dedeup component\n",
        "# output of this component makes it possible for fdedup component to run on data.\n",
        "\n",
        "STAGE  += 1\n",
        "# STAGE  = 4  ## DEBUG\n",
        "\n",
        "input_folder = output_folder # previous output folder is the input folder for the current stage\n",
        "output_folder =  os.path.join(MY_CONFIG.OUTPUT_FOLDER, f\"{STAGE:02}_doc_id_out\")\n",
        "\n",
        "input_df = read_parquet_files_as_df(input_folder)  ## for debug purposes\n",
        "\n",
        "print (f\"🏃🏼 STAGE-{STAGE}: Processing input='{input_folder}' --> output='{output_folder}'\")"
      ]
    },
    {
      "cell_type": "markdown",
      "id": "7c6b2018",
      "metadata": {
        "id": "7c6b2018"
      },
      "source": [
        "### 6.2 - Execute"
      ]
    },
    {
      "cell_type": "code",
      "execution_count": 24,
      "id": "a6daf36d-686c-4e0a-aabf-ce55f999bb2d",
      "metadata": {
        "id": "a6daf36d-686c-4e0a-aabf-ce55f999bb2d"
      },
      "outputs": [
        {
          "name": "stderr",
          "output_type": "stream",
          "text": [
            "00:23:00 INFO - Running locally\n",
            "00:23:00 INFO - Doc id parameters are : {'doc_column': 'contents', 'hash_column': 'hash_column', 'int_column': 'int_id_column'}\n",
            "00:23:00 INFO - data factory data_ is using local data access: input_folder - output/03_ededupe_out output_folder - output/04_doc_id_out\n",
            "00:23:00 INFO - data factory data_ max_files -1, n_sample -1\n",
            "00:23:00 INFO - data factory data_ Not using data sets, checkpointing False, max files -1, random samples -1, files to use ['.parquet'], files to checkpoint ['.parquet']\n",
            "00:23:00 INFO - pipeline id pipeline_id\n",
            "00:23:00 INFO - code location None\n",
            "00:23:00 INFO - number of workers 1 worker options {'num_cpus': 1, 'max_restarts': -1}\n",
            "00:23:00 INFO - actor creation delay 0\n",
            "00:23:00 INFO - job details {'job category': 'preprocessing', 'job name': 'doc_id', 'job type': 'ray', 'job id': 'job_id'}\n",
            "2024-09-09 00:23:01,907\tINFO worker.py:1744 -- Started a local Ray instance. View the dashboard at \u001b[1m\u001b[32mhttp://127.0.0.1:8265 \u001b[39m\u001b[22m\n",
            "\u001b[36m(orchestrate pid=1546808)\u001b[0m 00:23:02 INFO - orchestrator started at 2024-09-09 00:23:02\n",
            "\u001b[36m(orchestrate pid=1546808)\u001b[0m 00:23:02 INFO - Number of files is 2, source profile {'max_file_size': 0.007655143737792969, 'min_file_size': 0.007481575012207031, 'total_file_size': 0.01513671875}\n",
            "\u001b[36m(orchestrate pid=1546808)\u001b[0m 00:23:02 INFO - Cluster resources: {'cpus': 16, 'gpus': 1, 'memory': 8.68318634107709, 'object_store': 4.341593169607222}\n",
            "\u001b[36m(orchestrate pid=1546808)\u001b[0m 00:23:02 INFO - Number of workers - 1 with {'num_cpus': 1, 'max_restarts': -1} each\n",
            "\u001b[36m(orchestrate pid=1546808)\u001b[0m 00:23:03 INFO - Completed 1 files in 0.01238268216451009 min\n",
            "\u001b[36m(orchestrate pid=1546808)\u001b[0m 00:23:03 INFO - Completed 1 files (50.0%)  in 0.012383973598480225 min. Waiting for completion\n",
            "\u001b[36m(orchestrate pid=1546808)\u001b[0m 00:23:03 INFO - Completed processing 2 files in 0.01245045264561971 min\n",
            "\u001b[36m(orchestrate pid=1546808)\u001b[0m 00:23:03 INFO - done flushing in 0.0007548332214355469 sec\n",
            "00:23:13 INFO - Completed execution in 0.22659441630045574 min, execution result 0\n"
          ]
        },
        {
          "name": "stdout",
          "output_type": "stream",
          "text": [
            "✅ Stage:4 completed successfully\n",
            "CPU times: user 140 ms, sys: 145 ms, total: 285 ms\n",
            "Wall time: 15.1 s\n"
          ]
        }
      ],
      "source": [
        "%%time\n",
        "\n",
        "from data_processing_ray.runtime.ray import RayTransformLauncher\n",
        "from doc_id_transform_ray import DocIDRayTransformConfiguration\n",
        "local_conf = {\n",
        "    \"input_folder\": input_folder,\n",
        "    \"output_folder\": output_folder,\n",
        "}\n",
        "worker_options = {\"num_cpus\" : MY_CONFIG.RAY_NUM_CPUS}\n",
        "params = {\n",
        "    # where to run\n",
        "    \"run_locally\": True,\n",
        "    # Data access. Only required parameters are specified\n",
        "    \"data_local_config\": ParamsUtils.convert_to_ast(local_conf),\n",
        "    # orchestrator\n",
        "    \"runtime_worker_options\": ParamsUtils.convert_to_ast(worker_options),\n",
        "    \"runtime_num_workers\": MY_CONFIG.RAY_RUNTIME_WORKERS,\n",
        "    # doc id configuration\n",
        "    \"doc_id_doc_column\": \"contents\",\n",
        "    \"doc_id_hash_column\": \"hash_column\",\n",
        "    \"doc_id_int_column\": \"int_id_column\",\n",
        "}\n",
        "sys.argv = ParamsUtils.dict_to_req(d=params)\n",
        "\n",
        "# launch\n",
        "\n",
        "launcher = RayTransformLauncher(DocIDRayTransformConfiguration())\n",
        "\n",
        "return_code = launcher.launch()\n",
        "\n",
        "if return_code == 0:\n",
        "    print (f\"✅ Stage:{STAGE} completed successfully\")\n",
        "else:\n",
        "    raise Exception (\"❌ Ray job failed\")"
      ]
    },
    {
      "cell_type": "markdown",
      "id": "3d492c2b",
      "metadata": {
        "id": "3d492c2b"
      },
      "source": [
        "### 6.3 - Inspect Generated output\n",
        "\n",
        "You will notice we have two extra columns\n",
        "\n",
        "- **hash_column**\n",
        "- **int_id_column**\n",
        "\n",
        "But still the same number or rows as before"
      ]
    },
    {
      "cell_type": "code",
      "execution_count": 25,
      "id": "91ade826",
      "metadata": {
        "id": "91ade826"
      },
      "outputs": [
        {
          "name": "stdout",
          "output_type": "stream",
          "text": [
            "Input data dimensions (rows x columns)=  (7, 15)\n",
            "Output data dimensions (rows x columns)=  (7, 17)\n"
          ]
        },
        {
          "data": {
            "text/html": [
              "<div>\n",
              "<style scoped>\n",
              "    .dataframe tbody tr th:only-of-type {\n",
              "        vertical-align: middle;\n",
              "    }\n",
              "\n",
              "    .dataframe tbody tr th {\n",
              "        vertical-align: top;\n",
              "    }\n",
              "\n",
              "    .dataframe thead th {\n",
              "        text-align: right;\n",
              "    }\n",
              "</style>\n",
              "<table border=\"1\" class=\"dataframe\">\n",
              "  <thead>\n",
              "    <tr style=\"text-align: right;\">\n",
              "      <th></th>\n",
              "      <th>filename</th>\n",
              "      <th>num_pages</th>\n",
              "      <th>num_tables</th>\n",
              "      <th>num_doc_elements</th>\n",
              "      <th>document_id</th>\n",
              "      <th>ext</th>\n",
              "      <th>hash</th>\n",
              "      <th>size</th>\n",
              "      <th>date_acquired</th>\n",
              "      <th>pdf_convert_time</th>\n",
              "      <th>source_filename</th>\n",
              "      <th>contents</th>\n",
              "      <th>doc_jsonpath</th>\n",
              "      <th>page_number</th>\n",
              "      <th>bbox</th>\n",
              "      <th>hash_column</th>\n",
              "      <th>int_id_column</th>\n",
              "    </tr>\n",
              "  </thead>\n",
              "  <tbody>\n",
              "    <tr>\n",
              "      <th>0</th>\n",
              "      <td>mars.pdf</td>\n",
              "      <td>1</td>\n",
              "      <td>0</td>\n",
              "      <td>11</td>\n",
              "      <td>26d247d6-60f7-42a5-9be4-3524391010dd</td>\n",
              "      <td>pdf</td>\n",
              "      <td>6dfaeed444efc80bf32e0c67308a57c38cc8d27a6405ec...</td>\n",
              "      <td>2531</td>\n",
              "      <td>2024-09-09T00:22:14.490039</td>\n",
              "      <td>1.602514</td>\n",
              "      <td>mars.pdf</td>\n",
              "      <td>Solar System\\nFor more details about the Solar...</td>\n",
              "      <td>$.main-text[3]</td>\n",
              "      <td>1</td>\n",
              "      <td>[133.19, 570.83, 374.24, 581.07]</td>\n",
              "      <td>dee4c03474c98efdabbadbcc4ce91138c7820f4ac8ff07...</td>\n",
              "      <td>5</td>\n",
              "    </tr>\n",
              "    <tr>\n",
              "      <th>1</th>\n",
              "      <td>mars.pdf</td>\n",
              "      <td>1</td>\n",
              "      <td>0</td>\n",
              "      <td>11</td>\n",
              "      <td>26d247d6-60f7-42a5-9be4-3524391010dd</td>\n",
              "      <td>pdf</td>\n",
              "      <td>6dfaeed444efc80bf32e0c67308a57c38cc8d27a6405ec...</td>\n",
              "      <td>2531</td>\n",
              "      <td>2024-09-09T00:22:14.490039</td>\n",
              "      <td>1.602514</td>\n",
              "      <td>mars.pdf</td>\n",
              "      <td>Mars\\nMars, the fourth planet from the Sun, is...</td>\n",
              "      <td>$.main-text[5]</td>\n",
              "      <td>1</td>\n",
              "      <td>[132.87, 500.92, 477.3, 534.56]</td>\n",
              "      <td>a31663e06fac41470ecc459f5a58658a3f9997d7801053...</td>\n",
              "      <td>6</td>\n",
              "    </tr>\n",
              "    <tr>\n",
              "      <th>2</th>\n",
              "      <td>mars.pdf</td>\n",
              "      <td>1</td>\n",
              "      <td>0</td>\n",
              "      <td>11</td>\n",
              "      <td>26d247d6-60f7-42a5-9be4-3524391010dd</td>\n",
              "      <td>pdf</td>\n",
              "      <td>6dfaeed444efc80bf32e0c67308a57c38cc8d27a6405ec...</td>\n",
              "      <td>2531</td>\n",
              "      <td>2024-09-09T00:22:14.490039</td>\n",
              "      <td>1.602514</td>\n",
              "      <td>mars.pdf</td>\n",
              "      <td>Basic facts about Mars:\\n· Distance from the S...</td>\n",
              "      <td>$.main-text[7]</td>\n",
              "      <td>1</td>\n",
              "      <td>[147.73, 452.7, 476.98, 474.97]</td>\n",
              "      <td>7ff317954ec5f3b15607c053c30c2b0db0f6b64cc3295a...</td>\n",
              "      <td>7</td>\n",
              "    </tr>\n",
              "    <tr>\n",
              "      <th>3</th>\n",
              "      <td>earth.pdf</td>\n",
              "      <td>1</td>\n",
              "      <td>0</td>\n",
              "      <td>11</td>\n",
              "      <td>347b47c6-7172-4e23-be0c-89581cf0d33d</td>\n",
              "      <td>pdf</td>\n",
              "      <td>0260c5d12de8d1ce27a6c096f7983336b1ded574ad3ab8...</td>\n",
              "      <td>2407</td>\n",
              "      <td>2024-09-09T00:22:12.874147</td>\n",
              "      <td>1.662447</td>\n",
              "      <td>earth.pdf</td>\n",
              "      <td>Solar System\\nOur solar system is a vast and f...</td>\n",
              "      <td>$.main-text[2]</td>\n",
              "      <td>1</td>\n",
              "      <td>[132.87, 590.26, 478.57, 623.05]</td>\n",
              "      <td>44c6e373258c7cdc03f75a8e96a9b160f9aa4e4baf5674...</td>\n",
              "      <td>1</td>\n",
              "    </tr>\n",
              "    <tr>\n",
              "      <th>4</th>\n",
              "      <td>earth.pdf</td>\n",
              "      <td>1</td>\n",
              "      <td>0</td>\n",
              "      <td>11</td>\n",
              "      <td>347b47c6-7172-4e23-be0c-89581cf0d33d</td>\n",
              "      <td>pdf</td>\n",
              "      <td>0260c5d12de8d1ce27a6c096f7983336b1ded574ad3ab8...</td>\n",
              "      <td>2407</td>\n",
              "      <td>2024-09-09T00:22:12.874147</td>\n",
              "      <td>1.662447</td>\n",
              "      <td>earth.pdf</td>\n",
              "      <td>Solar System\\nFor more details about our Solar...</td>\n",
              "      <td>$.main-text[3]</td>\n",
              "      <td>1</td>\n",
              "      <td>[133.21, 570.82, 374.81, 581.08]</td>\n",
              "      <td>d7be13d7dee96cf2384072d0eb01981e0e75eec2e7bc6d...</td>\n",
              "      <td>2</td>\n",
              "    </tr>\n",
              "    <tr>\n",
              "      <th>5</th>\n",
              "      <td>earth.pdf</td>\n",
              "      <td>1</td>\n",
              "      <td>0</td>\n",
              "      <td>11</td>\n",
              "      <td>347b47c6-7172-4e23-be0c-89581cf0d33d</td>\n",
              "      <td>pdf</td>\n",
              "      <td>0260c5d12de8d1ce27a6c096f7983336b1ded574ad3ab8...</td>\n",
              "      <td>2407</td>\n",
              "      <td>2024-09-09T00:22:12.874147</td>\n",
              "      <td>1.662447</td>\n",
              "      <td>earth.pdf</td>\n",
              "      <td>Earth\\nEarth is the third planet from the Sun....</td>\n",
              "      <td>$.main-text[5]</td>\n",
              "      <td>1</td>\n",
              "      <td>[132.91, 512.46, 477.41, 534.48]</td>\n",
              "      <td>7c4a750e2215f231803a6f8078bde1e9699034fb033dd3...</td>\n",
              "      <td>3</td>\n",
              "    </tr>\n",
              "    <tr>\n",
              "      <th>6</th>\n",
              "      <td>earth.pdf</td>\n",
              "      <td>1</td>\n",
              "      <td>0</td>\n",
              "      <td>11</td>\n",
              "      <td>347b47c6-7172-4e23-be0c-89581cf0d33d</td>\n",
              "      <td>pdf</td>\n",
              "      <td>0260c5d12de8d1ce27a6c096f7983336b1ded574ad3ab8...</td>\n",
              "      <td>2407</td>\n",
              "      <td>2024-09-09T00:22:12.874147</td>\n",
              "      <td>1.662447</td>\n",
              "      <td>earth.pdf</td>\n",
              "      <td>Earth\\n· Distance from the Sun: Average of 149...</td>\n",
              "      <td>$.main-text[7]</td>\n",
              "      <td>1</td>\n",
              "      <td>[147.68, 464.66, 477.03, 487.03]</td>\n",
              "      <td>0337be5c940b3df316e391ae3dc20379442257498812e4...</td>\n",
              "      <td>4</td>\n",
              "    </tr>\n",
              "  </tbody>\n",
              "</table>\n",
              "</div>"
            ],
            "text/plain": [
              "    filename  num_pages  num_tables  num_doc_elements  \\\n",
              "0   mars.pdf          1           0                11   \n",
              "1   mars.pdf          1           0                11   \n",
              "2   mars.pdf          1           0                11   \n",
              "3  earth.pdf          1           0                11   \n",
              "4  earth.pdf          1           0                11   \n",
              "5  earth.pdf          1           0                11   \n",
              "6  earth.pdf          1           0                11   \n",
              "\n",
              "                            document_id  ext  \\\n",
              "0  26d247d6-60f7-42a5-9be4-3524391010dd  pdf   \n",
              "1  26d247d6-60f7-42a5-9be4-3524391010dd  pdf   \n",
              "2  26d247d6-60f7-42a5-9be4-3524391010dd  pdf   \n",
              "3  347b47c6-7172-4e23-be0c-89581cf0d33d  pdf   \n",
              "4  347b47c6-7172-4e23-be0c-89581cf0d33d  pdf   \n",
              "5  347b47c6-7172-4e23-be0c-89581cf0d33d  pdf   \n",
              "6  347b47c6-7172-4e23-be0c-89581cf0d33d  pdf   \n",
              "\n",
              "                                                hash  size  \\\n",
              "0  6dfaeed444efc80bf32e0c67308a57c38cc8d27a6405ec...  2531   \n",
              "1  6dfaeed444efc80bf32e0c67308a57c38cc8d27a6405ec...  2531   \n",
              "2  6dfaeed444efc80bf32e0c67308a57c38cc8d27a6405ec...  2531   \n",
              "3  0260c5d12de8d1ce27a6c096f7983336b1ded574ad3ab8...  2407   \n",
              "4  0260c5d12de8d1ce27a6c096f7983336b1ded574ad3ab8...  2407   \n",
              "5  0260c5d12de8d1ce27a6c096f7983336b1ded574ad3ab8...  2407   \n",
              "6  0260c5d12de8d1ce27a6c096f7983336b1ded574ad3ab8...  2407   \n",
              "\n",
              "                date_acquired  pdf_convert_time source_filename  \\\n",
              "0  2024-09-09T00:22:14.490039          1.602514        mars.pdf   \n",
              "1  2024-09-09T00:22:14.490039          1.602514        mars.pdf   \n",
              "2  2024-09-09T00:22:14.490039          1.602514        mars.pdf   \n",
              "3  2024-09-09T00:22:12.874147          1.662447       earth.pdf   \n",
              "4  2024-09-09T00:22:12.874147          1.662447       earth.pdf   \n",
              "5  2024-09-09T00:22:12.874147          1.662447       earth.pdf   \n",
              "6  2024-09-09T00:22:12.874147          1.662447       earth.pdf   \n",
              "\n",
              "                                            contents    doc_jsonpath  \\\n",
              "0  Solar System\\nFor more details about the Solar...  $.main-text[3]   \n",
              "1  Mars\\nMars, the fourth planet from the Sun, is...  $.main-text[5]   \n",
              "2  Basic facts about Mars:\\n· Distance from the S...  $.main-text[7]   \n",
              "3  Solar System\\nOur solar system is a vast and f...  $.main-text[2]   \n",
              "4  Solar System\\nFor more details about our Solar...  $.main-text[3]   \n",
              "5  Earth\\nEarth is the third planet from the Sun....  $.main-text[5]   \n",
              "6  Earth\\n· Distance from the Sun: Average of 149...  $.main-text[7]   \n",
              "\n",
              "   page_number                              bbox  \\\n",
              "0            1  [133.19, 570.83, 374.24, 581.07]   \n",
              "1            1   [132.87, 500.92, 477.3, 534.56]   \n",
              "2            1   [147.73, 452.7, 476.98, 474.97]   \n",
              "3            1  [132.87, 590.26, 478.57, 623.05]   \n",
              "4            1  [133.21, 570.82, 374.81, 581.08]   \n",
              "5            1  [132.91, 512.46, 477.41, 534.48]   \n",
              "6            1  [147.68, 464.66, 477.03, 487.03]   \n",
              "\n",
              "                                         hash_column  int_id_column  \n",
              "0  dee4c03474c98efdabbadbcc4ce91138c7820f4ac8ff07...              5  \n",
              "1  a31663e06fac41470ecc459f5a58658a3f9997d7801053...              6  \n",
              "2  7ff317954ec5f3b15607c053c30c2b0db0f6b64cc3295a...              7  \n",
              "3  44c6e373258c7cdc03f75a8e96a9b160f9aa4e4baf5674...              1  \n",
              "4  d7be13d7dee96cf2384072d0eb01981e0e75eec2e7bc6d...              2  \n",
              "5  7c4a750e2215f231803a6f8078bde1e9699034fb033dd3...              3  \n",
              "6  0337be5c940b3df316e391ae3dc20379442257498812e4...              4  "
            ]
          },
          "execution_count": 25,
          "metadata": {},
          "output_type": "execute_result"
        }
      ],
      "source": [
        "from utils import read_parquet_files_as_df\n",
        "\n",
        "output_df = read_parquet_files_as_df(output_folder)\n",
        "\n",
        "print (\"Input data dimensions (rows x columns)= \", input_df.shape)\n",
        "print (\"Output data dimensions (rows x columns)= \", output_df.shape)\n",
        "\n",
        "output_df.head(10)"
      ]
    },
    {
      "cell_type": "markdown",
      "id": "85309751-8556-41c6-ac32-84acc941bc8d",
      "metadata": {
        "id": "85309751-8556-41c6-ac32-84acc941bc8d"
      },
      "source": [
        "## Step-7: Fuzzy Dedup\n",
        "\n",
        "Post exact deduplication, fuzzy deduplication is applied with the goal of removing code files that may have **slight variations** and thereby unbiasing\n",
        "the data further.\n",
        "\n",
        "Small variations are quite commonly seen in code data in the form of variations in the values of variables, addittion of logging statements etc."
      ]
    },
    {
      "cell_type": "markdown",
      "id": "fcf574a3-b287-419c-9c86-07b828b41ca6",
      "metadata": {
        "id": "fcf574a3-b287-419c-9c86-07b828b41ca6"
      },
      "source": [
        "### 7.1 - Set Input/output Folder"
      ]
    },
    {
      "cell_type": "code",
      "execution_count": 26,
      "id": "9e431c8c-c7c7-48de-ba5f-2c4649c35399",
      "metadata": {
        "id": "9e431c8c-c7c7-48de-ba5f-2c4649c35399"
      },
      "outputs": [
        {
          "name": "stdout",
          "output_type": "stream",
          "text": [
            "🏃🏼 STAGE-5: Processing input='output/04_doc_id_out' --> output='output/05_fdedupe_out'\n"
          ]
        }
      ],
      "source": [
        "## Input to this component is the output of doc_id generator component.\n",
        "\n",
        "STAGE  += 1\n",
        "# STAGE  = 5  ## DEBUG\n",
        "\n",
        "input_folder = output_folder # previous output folder is the input folder for the current stage\n",
        "output_folder =  os.path.join(MY_CONFIG.OUTPUT_FOLDER, f\"{STAGE:02}_fdedupe_out\")\n",
        "print (f\"🏃🏼 STAGE-{STAGE}: Processing input='{input_folder}' --> output='{output_folder}'\")"
      ]
    },
    {
      "cell_type": "markdown",
      "id": "f4c82a8f-b513-4fe5-b172-d41b104b54f3",
      "metadata": {
        "id": "f4c82a8f-b513-4fe5-b172-d41b104b54f3"
      },
      "source": [
        "### 7.2 - Execute"
      ]
    },
    {
      "cell_type": "code",
      "execution_count": 27,
      "id": "3864ff77-e9a8-48f7-973b-c3b3aef1a94f",
      "metadata": {
        "id": "3864ff77-e9a8-48f7-973b-c3b3aef1a94f"
      },
      "outputs": [
        {
          "name": "stderr",
          "output_type": "stream",
          "text": [
            "00:23:15 INFO - Running locally\n",
            "00:23:15 INFO - fuzzy dedup params are {'doc_column': 'contents', 'id_column': 'int_id_column', 'cluster_column': 'hash_column', 'bucket_cpu': 0.5, 'mhash_cpu': 0.5, 'doc_cpu': 0.5, 'num_doc_actors': 2, 'num_minhash_actors': 1, 'num_bucket_actors': 1, 'num_preprocessors': 2, 'num_permutations': 64, 'threshold': 0.7, 'shingles_size': 5, 'delimiters': ' ', 'snapshot_delay': 1, 'use_bucket_snapshot': False, 'use_doc_snapshot': False, 'random_delay_limit': 10, 'worker_options': {'num_cpus': 1}}\n",
            "00:23:15 INFO - data factory data_ is using local data access: input_folder - output/04_doc_id_out output_folder - output/05_fdedupe_out\n",
            "00:23:15 INFO - data factory data_ max_files -1, n_sample -1\n",
            "00:23:15 INFO - data factory data_ Not using data sets, checkpointing False, max files -1, random samples -1, files to use ['.parquet'], files to checkpoint ['.parquet']\n",
            "00:23:15 INFO - pipeline id pipeline_id\n",
            "00:23:15 INFO - code location None\n",
            "00:23:15 INFO - number of workers 1 worker options {'num_cpus': 1, 'max_restarts': -1}\n",
            "00:23:15 INFO - actor creation delay 0\n",
            "00:23:15 INFO - job details {'job category': 'preprocessing', 'job name': 'fdedup', 'job type': 'ray', 'job id': 'job_id'}\n",
            "2024-09-09 00:23:16,990\tINFO worker.py:1744 -- Started a local Ray instance. View the dashboard at \u001b[1m\u001b[32mhttp://127.0.0.1:8265 \u001b[39m\u001b[22m\n",
            "\u001b[36m(orchestrate pid=1548397)\u001b[0m 00:23:18 INFO - orchestrator started at 2024-09-09 00:23:18\n",
            "\u001b[36m(orchestrate pid=1548397)\u001b[0m 00:23:18 INFO - Number of files is 2, source profile {'max_file_size': 0.008954048156738281, 'min_file_size': 0.008710861206054688, 'total_file_size': 0.01766490936279297}\n",
            "\u001b[36m(orchestrate pid=1548397)\u001b[0m 00:23:18 INFO - Cluster resources: {'cpus': 16, 'gpus': 1, 'memory': 8.692254639230669, 'object_store': 4.346127319149673}\n",
            "\u001b[36m(orchestrate pid=1548397)\u001b[0m 00:23:18 INFO - Number of workers - 1 with {'num_cpus': 1, 'max_restarts': -1} each\n",
            "\u001b[36m(orchestrate pid=1548397)\u001b[0m 00:23:18 INFO - starting run from the beginning\n",
            "\u001b[36m(orchestrate pid=1548397)\u001b[0m 00:23:18 INFO - continuing from the very beginning\n",
            "\u001b[36m(orchestrate pid=1548397)\u001b[0m 00:23:18 INFO - Fuzzy: num buckets 8, bucket length 8\n",
            "\u001b[36m(orchestrate pid=1548397)\u001b[0m 00:23:18 INFO - created 1 bucket actors\n",
            "\u001b[36m(orchestrate pid=1548397)\u001b[0m 00:23:18 INFO - created 1 minhash actors\n",
            "\u001b[36m(orchestrate pid=1548397)\u001b[0m 00:23:18 INFO - Table preprocessing uses 2 readers\n",
            "\u001b[36m(orchestrate pid=1548397)\u001b[0m 00:23:18 INFO - created 2 table processor actors\n",
            "\u001b[36m(orchestrate pid=1548397)\u001b[0m 00:23:18 INFO - Completed 0 files (0.0%)  in 6.874402364095052e-06 min. Waiting for completion\n",
            "\u001b[36m(orchestrate pid=1548397)\u001b[0m 00:23:24 INFO - Completed processing 2 files in 0.11376961867014566 min\n",
            "\u001b[36m(orchestrate pid=1548397)\u001b[0m 00:23:24 INFO - creating minhash snapshots\n",
            "\u001b[36m(orchestrate pid=1548397)\u001b[0m 00:23:25 INFO - minhash snapshots created\n",
            "\u001b[36m(orchestrate pid=1548397)\u001b[0m 00:23:25 INFO - creating bucket snapshots\n",
            "\u001b[36m(orchestrate pid=1548397)\u001b[0m 00:23:26 INFO - bucket snapshots created\n",
            "\u001b[36m(orchestrate pid=1548397)\u001b[0m 00:23:26 INFO - created 2 document actors\n",
            "\u001b[36m(orchestrate pid=1548397)\u001b[0m 00:23:27 INFO - created 2 bucket processor actors\n",
            "\u001b[36m(orchestrate pid=1548397)\u001b[0m 00:23:27 INFO - created bucket processor invoker\n",
            "\u001b[36m(orchestrate pid=1548397)\u001b[0m 00:23:27 INFO - added invoker to bucket collectors\n",
            "\u001b[36m(BucketsHash pid=1549256)\u001b[0m 00:23:27 INFO - processing buckets 0 long, 53 short\n",
            "\u001b[36m(BucketsHash pid=1549256)\u001b[0m 00:23:27 INFO - Done submitting long buckets\n",
            "\u001b[36m(BucketsHashProcessorInvoker pid=1549777)\u001b[0m 00:23:27 INFO - Waiting bucket processing completion. Submitted requests 1\n",
            "\u001b[36m(orchestrate pid=1548397)\u001b[0m 00:23:27 INFO - Done processing buckets in 0.011014938354492188 min\n",
            "\u001b[36m(orchestrate pid=1548397)\u001b[0m 00:23:27 INFO - creating document snapshots\n",
            "\u001b[36m(orchestrate pid=1548397)\u001b[0m 00:23:29 INFO - document snapshots created\n",
            "\u001b[36m(orchestrate pid=1548397)\u001b[0m 00:23:35 INFO - Completed 1 files in 0.09587841033935547 min\n",
            "\u001b[36m(orchestrate pid=1548397)\u001b[0m 00:23:35 INFO - Completed 1 files (50.0%)  in 0.09588262240091959 min. Waiting for completion\n",
            "\u001b[36m(orchestrate pid=1548397)\u001b[0m 00:23:39 INFO - Completed processing 2 files in 0.16291733185450236 min\n",
            "\u001b[36m(orchestrate pid=1548397)\u001b[0m 00:23:39 INFO - done flushing in 0.0037527084350585938 sec\n",
            "00:23:49 INFO - Completed execution in 0.5721514662106831 min, execution result 0\n"
          ]
        },
        {
          "name": "stdout",
          "output_type": "stream",
          "text": [
            "✅ Stage:5 completed successfully\n",
            "CPU times: user 188 ms, sys: 183 ms, total: 370 ms\n",
            "Wall time: 35.8 s\n"
          ]
        }
      ],
      "source": [
        "%%time\n",
        "\n",
        "import os\n",
        "import sys\n",
        "\n",
        "from data_processing.utils import ParamsUtils\n",
        "from fdedup_transform_ray import FdedupRayTransformConfiguration\n",
        "from data_processing_ray.runtime.ray import RayTransformLauncher\n",
        "\n",
        "# create parameters\n",
        "\n",
        "local_conf = {\n",
        "    \"input_folder\": input_folder,\n",
        "    \"output_folder\": output_folder,\n",
        "}\n",
        "worker_options = {\"num_cpus\" : MY_CONFIG.RAY_NUM_CPUS}\n",
        "code_location = {\"github\": \"github\", \"commit_hash\": \"12345\", \"path\": \"path\"}\n",
        "params = {\n",
        "    # where to run\n",
        "    \"run_locally\": True,\n",
        "    # Data access. Only required parameters are specified\n",
        "    \"data_local_config\": ParamsUtils.convert_to_ast(local_conf),\n",
        "    # Orchestration parameters\n",
        "    \"runtime_worker_options\": ParamsUtils.convert_to_ast(worker_options),\n",
        "    \"runtime_num_workers\": MY_CONFIG.RAY_RUNTIME_WORKERS,\n",
        "    # columns used\n",
        "    \"fdedup_doc_column\": \"contents\",\n",
        "    \"fdedup_id_column\": \"int_id_column\",\n",
        "    \"fdedup_cluster_column\": \"hash_column\",\n",
        "    # infrastructure\n",
        "    \"fdedup_bucket_cpu\": 0.5,\n",
        "    \"fdedup_doc_cpu\": 0.5,\n",
        "    \"fdedup_mhash_cpu\": 0.5,\n",
        "    \"fdedup_num_doc_actors\": 2,\n",
        "    \"fdedup_num_bucket_actors\": 1,\n",
        "    \"fdedup_num_minhash_actors\": 1,\n",
        "    \"fdedup_num_preprocessors\": 2,\n",
        "    # fuzzy parameters\n",
        "    \"fdedup_num_permutations\": 64,\n",
        "    \"fdedup_threshold\": 0.7, # (default 0.8)\n",
        "    \"fdedup_shingles_size\": 5,\n",
        "    \"fdedup_delimiters\": \" \"\n",
        "}\n",
        "\n",
        "# Pass commandline params\n",
        "sys.argv = ParamsUtils.dict_to_req(d=params)\n",
        "\n",
        "# launch\n",
        "\n",
        "launcher = RayTransformLauncher(FdedupRayTransformConfiguration())\n",
        "\n",
        "return_code = launcher.launch()\n",
        "\n",
        "if return_code == 0:\n",
        "    print (f\"✅ Stage:{STAGE} completed successfully\")\n",
        "else:\n",
        "    raise Exception (\"❌ Ray job failed\")"
      ]
    },
    {
      "cell_type": "markdown",
      "id": "a6f8cd11",
      "metadata": {
        "id": "a6f8cd11"
      },
      "source": [
        "### 7.3 - Inspect Generated output"
      ]
    },
    {
      "cell_type": "code",
      "execution_count": 28,
      "id": "e899ad60",
      "metadata": {
        "id": "e899ad60"
      },
      "outputs": [
        {
          "name": "stdout",
          "output_type": "stream",
          "text": [
            "Input data dimensions (rows x columns)=  (7, 15)\n",
            "Output data dimensions (rows x columns)=  (6, 17)\n",
            "Duplicate chunks removed  by fuzzy-dedupe:   1\n"
          ]
        },
        {
          "data": {
            "text/html": [
              "<div>\n",
              "<style scoped>\n",
              "    .dataframe tbody tr th:only-of-type {\n",
              "        vertical-align: middle;\n",
              "    }\n",
              "\n",
              "    .dataframe tbody tr th {\n",
              "        vertical-align: top;\n",
              "    }\n",
              "\n",
              "    .dataframe thead th {\n",
              "        text-align: right;\n",
              "    }\n",
              "</style>\n",
              "<table border=\"1\" class=\"dataframe\">\n",
              "  <thead>\n",
              "    <tr style=\"text-align: right;\">\n",
              "      <th></th>\n",
              "      <th>filename</th>\n",
              "      <th>num_pages</th>\n",
              "      <th>num_tables</th>\n",
              "      <th>num_doc_elements</th>\n",
              "      <th>document_id</th>\n",
              "      <th>ext</th>\n",
              "      <th>hash</th>\n",
              "      <th>size</th>\n",
              "      <th>date_acquired</th>\n",
              "      <th>pdf_convert_time</th>\n",
              "      <th>source_filename</th>\n",
              "      <th>contents</th>\n",
              "      <th>doc_jsonpath</th>\n",
              "      <th>page_number</th>\n",
              "      <th>bbox</th>\n",
              "      <th>int_id_column</th>\n",
              "      <th>hash_column</th>\n",
              "    </tr>\n",
              "  </thead>\n",
              "  <tbody>\n",
              "    <tr>\n",
              "      <th>0</th>\n",
              "      <td>mars.pdf</td>\n",
              "      <td>1</td>\n",
              "      <td>0</td>\n",
              "      <td>11</td>\n",
              "      <td>26d247d6-60f7-42a5-9be4-3524391010dd</td>\n",
              "      <td>pdf</td>\n",
              "      <td>6dfaeed444efc80bf32e0c67308a57c38cc8d27a6405ec...</td>\n",
              "      <td>2531</td>\n",
              "      <td>2024-09-09T00:22:14.490039</td>\n",
              "      <td>1.602514</td>\n",
              "      <td>mars.pdf</td>\n",
              "      <td>Mars\\nMars, the fourth planet from the Sun, is...</td>\n",
              "      <td>$.main-text[5]</td>\n",
              "      <td>1</td>\n",
              "      <td>[132.87, 500.92, 477.3, 534.56]</td>\n",
              "      <td>6</td>\n",
              "      <td>-1</td>\n",
              "    </tr>\n",
              "    <tr>\n",
              "      <th>1</th>\n",
              "      <td>mars.pdf</td>\n",
              "      <td>1</td>\n",
              "      <td>0</td>\n",
              "      <td>11</td>\n",
              "      <td>26d247d6-60f7-42a5-9be4-3524391010dd</td>\n",
              "      <td>pdf</td>\n",
              "      <td>6dfaeed444efc80bf32e0c67308a57c38cc8d27a6405ec...</td>\n",
              "      <td>2531</td>\n",
              "      <td>2024-09-09T00:22:14.490039</td>\n",
              "      <td>1.602514</td>\n",
              "      <td>mars.pdf</td>\n",
              "      <td>Basic facts about Mars:\\n· Distance from the S...</td>\n",
              "      <td>$.main-text[7]</td>\n",
              "      <td>1</td>\n",
              "      <td>[147.73, 452.7, 476.98, 474.97]</td>\n",
              "      <td>7</td>\n",
              "      <td>-1</td>\n",
              "    </tr>\n",
              "    <tr>\n",
              "      <th>2</th>\n",
              "      <td>earth.pdf</td>\n",
              "      <td>1</td>\n",
              "      <td>0</td>\n",
              "      <td>11</td>\n",
              "      <td>347b47c6-7172-4e23-be0c-89581cf0d33d</td>\n",
              "      <td>pdf</td>\n",
              "      <td>0260c5d12de8d1ce27a6c096f7983336b1ded574ad3ab8...</td>\n",
              "      <td>2407</td>\n",
              "      <td>2024-09-09T00:22:12.874147</td>\n",
              "      <td>1.662447</td>\n",
              "      <td>earth.pdf</td>\n",
              "      <td>Solar System\\nOur solar system is a vast and f...</td>\n",
              "      <td>$.main-text[2]</td>\n",
              "      <td>1</td>\n",
              "      <td>[132.87, 590.26, 478.57, 623.05]</td>\n",
              "      <td>1</td>\n",
              "      <td>-1</td>\n",
              "    </tr>\n",
              "    <tr>\n",
              "      <th>3</th>\n",
              "      <td>earth.pdf</td>\n",
              "      <td>1</td>\n",
              "      <td>0</td>\n",
              "      <td>11</td>\n",
              "      <td>347b47c6-7172-4e23-be0c-89581cf0d33d</td>\n",
              "      <td>pdf</td>\n",
              "      <td>0260c5d12de8d1ce27a6c096f7983336b1ded574ad3ab8...</td>\n",
              "      <td>2407</td>\n",
              "      <td>2024-09-09T00:22:12.874147</td>\n",
              "      <td>1.662447</td>\n",
              "      <td>earth.pdf</td>\n",
              "      <td>Solar System\\nFor more details about our Solar...</td>\n",
              "      <td>$.main-text[3]</td>\n",
              "      <td>1</td>\n",
              "      <td>[133.21, 570.82, 374.81, 581.08]</td>\n",
              "      <td>2</td>\n",
              "      <td>5</td>\n",
              "    </tr>\n",
              "    <tr>\n",
              "      <th>4</th>\n",
              "      <td>earth.pdf</td>\n",
              "      <td>1</td>\n",
              "      <td>0</td>\n",
              "      <td>11</td>\n",
              "      <td>347b47c6-7172-4e23-be0c-89581cf0d33d</td>\n",
              "      <td>pdf</td>\n",
              "      <td>0260c5d12de8d1ce27a6c096f7983336b1ded574ad3ab8...</td>\n",
              "      <td>2407</td>\n",
              "      <td>2024-09-09T00:22:12.874147</td>\n",
              "      <td>1.662447</td>\n",
              "      <td>earth.pdf</td>\n",
              "      <td>Earth\\nEarth is the third planet from the Sun....</td>\n",
              "      <td>$.main-text[5]</td>\n",
              "      <td>1</td>\n",
              "      <td>[132.91, 512.46, 477.41, 534.48]</td>\n",
              "      <td>3</td>\n",
              "      <td>-1</td>\n",
              "    </tr>\n",
              "    <tr>\n",
              "      <th>5</th>\n",
              "      <td>earth.pdf</td>\n",
              "      <td>1</td>\n",
              "      <td>0</td>\n",
              "      <td>11</td>\n",
              "      <td>347b47c6-7172-4e23-be0c-89581cf0d33d</td>\n",
              "      <td>pdf</td>\n",
              "      <td>0260c5d12de8d1ce27a6c096f7983336b1ded574ad3ab8...</td>\n",
              "      <td>2407</td>\n",
              "      <td>2024-09-09T00:22:12.874147</td>\n",
              "      <td>1.662447</td>\n",
              "      <td>earth.pdf</td>\n",
              "      <td>Earth\\n· Distance from the Sun: Average of 149...</td>\n",
              "      <td>$.main-text[7]</td>\n",
              "      <td>1</td>\n",
              "      <td>[147.68, 464.66, 477.03, 487.03]</td>\n",
              "      <td>4</td>\n",
              "      <td>-1</td>\n",
              "    </tr>\n",
              "  </tbody>\n",
              "</table>\n",
              "</div>"
            ],
            "text/plain": [
              "    filename  num_pages  num_tables  num_doc_elements  \\\n",
              "0   mars.pdf          1           0                11   \n",
              "1   mars.pdf          1           0                11   \n",
              "2  earth.pdf          1           0                11   \n",
              "3  earth.pdf          1           0                11   \n",
              "4  earth.pdf          1           0                11   \n",
              "5  earth.pdf          1           0                11   \n",
              "\n",
              "                            document_id  ext  \\\n",
              "0  26d247d6-60f7-42a5-9be4-3524391010dd  pdf   \n",
              "1  26d247d6-60f7-42a5-9be4-3524391010dd  pdf   \n",
              "2  347b47c6-7172-4e23-be0c-89581cf0d33d  pdf   \n",
              "3  347b47c6-7172-4e23-be0c-89581cf0d33d  pdf   \n",
              "4  347b47c6-7172-4e23-be0c-89581cf0d33d  pdf   \n",
              "5  347b47c6-7172-4e23-be0c-89581cf0d33d  pdf   \n",
              "\n",
              "                                                hash  size  \\\n",
              "0  6dfaeed444efc80bf32e0c67308a57c38cc8d27a6405ec...  2531   \n",
              "1  6dfaeed444efc80bf32e0c67308a57c38cc8d27a6405ec...  2531   \n",
              "2  0260c5d12de8d1ce27a6c096f7983336b1ded574ad3ab8...  2407   \n",
              "3  0260c5d12de8d1ce27a6c096f7983336b1ded574ad3ab8...  2407   \n",
              "4  0260c5d12de8d1ce27a6c096f7983336b1ded574ad3ab8...  2407   \n",
              "5  0260c5d12de8d1ce27a6c096f7983336b1ded574ad3ab8...  2407   \n",
              "\n",
              "                date_acquired  pdf_convert_time source_filename  \\\n",
              "0  2024-09-09T00:22:14.490039          1.602514        mars.pdf   \n",
              "1  2024-09-09T00:22:14.490039          1.602514        mars.pdf   \n",
              "2  2024-09-09T00:22:12.874147          1.662447       earth.pdf   \n",
              "3  2024-09-09T00:22:12.874147          1.662447       earth.pdf   \n",
              "4  2024-09-09T00:22:12.874147          1.662447       earth.pdf   \n",
              "5  2024-09-09T00:22:12.874147          1.662447       earth.pdf   \n",
              "\n",
              "                                            contents    doc_jsonpath  \\\n",
              "0  Mars\\nMars, the fourth planet from the Sun, is...  $.main-text[5]   \n",
              "1  Basic facts about Mars:\\n· Distance from the S...  $.main-text[7]   \n",
              "2  Solar System\\nOur solar system is a vast and f...  $.main-text[2]   \n",
              "3  Solar System\\nFor more details about our Solar...  $.main-text[3]   \n",
              "4  Earth\\nEarth is the third planet from the Sun....  $.main-text[5]   \n",
              "5  Earth\\n· Distance from the Sun: Average of 149...  $.main-text[7]   \n",
              "\n",
              "   page_number                              bbox  int_id_column  hash_column  \n",
              "0            1   [132.87, 500.92, 477.3, 534.56]              6           -1  \n",
              "1            1   [147.73, 452.7, 476.98, 474.97]              7           -1  \n",
              "2            1  [132.87, 590.26, 478.57, 623.05]              1           -1  \n",
              "3            1  [133.21, 570.82, 374.81, 581.08]              2            5  \n",
              "4            1  [132.91, 512.46, 477.41, 534.48]              3           -1  \n",
              "5            1  [147.68, 464.66, 477.03, 487.03]              4           -1  "
            ]
          },
          "execution_count": 28,
          "metadata": {},
          "output_type": "execute_result"
        }
      ],
      "source": [
        "from utils import read_parquet_files_as_df\n",
        "\n",
        "output_df = read_parquet_files_as_df(output_folder)\n",
        "\n",
        "print (\"Input data dimensions (rows x columns)= \", input_df.shape)\n",
        "print (\"Output data dimensions (rows x columns)= \", output_df.shape)\n",
        "print (\"Duplicate chunks removed  by fuzzy-dedupe:  \", (input_df.shape[0] - output_df.shape[0]))\n",
        "\n",
        "output_df.head(10)"
      ]
    },
    {
      "cell_type": "code",
      "execution_count": 29,
      "id": "ab7ea52b",
      "metadata": {
        "id": "ab7ea52b"
      },
      "outputs": [
        {
          "data": {
            "text/html": [
              "<div>\n",
              "<style scoped>\n",
              "    .dataframe tbody tr th:only-of-type {\n",
              "        vertical-align: middle;\n",
              "    }\n",
              "\n",
              "    .dataframe tbody tr th {\n",
              "        vertical-align: top;\n",
              "    }\n",
              "\n",
              "    .dataframe thead th {\n",
              "        text-align: right;\n",
              "    }\n",
              "</style>\n",
              "<table border=\"1\" class=\"dataframe\">\n",
              "  <thead>\n",
              "    <tr style=\"text-align: right;\">\n",
              "      <th></th>\n",
              "      <th>filename</th>\n",
              "      <th>contents</th>\n",
              "    </tr>\n",
              "  </thead>\n",
              "  <tbody>\n",
              "    <tr>\n",
              "      <th>0</th>\n",
              "      <td>mars.pdf</td>\n",
              "      <td>Mars\\nMars, the fourth planet from the Sun, is...</td>\n",
              "    </tr>\n",
              "    <tr>\n",
              "      <th>1</th>\n",
              "      <td>mars.pdf</td>\n",
              "      <td>Basic facts about Mars:\\n· Distance from the S...</td>\n",
              "    </tr>\n",
              "    <tr>\n",
              "      <th>2</th>\n",
              "      <td>earth.pdf</td>\n",
              "      <td>Solar System\\nOur solar system is a vast and f...</td>\n",
              "    </tr>\n",
              "    <tr>\n",
              "      <th>3</th>\n",
              "      <td>earth.pdf</td>\n",
              "      <td>Solar System\\nFor more details about our Solar...</td>\n",
              "    </tr>\n",
              "    <tr>\n",
              "      <th>4</th>\n",
              "      <td>earth.pdf</td>\n",
              "      <td>Earth\\nEarth is the third planet from the Sun....</td>\n",
              "    </tr>\n",
              "    <tr>\n",
              "      <th>5</th>\n",
              "      <td>earth.pdf</td>\n",
              "      <td>Earth\\n· Distance from the Sun: Average of 149...</td>\n",
              "    </tr>\n",
              "  </tbody>\n",
              "</table>\n",
              "</div>"
            ],
            "text/plain": [
              "    filename                                           contents\n",
              "0   mars.pdf  Mars\\nMars, the fourth planet from the Sun, is...\n",
              "1   mars.pdf  Basic facts about Mars:\\n· Distance from the S...\n",
              "2  earth.pdf  Solar System\\nOur solar system is a vast and f...\n",
              "3  earth.pdf  Solar System\\nFor more details about our Solar...\n",
              "4  earth.pdf  Earth\\nEarth is the third planet from the Sun....\n",
              "5  earth.pdf  Earth\\n· Distance from the Sun: Average of 149..."
            ]
          },
          "execution_count": 29,
          "metadata": {},
          "output_type": "execute_result"
        }
      ],
      "source": [
        "output_df[['filename', 'contents']]"
      ]
    },
    {
      "cell_type": "code",
      "execution_count": 30,
      "id": "6bdd3515",
      "metadata": {
        "id": "6bdd3515"
      },
      "outputs": [
        {
          "name": "stdout",
          "output_type": "stream",
          "text": [
            "========== mars.pdf ===========\n",
            "-------Chunk 0------\n",
            "Mars\n",
            "Mars, the fourth planet from the Sun, is a cold, desert world with a thin atmosphere composed primarily of carbon dioxide. Its reddish hue comes from iron oxide, or rust, prevalent on its surface.\n",
            "-------\n",
            "-------Chunk 1------\n",
            "Basic facts about Mars:\n",
            "· Distance from the Sun: Average of 228 million kilometers (142 million miles)\n",
            "· Rotation Period: 24.6 hours (one Martian day - called a \"sol\")\n",
            "· Moons: Two small moons, Phobos and Deimos.\n",
            "-------\n",
            "========== earth.pdf ===========\n",
            "-------Chunk 0------\n",
            "Solar System\n",
            "Our solar system is a vast and fascinating expanse, comprising eight planets, five dwarf planets, numerous moons, asteroids, comets, and other celestial bodies. At its center lies the star we call the Sun.\n",
            "-------\n",
            "-------Chunk 1------\n",
            "Solar System\n",
            "For more details about our Solar system see Chapter 1.\n",
            "-------\n",
            "-------Chunk 2------\n",
            "Earth\n",
            "Earth is the third planet from the Sun. It's our home planet. Earth is the only place we know of with life.\n",
            "-------\n",
            "-------Chunk 3------\n",
            "Earth\n",
            "· Distance from the Sun: Average of 149.6 million kilometers (93 million miles)\n",
            "· Rotation Period: 24 hours (one day)\n",
            "-------\n"
          ]
        }
      ],
      "source": [
        "for f in output_df['filename'].unique():\n",
        "    print ('==========' , f, '===========')\n",
        "    chunks = output_df[output_df['filename'] == f]['contents']\n",
        "    for idx , chunk in enumerate(chunks):\n",
        "        print (f'-------Chunk {idx}------\\n{chunk}\\n-------')"
      ]
    },
    {
      "cell_type": "markdown",
      "id": "2b34d9c6",
      "metadata": {
        "id": "2b34d9c6"
      },
      "source": [
        "### 7.4- Understanding the output\n",
        "\n",
        "So we started with 7 rows and ended up with 6.  Fuzzy dedupe removed the following **very similar** chunk.\n",
        "\n",
        "These are pretty similar chunks except for the words 'the' and 'our'\n",
        "\n",
        "**earth.pdf**\n",
        "\n",
        "`For more details about *our* Solar system see Chapter 1.`\n",
        "\n",
        "**mars.pdf**\n",
        "\n",
        "`For more details about *the* Solar system see Chapter 1.`\n",
        "\n",
        "Pretty neat, eh? 👏\n",
        "\n",
        "### Configuring Fuzzy de-dupe\n",
        "\n",
        "You can tweak fuzzy dedupe by tweaking the following parameters\n",
        "\n",
        "```python\n",
        "# fuzzy parameters\n",
        "    \"fdedup_num_permutations\": 64,\n",
        "    \"fdedup_threshold\": 0.7, #  (default 0.8)\n",
        "    \"fdedup_shingles_size\": 5,\n",
        "    \"fdedup_delimiters\": \" \"\n",
        "```\n",
        "\n",
        "In our case, we set `fdedup_threshold` parameter to 0.7.  \n"
      ]
    },
    {
      "cell_type": "markdown",
      "id": "5370950a-2a3a-4143-8218-f9b4808099ba",
      "metadata": {
        "id": "5370950a-2a3a-4143-8218-f9b4808099ba"
      },
      "source": [
        "## Step-8:   Text encoding\n",
        "\n",
        "Encode text for the vector storage."
      ]
    },
    {
      "cell_type": "markdown",
      "id": "85aba685",
      "metadata": {
        "id": "85aba685"
      },
      "source": [
        "### 8.1 - Set Input/output Folder"
      ]
    },
    {
      "cell_type": "code",
      "execution_count": 31,
      "id": "20a153fa-fd56-401e-86be-4f7617affcc8",
      "metadata": {
        "id": "20a153fa-fd56-401e-86be-4f7617affcc8"
      },
      "outputs": [
        {
          "name": "stdout",
          "output_type": "stream",
          "text": [
            "🏃🏼 STAGE-6: Processing input='output/05_fdedupe_out' --> output='output/06_encoder_out'\n"
          ]
        }
      ],
      "source": [
        "STAGE  += 1\n",
        "# STAGE  = 7 ## DEBUG\n",
        "\n",
        "input_folder = output_folder # previous output folder is the input folder for the current stage\n",
        "output_folder =  os.path.join(MY_CONFIG.OUTPUT_FOLDER, f\"{STAGE:02}_encoder_out\")\n",
        "\n",
        "input_df = read_parquet_files_as_df(input_folder)  ## for debug purposes\n",
        "\n",
        "print (f\"🏃🏼 STAGE-{STAGE}: Processing input='{input_folder}' --> output='{output_folder}'\")"
      ]
    },
    {
      "cell_type": "markdown",
      "id": "c97545f4",
      "metadata": {
        "id": "c97545f4"
      },
      "source": [
        "### 8.2 - Execute"
      ]
    },
    {
      "cell_type": "code",
      "execution_count": 32,
      "id": "228df6b2-bc62-494b-9697-03ece98d7853",
      "metadata": {
        "id": "228df6b2-bc62-494b-9697-03ece98d7853"
      },
      "outputs": [
        {
          "name": "stderr",
          "output_type": "stream",
          "text": [
            "00:23:51 INFO - Running locally\n",
            "00:23:51 INFO - text_encoder parameters are : {'content_column_name': 'contents', 'output_embeddings_column_name': 'embeddings', 'model_name': 'sentence-transformers/all-MiniLM-L6-v2'}\n",
            "00:23:51 INFO - data factory data_ is using local data access: input_folder - output/05_fdedupe_out output_folder - output/06_encoder_out\n",
            "00:23:51 INFO - data factory data_ max_files -1, n_sample -1\n",
            "00:23:51 INFO - data factory data_ Not using data sets, checkpointing False, max files -1, random samples -1, files to use ['.parquet'], files to checkpoint ['.parquet']\n",
            "00:23:51 INFO - pipeline id pipeline_id\n",
            "00:23:51 INFO - code location None\n",
            "00:23:51 INFO - number of workers 1 worker options {'num_cpus': 1, 'max_restarts': -1}\n",
            "00:23:51 INFO - actor creation delay 0\n",
            "00:23:51 INFO - job details {'job category': 'preprocessing', 'job name': 'text_encoder', 'job type': 'ray', 'job id': 'job_id'}\n",
            "2024-09-09 00:23:53,548\tINFO worker.py:1744 -- Started a local Ray instance. View the dashboard at \u001b[1m\u001b[32mhttp://127.0.0.1:8265 \u001b[39m\u001b[22m\n",
            "\u001b[36m(orchestrate pid=1550890)\u001b[0m 00:23:56 INFO - orchestrator started at 2024-09-09 00:23:56\n",
            "\u001b[36m(orchestrate pid=1550890)\u001b[0m 00:23:56 INFO - Number of files is 2, source profile {'max_file_size': 0.008559226989746094, 'min_file_size': 0.008447647094726562, 'total_file_size': 0.017006874084472656}\n",
            "\u001b[36m(orchestrate pid=1550890)\u001b[0m 00:23:56 INFO - Cluster resources: {'cpus': 16, 'gpus': 1, 'memory': 8.656503296457231, 'object_store': 4.328251647762954}\n",
            "\u001b[36m(orchestrate pid=1550890)\u001b[0m 00:23:56 INFO - Number of workers - 1 with {'num_cpus': 1, 'max_restarts': -1} each\n",
            "\u001b[36m(RayTransformFileProcessor pid=1551752)\u001b[0m /home/sujee/apps/anaconda3/envs/data-prep-kit-3-py311/lib/python3.11/site-packages/huggingface_hub/file_download.py:1150: FutureWarning: `resume_download` is deprecated and will be removed in version 1.0.0. Downloads always resume when possible. If you want to force a new download, use `force_download=True`.\n",
            "\u001b[36m(RayTransformFileProcessor pid=1551752)\u001b[0m   warnings.warn(\n",
            "\u001b[36m(orchestrate pid=1550890)\u001b[0m 00:24:01 INFO - Completed 1 files in 0.07356032133102416 min\n",
            "\u001b[36m(orchestrate pid=1550890)\u001b[0m 00:24:01 INFO - Completed 1 files (50.0%)  in 0.07356157302856445 min. Waiting for completion\n",
            "\u001b[36m(orchestrate pid=1550890)\u001b[0m 00:24:01 INFO - Completed processing 2 files in 0.07424927949905395 min\n",
            "\u001b[36m(orchestrate pid=1550890)\u001b[0m 00:24:01 INFO - done flushing in 0.0007278919219970703 sec\n",
            "00:24:11 INFO - Completed execution in 0.322756032148997 min, execution result 0\n"
          ]
        },
        {
          "name": "stdout",
          "output_type": "stream",
          "text": [
            "✅ Stage:6 completed successfully\n",
            "CPU times: user 582 ms, sys: 257 ms, total: 839 ms\n",
            "Wall time: 21.3 s\n"
          ]
        }
      ],
      "source": [
        "%%time\n",
        "\n",
        "from text_encoder_transform_ray import TextEncoderRayTransformConfiguration\n",
        "\n",
        "local_conf = {\n",
        "    \"input_folder\": input_folder,\n",
        "    \"output_folder\": output_folder,\n",
        "}\n",
        "worker_options = {\"num_cpus\" : MY_CONFIG.RAY_NUM_CPUS}\n",
        "params = {\n",
        "    # where to run\n",
        "    \"run_locally\": True,\n",
        "    # Data access. Only required parameters are specified\n",
        "    \"data_local_config\": ParamsUtils.convert_to_ast(local_conf),\n",
        "    # orchestrator\n",
        "    \"runtime_worker_options\": ParamsUtils.convert_to_ast(worker_options),\n",
        "    \"runtime_num_workers\": MY_CONFIG.RAY_RUNTIME_WORKERS,\n",
        "    # text_encoder\n",
        "    \"text_encoder_model_name\": MY_CONFIG.EMBEDDING_MODEL,\n",
        "}\n",
        "\n",
        "sys.argv = ParamsUtils.dict_to_req(d=params)\n",
        "# create launcher\n",
        "launcher = RayTransformLauncher(TextEncoderRayTransformConfiguration())\n",
        "# Launch the ray actor(s) to process the input\n",
        "\n",
        "return_code = launcher.launch()\n",
        "\n",
        "if return_code == 0:\n",
        "    print (f\"✅ Stage:{STAGE} completed successfully\")\n",
        "else:\n",
        "    raise Exception (\"❌ Ray job failed\")"
      ]
    },
    {
      "cell_type": "markdown",
      "id": "b734852c",
      "metadata": {
        "id": "b734852c"
      },
      "source": [
        "### 8.3 - Inspect Generated output\n",
        "\n",
        "You will see a column called `embeddings` added at the end.  This the text content converted into vectors or embeddings.  We used the model `sentence-transformers/all-MiniLM-L6-v2`"
      ]
    },
    {
      "cell_type": "code",
      "execution_count": 33,
      "id": "7b1c1d09",
      "metadata": {
        "id": "7b1c1d09"
      },
      "outputs": [
        {
          "name": "stdout",
          "output_type": "stream",
          "text": [
            "Input data dimensions (rows x columns)=  (6, 17)\n",
            "Output data dimensions (rows x columns)=  (6, 18)\n"
          ]
        },
        {
          "data": {
            "text/html": [
              "<div>\n",
              "<style scoped>\n",
              "    .dataframe tbody tr th:only-of-type {\n",
              "        vertical-align: middle;\n",
              "    }\n",
              "\n",
              "    .dataframe tbody tr th {\n",
              "        vertical-align: top;\n",
              "    }\n",
              "\n",
              "    .dataframe thead th {\n",
              "        text-align: right;\n",
              "    }\n",
              "</style>\n",
              "<table border=\"1\" class=\"dataframe\">\n",
              "  <thead>\n",
              "    <tr style=\"text-align: right;\">\n",
              "      <th></th>\n",
              "      <th>filename</th>\n",
              "      <th>num_pages</th>\n",
              "      <th>num_tables</th>\n",
              "      <th>num_doc_elements</th>\n",
              "      <th>document_id</th>\n",
              "      <th>ext</th>\n",
              "      <th>hash</th>\n",
              "      <th>size</th>\n",
              "      <th>date_acquired</th>\n",
              "      <th>pdf_convert_time</th>\n",
              "      <th>source_filename</th>\n",
              "      <th>contents</th>\n",
              "      <th>doc_jsonpath</th>\n",
              "      <th>page_number</th>\n",
              "      <th>bbox</th>\n",
              "      <th>int_id_column</th>\n",
              "      <th>hash_column</th>\n",
              "      <th>embeddings</th>\n",
              "    </tr>\n",
              "  </thead>\n",
              "  <tbody>\n",
              "    <tr>\n",
              "      <th>3</th>\n",
              "      <td>earth.pdf</td>\n",
              "      <td>1</td>\n",
              "      <td>0</td>\n",
              "      <td>11</td>\n",
              "      <td>347b47c6-7172-4e23-be0c-89581cf0d33d</td>\n",
              "      <td>pdf</td>\n",
              "      <td>0260c5d12de8d1ce27a6c096f7983336b1ded574ad3ab8...</td>\n",
              "      <td>2407</td>\n",
              "      <td>2024-09-09T00:22:12.874147</td>\n",
              "      <td>1.662447</td>\n",
              "      <td>earth.pdf</td>\n",
              "      <td>Solar System\\nFor more details about our Solar...</td>\n",
              "      <td>$.main-text[3]</td>\n",
              "      <td>1</td>\n",
              "      <td>[133.21, 570.82, 374.81, 581.08]</td>\n",
              "      <td>2</td>\n",
              "      <td>5</td>\n",
              "      <td>[-0.062105577, -0.0053322953, 0.03127779, 0.04...</td>\n",
              "    </tr>\n",
              "    <tr>\n",
              "      <th>1</th>\n",
              "      <td>mars.pdf</td>\n",
              "      <td>1</td>\n",
              "      <td>0</td>\n",
              "      <td>11</td>\n",
              "      <td>26d247d6-60f7-42a5-9be4-3524391010dd</td>\n",
              "      <td>pdf</td>\n",
              "      <td>6dfaeed444efc80bf32e0c67308a57c38cc8d27a6405ec...</td>\n",
              "      <td>2531</td>\n",
              "      <td>2024-09-09T00:22:14.490039</td>\n",
              "      <td>1.602514</td>\n",
              "      <td>mars.pdf</td>\n",
              "      <td>Basic facts about Mars:\\n· Distance from the S...</td>\n",
              "      <td>$.main-text[7]</td>\n",
              "      <td>1</td>\n",
              "      <td>[147.73, 452.7, 476.98, 474.97]</td>\n",
              "      <td>7</td>\n",
              "      <td>-1</td>\n",
              "      <td>[0.1059802, 0.025460616, 0.02362733, 0.0390564...</td>\n",
              "    </tr>\n",
              "    <tr>\n",
              "      <th>0</th>\n",
              "      <td>mars.pdf</td>\n",
              "      <td>1</td>\n",
              "      <td>0</td>\n",
              "      <td>11</td>\n",
              "      <td>26d247d6-60f7-42a5-9be4-3524391010dd</td>\n",
              "      <td>pdf</td>\n",
              "      <td>6dfaeed444efc80bf32e0c67308a57c38cc8d27a6405ec...</td>\n",
              "      <td>2531</td>\n",
              "      <td>2024-09-09T00:22:14.490039</td>\n",
              "      <td>1.602514</td>\n",
              "      <td>mars.pdf</td>\n",
              "      <td>Mars\\nMars, the fourth planet from the Sun, is...</td>\n",
              "      <td>$.main-text[5]</td>\n",
              "      <td>1</td>\n",
              "      <td>[132.87, 500.92, 477.3, 534.56]</td>\n",
              "      <td>6</td>\n",
              "      <td>-1</td>\n",
              "      <td>[0.07728298, 0.024971062, -0.04318075, 0.05809...</td>\n",
              "    </tr>\n",
              "  </tbody>\n",
              "</table>\n",
              "</div>"
            ],
            "text/plain": [
              "    filename  num_pages  num_tables  num_doc_elements  \\\n",
              "3  earth.pdf          1           0                11   \n",
              "1   mars.pdf          1           0                11   \n",
              "0   mars.pdf          1           0                11   \n",
              "\n",
              "                            document_id  ext  \\\n",
              "3  347b47c6-7172-4e23-be0c-89581cf0d33d  pdf   \n",
              "1  26d247d6-60f7-42a5-9be4-3524391010dd  pdf   \n",
              "0  26d247d6-60f7-42a5-9be4-3524391010dd  pdf   \n",
              "\n",
              "                                                hash  size  \\\n",
              "3  0260c5d12de8d1ce27a6c096f7983336b1ded574ad3ab8...  2407   \n",
              "1  6dfaeed444efc80bf32e0c67308a57c38cc8d27a6405ec...  2531   \n",
              "0  6dfaeed444efc80bf32e0c67308a57c38cc8d27a6405ec...  2531   \n",
              "\n",
              "                date_acquired  pdf_convert_time source_filename  \\\n",
              "3  2024-09-09T00:22:12.874147          1.662447       earth.pdf   \n",
              "1  2024-09-09T00:22:14.490039          1.602514        mars.pdf   \n",
              "0  2024-09-09T00:22:14.490039          1.602514        mars.pdf   \n",
              "\n",
              "                                            contents    doc_jsonpath  \\\n",
              "3  Solar System\\nFor more details about our Solar...  $.main-text[3]   \n",
              "1  Basic facts about Mars:\\n· Distance from the S...  $.main-text[7]   \n",
              "0  Mars\\nMars, the fourth planet from the Sun, is...  $.main-text[5]   \n",
              "\n",
              "   page_number                              bbox  int_id_column  hash_column  \\\n",
              "3            1  [133.21, 570.82, 374.81, 581.08]              2            5   \n",
              "1            1   [147.73, 452.7, 476.98, 474.97]              7           -1   \n",
              "0            1   [132.87, 500.92, 477.3, 534.56]              6           -1   \n",
              "\n",
              "                                          embeddings  \n",
              "3  [-0.062105577, -0.0053322953, 0.03127779, 0.04...  \n",
              "1  [0.1059802, 0.025460616, 0.02362733, 0.0390564...  \n",
              "0  [0.07728298, 0.024971062, -0.04318075, 0.05809...  "
            ]
          },
          "execution_count": 33,
          "metadata": {},
          "output_type": "execute_result"
        }
      ],
      "source": [
        "from utils import read_parquet_files_as_df\n",
        "\n",
        "output_df = read_parquet_files_as_df(output_folder)\n",
        "\n",
        "print (\"Input data dimensions (rows x columns)= \", input_df.shape)\n",
        "print (\"Output data dimensions (rows x columns)= \", output_df.shape)\n",
        "\n",
        "output_df.sample(3)"
      ]
    },
    {
      "cell_type": "markdown",
      "id": "f5e12630-be6b-4188-a925-77117155617b",
      "metadata": {
        "id": "f5e12630-be6b-4188-a925-77117155617b"
      },
      "source": [
        "## Step-9: Copy output to final output dir"
      ]
    },
    {
      "cell_type": "code",
      "execution_count": 34,
      "id": "16dee3b8-31dc-4168-8adb-f2a0a0b5e207",
      "metadata": {
        "id": "16dee3b8-31dc-4168-8adb-f2a0a0b5e207"
      },
      "outputs": [
        {
          "name": "stdout",
          "output_type": "stream",
          "text": [
            "✅ Copied output from 'output/06_encoder_out' --> 'output/output_final'\n"
          ]
        }
      ],
      "source": [
        "import shutil\n",
        "\n",
        "shutil.rmtree(MY_CONFIG.OUTPUT_FOLDER_FINAL, ignore_errors=True)\n",
        "shutil.copytree(src=output_folder, dst=MY_CONFIG.OUTPUT_FOLDER_FINAL)\n",
        "\n",
        "print (f\"✅ Copied output from '{output_folder}' --> '{MY_CONFIG.OUTPUT_FOLDER_FINAL}'\")"
      ]
    }
  ],
  "metadata": {
    "colab": {
      "provenance": []
    },
    "kernelspec": {
      "display_name": "Python 3 (ipykernel)",
      "language": "python",
      "name": "python3"
    },
    "language_info": {
      "codemirror_mode": {
        "name": "ipython",
        "version": 3
      },
      "file_extension": ".py",
      "mimetype": "text/x-python",
      "name": "python",
      "nbconvert_exporter": "python",
      "pygments_lexer": "ipython3",
      "version": "3.11.9"
    }
  },
  "nbformat": 4,
  "nbformat_minor": 5
}
